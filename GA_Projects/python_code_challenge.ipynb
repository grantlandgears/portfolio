{
 "cells": [
  {
   "cell_type": "markdown",
   "metadata": {},
   "source": [
    "# Project 1: Python Coding Exercises for Grantland Gears\n",
    "\n",
    "_Authors: Joseph Nelson (DC) _\n",
    "\n",
    "---"
   ]
  },
  {
   "cell_type": "markdown",
   "metadata": {},
   "source": [
    "The following code challenges are drawn from common exercises used in technical interviews.\n",
    "\n",
    "Please note that there may be several ways to approach each challenge. If you get stuck, try mapping out your approach in pseudocode first. Finally, while solutions to problems like these may be found online, remember that if you copy/paste code that you can't explain, you'll be missing out on the point of the project. The only way to truly learn a new skill is through practice, trial, and error - we can only help you improve by understanding where you are having trouble."
   ]
  },
  {
   "cell_type": "markdown",
   "metadata": {},
   "source": [
    "### Challenge 1: Largest Palindrome\n",
    "A palindromic number reads the same both ways. For example, 1234321 is a palindrome. The largest palindrome made from the product of two two-digit numbers is 9009 = 91 × 99. Find the largest palindrome made from the product of two three-digit numbers. Afterward, write a brief explanation walking through your code's logic in markdown."
   ]
  },
  {
   "cell_type": "markdown",
   "metadata": {},
   "source": [
    "## Markdown for Challenge 1:\n",
    "\n",
    "#### PSEUDOCODE\n",
    "multiply all three digit numbers with all three digit numbers<br>\n",
    "take that result set and order from biggest to smallest<br>\n",
    "iterate over the result set looking for palindrome (using a function?) and return the first one you find<br>\n",
    "or, find all the palindromes first then pipe them into a list then return the largest value<br>\n",
    "use range to get list of all 3 digit numbers to multiply\n",
    "\n",
    "### STEP 1 - get list of all three digit numbers\n",
    "three_digits = list(range(100,105))  #Will need to increase this to 999 once ready\n",
    "print(three_digits)\n",
    "\n",
    "### STEP 2 - find all possible products by multiplying all three digit numbers against each other\n",
    "Added the sorted() function to eliminate the need to sort later \n",
    "results = sorted([i * j for j in three_digits for i in three_digits])\n",
    "\n",
    "confirm with a print<br>\n",
    "print('results from multiplying every possible value: ',results)\n",
    "\n",
    "for loop of the above list comprehension<br>\n",
    "results = []\n",
    "\n",
    "```python\n",
    "for j in three_digits:\n",
    "    for i in three_digits:\n",
    "    results.append(j * i)\n",
    "```        \n",
    "    \n",
    "### STEP 3 - check for palindrome numbers\n",
    "\n",
    "list comprehension for the below for statement<br>\n",
    "palindromes_list_comp = [i for i in results if str(i) == str(i)[::-1]]\n",
    "\n",
    "Have the list comprehension print directly instead of setting a list then printing that.<br>\n",
    "print('largest palindrome =',[i for i in results if str(i) == str(i)[::-1]])\n",
    "\n",
    "confirm list comprehension<br>\n",
    "print('palindromes_list_comp', palindromes_list_comp)\n",
    "\n",
    "For loop of above list comprehension to find palindromes\n",
    "palindromes = []\n",
    "\n",
    "My original for loop where I was comparing the first and last index then working my way in.  Changed over to use the entire element flipped and compare that.  Leave the below work as reference.\n",
    "\n",
    "```python\n",
    "for i in results:\n",
    "    j = f'{i}' #convert to string.  This was the way I found online to convert to string, but there are others below\n",
    "        #j = str(i) #this does the same thing as f'{i}' statement above.  it also works as it changes to a string\n",
    "        #j = '{}'.format(i)  #same thing as above f'{i}' statement.  \"i\" gets passed to curly braces and converts\n",
    "        #print('j', j)\n",
    "        #j is a string in the order of the original numbers. notes from Josh\n",
    "    if j == j[::-1]:  #This improved and replaced the below line\n",
    "            #if (j[0] == j[-1]) and (j[1] == j[-2]) and (j[2] == j[-3]):\n",
    "            #Above if statement was my first attept which I knew didn't scale.\n",
    "            #For some reason I originally talked myself out of using the inverse [::-1]\n",
    "        palindromes.append(j)\n",
    "    else:\n",
    "        pass\n",
    "```\n",
    "\n",
    "### STEP 4 - sort the list of number strings with the \"key\" argument to keep 99999 from being the \"biggest\"\n",
    "Unneeded as I added a sorted() function above<br>\n",
    "palindromes_list_comp.sort(key = int)\n",
    "\n",
    "### STEP 5 - return the last index\n",
    "print('all palindromes sorted =', palindromes_list_comp,'\\nlargest_palindrome =',palindromes_list_comp[-1])<br>\n",
    "print('largest_palindrome =',palindromes_list_comp[-1])      "
   ]
  },
  {
   "cell_type": "code",
   "execution_count": 1,
   "metadata": {},
   "outputs": [
    {
     "name": "stdout",
     "output_type": "stream",
     "text": [
      "largest_palindrome = 906609\n"
     ]
    }
   ],
   "source": [
    "#ACTUAL CODE FOR CHALLENGE 1\n",
    "\n",
    "three_digits = list(range(100,999))\n",
    "\n",
    "results = sorted([i * j for j in three_digits for i in three_digits])\n",
    "\n",
    "palindromes_list_comp = [i for i in results if str(i) == str(i)[::-1]]\n",
    "\n",
    "print('largest_palindrome =',palindromes_list_comp[-1])"
   ]
  },
  {
   "cell_type": "markdown",
   "metadata": {},
   "source": [
    "### Challenge 2: Summation of Primes\n",
    "The sum of the primes below 10 is 2 + 3 + 5 + 7 = 17. Find the sum of all the primes below 2,000. Afterward, write a brief explanation walking through your code's logic in markdown."
   ]
  },
  {
   "cell_type": "markdown",
   "metadata": {},
   "source": [
    "# Markdown for Challenge 2:\n",
    "\n",
    "### PSEUDOCODE\n",
    "Get range of numbers<br>\n",
    "divide number in range by itself and all other numbers<br>\n",
    "count number of times there is a remainder<br>\n",
    "if number of divisions that have remainder == 2 then it's a prime<br>\n",
    "sum the numbers\n",
    "\n",
    "### STEP 1 Set an empty list for the final results\n",
    "results = []\n",
    "\n",
    "### STEP 2 Get a list of 2000 numbers in reverse because I'm going to be running a modulus of the number -1\n",
    "Assign this value to j.  j will be divided by i below<br>\n",
    "```python\n",
    "for j in sorted(list(range(1,2000)),reverse=True):\n",
    "    #print('INITIAL J',j)\n",
    "```\n",
    "\n",
    "### STEP 3 I'm going to use a counter to keep track of how many times a modulus returns 0, so set count to 0\n",
    "    count=0\n",
    "\n",
    "### STEP 4 I found a range command to increment down with j, to keep my division from starting back at 2000 (eg 1999 / 2000)\n",
    "```python\n",
    "    for i in range(j, 1-1, -1):\n",
    "        #print('initial i', i)\n",
    "        #print(j,'%',i,'=', j%i,'count =', count)\n",
    "```\n",
    "\n",
    "### STEP 5 divide j by i and check if there is a remainder\n",
    "        if j%i == 0:\n",
    "### STEP 6 add one to the counter for each instance there is no remainder else pass\n",
    "```python\n",
    "            count+=1\n",
    "            #print(j,'%',i,'=', j%i,'second count =', count)\n",
    "        else:\n",
    "            pass\n",
    "```        \n",
    "        \n",
    "### STEP 7 if the counter equals two exactly that means the number only divided by itself and one, so append it.\n",
    "    #All other numbers would have a value above two except 1 which only has one count (1/1)\n",
    "```python    \n",
    "    if count == 2:\n",
    "        results.append(j)\n",
    "        #print(j,'is a prime!')\n",
    "```       \n",
    "        \n",
    "### STEP 8 sum the results.  This sum command is NOT working in jupyter, but DOES work in repl.it and Atom.\n",
    "print(results)<br>\n",
    "print(sum(results))"
   ]
  },
  {
   "cell_type": "code",
   "execution_count": 2,
   "metadata": {},
   "outputs": [
    {
     "name": "stdout",
     "output_type": "stream",
     "text": [
      "277050\n"
     ]
    }
   ],
   "source": [
    "#ACTUAL CODE FOR CHALLENGE 2\n",
    "\n",
    "results = []\n",
    "\n",
    "for j in sorted(list(range(1,2000)),reverse=True):\n",
    "    count=0\n",
    "    for i in range(j, 1-1, -1):\n",
    "        if j%i == 0:\n",
    "            count+=1\n",
    "        else:\n",
    "            pass\n",
    "    if count == 2:\n",
    "        results.append(j)\n",
    "#print(results)\n",
    "print(sum(results))"
   ]
  },
  {
   "cell_type": "code",
   "execution_count": null,
   "metadata": {},
   "outputs": [],
   "source": [
    "#This was a more elegant method I looked up after doing mine above.  I wanted to study how it was done.\n",
    "\n",
    "start = 1\n",
    "end = 20\n",
    "\n",
    "results = []\n",
    "\n",
    "for i in range(start,end):\n",
    "  if i>1:\n",
    "    for j in range(2,i):\n",
    "        if(i % j==0):\n",
    "            break\n",
    "    else:\n",
    "        results.append(i)\n",
    "\n",
    "print(results)"
   ]
  },
  {
   "cell_type": "markdown",
   "metadata": {},
   "source": [
    "### Challenge 3: Multiples of 3 and 5\n",
    "If we list all of the natural numbers below 10 that are multiples of 3 or 5, we get 3, 5, 6, and 9. The sum of these multiples is 23. Find the sum of all the multiples of 3 and 5 below 1,000. Afterward, write a brief explanation walking through your code's logic in markdown."
   ]
  },
  {
   "cell_type": "markdown",
   "metadata": {
    "collapsed": true
   },
   "source": [
    "# Markdown down of Challenge 3\n",
    "\n",
    "### PSEUDOCODE\n",
    "range of numbers to 1000<br>\n",
    "for each number if i%3 or i%5 = 0 true<br>\n",
    "append true results to list<br>\n",
    "sum results list\n",
    "\n",
    "### STEP 1 - get list of numbers 1 to 1000 (I typically use a smaller range for initial testing)\n",
    "listo = list(range(1,100))\n",
    "\n",
    "### STEP 2 - set threefive list\n",
    "threefive = []\n",
    "\n",
    "### STEP 3 - for my list of numbers (listo) check if any are divisible by 3 or 5 using modulus and if so append them to our threefive list.\n",
    "\n",
    "```python\n",
    "for i in listo:\n",
    "    if i%3 == 0:\n",
    "        threefive.append(i)\n",
    "    elif i%5 == 0:\n",
    "        threefive.append(i)\n",
    "    else:\n",
    "        pass\n",
    "```\n",
    "    \n",
    "### STEP 4 - sum the results.  Same as Challenge 2 the sum() command did not work, but does in repl.it and Atom\n",
    "```python\n",
    "print(threefive)\n",
    "print(sum(threefive))\n",
    "```"
   ]
  },
  {
   "cell_type": "code",
   "execution_count": 3,
   "metadata": {
    "scrolled": true
   },
   "outputs": [
    {
     "name": "stdout",
     "output_type": "stream",
     "text": [
      "2318\n"
     ]
    }
   ],
   "source": [
    "#ACTUAL CODE FOR CHALLENGE 3 - FOR LOOP VERSION\n",
    "listo = list(range(1,100))\n",
    "\n",
    "threefive = []\n",
    "\n",
    "for i in listo:\n",
    "    if i%3 == 0:\n",
    "        threefive.append(i)\n",
    "    elif i%5 == 0:\n",
    "        threefive.append(i)\n",
    "    else:\n",
    "        pass\n",
    "    \n",
    "print(sum(threefive))"
   ]
  },
  {
   "cell_type": "code",
   "execution_count": 13,
   "metadata": {},
   "outputs": [
    {
     "name": "stdout",
     "output_type": "stream",
     "text": [
      "2318\n"
     ]
    }
   ],
   "source": [
    "#ACTUAL CODE FOR CHALLENGE 3 - LIST COMPREHENSION VERSION\n",
    "\n",
    "#the sum works in repl.it and Atom\n",
    "threefive_lc = sum([i for i in list(range(1,100)) if i%3 == 0 or i%5 ==0])\n",
    "\n",
    "print(threefive_lc)"
   ]
  },
  {
   "cell_type": "markdown",
   "metadata": {},
   "source": [
    "### Challenge 4: String Compressor\n",
    "Implement a method to perform basic string compression using the counts of repeated characters. (This is called run-length encoding.) For example, the string \"aabcccccaaa\" would become a2b1c5a3. If the “compressed” string would not become smaller than the original string, your method should return the original string. You can assume the string has only uppercase and lowercase letters (a–z). Specify whether your solution is case sensitive or case insensitive and what you would need to change to make it the other. Afterward, write a brief explanation walking through your code's logic in markdown."
   ]
  },
  {
   "cell_type": "markdown",
   "metadata": {
    "collapsed": true
   },
   "source": [
    "# Markdown of Challenge 4\n",
    "\n",
    "I was taking too long on this, so I had to stop, so I could move on to pandas, matplotlib, and numpy.\n",
    "\n",
    "## Pseudocode:\n",
    "count=1<br>\n",
    "if i == i[+1]<br>\n",
    "count+=1<br>\n",
    "i+1<br>\n",
    "print(i,count)<br>\n",
    "else pass<br>\n",
    "print(i)<br>\n",
    "\n",
    "### Step 1 Set the string to be used:\n",
    "stringer_bell = 'aabcccccaaa'\n",
    "\n",
    "## set the results to store the output:\n",
    "results = []\n",
    "\n",
    "### I used a counter and I set the count to 1 because I needed to count the first letter in the string\n",
    "count=1\n",
    "\n",
    "### Step 2  After constantly getting an error about not being able to match on a value because it was a string I found the enumerate command which allowed me to match against an index.  You can see the other things I tried below that kept erroring out.\n",
    "\n",
    "### So, now I could iterate through the string taking the first letter (i) and comparing it against the next letter (index+1):\n",
    "\n",
    "```python\n",
    "for index,i in enumerate(stringer_bell[:-1]):<br>\n",
    "    print('letter of sentence =',i,'index =',index, 'counts =',count)<br>\n",
    "    if i == stringer_bell[index+1]:<br>\n",
    "        #print('letter of sentence =',i,'index =',index, 'counts =',count)\n",
    "```\n",
    "### Increment the counter up to count number of occurrences of that letter\n",
    "        count+=1\n",
    "\n",
    "### Once the next index letter does not match pop out to the else and append the letter (i) and the count.  reset the count back to 1.\n",
    "```python\n",
    "    else:<br>\n",
    "        results.append(i), results.append(count)<br>\n",
    "        count=1\n",
    "```\n",
    "\n",
    "\n",
    "### Step 3 print it using a join operator I had to look up to get rid of the apostrophes and commas\n",
    "print(\"\".join(map(str, results)))\n",
    "\n",
    "### Results.  It's not working.  I'm not getting the last letter because of index+1 :(  I tried again using what you said, but couldn't not figure out how to look back.  So, I did a cracky (crappy + hacky) solution of adding a character to the end of the string before running through the code.\n",
    "\n",
    "\n",
    "### Other approaches I tried:\n",
    "```python\n",
    "for element in stringer_bell: \n",
    "    print(element, end=' ') \n",
    "print(\"\\n\")\n",
    "\n",
    "for i in stringer_bell:\n",
    "    if i == i[i+1:]:\n",
    "        count+=1\n",
    "        print(i,count)\n",
    "        i+1\n",
    "    else:\n",
    "        pass\n",
    "```"
   ]
  },
  {
   "cell_type": "code",
   "execution_count": 93,
   "metadata": {},
   "outputs": [
    {
     "name": "stdout",
     "output_type": "stream",
     "text": [
      "original string = aabcccccaaa\n",
      "compressed string = a2b1c5\n"
     ]
    }
   ],
   "source": [
    "#ACTUAL CODE FOR CHALLENGE 4.  Doesn't include last character.\n",
    "\n",
    "stringer_bell = 'aabcccccaaa'\n",
    "results = []\n",
    "count=1\n",
    "\n",
    "for index,i in enumerate(stringer_bell[:-1]):\n",
    "    #print('letter of sentence =',i,'index =',index, 'counts =',count)\n",
    "    if i == stringer_bell[index+1]:\n",
    "        count+=1\n",
    "    else:\n",
    "        results.append(i), results.append(count)\n",
    "        count=1\n",
    "\n",
    "print('original string =',stringer_bell)\n",
    "print('compressed string =',\"\".join(map(str, results)))"
   ]
  },
  {
   "cell_type": "code",
   "execution_count": 90,
   "metadata": {},
   "outputs": [
    {
     "name": "stdout",
     "output_type": "stream",
     "text": [
      "original string = aabcccccaaa\n",
      "compressed string = a2b1c5a3\n"
     ]
    }
   ],
   "source": [
    "#ACTUAL CODE FOR CHALLENGE 4 - Crappy hacky solution\n",
    "\n",
    "input_str = 'aabcccccaaa'\n",
    "stringer_bell = (input_str + '1')\n",
    "\n",
    "results = []\n",
    "count=1\n",
    "\n",
    "for index,i in enumerate(stringer_bell[:-1]):\n",
    "    #print('letter of sentence =',i,'index =',index, 'counts =',count)\n",
    "    if i == stringer_bell[index+1]:\n",
    "        count+=1\n",
    "    else:\n",
    "        results.append(i), results.append(count)\n",
    "        count=1\n",
    "       \n",
    "print('original string =',input_str)\n",
    "print('compressed string =',\"\".join(map(str, results)))"
   ]
  },
  {
   "cell_type": "markdown",
   "metadata": {},
   "source": [
    "### *BONUS* Challenge: FizzBuzz\n",
    "Write a program that prints all of the numbers from 1 to 100. For multiples of 3, instead of the number, print \"Fizz;\" for multiples of 5, print \"Buzz.\" For numbers that are multiples of both 3 and 5, print \"FizzBuzz.\" Afterward, write a brief explanation walking through your code's logic in markdown."
   ]
  },
  {
   "cell_type": "markdown",
   "metadata": {
    "collapsed": true
   },
   "source": [
    "# Markdown down of Bonus Challenge\n",
    "\n",
    "### PSEUDOCODE\n",
    "get list of numbers with range<br>\n",
    "loop through numbers<br>\n",
    "if number divided by 3 (using modulus) == 0 print fizz<br>\n",
    "if number divided by 5 (using modulus) == 0 print buzz<br>\n",
    "if number divided by 3 and 5 (using modulus) == 0 print fizzbuzz<br>\n",
    "\n",
    "### STEP 1 - Get range of numbers\n",
    "```python\n",
    "for i in range(1,100):\n",
    "```    \n",
    "### STEP 2 - I added this after the other lines trying to figure out how to account for numbers divisible by both 3 and five.  I finally realized I need to check for them first.\n",
    "```python\n",
    "    if i % 3 == 0 and i % 5 == 0:\n",
    "        print('FizzBuzz')\n",
    "```        \n",
    "### STEP 3 - Using modulus check if number is divisible by 3 or 5 and return respective statement\n",
    "```python\n",
    "    elif i % 3 == 0:\n",
    "        print('Fizz')\n",
    "    elif i % 5 == 0:\n",
    "        print('Buzz')\n",
    "```\n",
    "### STEP 4 - Othewise just return the number.        \n",
    "```python\n",
    "    else:\n",
    "        print (i)\n",
    "```        "
   ]
  },
  {
   "cell_type": "code",
   "execution_count": 8,
   "metadata": {},
   "outputs": [
    {
     "name": "stdout",
     "output_type": "stream",
     "text": [
      "1\n",
      "2\n",
      "Fizz\n",
      "4\n"
     ]
    }
   ],
   "source": [
    "#ACTUAL CODE FOR CHALLENGE 3 - FOR LOOP VERSION\n",
    "\n",
    "for i in range(1,5):\n",
    "    if i % 3 == 0 and i % 5 == 0:\n",
    "        print('FizzBuzz')\n",
    "    elif i % 3 == 0:\n",
    "        print('Fizz')\n",
    "    elif i % 5 == 0:\n",
    "        print('Buzz')\n",
    "    else:\n",
    "        print (i)"
   ]
  },
  {
   "cell_type": "code",
   "execution_count": 9,
   "metadata": {},
   "outputs": [
    {
     "name": "stdout",
     "output_type": "stream",
     "text": [
      "[1, 2, 'Fizz', 4, 'Buzz', 'Fizz', 7, 8, 'Fizz', 'Buzz', 11, 'Fizz', 13, 14, 'FizzBuzz', 16, 17, 'Fizz', 19, 'Buzz', 'Fizz', 22, 23, 'Fizz', 'Buzz', 26, 'Fizz', 28, 29, 'FizzBuzz', 31, 32, 'Fizz', 34, 'Buzz', 'Fizz', 37, 38, 'Fizz', 'Buzz', 41, 'Fizz', 43, 44, 'FizzBuzz', 46, 47, 'Fizz', 49, 'Buzz', 'Fizz', 52, 53, 'Fizz', 'Buzz', 56, 'Fizz', 58, 59, 'FizzBuzz', 61, 62, 'Fizz', 64, 'Buzz', 'Fizz', 67, 68, 'Fizz', 'Buzz', 71, 'Fizz', 73, 74, 'FizzBuzz', 76, 77, 'Fizz', 79, 'Buzz', 'Fizz', 82, 83, 'Fizz', 'Buzz', 86, 'Fizz', 88, 89, 'FizzBuzz', 91, 92, 'Fizz', 94, 'Buzz', 'Fizz', 97, 98, 'Fizz']\n"
     ]
    }
   ],
   "source": [
    "#ACTUAL CODE FOR CHALLENGE 3 - LIST COMPREHENSION VERSION\n",
    "\n",
    "results = ['FizzBuzz' if i % 3 == 0 and i % 5 == 0 else 'Fizz' if i % 3 == 0 else 'Buzz' if i % 5 == 0 else i for i in range(1,100)]\n",
    "\n",
    "print(results)"
   ]
  }
 ],
 "metadata": {
  "anaconda-cloud": {},
  "kernelspec": {
   "display_name": "Python 3",
   "language": "python",
   "name": "python3"
  },
  "language_info": {
   "codemirror_mode": {
    "name": "ipython",
    "version": 3
   },
   "file_extension": ".py",
   "mimetype": "text/x-python",
   "name": "python",
   "nbconvert_exporter": "python",
   "pygments_lexer": "ipython3",
   "version": "3.8.3"
  }
 },
 "nbformat": 4,
 "nbformat_minor": 2
}
