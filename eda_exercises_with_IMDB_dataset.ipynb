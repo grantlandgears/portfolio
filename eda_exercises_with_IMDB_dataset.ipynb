{
 "cells": [
  {
   "cell_type": "markdown",
   "metadata": {},
   "source": [
    "# Analyzing IMDb Data"
   ]
  },
  {
   "cell_type": "markdown",
   "metadata": {},
   "source": [
    "EDA project for GA.\n",
    "\n",
    "Complete a serious of exercises exploring movie rating data from IMDb.\n",
    "\n",
    "Conducting basic exploratory data analysis on IMDB's movie data, looking to answer such questions as:\n",
    "- What is the average rating per genre?\n",
    "- How many different actors are in a movie?\n",
    "\n",
    "This was a fun exercise as I love movies and really enjoy EDA."
   ]
  },
  {
   "cell_type": "markdown",
   "metadata": {},
   "source": [
    "## Basic level"
   ]
  },
  {
   "cell_type": "code",
   "execution_count": 2,
   "metadata": {},
   "outputs": [],
   "source": [
    "import pandas as pd\n",
    "import numpy as np\n",
    "import matplotlib.pyplot as plt\n",
    "%matplotlib inline"
   ]
  },
  {
   "cell_type": "markdown",
   "metadata": {},
   "source": [
    "#### Read in 'imdb_1000.csv' and store it in a DataFrame named movies."
   ]
  },
  {
   "cell_type": "code",
   "execution_count": 3,
   "metadata": {},
   "outputs": [
    {
     "data": {
      "text/html": [
       "<div>\n",
       "<style scoped>\n",
       "    .dataframe tbody tr th:only-of-type {\n",
       "        vertical-align: middle;\n",
       "    }\n",
       "\n",
       "    .dataframe tbody tr th {\n",
       "        vertical-align: top;\n",
       "    }\n",
       "\n",
       "    .dataframe thead th {\n",
       "        text-align: right;\n",
       "    }\n",
       "</style>\n",
       "<table border=\"1\" class=\"dataframe\">\n",
       "  <thead>\n",
       "    <tr style=\"text-align: right;\">\n",
       "      <th></th>\n",
       "      <th>star_rating</th>\n",
       "      <th>title</th>\n",
       "      <th>content_rating</th>\n",
       "      <th>genre</th>\n",
       "      <th>duration</th>\n",
       "      <th>actors_list</th>\n",
       "    </tr>\n",
       "  </thead>\n",
       "  <tbody>\n",
       "    <tr>\n",
       "      <th>0</th>\n",
       "      <td>9.3</td>\n",
       "      <td>The Shawshank Redemption</td>\n",
       "      <td>R</td>\n",
       "      <td>Crime</td>\n",
       "      <td>142</td>\n",
       "      <td>[u'Tim Robbins', u'Morgan Freeman', u'Bob Gunt...</td>\n",
       "    </tr>\n",
       "    <tr>\n",
       "      <th>1</th>\n",
       "      <td>9.2</td>\n",
       "      <td>The Godfather</td>\n",
       "      <td>R</td>\n",
       "      <td>Crime</td>\n",
       "      <td>175</td>\n",
       "      <td>[u'Marlon Brando', u'Al Pacino', u'James Caan']</td>\n",
       "    </tr>\n",
       "    <tr>\n",
       "      <th>2</th>\n",
       "      <td>9.1</td>\n",
       "      <td>The Godfather: Part II</td>\n",
       "      <td>R</td>\n",
       "      <td>Crime</td>\n",
       "      <td>200</td>\n",
       "      <td>[u'Al Pacino', u'Robert De Niro', u'Robert Duv...</td>\n",
       "    </tr>\n",
       "    <tr>\n",
       "      <th>3</th>\n",
       "      <td>9.0</td>\n",
       "      <td>The Dark Knight</td>\n",
       "      <td>PG-13</td>\n",
       "      <td>Action</td>\n",
       "      <td>152</td>\n",
       "      <td>[u'Christian Bale', u'Heath Ledger', u'Aaron E...</td>\n",
       "    </tr>\n",
       "    <tr>\n",
       "      <th>4</th>\n",
       "      <td>8.9</td>\n",
       "      <td>Pulp Fiction</td>\n",
       "      <td>R</td>\n",
       "      <td>Crime</td>\n",
       "      <td>154</td>\n",
       "      <td>[u'John Travolta', u'Uma Thurman', u'Samuel L....</td>\n",
       "    </tr>\n",
       "  </tbody>\n",
       "</table>\n",
       "</div>"
      ],
      "text/plain": [
       "   star_rating                     title content_rating   genre  duration  \\\n",
       "0          9.3  The Shawshank Redemption              R   Crime       142   \n",
       "1          9.2             The Godfather              R   Crime       175   \n",
       "2          9.1    The Godfather: Part II              R   Crime       200   \n",
       "3          9.0           The Dark Knight          PG-13  Action       152   \n",
       "4          8.9              Pulp Fiction              R   Crime       154   \n",
       "\n",
       "                                         actors_list  \n",
       "0  [u'Tim Robbins', u'Morgan Freeman', u'Bob Gunt...  \n",
       "1    [u'Marlon Brando', u'Al Pacino', u'James Caan']  \n",
       "2  [u'Al Pacino', u'Robert De Niro', u'Robert Duv...  \n",
       "3  [u'Christian Bale', u'Heath Ledger', u'Aaron E...  \n",
       "4  [u'John Travolta', u'Uma Thurman', u'Samuel L....  "
      ]
     },
     "execution_count": 3,
     "metadata": {},
     "output_type": "execute_result"
    }
   ],
   "source": [
    "movies = pd.read_csv('./data/imdb_1000.csv')\n",
    "movies.head()"
   ]
  },
  {
   "cell_type": "markdown",
   "metadata": {},
   "source": [
    "#### Check the number of rows and columns."
   ]
  },
  {
   "cell_type": "code",
   "execution_count": 3,
   "metadata": {},
   "outputs": [
    {
     "data": {
      "text/plain": [
       "(979, 6)"
      ]
     },
     "execution_count": 3,
     "metadata": {},
     "output_type": "execute_result"
    }
   ],
   "source": [
    "# Answer:\n",
    "movies.shape"
   ]
  },
  {
   "cell_type": "markdown",
   "metadata": {},
   "source": [
    "#### Check the data type of each column."
   ]
  },
  {
   "cell_type": "code",
   "execution_count": 4,
   "metadata": {},
   "outputs": [
    {
     "data": {
      "text/plain": [
       "star_rating       float64\n",
       "title              object\n",
       "content_rating     object\n",
       "genre              object\n",
       "duration            int64\n",
       "actors_list        object\n",
       "dtype: object"
      ]
     },
     "execution_count": 4,
     "metadata": {},
     "output_type": "execute_result"
    }
   ],
   "source": [
    "# Answer:\n",
    "movies.dtypes"
   ]
  },
  {
   "cell_type": "markdown",
   "metadata": {},
   "source": [
    "#### Calculate the average movie duration."
   ]
  },
  {
   "cell_type": "code",
   "execution_count": 5,
   "metadata": {},
   "outputs": [
    {
     "data": {
      "text/plain": [
       "count    979.000000\n",
       "mean     120.979571\n",
       "std       26.218010\n",
       "min       64.000000\n",
       "25%      102.000000\n",
       "50%      117.000000\n",
       "75%      134.000000\n",
       "max      242.000000\n",
       "Name: duration, dtype: float64"
      ]
     },
     "execution_count": 5,
     "metadata": {},
     "output_type": "execute_result"
    }
   ],
   "source": [
    "# Answer:\n",
    "movies.duration.describe()"
   ]
  },
  {
   "cell_type": "markdown",
   "metadata": {},
   "source": [
    "#### Sort the DataFrame by duration to find the shortest and longest movies."
   ]
  },
  {
   "cell_type": "code",
   "execution_count": 6,
   "metadata": {},
   "outputs": [
    {
     "data": {
      "text/html": [
       "<div>\n",
       "<style scoped>\n",
       "    .dataframe tbody tr th:only-of-type {\n",
       "        vertical-align: middle;\n",
       "    }\n",
       "\n",
       "    .dataframe tbody tr th {\n",
       "        vertical-align: top;\n",
       "    }\n",
       "\n",
       "    .dataframe thead th {\n",
       "        text-align: right;\n",
       "    }\n",
       "</style>\n",
       "<table border=\"1\" class=\"dataframe\">\n",
       "  <thead>\n",
       "    <tr style=\"text-align: right;\">\n",
       "      <th></th>\n",
       "      <th>star_rating</th>\n",
       "      <th>title</th>\n",
       "      <th>content_rating</th>\n",
       "      <th>genre</th>\n",
       "      <th>duration</th>\n",
       "      <th>actors_list</th>\n",
       "    </tr>\n",
       "  </thead>\n",
       "  <tbody>\n",
       "    <tr>\n",
       "      <th>389</th>\n",
       "      <td>8.0</td>\n",
       "      <td>Freaks</td>\n",
       "      <td>UNRATED</td>\n",
       "      <td>Drama</td>\n",
       "      <td>64</td>\n",
       "      <td>[u'Wallace Ford', u'Leila Hyams', u'Olga Bacla...</td>\n",
       "    </tr>\n",
       "  </tbody>\n",
       "</table>\n",
       "</div>"
      ],
      "text/plain": [
       "     star_rating   title content_rating  genre  duration  \\\n",
       "389          8.0  Freaks        UNRATED  Drama        64   \n",
       "\n",
       "                                           actors_list  \n",
       "389  [u'Wallace Ford', u'Leila Hyams', u'Olga Bacla...  "
      ]
     },
     "execution_count": 6,
     "metadata": {},
     "output_type": "execute_result"
    }
   ],
   "source": [
    "# Answer:\n",
    "\n",
    "#shortest movie\n",
    "movies.sort_values(by=['duration']).head(1)\n",
    "\n",
    "#longest movie\n",
    "#movies.sort_values(by=['duration']).tail(1)\n"
   ]
  },
  {
   "cell_type": "markdown",
   "metadata": {},
   "source": [
    "#### Create a histogram of duration, choosing an \"appropriate\" number of bins."
   ]
  },
  {
   "cell_type": "code",
   "execution_count": 8,
   "metadata": {},
   "outputs": [
    {
     "data": {
      "image/png": "[encoded data removed]",
      "text/plain": [
       "<Figure size 720x360 with 1 Axes>"
      ]
     },
     "metadata": {
      "needs_background": "light"
     },
     "output_type": "display_data"
    }
   ],
   "source": [
    "# Answer:\n",
    "\n",
    "plt.figure(figsize=(10,5))\n",
    "\n",
    "plt.xlabel('Run Time');\n",
    "plt.ylabel('Number of Films');\n",
    "plt.title('Movie Run Time');\n",
    "\n",
    "#I had tried a lot more bins, but found the benefit quickly drops off.\n",
    "movies.duration.hist(bins=40);"
   ]
  },
  {
   "cell_type": "markdown",
   "metadata": {},
   "source": [
    "#### Use a box plot to display that same data."
   ]
  },
  {
   "cell_type": "code",
   "execution_count": 9,
   "metadata": {},
   "outputs": [
    {
     "data": {
      "image/png": "[encoded data removed]",
      "text/plain": [
       "<Figure size 720x504 with 1 Axes>"
      ]
     },
     "metadata": {
      "needs_background": "light"
     },
     "output_type": "display_data"
    }
   ],
   "source": [
    "# Answer: using boxplot and Y axis orientation\n",
    "\n",
    "plt.figure(figsize=(10,7))\n",
    "\n",
    "plt.ylabel('Run Time');\n",
    "plt.title('Movie Run Time Distribution');\n",
    "\n",
    "#I won't lie, this boxplot does not help me interpret the data well and I know what's it's trying to show.\n",
    "movies.boxplot(column='duration');"
   ]
  },
  {
   "cell_type": "code",
   "execution_count": 7,
   "metadata": {},
   "outputs": [
    {
     "data": {
      "image/png": "[encoded data removed]",
      "text/plain": [
       "<Figure size 1080x360 with 1 Axes>"
      ]
     },
     "metadata": {
      "needs_background": "light"
     },
     "output_type": "display_data"
    }
   ],
   "source": [
    "# Answer: using seaborn and X axis orientation\n",
    "\n",
    "import seaborn as sns\n",
    "\n",
    "plt.figure(figsize=(15,5))\n",
    "plt.title('Movie Run Time Distribution');\n",
    "\n",
    "#this one reads a little better, but still not great to me.\n",
    "sns.boxplot(data=movies, x = 'duration');"
   ]
  },
  {
   "cell_type": "markdown",
   "metadata": {},
   "source": [
    "## Intermediate level"
   ]
  },
  {
   "cell_type": "markdown",
   "metadata": {},
   "source": [
    "#### Count how many movies have each of the content ratings."
   ]
  },
  {
   "cell_type": "code",
   "execution_count": 11,
   "metadata": {},
   "outputs": [
    {
     "data": {
      "text/plain": [
       "R            460\n",
       "PG-13        189\n",
       "PG           123\n",
       "NOT RATED     65\n",
       "APPROVED      47\n",
       "UNRATED       38\n",
       "G             32\n",
       "PASSED         7\n",
       "NC-17          7\n",
       "X              4\n",
       "GP             3\n",
       "TV-MA          1\n",
       "Name: content_rating, dtype: int64"
      ]
     },
     "execution_count": 11,
     "metadata": {},
     "output_type": "execute_result"
    }
   ],
   "source": [
    "# Answer:\n",
    "\n",
    "movies.content_rating.value_counts()"
   ]
  },
  {
   "cell_type": "markdown",
   "metadata": {},
   "source": [
    "#### Use a visualization to display that same data, including a title and x and y labels."
   ]
  },
  {
   "cell_type": "code",
   "execution_count": 12,
   "metadata": {},
   "outputs": [
    {
     "data": {
      "image/png": "[encoded data removed]",
      "text/plain": [
       "<Figure size 1080x360 with 1 Axes>"
      ]
     },
     "metadata": {
      "needs_background": "light"
     },
     "output_type": "display_data"
    }
   ],
   "source": [
    "# Answer:\n",
    "\n",
    "plt.figure(figsize=(15,5))\n",
    "\n",
    "plt.ylabel('Number of Movies');\n",
    "plt.xlabel('Rating');\n",
    "plt.title('Movie Ratings for IMDB Top 1000');\n",
    "\n",
    "# just a classic bar, but I think it does the job perfectly.\n",
    "movies.content_rating.value_counts().plot(kind = 'bar', rot=True, ylim=(0,500));"
   ]
  },
  {
   "cell_type": "markdown",
   "metadata": {},
   "source": [
    "#### Convert the following content ratings to \"UNRATED\": NOT RATED, APPROVED, PASSED, GP."
   ]
  },
  {
   "cell_type": "code",
   "execution_count": 13,
   "metadata": {},
   "outputs": [
    {
     "data": {
      "text/plain": [
       "R          460\n",
       "PG-13      189\n",
       "UNRATED    160\n",
       "PG         123\n",
       "G           32\n",
       "NC-17        7\n",
       "X            4\n",
       "TV-MA        1\n",
       "Name: content_rating, dtype: int64"
      ]
     },
     "execution_count": 13,
     "metadata": {},
     "output_type": "execute_result"
    }
   ],
   "source": [
    "# Answer:  UNRATED\": NOT RATED, APPROVED, PASSED, GP.\n",
    "\n",
    "movies.replace({'NOT RATED':'UNRATED', 'APPROVED':'UNRATED', 'PASSED':'UNRATED', 'GP':'UNRATED'}, inplace=True)\n",
    "\n",
    "movies.content_rating.value_counts()"
   ]
  },
  {
   "cell_type": "markdown",
   "metadata": {},
   "source": [
    "#### Convert the following content ratings to \"NC-17\": X, TV-MA."
   ]
  },
  {
   "cell_type": "code",
   "execution_count": 14,
   "metadata": {},
   "outputs": [
    {
     "data": {
      "text/plain": [
       "R          460\n",
       "PG-13      189\n",
       "UNRATED    160\n",
       "PG         123\n",
       "G           32\n",
       "NC-17       12\n",
       "Name: content_rating, dtype: int64"
      ]
     },
     "execution_count": 14,
     "metadata": {},
     "output_type": "execute_result"
    }
   ],
   "source": [
    "# Answer: Convert the following content ratings to \"NC-17\": , TV-MA.\n",
    "\n",
    "movies.replace({'X':'NC-17', 'TV-MA':'NC-17'}, inplace=True)\n",
    "\n",
    "movies.content_rating.value_counts()"
   ]
  },
  {
   "cell_type": "markdown",
   "metadata": {},
   "source": [
    "#### Count the number of missing values in each column."
   ]
  },
  {
   "cell_type": "code",
   "execution_count": 15,
   "metadata": {},
   "outputs": [
    {
     "data": {
      "text/plain": [
       "star_rating       0\n",
       "title             0\n",
       "content_rating    3\n",
       "genre             0\n",
       "duration          0\n",
       "actors_list       0\n",
       "dtype: int64"
      ]
     },
     "execution_count": 15,
     "metadata": {},
     "output_type": "execute_result"
    }
   ],
   "source": [
    "# Answer:\n",
    "\n",
    "movies.isnull().sum()\n",
    "\n",
    "#The three moving with a missing value\n",
    "#movies[movies.content_rating.isnull()]"
   ]
  },
  {
   "cell_type": "markdown",
   "metadata": {},
   "source": [
    "#### If there are missing values: examine them, then fill them in with \"reasonable\" values."
   ]
  },
  {
   "cell_type": "code",
   "execution_count": 16,
   "metadata": {},
   "outputs": [],
   "source": [
    "# Answer: [Movie geek out for a moment].  I didn't need to look these up because I know all three of these movies (I love me\n",
    "# some movies).  Butch is my favorite of the three, but Eagles and True Grit are also very good.  Anyway, Butch Cassidy, \n",
    "# Where Eagles Dare, and True Grit are all PG movies because basically all movies were PG back then.  Today Butch and Eagles \n",
    "# could possibly be PG-13, but PG-13 wasn't introduced till 1984.  Interestingly these three movies were all released around \n",
    "# the same time (68-69).  John Wayne won an oscar as Rooster Cogburn in True Grit.\n",
    "\n",
    "movies[\"content_rating\"].fillna(\"PG\", inplace=True)"
   ]
  },
  {
   "cell_type": "markdown",
   "metadata": {},
   "source": [
    "#### Calculate the average star rating for movies 2 hours or longer, and compare that with the average star rating for movies shorter than 2 hours."
   ]
  },
  {
   "cell_type": "code",
   "execution_count": 19,
   "metadata": {},
   "outputs": [
    {
     "data": {
      "text/plain": [
       "onetwenty\n",
       "short    7.83849\n",
       "long     7.95367\n",
       "Name: star_rating, dtype: float64"
      ]
     },
     "execution_count": 19,
     "metadata": {},
     "output_type": "execute_result"
    }
   ],
   "source": [
    "# Answer:\n",
    "\n",
    "#I first made a column that contained a string idenfying a movie as short (<120 minutes) or long (>120 minutes)\n",
    "#movies['onetwenty'] = pd.cut(movies.duration, bins=[0,120,250], labels=['short', 'long'])\n",
    "\n",
    "#Once I had the onetwenty column above I could do a groupby sorting by star_rating\n",
    "movies.groupby('onetwenty').mean().sort_values('star_rating')['star_rating']"
   ]
  },
  {
   "cell_type": "markdown",
   "metadata": {},
   "source": [
    "#### Use a visualization to detect whether there is a relationship between duration and star rating."
   ]
  },
  {
   "cell_type": "code",
   "execution_count": 8,
   "metadata": {},
   "outputs": [
    {
     "data": {
      "text/html": [
       "<div>\n",
       "<style scoped>\n",
       "    .dataframe tbody tr th:only-of-type {\n",
       "        vertical-align: middle;\n",
       "    }\n",
       "\n",
       "    .dataframe tbody tr th {\n",
       "        vertical-align: top;\n",
       "    }\n",
       "\n",
       "    .dataframe thead th {\n",
       "        text-align: right;\n",
       "    }\n",
       "</style>\n",
       "<table border=\"1\" class=\"dataframe\">\n",
       "  <thead>\n",
       "    <tr style=\"text-align: right;\">\n",
       "      <th></th>\n",
       "      <th>duration</th>\n",
       "      <th>star_rating</th>\n",
       "    </tr>\n",
       "  </thead>\n",
       "  <tbody>\n",
       "    <tr>\n",
       "      <th>duration</th>\n",
       "      <td>1.000000</td>\n",
       "      <td>0.227149</td>\n",
       "    </tr>\n",
       "    <tr>\n",
       "      <th>star_rating</th>\n",
       "      <td>0.227149</td>\n",
       "      <td>1.000000</td>\n",
       "    </tr>\n",
       "  </tbody>\n",
       "</table>\n",
       "</div>"
      ],
      "text/plain": [
       "             duration  star_rating\n",
       "duration     1.000000     0.227149\n",
       "star_rating  0.227149     1.000000"
      ]
     },
     "execution_count": 8,
     "metadata": {},
     "output_type": "execute_result"
    }
   ],
   "source": [
    "# Answer:  Next three cells using different methods\n",
    "movies[['duration', 'star_rating']].corr()\n",
    "\n",
    "# This is not a \"visualization\" per se, but with so few values being returned I started with this because\n",
    "# it's pretty easy to see if there is much of a correlation (.227)"
   ]
  },
  {
   "cell_type": "code",
   "execution_count": 21,
   "metadata": {},
   "outputs": [
    {
     "data": {
      "image/png": "[encoded data removed]",
      "text/plain": [
       "<Figure size 432x288 with 2 Axes>"
      ]
     },
     "metadata": {
      "needs_background": "light"
     },
     "output_type": "display_data"
    }
   ],
   "source": [
    "#sns.heatmap(movies[['duration', 'star_rating']].corr());  #helpful to pull out correlations\n",
    "\n",
    "#no need to specify duration and star rating because they are the only two numeric columns.\n",
    "#I did not find this helpful because it's a 2x2 black and white grid.\n",
    "sns.heatmap(movies.corr());"
   ]
  },
  {
   "cell_type": "code",
   "execution_count": 10,
   "metadata": {},
   "outputs": [
    {
     "data": {
      "image/png": "[encoded data removed]",
      "text/plain": [
       "<Figure size 432x288 with 2 Axes>"
      ]
     },
     "metadata": {
      "needs_background": "light"
     },
     "output_type": "display_data"
    }
   ],
   "source": [
    "movies_corr = movies.corr()\n",
    "\n",
    "# I wanted to try another heatmap with different columns and gradients.  Doesn't provide more\n",
    "# than the black and white one above.\n",
    "#midpoint = (movies.duration.max() - movies.duration.min()) / 10\n",
    "sns.heatmap(movies_corr, cmap='coolwarm', vmin=.2, vmax=1, robust=True, annot=True);"
   ]
  },
  {
   "cell_type": "code",
   "execution_count": 20,
   "metadata": {},
   "outputs": [
    {
     "data": {
      "image/png": "[encoded data removed]",
      "text/plain": [
       "<Figure size 864x576 with 1 Axes>"
      ]
     },
     "metadata": {
      "needs_background": "light"
     },
     "output_type": "display_data"
    }
   ],
   "source": [
    "# One more to try and suss out a good correleation.  My theory; there is not much of a correlation.\n",
    "# There's some long movies with high and low ratings, ditto short movies.  The top couple movies are\n",
    "# on the longer side, but there are plenty of 120 min movies that are very highly rated.\n",
    "\n",
    "plt.figure(figsize=(12,8))\n",
    "\n",
    "plt.ylabel('Average Star Rating');\n",
    "plt.xlabel('Average Run Time');\n",
    "plt.title('Star Rating to Run Time');\n",
    "\n",
    "plt.plot(movies['duration'], movies['star_rating'], linestyle='', marker='o');"
   ]
  },
  {
   "cell_type": "markdown",
   "metadata": {},
   "source": [
    "#### Calculate the average duration for each genre."
   ]
  },
  {
   "cell_type": "code",
   "execution_count": 42,
   "metadata": {},
   "outputs": [
    {
     "data": {
      "text/plain": [
       "genre\n",
       "Western      136\n",
       "Adventure    134\n",
       "Biography    131\n",
       "Drama        126\n",
       "Action       126\n",
       "Crime        122\n",
       "Mystery      115\n",
       "Thriller     114\n",
       "Fantasy      112\n",
       "Sci-Fi       109\n",
       "Comedy       107\n",
       "Family       107\n",
       "Horror       102\n",
       "Film-Noir     97\n",
       "Animation     96\n",
       "History       66\n",
       "Name: duration, dtype: int32"
      ]
     },
     "execution_count": 42,
     "metadata": {},
     "output_type": "execute_result"
    }
   ],
   "source": [
    "# Answer:  I had to google the astype(int) because I wanted to get rid of the decimals\n",
    "\n",
    "movies.groupby('genre').duration.mean().sort_values(ascending=False).astype(int)"
   ]
  },
  {
   "cell_type": "markdown",
   "metadata": {},
   "source": [
    "## Advanced level"
   ]
  },
  {
   "cell_type": "markdown",
   "metadata": {},
   "source": [
    "#### Visualize the relationship between content rating and duration."
   ]
  },
  {
   "cell_type": "code",
   "execution_count": 41,
   "metadata": {},
   "outputs": [
    {
     "data": {
      "text/plain": [
       "star_rating       float64\n",
       "title              object\n",
       "content_rating     object\n",
       "genre              object\n",
       "duration            int64\n",
       "actors_list        object\n",
       "counter             int64\n",
       "dtype: object"
      ]
     },
     "execution_count": 41,
     "metadata": {},
     "output_type": "execute_result"
    }
   ],
   "source": [
    "# Answer:\n",
    "\n",
    "#Had to run this to remind myself content rating and duration are different types, so can't use \n",
    "# all graph types\n",
    "movies.dtypes"
   ]
  },
  {
   "cell_type": "code",
   "execution_count": 82,
   "metadata": {},
   "outputs": [
    {
     "data": {
      "image/png": "[encoded data removed]",
      "text/plain": [
       "<Figure size 432x288 with 1 Axes>"
      ]
     },
     "metadata": {
      "needs_background": "light"
     },
     "output_type": "display_data"
    }
   ],
   "source": [
    "# Doesn't include the content rating\n",
    "#sns.pairplot(movies);\n",
    "\n",
    "# Breaks because content rating is not right format\n",
    "#plt.plot(movies['duration'], movies['content_rating'], linestyle='', marker='o');\n",
    "\n",
    "#Useless!\n",
    "movies.plot(kind='bar',x='content_rating',y='duration');"
   ]
  },
  {
   "cell_type": "code",
   "execution_count": 83,
   "metadata": {},
   "outputs": [
    {
     "data": {
      "image/png": "[encoded data removed]",
      "text/plain": [
       "<Figure size 432x288 with 1 Axes>"
      ]
     },
     "metadata": {
      "needs_background": "light"
     },
     "output_type": "display_data"
    }
   ],
   "source": [
    "#This one went crazy on me too!\n",
    "ax = plt.gca()\n",
    "\n",
    "movies.plot(kind='line',x='content_rating',y='duration',ax=ax);"
   ]
  },
  {
   "cell_type": "code",
   "execution_count": 78,
   "metadata": {},
   "outputs": [
    {
     "data": {
      "image/png": "[encoded data removed]",
      "text/plain": [
       "<Figure size 842.4x595.44 with 1 Axes>"
      ]
     },
     "metadata": {
      "needs_background": "light"
     },
     "output_type": "display_data"
    }
   ],
   "source": [
    "# I then remembered to look back at my notes and checked out the preferred num vs cat = box\n",
    "# I tried a regular matplotlib box, but quickly went with seaborn\n",
    "\n",
    "a4_dims = (11.7, 8.27)\n",
    "fig, ax = plt.subplots(figsize=a4_dims)\n",
    "\n",
    "# I wanted a specific order from lowest rating (eg ok for all audiences to adult only)\n",
    "# I put 'UNRATED' AND 'NOT RATED' at the end because some of the movies in those were hard R's.\n",
    "ax = sns.boxplot(x = 'content_rating', y = 'duration', data = movies, ax=ax, \n",
    "                 order=[\"G\", \"PG\", \"GP\", \"PASSED\", \"APPROVED\",\n",
    "                        \"TV-MA\", \"PG-13\", \"R\", \"NC-17\", \"X\",\n",
    "                        \"NOT RATED\", \"UNRATED\"])\n",
    "ax.set(xlabel=\"Movie Rating\", ylabel = \"Duration\");\n",
    "\n",
    "# Conclusion.  If we look at the common ratings the movies run longer the higher the rating, but peak\n",
    "# at PG-13 with R average coming down slightly, but still higher than family friendly movies."
   ]
  },
  {
   "cell_type": "code",
   "execution_count": 86,
   "metadata": {},
   "outputs": [
    {
     "data": {
      "text/html": [
       "<div>\n",
       "<style scoped>\n",
       "    .dataframe tbody tr th:only-of-type {\n",
       "        vertical-align: middle;\n",
       "    }\n",
       "\n",
       "    .dataframe tbody tr th {\n",
       "        vertical-align: top;\n",
       "    }\n",
       "\n",
       "    .dataframe thead th {\n",
       "        text-align: right;\n",
       "    }\n",
       "</style>\n",
       "<table border=\"1\" class=\"dataframe\">\n",
       "  <thead>\n",
       "    <tr style=\"text-align: right;\">\n",
       "      <th></th>\n",
       "      <th>star_rating</th>\n",
       "      <th>title</th>\n",
       "      <th>content_rating</th>\n",
       "      <th>genre</th>\n",
       "      <th>duration</th>\n",
       "      <th>actors_list</th>\n",
       "      <th>counter</th>\n",
       "    </tr>\n",
       "  </thead>\n",
       "  <tbody>\n",
       "    <tr>\n",
       "      <th>219</th>\n",
       "      <td>8.1</td>\n",
       "      <td>Who's Afraid of Virginia Woolf?</td>\n",
       "      <td>TV-MA</td>\n",
       "      <td>Drama</td>\n",
       "      <td>131</td>\n",
       "      <td>[u'Elizabeth Taylor', u'Richard Burton', u'Geo...</td>\n",
       "      <td>1</td>\n",
       "    </tr>\n",
       "  </tbody>\n",
       "</table>\n",
       "</div>"
      ],
      "text/plain": [
       "     star_rating                            title content_rating  genre  \\\n",
       "219          8.1  Who's Afraid of Virginia Woolf?          TV-MA  Drama   \n",
       "\n",
       "     duration                                        actors_list  counter  \n",
       "219       131  [u'Elizabeth Taylor', u'Richard Burton', u'Geo...        1  "
      ]
     },
     "execution_count": 86,
     "metadata": {},
     "output_type": "execute_result"
    }
   ],
   "source": [
    "# I was using this to see which movies fell in the non-normal ratings.\n",
    "movies.query(\"content_rating == 'TV-MA'\")"
   ]
  },
  {
   "cell_type": "code",
   "execution_count": 21,
   "metadata": {},
   "outputs": [
    {
     "name": "stderr",
     "output_type": "stream",
     "text": [
      "C:\\Users\\ggear\\anaconda3\\lib\\site-packages\\numpy\\lib\\histograms.py:908: RuntimeWarning: invalid value encountered in true_divide\n",
      "  return n/db/n.sum(), bin_edges\n"
     ]
    },
    {
     "data": {
      "image/png": "[encoded data removed]",
      "text/plain": [
       "<Figure size 720x360 with 1 Axes>"
      ]
     },
     "metadata": {
      "needs_background": "light"
     },
     "output_type": "display_data"
    }
   ],
   "source": [
    "#Wanted to try a stacked histogram.  Not too useful, hard to see dividing lines.\n",
    "\n",
    "plt.figure(figsize=(10,5))\n",
    "\n",
    "plt.xlabel('Run Time');\n",
    "plt.ylabel('Density');\n",
    "plt.title('Rating vs Run Time');\n",
    "\n",
    "movies.query('content_rating == \"UNRATED\"')['duration'].hist(bins=10,alpha=0.5, label='PG', density=True);\n",
    "movies.query('content_rating == \"G\"')['duration'].hist(bins=10,alpha=0.5, label='PG', density=True);\n",
    "movies.query('content_rating == \"PG\"')['duration'].hist(bins=10,alpha=0.5, label='PG', density=True);\n",
    "movies.query('content_rating == \"PG-13\"')['duration'].hist(bins=10,alpha=0.5, label='PG', density=True);\n",
    "movies.query('content_rating == \"R\"')['duration'].hist(bins=10, alpha=0.5, label='R', density=True);\n",
    "movies.query('content_rating == \"NEC-17\"')['duration'].hist(bins=10,alpha=0.5, label='PG', density=True);\n",
    "\n",
    "plt.legend();  #this call will refer to the \"label\" in the .hist."
   ]
  },
  {
   "cell_type": "code",
   "execution_count": 27,
   "metadata": {},
   "outputs": [
    {
     "data": {
      "image/png": "[encoded data removed]",
      "text/plain": [
       "<Figure size 720x360 with 1 Axes>"
      ]
     },
     "metadata": {
      "needs_background": "light"
     },
     "output_type": "display_data"
    }
   ],
   "source": [
    "# Tried another  stacked histogram.  This one was better to see the number of movies rather than \n",
    "# run time to rating.\n",
    "\n",
    "plt.figure(figsize=(10,5))\n",
    "\n",
    "plt.xlabel('Run Time');\n",
    "plt.ylabel('Count');\n",
    "plt.title('Rating vs Run Time');\n",
    "\n",
    "movies.query('content_rating == \"UNRATED\"')['duration'].hist(bins=10,alpha=0.5, label='PG');\n",
    "movies.query('content_rating == \"G\"')['duration'].hist(bins=10,alpha=0.5, label='PG');\n",
    "movies.query('content_rating == \"PG\"')['duration'].hist(bins=10,alpha=0.5, label='PG');\n",
    "movies.query('content_rating == \"PG-13\"')['duration'].hist(bins=10,alpha=0.5, label='PG');\n",
    "movies.query('content_rating == \"R\"')['duration'].hist(bins=10, alpha=0.5, label='R');\n",
    "movies.query('content_rating == \"NEC-17\"')['duration'].hist(bins=10,alpha=0.5, label='PG');\n",
    "\n",
    "plt.legend();  #this call will refer to the \"label\" in the .hist."
   ]
  },
  {
   "cell_type": "markdown",
   "metadata": {},
   "source": [
    "#### Determine the top rated movie (by star rating) for each genre."
   ]
  },
  {
   "cell_type": "code",
   "execution_count": 29,
   "metadata": {},
   "outputs": [
    {
     "data": {
      "text/plain": [
       "genre\n",
       "Fantasy      7.7\n",
       "Family       7.9\n",
       "History      8.0\n",
       "Thriller     8.0\n",
       "Sci-Fi       8.2\n",
       "Film-Noir    8.3\n",
       "Animation    8.6\n",
       "Comedy       8.6\n",
       "Horror       8.6\n",
       "Mystery      8.6\n",
       "Adventure    8.9\n",
       "Biography    8.9\n",
       "Drama        8.9\n",
       "Western      8.9\n",
       "Action       9.0\n",
       "Crime        9.3\n",
       "Name: star_rating, dtype: float64"
      ]
     },
     "execution_count": 29,
     "metadata": {},
     "output_type": "execute_result"
    }
   ],
   "source": [
    "# Answer:\n",
    "\n",
    "#I did this, but couldn't figure out how to get the movie title.\n",
    "movies.groupby('genre').max().sort_values('star_rating')['star_rating']"
   ]
  },
  {
   "cell_type": "code",
   "execution_count": 31,
   "metadata": {},
   "outputs": [
    {
     "data": {
      "text/html": [
       "<div>\n",
       "<style scoped>\n",
       "    .dataframe tbody tr th:only-of-type {\n",
       "        vertical-align: middle;\n",
       "    }\n",
       "\n",
       "    .dataframe tbody tr th {\n",
       "        vertical-align: top;\n",
       "    }\n",
       "\n",
       "    .dataframe thead th {\n",
       "        text-align: right;\n",
       "    }\n",
       "</style>\n",
       "<table border=\"1\" class=\"dataframe\">\n",
       "  <thead>\n",
       "    <tr style=\"text-align: right;\">\n",
       "      <th></th>\n",
       "      <th>genre</th>\n",
       "      <th>title</th>\n",
       "      <th>star_rating</th>\n",
       "    </tr>\n",
       "  </thead>\n",
       "  <tbody>\n",
       "    <tr>\n",
       "      <th>3</th>\n",
       "      <td>Action</td>\n",
       "      <td>The Dark Knight</td>\n",
       "      <td>9.0</td>\n",
       "    </tr>\n",
       "    <tr>\n",
       "      <th>7</th>\n",
       "      <td>Adventure</td>\n",
       "      <td>The Lord of the Rings: The Return of the King</td>\n",
       "      <td>8.9</td>\n",
       "    </tr>\n",
       "    <tr>\n",
       "      <th>30</th>\n",
       "      <td>Animation</td>\n",
       "      <td>Spirited Away</td>\n",
       "      <td>8.6</td>\n",
       "    </tr>\n",
       "    <tr>\n",
       "      <th>8</th>\n",
       "      <td>Biography</td>\n",
       "      <td>Schindler's List</td>\n",
       "      <td>8.9</td>\n",
       "    </tr>\n",
       "    <tr>\n",
       "      <th>25</th>\n",
       "      <td>Comedy</td>\n",
       "      <td>Life Is Beautiful</td>\n",
       "      <td>8.6</td>\n",
       "    </tr>\n",
       "    <tr>\n",
       "      <th>0</th>\n",
       "      <td>Crime</td>\n",
       "      <td>The Shawshank Redemption</td>\n",
       "      <td>9.3</td>\n",
       "    </tr>\n",
       "    <tr>\n",
       "      <th>5</th>\n",
       "      <td>Drama</td>\n",
       "      <td>12 Angry Men</td>\n",
       "      <td>8.9</td>\n",
       "    </tr>\n",
       "    <tr>\n",
       "      <th>468</th>\n",
       "      <td>Family</td>\n",
       "      <td>E.T. the Extra-Terrestrial</td>\n",
       "      <td>7.9</td>\n",
       "    </tr>\n",
       "    <tr>\n",
       "      <th>638</th>\n",
       "      <td>Fantasy</td>\n",
       "      <td>The City of Lost Children</td>\n",
       "      <td>7.7</td>\n",
       "    </tr>\n",
       "    <tr>\n",
       "      <th>105</th>\n",
       "      <td>Film-Noir</td>\n",
       "      <td>The Third Man</td>\n",
       "      <td>8.3</td>\n",
       "    </tr>\n",
       "    <tr>\n",
       "      <th>338</th>\n",
       "      <td>History</td>\n",
       "      <td>Battleship Potemkin</td>\n",
       "      <td>8.0</td>\n",
       "    </tr>\n",
       "    <tr>\n",
       "      <th>39</th>\n",
       "      <td>Horror</td>\n",
       "      <td>Psycho</td>\n",
       "      <td>8.6</td>\n",
       "    </tr>\n",
       "    <tr>\n",
       "      <th>38</th>\n",
       "      <td>Mystery</td>\n",
       "      <td>Rear Window</td>\n",
       "      <td>8.6</td>\n",
       "    </tr>\n",
       "    <tr>\n",
       "      <th>145</th>\n",
       "      <td>Sci-Fi</td>\n",
       "      <td>Blade Runner</td>\n",
       "      <td>8.2</td>\n",
       "    </tr>\n",
       "    <tr>\n",
       "      <th>350</th>\n",
       "      <td>Thriller</td>\n",
       "      <td>Shadow of a Doubt</td>\n",
       "      <td>8.0</td>\n",
       "    </tr>\n",
       "    <tr>\n",
       "      <th>6</th>\n",
       "      <td>Western</td>\n",
       "      <td>The Good, the Bad and the Ugly</td>\n",
       "      <td>8.9</td>\n",
       "    </tr>\n",
       "  </tbody>\n",
       "</table>\n",
       "</div>"
      ],
      "text/plain": [
       "         genre                                          title  star_rating\n",
       "3       Action                                The Dark Knight          9.0\n",
       "7    Adventure  The Lord of the Rings: The Return of the King          8.9\n",
       "30   Animation                                  Spirited Away          8.6\n",
       "8    Biography                               Schindler's List          8.9\n",
       "25      Comedy                              Life Is Beautiful          8.6\n",
       "0        Crime                       The Shawshank Redemption          9.3\n",
       "5        Drama                                   12 Angry Men          8.9\n",
       "468     Family                     E.T. the Extra-Terrestrial          7.9\n",
       "638    Fantasy                      The City of Lost Children          7.7\n",
       "105  Film-Noir                                  The Third Man          8.3\n",
       "338    History                            Battleship Potemkin          8.0\n",
       "39      Horror                                         Psycho          8.6\n",
       "38     Mystery                                    Rear Window          8.6\n",
       "145     Sci-Fi                                   Blade Runner          8.2\n",
       "350   Thriller                              Shadow of a Doubt          8.0\n",
       "6      Western                 The Good, the Bad and the Ugly          8.9"
      ]
     },
     "execution_count": 31,
     "metadata": {},
     "output_type": "execute_result"
    }
   ],
   "source": [
    "#with some google help I found the idxmax.\n",
    "movies_top = movies.loc[movies.groupby([\"genre\"])[\"star_rating\"].idxmax()]\n",
    "\n",
    "#Display just the necessary columns\n",
    "movies_top[['genre','title','star_rating']]"
   ]
  },
  {
   "cell_type": "markdown",
   "metadata": {},
   "source": [
    "#### Check if there are multiple movies with the same title, and if so, determine if they are actually duplicates."
   ]
  },
  {
   "cell_type": "code",
   "execution_count": 31,
   "metadata": {},
   "outputs": [
    {
     "data": {
      "text/plain": [
       "0      False\n",
       "1      False\n",
       "2      False\n",
       "3      False\n",
       "4      False\n",
       "       ...  \n",
       "974    False\n",
       "975    False\n",
       "976    False\n",
       "977    False\n",
       "978    False\n",
       "Length: 979, dtype: bool"
      ]
     },
     "execution_count": 31,
     "metadata": {},
     "output_type": "execute_result"
    }
   ],
   "source": [
    "# Answer:\n",
    "\n",
    "# I looked up the \"duplicated\" command and ran it on the column getting True/False which wasn't helpful\n",
    "movies.duplicated(subset='title')"
   ]
  },
  {
   "cell_type": "code",
   "execution_count": 32,
   "metadata": {},
   "outputs": [
    {
     "data": {
      "text/html": [
       "<div>\n",
       "<style scoped>\n",
       "    .dataframe tbody tr th:only-of-type {\n",
       "        vertical-align: middle;\n",
       "    }\n",
       "\n",
       "    .dataframe tbody tr th {\n",
       "        vertical-align: top;\n",
       "    }\n",
       "\n",
       "    .dataframe thead th {\n",
       "        text-align: right;\n",
       "    }\n",
       "</style>\n",
       "<table border=\"1\" class=\"dataframe\">\n",
       "  <thead>\n",
       "    <tr style=\"text-align: right;\">\n",
       "      <th></th>\n",
       "      <th>star_rating</th>\n",
       "      <th>title</th>\n",
       "      <th>content_rating</th>\n",
       "      <th>genre</th>\n",
       "      <th>duration</th>\n",
       "      <th>actors_list</th>\n",
       "      <th>onetwenty</th>\n",
       "    </tr>\n",
       "  </thead>\n",
       "  <tbody>\n",
       "    <tr>\n",
       "      <th>703</th>\n",
       "      <td>7.6</td>\n",
       "      <td>Dracula</td>\n",
       "      <td>UNRATED</td>\n",
       "      <td>Horror</td>\n",
       "      <td>85</td>\n",
       "      <td>[u'Bela Lugosi', u'Helen Chandler', u'David Ma...</td>\n",
       "      <td>short</td>\n",
       "    </tr>\n",
       "    <tr>\n",
       "      <th>905</th>\n",
       "      <td>7.5</td>\n",
       "      <td>Dracula</td>\n",
       "      <td>R</td>\n",
       "      <td>Horror</td>\n",
       "      <td>128</td>\n",
       "      <td>[u'Gary Oldman', u'Winona Ryder', u'Anthony Ho...</td>\n",
       "      <td>long</td>\n",
       "    </tr>\n",
       "    <tr>\n",
       "      <th>678</th>\n",
       "      <td>7.7</td>\n",
       "      <td>Les Miserables</td>\n",
       "      <td>PG-13</td>\n",
       "      <td>Drama</td>\n",
       "      <td>158</td>\n",
       "      <td>[u'Hugh Jackman', u'Russell Crowe', u'Anne Hat...</td>\n",
       "      <td>long</td>\n",
       "    </tr>\n",
       "    <tr>\n",
       "      <th>924</th>\n",
       "      <td>7.5</td>\n",
       "      <td>Les Miserables</td>\n",
       "      <td>PG-13</td>\n",
       "      <td>Crime</td>\n",
       "      <td>134</td>\n",
       "      <td>[u'Liam Neeson', u'Geoffrey Rush', u'Uma Thurm...</td>\n",
       "      <td>long</td>\n",
       "    </tr>\n",
       "    <tr>\n",
       "      <th>466</th>\n",
       "      <td>7.9</td>\n",
       "      <td>The Girl with the Dragon Tattoo</td>\n",
       "      <td>R</td>\n",
       "      <td>Crime</td>\n",
       "      <td>158</td>\n",
       "      <td>[u'Daniel Craig', u'Rooney Mara', u'Christophe...</td>\n",
       "      <td>long</td>\n",
       "    </tr>\n",
       "    <tr>\n",
       "      <th>482</th>\n",
       "      <td>7.8</td>\n",
       "      <td>The Girl with the Dragon Tattoo</td>\n",
       "      <td>R</td>\n",
       "      <td>Crime</td>\n",
       "      <td>152</td>\n",
       "      <td>[u'Michael Nyqvist', u'Noomi Rapace', u'Ewa Fr...</td>\n",
       "      <td>long</td>\n",
       "    </tr>\n",
       "    <tr>\n",
       "      <th>662</th>\n",
       "      <td>7.7</td>\n",
       "      <td>True Grit</td>\n",
       "      <td>PG-13</td>\n",
       "      <td>Adventure</td>\n",
       "      <td>110</td>\n",
       "      <td>[u'Jeff Bridges', u'Matt Damon', u'Hailee Stei...</td>\n",
       "      <td>short</td>\n",
       "    </tr>\n",
       "    <tr>\n",
       "      <th>936</th>\n",
       "      <td>7.4</td>\n",
       "      <td>True Grit</td>\n",
       "      <td>PG</td>\n",
       "      <td>Adventure</td>\n",
       "      <td>128</td>\n",
       "      <td>[u'John Wayne', u'Kim Darby', u'Glen Campbell']</td>\n",
       "      <td>long</td>\n",
       "    </tr>\n",
       "  </tbody>\n",
       "</table>\n",
       "</div>"
      ],
      "text/plain": [
       "     star_rating                            title content_rating      genre  \\\n",
       "703          7.6                          Dracula        UNRATED     Horror   \n",
       "905          7.5                          Dracula              R     Horror   \n",
       "678          7.7                   Les Miserables          PG-13      Drama   \n",
       "924          7.5                   Les Miserables          PG-13      Crime   \n",
       "466          7.9  The Girl with the Dragon Tattoo              R      Crime   \n",
       "482          7.8  The Girl with the Dragon Tattoo              R      Crime   \n",
       "662          7.7                        True Grit          PG-13  Adventure   \n",
       "936          7.4                        True Grit             PG  Adventure   \n",
       "\n",
       "     duration                                        actors_list onetwenty  \n",
       "703        85  [u'Bela Lugosi', u'Helen Chandler', u'David Ma...     short  \n",
       "905       128  [u'Gary Oldman', u'Winona Ryder', u'Anthony Ho...      long  \n",
       "678       158  [u'Hugh Jackman', u'Russell Crowe', u'Anne Hat...      long  \n",
       "924       134  [u'Liam Neeson', u'Geoffrey Rush', u'Uma Thurm...      long  \n",
       "466       158  [u'Daniel Craig', u'Rooney Mara', u'Christophe...      long  \n",
       "482       152  [u'Michael Nyqvist', u'Noomi Rapace', u'Ewa Fr...      long  \n",
       "662       110  [u'Jeff Bridges', u'Matt Damon', u'Hailee Stei...     short  \n",
       "936       128    [u'John Wayne', u'Kim Darby', u'Glen Campbell']      long  "
      ]
     },
     "execution_count": 32,
     "metadata": {},
     "output_type": "execute_result"
    }
   ],
   "source": [
    "#I then remembered I needed to apply this to the whole data set.  I had to look up how to display both sets of dupes (keep)\n",
    "# None of them are true duplicates as they are remakes.\n",
    "\n",
    "movies[movies.duplicated(subset='title', keep=False)].sort_values('title')"
   ]
  },
  {
   "cell_type": "markdown",
   "metadata": {
    "collapsed": true
   },
   "source": [
    "#### Calculate the average star rating for each genre, but only include genres with at least 10 movies\n"
   ]
  },
  {
   "cell_type": "markdown",
   "metadata": {},
   "source": [
    "#### Option 1: manually create a list of relevant genres, then filter using that list"
   ]
  },
  {
   "cell_type": "code",
   "execution_count": 7,
   "metadata": {},
   "outputs": [
    {
     "data": {
      "text/plain": [
       "0       Action\n",
       "1    Adventure\n",
       "2    Animation\n",
       "3    Biography\n",
       "4       Comedy\n",
       "5        Crime\n",
       "6        Drama\n",
       "7       Horror\n",
       "8      Mystery\n",
       "Name: genre, dtype: object"
      ]
     },
     "execution_count": 7,
     "metadata": {},
     "output_type": "execute_result"
    }
   ],
   "source": [
    "# Answer:  I first wanted to find which genres had at least ten movies.\n",
    "\n",
    "# Groupby genre to get a count of movies per genre\n",
    "movies_genre = movies.groupby('genre').count()\n",
    "\n",
    "# countable values were created in above group, so can query on any of them greater than 10\n",
    "movies_greater_ten = movies_genre.query('duration > 10').reset_index()\n",
    "\n",
    "# just return the genre column and create a new data frame to be used below\n",
    "movies_ten_genre = movies_greater_ten.genre\n",
    "\n",
    "# confirm the results\n",
    "#movies_genre\n",
    "#movies_greater_ten\n",
    "movies_ten_genre"
   ]
  },
  {
   "cell_type": "code",
   "execution_count": 5,
   "metadata": {},
   "outputs": [
    {
     "data": {
      "text/html": [
       "<div>\n",
       "<style scoped>\n",
       "    .dataframe tbody tr th:only-of-type {\n",
       "        vertical-align: middle;\n",
       "    }\n",
       "\n",
       "    .dataframe tbody tr th {\n",
       "        vertical-align: top;\n",
       "    }\n",
       "\n",
       "    .dataframe thead th {\n",
       "        text-align: right;\n",
       "    }\n",
       "</style>\n",
       "<table border=\"1\" class=\"dataframe\">\n",
       "  <thead>\n",
       "    <tr style=\"text-align: right;\">\n",
       "      <th></th>\n",
       "      <th>genre</th>\n",
       "      <th>star_rating</th>\n",
       "    </tr>\n",
       "  </thead>\n",
       "  <tbody>\n",
       "    <tr>\n",
       "      <th>0</th>\n",
       "      <td>Thriller</td>\n",
       "      <td>7.680000</td>\n",
       "    </tr>\n",
       "    <tr>\n",
       "      <th>1</th>\n",
       "      <td>Fantasy</td>\n",
       "      <td>7.700000</td>\n",
       "    </tr>\n",
       "    <tr>\n",
       "      <th>2</th>\n",
       "      <td>Horror</td>\n",
       "      <td>7.806897</td>\n",
       "    </tr>\n",
       "    <tr>\n",
       "      <th>3</th>\n",
       "      <td>Comedy</td>\n",
       "      <td>7.822436</td>\n",
       "    </tr>\n",
       "    <tr>\n",
       "      <th>4</th>\n",
       "      <td>Family</td>\n",
       "      <td>7.850000</td>\n",
       "    </tr>\n",
       "    <tr>\n",
       "      <th>5</th>\n",
       "      <td>Biography</td>\n",
       "      <td>7.862338</td>\n",
       "    </tr>\n",
       "    <tr>\n",
       "      <th>6</th>\n",
       "      <td>Action</td>\n",
       "      <td>7.884559</td>\n",
       "    </tr>\n",
       "    <tr>\n",
       "      <th>7</th>\n",
       "      <td>Drama</td>\n",
       "      <td>7.902518</td>\n",
       "    </tr>\n",
       "    <tr>\n",
       "      <th>8</th>\n",
       "      <td>Animation</td>\n",
       "      <td>7.914516</td>\n",
       "    </tr>\n",
       "    <tr>\n",
       "      <th>9</th>\n",
       "      <td>Crime</td>\n",
       "      <td>7.916935</td>\n",
       "    </tr>\n",
       "    <tr>\n",
       "      <th>10</th>\n",
       "      <td>Sci-Fi</td>\n",
       "      <td>7.920000</td>\n",
       "    </tr>\n",
       "    <tr>\n",
       "      <th>11</th>\n",
       "      <td>Adventure</td>\n",
       "      <td>7.933333</td>\n",
       "    </tr>\n",
       "    <tr>\n",
       "      <th>12</th>\n",
       "      <td>Mystery</td>\n",
       "      <td>7.975000</td>\n",
       "    </tr>\n",
       "    <tr>\n",
       "      <th>13</th>\n",
       "      <td>History</td>\n",
       "      <td>8.000000</td>\n",
       "    </tr>\n",
       "    <tr>\n",
       "      <th>14</th>\n",
       "      <td>Film-Noir</td>\n",
       "      <td>8.033333</td>\n",
       "    </tr>\n",
       "    <tr>\n",
       "      <th>15</th>\n",
       "      <td>Western</td>\n",
       "      <td>8.255556</td>\n",
       "    </tr>\n",
       "  </tbody>\n",
       "</table>\n",
       "</div>"
      ],
      "text/plain": [
       "        genre  star_rating\n",
       "0    Thriller     7.680000\n",
       "1     Fantasy     7.700000\n",
       "2      Horror     7.806897\n",
       "3      Comedy     7.822436\n",
       "4      Family     7.850000\n",
       "5   Biography     7.862338\n",
       "6      Action     7.884559\n",
       "7       Drama     7.902518\n",
       "8   Animation     7.914516\n",
       "9       Crime     7.916935\n",
       "10     Sci-Fi     7.920000\n",
       "11  Adventure     7.933333\n",
       "12    Mystery     7.975000\n",
       "13    History     8.000000\n",
       "14  Film-Noir     8.033333\n",
       "15    Western     8.255556"
      ]
     },
     "execution_count": 5,
     "metadata": {},
     "output_type": "execute_result"
    }
   ],
   "source": [
    "# group by genre and star_rating to get average star_rating\n",
    "# I found I needed to reset the index to help on the next cell.\n",
    "genre_average = movies.groupby('genre').mean().sort_values('star_rating')['star_rating'].reset_index()\n",
    "\n",
    "# confirm results\n",
    "genre_average"
   ]
  },
  {
   "cell_type": "code",
   "execution_count": 8,
   "metadata": {},
   "outputs": [
    {
     "data": {
      "text/html": [
       "<div>\n",
       "<style scoped>\n",
       "    .dataframe tbody tr th:only-of-type {\n",
       "        vertical-align: middle;\n",
       "    }\n",
       "\n",
       "    .dataframe tbody tr th {\n",
       "        vertical-align: top;\n",
       "    }\n",
       "\n",
       "    .dataframe thead th {\n",
       "        text-align: right;\n",
       "    }\n",
       "</style>\n",
       "<table border=\"1\" class=\"dataframe\">\n",
       "  <thead>\n",
       "    <tr style=\"text-align: right;\">\n",
       "      <th></th>\n",
       "      <th>genre</th>\n",
       "      <th>star_rating</th>\n",
       "    </tr>\n",
       "  </thead>\n",
       "  <tbody>\n",
       "    <tr>\n",
       "      <th>3</th>\n",
       "      <td>Action</td>\n",
       "      <td>7.884559</td>\n",
       "    </tr>\n",
       "    <tr>\n",
       "      <th>7</th>\n",
       "      <td>Adventure</td>\n",
       "      <td>7.933333</td>\n",
       "    </tr>\n",
       "    <tr>\n",
       "      <th>5</th>\n",
       "      <td>Animation</td>\n",
       "      <td>7.914516</td>\n",
       "    </tr>\n",
       "    <tr>\n",
       "      <th>2</th>\n",
       "      <td>Biography</td>\n",
       "      <td>7.862338</td>\n",
       "    </tr>\n",
       "    <tr>\n",
       "      <th>1</th>\n",
       "      <td>Comedy</td>\n",
       "      <td>7.822436</td>\n",
       "    </tr>\n",
       "    <tr>\n",
       "      <th>6</th>\n",
       "      <td>Crime</td>\n",
       "      <td>7.916935</td>\n",
       "    </tr>\n",
       "    <tr>\n",
       "      <th>4</th>\n",
       "      <td>Drama</td>\n",
       "      <td>7.902518</td>\n",
       "    </tr>\n",
       "    <tr>\n",
       "      <th>0</th>\n",
       "      <td>Horror</td>\n",
       "      <td>7.806897</td>\n",
       "    </tr>\n",
       "    <tr>\n",
       "      <th>8</th>\n",
       "      <td>Mystery</td>\n",
       "      <td>7.975000</td>\n",
       "    </tr>\n",
       "  </tbody>\n",
       "</table>\n",
       "</div>"
      ],
      "text/plain": [
       "       genre  star_rating\n",
       "3     Action     7.884559\n",
       "7  Adventure     7.933333\n",
       "5  Animation     7.914516\n",
       "2  Biography     7.862338\n",
       "1     Comedy     7.822436\n",
       "6      Crime     7.916935\n",
       "4      Drama     7.902518\n",
       "0     Horror     7.806897\n",
       "8    Mystery     7.975000"
      ]
     },
     "execution_count": 8,
     "metadata": {},
     "output_type": "execute_result"
    }
   ],
   "source": [
    "# merge the two datasets using an \"inner\" parameter to exclude those with less than 10 movies\n",
    "# this made conceptual sense to me from SQL joins.\n",
    "df = genre_average.merge(movies_ten_genre, how = 'inner' ,indicator=False)\n",
    "\n",
    "# confirm results and sort by genre to look more appealing\n",
    "df.sort_values(by = 'genre')"
   ]
  },
  {
   "cell_type": "markdown",
   "metadata": {},
   "source": [
    "#### Option 2: automatically create a list of relevant genres by saving the value_counts and then filtering"
   ]
  },
  {
   "cell_type": "code",
   "execution_count": null,
   "metadata": {},
   "outputs": [],
   "source": [
    "# Answer:"
   ]
  },
  {
   "cell_type": "markdown",
   "metadata": {},
   "source": [
    "#### Option 3: calculate the average star rating for all genres, then filter using a boolean Series"
   ]
  },
  {
   "cell_type": "code",
   "execution_count": 366,
   "metadata": {},
   "outputs": [],
   "source": [
    "# Answer:"
   ]
  },
  {
   "cell_type": "markdown",
   "metadata": {},
   "source": [
    "#### Option 4: aggregate by count and mean, then filter using the count"
   ]
  },
  {
   "cell_type": "code",
   "execution_count": 9,
   "metadata": {},
   "outputs": [
    {
     "data": {
      "text/html": [
       "<div>\n",
       "<style scoped>\n",
       "    .dataframe tbody tr th:only-of-type {\n",
       "        vertical-align: middle;\n",
       "    }\n",
       "\n",
       "    .dataframe tbody tr th {\n",
       "        vertical-align: top;\n",
       "    }\n",
       "\n",
       "    .dataframe thead th {\n",
       "        text-align: right;\n",
       "    }\n",
       "</style>\n",
       "<table border=\"1\" class=\"dataframe\">\n",
       "  <thead>\n",
       "    <tr style=\"text-align: right;\">\n",
       "      <th></th>\n",
       "      <th>star_rating</th>\n",
       "      <th>title</th>\n",
       "      <th>content_rating</th>\n",
       "      <th>genre</th>\n",
       "      <th>duration</th>\n",
       "      <th>actors_list</th>\n",
       "      <th>counter</th>\n",
       "    </tr>\n",
       "  </thead>\n",
       "  <tbody>\n",
       "    <tr>\n",
       "      <th>0</th>\n",
       "      <td>9.3</td>\n",
       "      <td>The Shawshank Redemption</td>\n",
       "      <td>R</td>\n",
       "      <td>Crime</td>\n",
       "      <td>142</td>\n",
       "      <td>[u'Tim Robbins', u'Morgan Freeman', u'Bob Gunt...</td>\n",
       "      <td>1</td>\n",
       "    </tr>\n",
       "    <tr>\n",
       "      <th>1</th>\n",
       "      <td>9.2</td>\n",
       "      <td>The Godfather</td>\n",
       "      <td>R</td>\n",
       "      <td>Crime</td>\n",
       "      <td>175</td>\n",
       "      <td>[u'Marlon Brando', u'Al Pacino', u'James Caan']</td>\n",
       "      <td>1</td>\n",
       "    </tr>\n",
       "    <tr>\n",
       "      <th>2</th>\n",
       "      <td>9.1</td>\n",
       "      <td>The Godfather: Part II</td>\n",
       "      <td>R</td>\n",
       "      <td>Crime</td>\n",
       "      <td>200</td>\n",
       "      <td>[u'Al Pacino', u'Robert De Niro', u'Robert Duv...</td>\n",
       "      <td>1</td>\n",
       "    </tr>\n",
       "    <tr>\n",
       "      <th>3</th>\n",
       "      <td>9.0</td>\n",
       "      <td>The Dark Knight</td>\n",
       "      <td>PG-13</td>\n",
       "      <td>Action</td>\n",
       "      <td>152</td>\n",
       "      <td>[u'Christian Bale', u'Heath Ledger', u'Aaron E...</td>\n",
       "      <td>1</td>\n",
       "    </tr>\n",
       "    <tr>\n",
       "      <th>4</th>\n",
       "      <td>8.9</td>\n",
       "      <td>Pulp Fiction</td>\n",
       "      <td>R</td>\n",
       "      <td>Crime</td>\n",
       "      <td>154</td>\n",
       "      <td>[u'John Travolta', u'Uma Thurman', u'Samuel L....</td>\n",
       "      <td>1</td>\n",
       "    </tr>\n",
       "    <tr>\n",
       "      <th>...</th>\n",
       "      <td>...</td>\n",
       "      <td>...</td>\n",
       "      <td>...</td>\n",
       "      <td>...</td>\n",
       "      <td>...</td>\n",
       "      <td>...</td>\n",
       "      <td>...</td>\n",
       "    </tr>\n",
       "    <tr>\n",
       "      <th>974</th>\n",
       "      <td>7.4</td>\n",
       "      <td>Tootsie</td>\n",
       "      <td>PG</td>\n",
       "      <td>Comedy</td>\n",
       "      <td>116</td>\n",
       "      <td>[u'Dustin Hoffman', u'Jessica Lange', u'Teri G...</td>\n",
       "      <td>1</td>\n",
       "    </tr>\n",
       "    <tr>\n",
       "      <th>975</th>\n",
       "      <td>7.4</td>\n",
       "      <td>Back to the Future Part III</td>\n",
       "      <td>PG</td>\n",
       "      <td>Adventure</td>\n",
       "      <td>118</td>\n",
       "      <td>[u'Michael J. Fox', u'Christopher Lloyd', u'Ma...</td>\n",
       "      <td>1</td>\n",
       "    </tr>\n",
       "    <tr>\n",
       "      <th>976</th>\n",
       "      <td>7.4</td>\n",
       "      <td>Master and Commander: The Far Side of the World</td>\n",
       "      <td>PG-13</td>\n",
       "      <td>Action</td>\n",
       "      <td>138</td>\n",
       "      <td>[u'Russell Crowe', u'Paul Bettany', u'Billy Bo...</td>\n",
       "      <td>1</td>\n",
       "    </tr>\n",
       "    <tr>\n",
       "      <th>977</th>\n",
       "      <td>7.4</td>\n",
       "      <td>Poltergeist</td>\n",
       "      <td>PG</td>\n",
       "      <td>Horror</td>\n",
       "      <td>114</td>\n",
       "      <td>[u'JoBeth Williams', u\"Heather O'Rourke\", u'Cr...</td>\n",
       "      <td>1</td>\n",
       "    </tr>\n",
       "    <tr>\n",
       "      <th>978</th>\n",
       "      <td>7.4</td>\n",
       "      <td>Wall Street</td>\n",
       "      <td>R</td>\n",
       "      <td>Crime</td>\n",
       "      <td>126</td>\n",
       "      <td>[u'Charlie Sheen', u'Michael Douglas', u'Tamar...</td>\n",
       "      <td>1</td>\n",
       "    </tr>\n",
       "  </tbody>\n",
       "</table>\n",
       "<p>979 rows × 7 columns</p>\n",
       "</div>"
      ],
      "text/plain": [
       "     star_rating                                            title  \\\n",
       "0            9.3                         The Shawshank Redemption   \n",
       "1            9.2                                    The Godfather   \n",
       "2            9.1                           The Godfather: Part II   \n",
       "3            9.0                                  The Dark Knight   \n",
       "4            8.9                                     Pulp Fiction   \n",
       "..           ...                                              ...   \n",
       "974          7.4                                          Tootsie   \n",
       "975          7.4                      Back to the Future Part III   \n",
       "976          7.4  Master and Commander: The Far Side of the World   \n",
       "977          7.4                                      Poltergeist   \n",
       "978          7.4                                      Wall Street   \n",
       "\n",
       "    content_rating      genre  duration  \\\n",
       "0                R      Crime       142   \n",
       "1                R      Crime       175   \n",
       "2                R      Crime       200   \n",
       "3            PG-13     Action       152   \n",
       "4                R      Crime       154   \n",
       "..             ...        ...       ...   \n",
       "974             PG     Comedy       116   \n",
       "975             PG  Adventure       118   \n",
       "976          PG-13     Action       138   \n",
       "977             PG     Horror       114   \n",
       "978              R      Crime       126   \n",
       "\n",
       "                                           actors_list  counter  \n",
       "0    [u'Tim Robbins', u'Morgan Freeman', u'Bob Gunt...        1  \n",
       "1      [u'Marlon Brando', u'Al Pacino', u'James Caan']        1  \n",
       "2    [u'Al Pacino', u'Robert De Niro', u'Robert Duv...        1  \n",
       "3    [u'Christian Bale', u'Heath Ledger', u'Aaron E...        1  \n",
       "4    [u'John Travolta', u'Uma Thurman', u'Samuel L....        1  \n",
       "..                                                 ...      ...  \n",
       "974  [u'Dustin Hoffman', u'Jessica Lange', u'Teri G...        1  \n",
       "975  [u'Michael J. Fox', u'Christopher Lloyd', u'Ma...        1  \n",
       "976  [u'Russell Crowe', u'Paul Bettany', u'Billy Bo...        1  \n",
       "977  [u'JoBeth Williams', u\"Heather O'Rourke\", u'Cr...        1  \n",
       "978  [u'Charlie Sheen', u'Michael Douglas', u'Tamar...        1  \n",
       "\n",
       "[979 rows x 7 columns]"
      ]
     },
     "execution_count": 9,
     "metadata": {},
     "output_type": "execute_result"
    }
   ],
   "source": [
    "# Answer:\n",
    "\n",
    "#Create a \"counter\" colum which I can use to agg later\n",
    "movies['counter'] = 1\n",
    "\n",
    "#confirm the new column\n",
    "movies"
   ]
  },
  {
   "cell_type": "code",
   "execution_count": 10,
   "metadata": {},
   "outputs": [
    {
     "data": {
      "text/plain": [
       "<bound method NDFrame.describe of           star_rating counter\n",
       "                 mean     sum\n",
       "genre                        \n",
       "Action       7.884559     136\n",
       "Adventure    7.933333      75\n",
       "Animation    7.914516      62\n",
       "Biography    7.862338      77\n",
       "Comedy       7.822436     156\n",
       "Crime        7.916935     124\n",
       "Drama        7.902518     278\n",
       "Family       7.850000       2\n",
       "Fantasy      7.700000       1\n",
       "Film-Noir    8.033333       3\n",
       "History      8.000000       1\n",
       "Horror       7.806897      29\n",
       "Mystery      7.975000      16\n",
       "Sci-Fi       7.920000       5\n",
       "Thriller     7.680000       5\n",
       "Western      8.255556       9>"
      ]
     },
     "execution_count": 10,
     "metadata": {},
     "output_type": "execute_result"
    }
   ],
   "source": [
    "# group by genre and then aggregate on the mean star_rating then sum the counter which I'll use to\n",
    "# determine if the genre has more than 10 movies in it.\n",
    "\n",
    "# This did everything I need except sort by the counter sum (and then add a head(10))\n",
    "# So I threw it into a new dataframe to work with below\n",
    "movies_sorted = movies.groupby(['genre']).agg({'star_rating': [np.mean], 'counter': [np.sum]})\n",
    "\n",
    "# check the results\n",
    "movies_sorted.describe"
   ]
  },
  {
   "cell_type": "code",
   "execution_count": 11,
   "metadata": {},
   "outputs": [
    {
     "ename": "KeyError",
     "evalue": "'c__'",
     "output_type": "error",
     "traceback": [
      "\u001b[1;31m---------------------------------------------------------------------------\u001b[0m",
      "\u001b[1;31mKeyError\u001b[0m                                  Traceback (most recent call last)",
      "\u001b[1;32m<ipython-input-11-3dadba7b44a8>\u001b[0m in \u001b[0;36m<module>\u001b[1;34m\u001b[0m\n\u001b[0;32m      5\u001b[0m \u001b[1;33m\u001b[0m\u001b[0m\n\u001b[0;32m      6\u001b[0m \u001b[1;31m# I could now sort the results by the \"counter sum\" column which was named \"c__\":\u001b[0m\u001b[1;33m\u001b[0m\u001b[1;33m\u001b[0m\u001b[1;33m\u001b[0m\u001b[0m\n\u001b[1;32m----> 7\u001b[1;33m \u001b[0mmovies_sorted\u001b[0m\u001b[1;33m.\u001b[0m\u001b[0msort_values\u001b[0m\u001b[1;33m(\u001b[0m\u001b[0mby\u001b[0m\u001b[1;33m=\u001b[0m\u001b[1;34m'c__'\u001b[0m\u001b[1;33m)\u001b[0m\u001b[1;33m.\u001b[0m\u001b[0mtail\u001b[0m\u001b[1;33m(\u001b[0m\u001b[1;36m10\u001b[0m\u001b[1;33m)\u001b[0m\u001b[1;33m\u001b[0m\u001b[1;33m\u001b[0m\u001b[0m\n\u001b[0m",
      "\u001b[1;32m~\\anaconda3\\lib\\site-packages\\pandas\\core\\frame.py\u001b[0m in \u001b[0;36msort_values\u001b[1;34m(self, by, axis, ascending, inplace, kind, na_position, ignore_index)\u001b[0m\n\u001b[0;32m   4925\u001b[0m \u001b[1;33m\u001b[0m\u001b[0m\n\u001b[0;32m   4926\u001b[0m             \u001b[0mby\u001b[0m \u001b[1;33m=\u001b[0m \u001b[0mby\u001b[0m\u001b[1;33m[\u001b[0m\u001b[1;36m0\u001b[0m\u001b[1;33m]\u001b[0m\u001b[1;33m\u001b[0m\u001b[1;33m\u001b[0m\u001b[0m\n\u001b[1;32m-> 4927\u001b[1;33m             \u001b[0mk\u001b[0m \u001b[1;33m=\u001b[0m \u001b[0mself\u001b[0m\u001b[1;33m.\u001b[0m\u001b[0m_get_label_or_level_values\u001b[0m\u001b[1;33m(\u001b[0m\u001b[0mby\u001b[0m\u001b[1;33m,\u001b[0m \u001b[0maxis\u001b[0m\u001b[1;33m=\u001b[0m\u001b[0maxis\u001b[0m\u001b[1;33m)\u001b[0m\u001b[1;33m\u001b[0m\u001b[1;33m\u001b[0m\u001b[0m\n\u001b[0m\u001b[0;32m   4928\u001b[0m \u001b[1;33m\u001b[0m\u001b[0m\n\u001b[0;32m   4929\u001b[0m             \u001b[1;32mif\u001b[0m \u001b[0misinstance\u001b[0m\u001b[1;33m(\u001b[0m\u001b[0mascending\u001b[0m\u001b[1;33m,\u001b[0m \u001b[1;33m(\u001b[0m\u001b[0mtuple\u001b[0m\u001b[1;33m,\u001b[0m \u001b[0mlist\u001b[0m\u001b[1;33m)\u001b[0m\u001b[1;33m)\u001b[0m\u001b[1;33m:\u001b[0m\u001b[1;33m\u001b[0m\u001b[1;33m\u001b[0m\u001b[0m\n",
      "\u001b[1;32m~\\anaconda3\\lib\\site-packages\\pandas\\core\\generic.py\u001b[0m in \u001b[0;36m_get_label_or_level_values\u001b[1;34m(self, key, axis)\u001b[0m\n\u001b[0;32m   1690\u001b[0m             \u001b[0mvalues\u001b[0m \u001b[1;33m=\u001b[0m \u001b[0mself\u001b[0m\u001b[1;33m.\u001b[0m\u001b[0maxes\u001b[0m\u001b[1;33m[\u001b[0m\u001b[0maxis\u001b[0m\u001b[1;33m]\u001b[0m\u001b[1;33m.\u001b[0m\u001b[0mget_level_values\u001b[0m\u001b[1;33m(\u001b[0m\u001b[0mkey\u001b[0m\u001b[1;33m)\u001b[0m\u001b[1;33m.\u001b[0m\u001b[0m_values\u001b[0m\u001b[1;33m\u001b[0m\u001b[1;33m\u001b[0m\u001b[0m\n\u001b[0;32m   1691\u001b[0m         \u001b[1;32melse\u001b[0m\u001b[1;33m:\u001b[0m\u001b[1;33m\u001b[0m\u001b[1;33m\u001b[0m\u001b[0m\n\u001b[1;32m-> 1692\u001b[1;33m             \u001b[1;32mraise\u001b[0m \u001b[0mKeyError\u001b[0m\u001b[1;33m(\u001b[0m\u001b[0mkey\u001b[0m\u001b[1;33m)\u001b[0m\u001b[1;33m\u001b[0m\u001b[1;33m\u001b[0m\u001b[0m\n\u001b[0m\u001b[0;32m   1693\u001b[0m \u001b[1;33m\u001b[0m\u001b[0m\n\u001b[0;32m   1694\u001b[0m         \u001b[1;31m# Check for duplicates\u001b[0m\u001b[1;33m\u001b[0m\u001b[1;33m\u001b[0m\u001b[1;33m\u001b[0m\u001b[0m\n",
      "\u001b[1;31mKeyError\u001b[0m: 'c__'"
     ]
    }
   ],
   "source": [
    "#Per Josh: So pandas has hierarchical indices in this case, which you have to flatten to sort \n",
    "#and index the way we are used to do doing:\n",
    "# Unsure what this is doing, but it allowed me to sort below\n",
    "movies_sorted.columns = pd.Index([e[0] + '_' + e[1] for e in movies_sorted.columns.tolist()])\n",
    "\n",
    "# I could now sort the results by the \"counter sum\" column which was named \"c__\":\n",
    "movies_sorted.sort_values(by='c__').tail(10)"
   ]
  },
  {
   "cell_type": "markdown",
   "metadata": {},
   "source": [
    "## Bonus"
   ]
  },
  {
   "cell_type": "markdown",
   "metadata": {
    "collapsed": true
   },
   "source": [
    "#### Figure out something \"interesting\" using the actors data!"
   ]
  },
  {
   "cell_type": "code",
   "execution_count": 12,
   "metadata": {},
   "outputs": [
    {
     "name": "stdout",
     "output_type": "stream",
     "text": [
      "     star_rating                     title content_rating  genre  duration  \\\n",
      "1            9.2             The Godfather              R  Crime       175   \n",
      "51           8.5            Apocalypse Now              R  Drama       153   \n",
      "122          8.3         On the Waterfront      NOT RATED  Crime       108   \n",
      "284          8.1  A Streetcar Named Desire             PG  Drama       122   \n",
      "\n",
      "                                           actors_list  counter  \n",
      "1      [u'Marlon Brando', u'Al Pacino', u'James Caan']        1  \n",
      "51   [u'Martin Sheen', u'Marlon Brando', u'Robert D...        1  \n",
      "122  [u'Marlon Brando', u'Karl Malden', u'Lee J. Co...        1  \n",
      "284  [u'Vivien Leigh', u'Marlon Brando', u'Kim Hunt...        1  \n"
     ]
    }
   ],
   "source": [
    "# One way to filter the actors_list column\n",
    "# Just doing some data exploration.  What movies per actor showed up using mask\n",
    "\n",
    "mask = movies.actors_list.apply(lambda x: 'Marlon Brando' in x)\n",
    "df1 = movies[mask]\n",
    "print (df1)\n",
    "\n",
    "#Another way to search the actors_list\n",
    "#movies[movies['actors_list'].str.contains('Julianne')]\n",
    "\n",
    "#movies.query('actors_list.str.contains(\"Walken\")', engine='python')"
   ]
  },
  {
   "cell_type": "code",
   "execution_count": 30,
   "metadata": {},
   "outputs": [
    {
     "name": "stdout",
     "output_type": "stream",
     "text": [
      "['u', \"'\", 'T', 'i', 'm', ' ', 'R', 'o', 'b', 'b', 'i', 'n', 's', \"'\", ',', ' ', 'u', \"'\", 'M', 'o', 'r', 'g', 'a', 'n', ' ', 'F', 'r', 'e', 'e', 'm', 'a', 'n', \"'\", ',', ' ', 'u', \"'\", 'B', 'o', 'b', ' ', 'G', 'u', 'n', 't', 'o', 'n', \"'\", 'u', \"'\", 'M', 'a', 'r', 'l', 'o', 'n', ' ', 'B', 'r', 'a', 'n', 'd', 'o', \"'\", ',', ' ', 'u', \"'\", 'A', 'l', ' ', 'P', 'a', 'c', 'i', 'n', 'o', \"'\", ',', ' ', 'u', \"'\", 'J', 'a', 'm', 'e', 's', ' ', 'C', 'a', 'a', 'n', \"'\", 'u', \"'\", 'A', 'l', ' ', 'P', 'a', 'c', 'i', 'n', 'o', \"'\", ',', ' ', 'u', \"'\", 'R', 'o', 'b', 'e', 'r', 't', ' ', 'D', 'e', ' ', 'N', 'i', 'r', 'o', \"'\", ',', ' ', 'u', \"'\", 'R', 'o', 'b', 'e', 'r', 't', ' ', 'D', 'u', 'v', 'a', 'l', 'l', \"'\", 'u', \"'\", 'C', 'h', 'r', 'i', 's', 't', 'i', 'a', 'n', ' ', 'B', 'a', 'l', 'e', \"'\", ',', ' ', 'u', \"'\", 'H', 'e', 'a', 't', 'h', ' ', 'L', 'e', 'd', 'g', 'e', 'r', \"'\", ',', ' ', 'u', \"'\", 'A', 'a', 'r', 'o', 'n', ' ', 'E', 'c', 'k', 'h', 'a', 'r', 't', \"'\", 'u', \"'\", 'J', 'o', 'h', 'n', ' ', 'T', 'r', 'a', 'v', 'o', 'l', 't', 'a', \"'\", ',', ' ', 'u', \"'\", 'U', 'm', 'a', ' ', 'T', 'h', 'u', 'r', 'm', 'a', 'n', \"'\", ',', ' ', 'u', \"'\", 'S', 'a', 'm', 'u', 'e', 'l', ' ', 'L', '.', ' ', 'J', 'a', 'c', 'k', 's', 'o', 'n', \"'\", 'u', \"'\", 'H', 'e', 'n', 'r', 'y', ' ', 'F', 'o', 'n', 'd', 'a', \"'\", ',', ' ', 'u', \"'\", 'L', 'e', 'e', ' ', 'J', '.', ' ', 'C', 'o', 'b', 'b', \"'\", ',', ' ', 'u', \"'\", 'M', 'a', 'r', 't', 'i', 'n', ' ', 'B', 'a', 'l', 's', 'a', 'm', \"'\", 'u', \"'\", 'C', 'l', 'i', 'n', 't', ' ', 'E', 'a', 's', 't', 'w', 'o', 'o', 'd', \"'\", ',', ' ', 'u', \"'\", 'E', 'l', 'i', ' ', 'W', 'a', 'l', 'l', 'a', 'c', 'h', \"'\", ',', ' ', 'u', \"'\", 'L', 'e', 'e', ' ', 'V', 'a', 'n', ' ', 'C', 'l', 'e', 'e', 'f', \"'\", 'u', \"'\", 'E', 'l', 'i', 'j', 'a', 'h', ' ', 'W', 'o', 'o', 'd', \"'\", ',', ' ', 'u', \"'\", 'V', 'i', 'g', 'g', 'o', ' ', 'M', 'o', 'r', 't', 'e', 'n', 's', 'e', 'n', \"'\", ',', ' ', 'u', \"'\", 'I', 'a', 'n', ' ', 'M', 'c', 'K', 'e', 'l', 'l', 'e', 'n', \"'\", 'u', \"'\", 'L', 'i', 'a', 'm', ' ', 'N', 'e', 'e', 's', 'o', 'n', \"'\", ',', ' ', 'u', \"'\", 'R', 'a', 'l', 'p', 'h', ' ', 'F', 'i', 'e', 'n', 'n', 'e', 's', \"'\", ',', ' ', 'u', \"'\", 'B', 'e', 'n', ' ', 'K', 'i', 'n', 'g', 's', 'l', 'e', 'y', \"'\", 'u', \"'\", 'B', 'r', 'a', 'd', ' ', 'P', 'i', 't', 't', \"'\", ',', ' ', 'u', \"'\", 'E', 'd', 'w', 'a', 'r', 'd', ' ', 'N', 'o', 'r', 't', 'o', 'n', \"'\", ',', ' ', 'u', \"'\", 'H', 'e', 'l', 'e', 'n', 'a', ' ', 'B', 'o', 'n', 'h', 'a', 'm', ' ', 'C', 'a', 'r', 't', 'e', 'r', \"'\", 'u', \"'\", 'E', 'l', 'i', 'j', 'a', 'h', ' ', 'W', 'o', 'o', 'd', \"'\", ',', ' ', 'u', \"'\", 'I', 'a', 'n', ' ', 'M', 'c', 'K', 'e', 'l', 'l', 'e', 'n', \"'\", ',', ' ', 'u', \"'\", 'O', 'r', 'l', 'a', 'n', 'd', 'o', ' ', 'B', 'l', 'o', 'o', 'm', \"'\", 'u', \"'\", 'L', 'e', 'o', 'n', 'a', 'r', 'd', 'o', ' ', 'D', 'i', 'C', 'a', 'p', 'r', 'i', 'o', \"'\", ',', ' ', 'u', \"'\", 'J', 'o', 's', 'e', 'p', 'h', ' ', 'G', 'o', 'r', 'd', 'o', 'n', '-', 'L', 'e', 'v', 'i', 't', 't', \"'\", ',', ' ', 'u', \"'\", 'E', 'l', 'l', 'e', 'n', ' ', 'P', 'a', 'g', 'e', \"'\", 'u', \"'\", 'M', 'a', 'r', 'k', ' ', 'H', 'a', 'm', 'i', 'l', 'l', \"'\", ',', ' ', 'u', \"'\", 'H', 'a', 'r', 'r', 'i', 's', 'o', 'n', ' ', 'F', 'o', 'r', 'd', \"'\", ',', ' ', 'u', \"'\", 'C', 'a', 'r', 'r', 'i', 'e', ' ', 'F', 'i', 's', 'h', 'e', 'r', \"'\", 'u', \"'\", 'T', 'o', 'm', ' ', 'H', 'a', 'n', 'k', 's', \"'\", ',', ' ', 'u', \"'\", 'R', 'o', 'b', 'i', 'n', ' ', 'W', 'r', 'i', 'g', 'h', 't', \"'\", ',', ' ', 'u', \"'\", 'G', 'a', 'r', 'y', ' ', 'S', 'i', 'n', 'i', 's', 'e', \"'\", 'u', \"'\", 'E', 'l', 'i', 'j', 'a', 'h', ' ', 'W', 'o', 'o', 'd', \"'\", ',', ' ', 'u', \"'\", 'I', 'a', 'n', ' ', 'M', 'c', 'K', 'e', 'l', 'l', 'e', 'n', \"'\", ',', ' ', 'u', \"'\", 'V', 'i', 'g', 'g', 'o', ' ', 'M', 'o', 'r', 't', 'e', 'n', 's', 'e', 'n', \"'\", 'u', \"'\", 'M', 'a', 't', 't', 'h', 'e', 'w', ' ', 'M', 'c', 'C', 'o', 'n', 'a', 'u', 'g', 'h', 'e', 'y', \"'\", ',', ' ', 'u', \"'\", 'A', 'n', 'n', 'e', ' ', 'H', 'a', 't', 'h', 'a', 'w', 'a', 'y', \"'\", ',', ' ', 'u', \"'\", 'J', 'e', 's', 's', 'i', 'c', 'a', ' ', 'C', 'h', 'a', 's', 't', 'a', 'i', 'n', \"'\", 'u', \"'\", 'J', 'a', 'c', 'k', ' ', 'N', 'i', 'c', 'h', 'o', 'l', 's', 'o', 'n', \"'\", ',', ' ', 'u', \"'\", 'L', 'o', 'u', 'i', 's', 'e', ' ', 'F', 'l', 'e', 't', 'c', 'h', 'e', 'r', \"'\", ',', ' ', 'u', \"'\", 'M', 'i', 'c', 'h', 'a', 'e', 'l', ' ', 'B', 'e', 'r', 'r', 'y', 'm', 'a', 'n', \"'\", 'u', \"'\", 'T', 'o', 's', 'h', 'i', 'r', '\\\\', 'x', 'f', '4', ' ', 'M', 'i', 'f', 'u', 'n', 'e', \"'\", ',', ' ', 'u', \"'\", 'T', 'a', 'k', 'a', 's', 'h', 'i', ' ', 'S', 'h', 'i', 'm', 'u', 'r', 'a', \"'\", ',', ' ', 'u', \"'\", 'K', 'e', 'i', 'k', 'o', ' ', 'T', 's', 'u', 's', 'h', 'i', 'm', 'a', \"'\", 'u', \"'\", 'R', 'o', 'b', 'e', 'r', 't', ' ', 'D', 'e', ' ', 'N', 'i', 'r', 'o', \"'\", ',', ' ', 'u', \"'\", 'R', 'a', 'y', ' ', 'L', 'i', 'o', 't', 't', 'a', \"'\", ',', ' ', 'u', \"'\", 'J', 'o', 'e', ' ', 'P', 'e', 's', 'c', 'i', \"'\", 'u', \"'\", 'M', 'a', 'r', 'k', ' ', 'H', 'a', 'm', 'i', 'l', 'l', \"'\", ',', ' ', 'u', \"'\", 'H', 'a', 'r', 'r', 'i', 's', 'o', 'n', ' ', 'F', 'o', 'r', 'd', \"'\", ',', ' ', 'u', \"'\", 'C', 'a', 'r', 'r', 'i', 'e', ' ', 'F', 'i', 's', 'h', 'e', 'r', \"'\", 'u', \"'\", 'K', 'e', 'a', 'n', 'u', ' ', 'R', 'e', 'e', 'v', 'e', 's', \"'\", ',', ' ', 'u', \"'\", 'L', 'a', 'u', 'r', 'e', 'n', 'c', 'e', ' ', 'F', 'i', 's', 'h', 'b', 'u', 'r', 'n', 'e', \"'\", ',', ' ', 'u', \"'\", 'C', 'a', 'r', 'r', 'i', 'e', '-', 'A', 'n', 'n', 'e', ' ', 'M', 'o', 's', 's', \"'\", 'u', \"'\", 'A', 'l', 'e', 'x', 'a', 'n', 'd', 'r', 'e', ' ', 'R', 'o', 'd', 'r', 'i', 'g', 'u', 'e', 's', \"'\", ',', ' ', 'u', \"'\", 'M', 'a', 't', 'h', 'e', 'u', 's', ' ', 'N', 'a', 'c', 'h', 't', 'e', 'r', 'g', 'a', 'e', 'l', 'e', \"'\", ',', ' ', 'u', \"'\", 'L', 'e', 'a', 'n', 'd', 'r', 'o', ' ', 'F', 'i', 'r', 'm', 'i', 'n', 'o', \"'\", 'u', \"'\", 'J', 'a', 'm', 'e', 's', ' ', 'S', 't', 'e', 'w', 'a', 'r', 't', \"'\", ',', ' ', 'u', \"'\", 'D', 'o', 'n', 'n', 'a', ' ', 'R', 'e', 'e', 'd', \"'\", ',', ' ', 'u', \"'\", 'L', 'i', 'o', 'n', 'e', 'l', ' ', 'B', 'a', 'r', 'r', 'y', 'm', 'o', 'r', 'e', \"'\", 'u', \"'\", 'K', 'e', 'v', 'i', 'n', ' ', 'S', 'p', 'a', 'c', 'e', 'y', \"'\", ',', ' ', 'u', \"'\", 'G', 'a', 'b', 'r', 'i', 'e', 'l', ' ', 'B', 'y', 'r', 'n', 'e', \"'\", ',', ' ', 'u', \"'\", 'C', 'h', 'a', 'z', 'z', ' ', 'P', 'a', 'l', 'm', 'i', 'n', 't', 'e', 'r', 'i', \"'\", 'u', \"'\", 'M', 'o', 'r', 'g', 'a', 'n', ' ', 'F', 'r', 'e', 'e', 'm', 'a', 'n', \"'\", ',', ' ', 'u', \"'\", 'B', 'r', 'a', 'd', ' ', 'P', 'i', 't', 't', \"'\", ',', ' ', 'u', \"'\", 'K', 'e', 'v', 'i', 'n', ' ', 'S', 'p', 'a', 'c', 'e', 'y', \"'\", 'u', \"'\", 'R', 'o', 'b', 'e', 'r', 't', 'o', ' ', 'B', 'e', 'n', 'i', 'g', 'n', 'i', \"'\", ',', ' ', 'u', \"'\", 'N', 'i', 'c', 'o', 'l', 'e', 't', 't', 'a', ' ', 'B', 'r', 'a', 's', 'c', 'h', 'i', \"'\", ',', ' ', 'u', \"'\", 'G', 'i', 'o', 'r', 'g', 'i', 'o', ' ', 'C', 'a', 'n', 't', 'a', 'r', 'i', 'n', 'i', \"'\", 'u', \"'\", 'H', 'e', 'n', 'r', 'y', ' ', 'F', 'o', 'n', 'd', 'a', \"'\", ',', ' ', 'u', \"'\", 'C', 'h', 'a', 'r', 'l', 'e', 's', ' ', 'B', 'r', 'o', 'n', 's', 'o', 'n', \"'\", ',', ' ', 'u', \"'\", 'C', 'l', 'a', 'u', 'd', 'i', 'a', ' ', 'C', 'a', 'r', 'd', 'i', 'n', 'a', 'l', 'e', \"'\", 'u', \"'\", 'J', 'o', 'd', 'i', 'e', ' ', 'F', 'o', 's', 't', 'e', 'r', \"'\", ',', ' ', 'u', \"'\", 'A', 'n', 't', 'h', 'o', 'n', 'y', ' ', 'H', 'o', 'p', 'k', 'i', 'n', 's', \"'\", ',', ' ', 'u', \"'\", 'L', 'a', 'w', 'r', 'e', 'n', 'c', 'e', ' ', 'A', '.', ' ', 'B', 'o', 'n', 'n', 'e', 'y', \"'\", 'u', \"'\", 'J', 'e', 'a', 'n', ' ', 'R', 'e', 'n', 'o', \"'\", ',', ' ', 'u', \"'\", 'G', 'a', 'r', 'y', ' ', 'O', 'l', 'd', 'm', 'a', 'n', \"'\", ',', ' ', 'u', \"'\", 'N', 'a', 't', 'a', 'l', 'i', 'e', ' ', 'P', 'o', 'r', 't', 'm', 'a', 'n', \"'\", 'u', \"'\", 'C', 'h', 'a', 'r', 'l', 'e', 's', ' ', 'C', 'h', 'a', 'p', 'l', 'i', 'n', \"'\", ',', ' ', 'u', \"'\", 'V', 'i', 'r', 'g', 'i', 'n', 'i', 'a', ' ', 'C', 'h', 'e', 'r', 'r', 'i', 'l', 'l', \"'\", ',', ' ', 'u', \"'\", 'F', 'l', 'o', 'r', 'e', 'n', 'c', 'e', ' ', 'L', 'e', 'e', \"'\", 'u', \"'\", 'D', 'a', 'v', 'e', 'i', 'g', 'h', ' ', 'C', 'h', 'a', 's', 'e', \"'\", ',', ' ', 'u', \"'\", 'S', 'u', 'z', 'a', 'n', 'n', 'e', ' ', 'P', 'l', 'e', 's', 'h', 'e', 't', 't', 'e', \"'\", ',', ' ', 'u', \"'\", 'M', 'i', 'y', 'u', ' ', 'I', 'r', 'i', 'n', 'o', \"'\", 'u', \"'\", 'F', 'r', 'a', 'n', '\\\\', 'x', 'e', '7', 'o', 'i', 's', ' ', 'C', 'l', 'u', 'z', 'e', 't', \"'\", ',', ' ', 'u', \"'\", 'O', 'm', 'a', 'r', ' ', 'S', 'y', \"'\", ',', ' ', 'u', \"'\", 'A', 'n', 'n', 'e', ' ', 'L', 'e', ' ', 'N', 'y', \"'\", 'u', \"'\", 'H', 'u', 'm', 'p', 'h', 'r', 'e', 'y', ' ', 'B', 'o', 'g', 'a', 'r', 't', \"'\", ',', ' ', 'u', \"'\", 'I', 'n', 'g', 'r', 'i', 'd', ' ', 'B', 'e', 'r', 'g', 'm', 'a', 'n', \"'\", ',', ' ', 'u', \"'\", 'P', 'a', 'u', 'l', ' ', 'H', 'e', 'n', 'r', 'e', 'i', 'd', \"'\", 'u', \"'\", 'M', 'i', 'l', 'e', 's', ' ', 'T', 'e', 'l', 'l', 'e', 'r', \"'\", ',', ' ', 'u', \"'\", 'J', '.', 'K', '.', ' ', 'S', 'i', 'm', 'm', 'o', 'n', 's', \"'\", ',', ' ', 'u', \"'\", 'M', 'e', 'l', 'i', 's', 's', 'a', ' ', 'B', 'e', 'n', 'o', 'i', 's', 't', \"'\", 'u', \"'\", 'E', 'd', 'w', 'a', 'r', 'd', ' ', 'N', 'o', 'r', 't', 'o', 'n', \"'\", ',', ' ', 'u', \"'\", 'E', 'd', 'w', 'a', 'r', 'd', ' ', 'F', 'u', 'r', 'l', 'o', 'n', 'g', \"'\", ',', ' ', 'u', '\"', 'B', 'e', 'v', 'e', 'r', 'l', 'y', ' ', 'D', \"'\", 'A', 'n', 'g', 'e', 'l', 'o', '\"', 'u', \"'\", 'C', 'h', 'a', 'r', 'l', 'e', 's', ' ', 'C', 'h', 'a', 'p', 'l', 'i', 'n', \"'\", ',', ' ', 'u', \"'\", 'P', 'a', 'u', 'l', 'e', 't', 't', 'e', ' ', 'G', 'o', 'd', 'd', 'a', 'r', 'd', \"'\", ',', ' ', 'u', \"'\", 'H', 'e', 'n', 'r', 'y', ' ', 'B', 'e', 'r', 'g', 'm', 'a', 'n', \"'\", 'u', \"'\", 'T', 'o', 'm', ' ', 'H', 'a', 'n', 'k', 's', \"'\", ',', ' ', 'u', \"'\", 'M', 'a', 't', 't', ' ', 'D', 'a', 'm', 'o', 'n', \"'\", ',', ' ', 'u', \"'\", 'T', 'o', 'm', ' ', 'S', 'i', 'z', 'e', 'm', 'o', 'r', 'e', \"'\", 'u', \"'\", 'H', 'a', 'r', 'r', 'i', 's', 'o', 'n', ' ', 'F', 'o', 'r', 'd', \"'\", ',', ' ', 'u', \"'\", 'K', 'a', 'r', 'e', 'n', ' ', 'A', 'l', 'l', 'e', 'n', \"'\", ',', ' ', 'u', \"'\", 'P', 'a', 'u', 'l', ' ', 'F', 'r', 'e', 'e', 'm', 'a', 'n', \"'\", 'u', \"'\", 'J', 'a', 'm', 'e', 's', ' ', 'S', 't', 'e', 'w', 'a', 'r', 't', \"'\", ',', ' ', 'u', \"'\", 'G', 'r', 'a', 'c', 'e', ' ', 'K', 'e', 'l', 'l', 'y', \"'\", ',', ' ', 'u', \"'\", 'W', 'e', 'n', 'd', 'e', 'l', 'l', ' ', 'C', 'o', 'r', 'e', 'y', \"'\", 'u', \"'\", 'A', 'n', 't', 'h', 'o', 'n', 'y', ' ', 'P', 'e', 'r', 'k', 'i', 'n', 's', \"'\", ',', ' ', 'u', \"'\", 'J', 'a', 'n', 'e', 't', ' ', 'L', 'e', 'i', 'g', 'h', \"'\", ',', ' ', 'u', \"'\", 'V', 'e', 'r', 'a', ' ', 'M', 'i', 'l', 'e', 's', \"'\", 'u', \"'\", 'T', 'o', 'm', ' ', 'H', 'a', 'n', 'k', 's', \"'\", ',', ' ', 'u', \"'\", 'M', 'i', 'c', 'h', 'a', 'e', 'l', ' ', 'C', 'l', 'a', 'r', 'k', 'e', ' ', 'D', 'u', 'n', 'c', 'a', 'n', \"'\", ',', ' ', 'u', \"'\", 'D', 'a', 'v', 'i', 'd', ' ', 'M', 'o', 'r', 's', 'e', \"'\", 'u', \"'\", 'W', 'i', 'l', 'l', 'i', 'a', 'm', ' ', 'H', 'o', 'l', 'd', 'e', 'n', \"'\", ',', ' ', 'u', \"'\", 'G', 'l', 'o', 'r', 'i', 'a', ' ', 'S', 'w', 'a', 'n', 's', 'o', 'n', \"'\", ',', ' ', 'u', \"'\", 'E', 'r', 'i', 'c', 'h', ' ', 'v', 'o', 'n', ' ', 'S', 't', 'r', 'o', 'h', 'e', 'i', 'm', \"'\", 'u', \"'\", 'A', 'd', 'r', 'i', 'e', 'n', ' ', 'B', 'r', 'o', 'd', 'y', \"'\", ',', ' ', 'u', \"'\", 'T', 'h', 'o', 'm', 'a', 's', ' ', 'K', 'r', 'e', 't', 's', 'c', 'h', 'm', 'a', 'n', 'n', \"'\", ',', ' ', 'u', \"'\", 'F', 'r', 'a', 'n', 'k', ' ', 'F', 'i', 'n', 'l', 'a', 'y', \"'\", 'u', \"'\", 'C', 'h', 'r', 'i', 's', 't', 'i', 'a', 'n', ' ', 'B', 'a', 'l', 'e', \"'\", ',', ' ', 'u', \"'\", 'T', 'o', 'm', ' ', 'H', 'a', 'r', 'd', 'y', \"'\", ',', ' ', 'u', \"'\", 'A', 'n', 'n', 'e', ' ', 'H', 'a', 't', 'h', 'a', 'w', 'a', 'y', \"'\", 'u', \"'\", 'R', 'u', 's', 's', 'e', 'l', 'l', ' ', 'C', 'r', 'o', 'w', 'e', \"'\", ',', ' ', 'u', \"'\", 'J', 'o', 'a', 'q', 'u', 'i', 'n', ' ', 'P', 'h', 'o', 'e', 'n', 'i', 'x', \"'\", ',', ' ', 'u', \"'\", 'C', 'o', 'n', 'n', 'i', 'e', ' ', 'N', 'i', 'e', 'l', 's', 'e', 'n', \"'\", 'u', \"'\", 'A', 'r', 'n', 'o', 'l', 'd', ' ', 'S', 'c', 'h', 'w', 'a', 'r', 'z', 'e', 'n', 'e', 'g', 'g', 'e', 'r', \"'\", ',', ' ', 'u', \"'\", 'L', 'i', 'n', 'd', 'a', ' ', 'H', 'a', 'm', 'i', 'l', 't', 'o', 'n', \"'\", ',', ' ', 'u', \"'\", 'E', 'd', 'w', 'a', 'r', 'd', ' ', 'F', 'u', 'r', 'l', 'o', 'n', 'g', \"'\", 'u', \"'\", 'G', 'u', 'y', ' ', 'P', 'e', 'a', 'r', 'c', 'e', \"'\", ',', ' ', 'u', \"'\", 'C', 'a', 'r', 'r', 'i', 'e', '-', 'A', 'n', 'n', 'e', ' ', 'M', 'o', 's', 's', \"'\", ',', ' ', 'u', \"'\", 'J', 'o', 'e', ' ', 'P', 'a', 'n', 't', 'o', 'l', 'i', 'a', 'n', 'o', \"'\", 'u', \"'\", 'D', 'a', 'r', 's', 'h', 'e', 'e', 'l', ' ', 'S', 'a', 'f', 'a', 'r', 'y', \"'\", ',', ' ', 'u', \"'\", 'A', 'a', 'm', 'i', 'r', ' ', 'K', 'h', 'a', 'n', \"'\", ',', ' ', 'u', \"'\", 'T', 'a', 'n', 'a', 'y', ' ', 'C', 'h', 'h', 'e', 'd', 'a', \"'\", 'u', \"'\", 'P', 'e', 't', 'e', 'r', ' ', 'S', 'e', 'l', 'l', 'e', 'r', 's', \"'\", ',', ' ', 'u', \"'\", 'G', 'e', 'o', 'r', 'g', 'e', ' ', 'C', '.', ' ', 'S', 'c', 'o', 't', 't', \"'\", ',', ' ', 'u', \"'\", 'S', 't', 'e', 'r', 'l', 'i', 'n', 'g', ' ', 'H', 'a', 'y', 'd', 'e', 'n', \"'\", 'u', \"'\", 'L', 'e', 'o', 'n', 'a', 'r', 'd', 'o', ' ', 'D', 'i', 'C', 'a', 'p', 'r', 'i', 'o', \"'\", ',', ' ', 'u', \"'\", 'M', 'a', 't', 't', ' ', 'D', 'a', 'm', 'o', 'n', \"'\", ',', ' ', 'u', \"'\", 'J', 'a', 'c', 'k', ' ', 'N', 'i', 'c', 'h', 'o', 'l', 's', 'o', 'n', \"'\", 'u', \"'\", 'P', 'h', 'i', 'l', 'i', 'p', 'p', 'e', ' ', 'N', 'o', 'i', 'r', 'e', 't', \"'\", ',', ' ', 'u', \"'\", 'E', 'n', 'z', 'o', ' ', 'C', 'a', 'n', 'n', 'a', 'v', 'a', 'l', 'e', \"'\", ',', ' ', 'u', \"'\", 'A', 'n', 't', 'o', 'n', 'e', 'l', 'l', 'a', ' ', 'A', 't', 't', 'i', 'l', 'i', \"'\", 'u', \"'\", 'M', 'a', 'r', 't', 'i', 'n', ' ', 'S', 'h', 'e', 'e', 'n', \"'\", ',', ' ', 'u', \"'\", 'M', 'a', 'r', 'l', 'o', 'n', ' ', 'B', 'r', 'a', 'n', 'd', 'o', \"'\", ',', ' ', 'u', \"'\", 'R', 'o', 'b', 'e', 'r', 't', ' ', 'D', 'u', 'v', 'a', 'l', 'l', \"'\", 'u', \"'\", 'C', 'h', 'a', 'r', 'l', 'e', 's', ' ', 'C', 'h', 'a', 'p', 'l', 'i', 'n', \"'\", ',', ' ', 'u', \"'\", 'P', 'a', 'u', 'l', 'e', 't', 't', 'e', ' ', 'G', 'o', 'd', 'd', 'a', 'r', 'd', \"'\", ',', ' ', 'u', \"'\", 'J', 'a', 'c', 'k', ' ', 'O', 'a', 'k', 'i', 'e', \"'\", 'u', \"'\", 'C', 'h', 'r', 'i', 's', 't', 'i', 'a', 'n', ' ', 'B', 'a', 'l', 'e', \"'\", ',', ' ', 'u', \"'\", 'H', 'u', 'g', 'h', ' ', 'J', 'a', 'c', 'k', 'm', 'a', 'n', \"'\", ',', ' ', 'u', \"'\", 'S', 'c', 'a', 'r', 'l', 'e', 't', 't', ' ', 'J', 'o', 'h', 'a', 'n', 's', 's', 'o', 'n', \"'\", 'u', \"'\", 'M', 'i', 'c', 'h', 'a', 'e', 'l', ' ', 'J', '.', ' ', 'F', 'o', 'x', \"'\", ',', ' ', 'u', \"'\", 'C', 'h', 'r', 'i', 's', 't', 'o', 'p', 'h', 'e', 'r', ' ', 'L', 'l', 'o', 'y', 'd', \"'\", ',', ' ', 'u', \"'\", 'L', 'e', 'a', ' ', 'T', 'h', 'o', 'm', 'p', 's', 'o', 'n', \"'\", 'u', \"'\", 'M', 'a', 't', 't', 'h', 'e', 'w', ' ', 'B', 'r', 'o', 'd', 'e', 'r', 'i', 'c', 'k', \"'\", ',', ' ', 'u', \"'\", 'J', 'e', 'r', 'e', 'm', 'y', ' ', 'I', 'r', 'o', 'n', 's', \"'\", ',', ' ', 'u', \"'\", 'J', 'a', 'm', 'e', 's', ' ', 'E', 'a', 'r', 'l', ' ', 'J', 'o', 'n', 'e', 's', \"'\", 'u', \"'\", 'U', 'l', 'r', 'i', 'c', 'h', ' ', 'M', '\\\\', 'x', 'f', 'c', 'h', 'e', \"'\", ',', ' ', 'u', \"'\", 'M', 'a', 'r', 't', 'i', 'n', 'a', ' ', 'G', 'e', 'd', 'e', 'c', 'k', \"'\", ',', ' ', 'u', \"'\", 'S', 'e', 'b', 'a', 's', 't', 'i', 'a', 'n', ' ', 'K', 'o', 'c', 'h', \"'\", 'u', \"'\", 'S', 'i', 'g', 'o', 'u', 'r', 'n', 'e', 'y', ' ', 'W', 'e', 'a', 'v', 'e', 'r', \"'\", ',', ' ', 'u', \"'\", 'T', 'o', 'm', ' ', 'S', 'k', 'e', 'r', 'r', 'i', 't', 't', \"'\", ',', ' ', 'u', \"'\", 'J', 'o', 'h', 'n', ' ', 'H', 'u', 'r', 't', \"'\", 'u', \"'\", 'K', 'i', 'r', 'k', ' ', 'D', 'o', 'u', 'g', 'l', 'a', 's', \"'\", ',', ' ', 'u', \"'\", 'R', 'a', 'l', 'p', 'h', ' ', 'M', 'e', 'e', 'k', 'e', 'r', \"'\", ',', ' ', 'u', \"'\", 'A', 'd', 'o', 'l', 'p', 'h', 'e', ' ', 'M', 'e', 'n', 'j', 'o', 'u', \"'\", 'u', \"'\", 'J', 'a', 'm', 'i', 'e', ' ', 'F', 'o', 'x', 'x', \"'\", ',', ' ', 'u', \"'\", 'C', 'h', 'r', 'i', 's', 't', 'o', 'p', 'h', ' ', 'W', 'a', 'l', 't', 'z', \"'\", ',', ' ', 'u', \"'\", 'L', 'e', 'o', 'n', 'a', 'r', 'd', 'o', ' ', 'D', 'i', 'C', 'a', 'p', 'r', 'i', 'o', \"'\", 'u', \"'\", 'A', 'a', 'm', 'i', 'r', ' ', 'K', 'h', 'a', 'n', \"'\", ',', ' ', 'u', \"'\", 'M', 'a', 'd', 'h', 'a', 'v', 'a', 'n', \"'\", ',', ' ', 'u', \"'\", 'M', 'o', 'n', 'a', ' ', 'S', 'i', 'n', 'g', 'h', \"'\", 'u', \"'\", 'T', 's', 'u', 't', 'o', 'm', 'u', ' ', 'T', 'a', 't', 's', 'u', 'm', 'i', \"'\", ',', ' ', 'u', \"'\", 'A', 'y', 'a', 'n', 'o', ' ', 'S', 'h', 'i', 'r', 'a', 'i', 's', 'h', 'i', \"'\", ',', ' ', 'u', \"'\", 'A', 'k', 'e', 'm', 'i', ' ', 'Y', 'a', 'm', 'a', 'g', 'u', 'c', 'h', 'i', \"'\", 'u', \"'\", 'J', 'a', 'c', 'k', ' ', 'N', 'i', 'c', 'h', 'o', 'l', 's', 'o', 'n', \"'\", ',', ' ', 'u', \"'\", 'S', 'h', 'e', 'l', 'l', 'e', 'y', ' ', 'D', 'u', 'v', 'a', 'l', 'l', \"'\", ',', ' ', 'u', \"'\", 'D', 'a', 'n', 'n', 'y', ' ', 'L', 'l', 'o', 'y', 'd', \"'\", 'u', \"'\", 'P', 'e', 't', 'e', 'r', ' ', 'L', 'o', 'r', 'r', 'e', \"'\", ',', ' ', 'u', \"'\", 'E', 'l', 'l', 'e', 'n', ' ', 'W', 'i', 'd', 'm', 'a', 'n', 'n', \"'\", ',', ' ', 'u', \"'\", 'I', 'n', 'g', 'e', ' ', 'L', 'a', 'n', 'd', 'g', 'u', 't', \"'\", 'u', \"'\", 'B', 'e', 'n', ' ', 'B', 'u', 'r', 't', 't', \"'\", ',', ' ', 'u', \"'\", 'E', 'l', 'i', 's', 's', 'a', ' ', 'K', 'n', 'i', 'g', 'h', 't', \"'\", ',', ' ', 'u', \"'\", 'J', 'e', 'f', 'f', ' ', 'G', 'a', 'r', 'l', 'i', 'n', \"'\", 'u', \"'\", 'T', 'y', 'r', 'o', 'n', 'e', ' ', 'P', 'o', 'w', 'e', 'r', \"'\", ',', ' ', 'u', \"'\", 'M', 'a', 'r', 'l', 'e', 'n', 'e', ' ', 'D', 'i', 'e', 't', 'r', 'i', 'c', 'h', \"'\", ',', ' ', 'u', \"'\", 'C', 'h', 'a', 'r', 'l', 'e', 's', ' ', 'L', 'a', 'u', 'g', 'h', 't', 'o', 'n', \"'\", 'u', \"'\", 'S', 'u', 'n', 'i', 'l', ' ', 'D', 'u', 't', 't', \"'\", ',', ' ', 'u', \"'\", 'S', 'a', 'n', 'j', 'a', 'y', ' ', 'D', 'u', 't', 't', \"'\", ',', ' ', 'u', \"'\", 'A', 'r', 's', 'h', 'a', 'd', ' ', 'W', 'a', 'r', 's', 'i', \"'\", 'u', \"'\", 'K', 'e', 'v', 'i', 'n', ' ', 'S', 'p', 'a', 'c', 'e', 'y', \"'\", ',', ' ', 'u', \"'\", 'A', 'n', 'n', 'e', 't', 't', 'e', ' ', 'B', 'e', 'n', 'i', 'n', 'g', \"'\", ',', ' ', 'u', \"'\", 'T', 'h', 'o', 'r', 'a', ' ', 'B', 'i', 'r', 'c', 'h', \"'\", 'u', \"'\", 'J', '\\\\', 'x', 'f', 'c', 'r', 'g', 'e', 'n', ' ', 'P', 'r', 'o', 'c', 'h', 'n', 'o', 'w', \"'\", ',', ' ', 'u', \"'\", 'H', 'e', 'r', 'b', 'e', 'r', 't', ' ', 'G', 'r', '\\\\', 'x', 'f', '6', 'n', 'e', 'm', 'e', 'y', 'e', 'r', \"'\", ',', ' ', 'u', \"'\", 'K', 'l', 'a', 'u', 's', ' ', 'W', 'e', 'n', 'n', 'e', 'm', 'a', 'n', 'n', \"'\", 'u', \"'\", 'Y', '\\\\', 'x', 'f', '4', 'j', 'i', ' ', 'M', 'a', 't', 's', 'u', 'd', 'a', \"'\", ',', ' ', 'u', \"'\", 'Y', 'u', 'r', 'i', 'k', 'o', ' ', 'I', 's', 'h', 'i', 'd', 'a', \"'\", ',', ' ', 'u', \"'\", 'Y', '\\\\', 'x', 'f', 'b', 'k', 'o', ' ', 'T', 'a', 'n', 'a', 'k', 'a', \"'\", 'u', \"'\", 'A', 'u', 'd', 'r', 'e', 'y', ' ', 'T', 'a', 'u', 't', 'o', 'u', \"'\", ',', ' ', 'u', \"'\", 'M', 'a', 't', 'h', 'i', 'e', 'u', ' ', 'K', 'a', 's', 's', 'o', 'v', 'i', 't', 'z', \"'\", ',', ' ', 'u', \"'\", 'R', 'u', 'f', 'u', 's', \"'\", 'u', \"'\", 'C', 'a', 'r', 'y', ' ', 'G', 'r', 'a', 'n', 't', \"'\", ',', ' ', 'u', \"'\", 'E', 'v', 'a', ' ', 'M', 'a', 'r', 'i', 'e', ' ', 'S', 'a', 'i', 'n', 't', \"'\", ',', ' ', 'u', \"'\", 'J', 'a', 'm', 'e', 's', ' ', 'M', 'a', 's', 'o', 'n', \"'\", 'u', \"'\", 'A', 'a', 'm', 'i', 'r', ' ', 'K', 'h', 'a', 'n', \"'\", ',', ' ', 'u', \"'\", 'S', 'o', 'h', 'a', ' ', 'A', 'l', 'i', ' ', 'K', 'h', 'a', 'n', \"'\", ',', ' ', 'u', \"'\", 'S', 'i', 'd', 'd', 'h', 'a', 'r', 't', 'h', \"'\", 'u', \"'\", 'P', 'e', 'y', 'm', 'a', 'n', ' ', 'M', 'o', 'a', 'a', 'd', 'i', \"'\", ',', ' ', 'u', \"'\", 'L', 'e', 'i', 'l', 'a', ' ', 'H', 'a', 't', 'a', 'm', 'i', \"'\", ',', ' ', 'u', \"'\", 'S', 'a', 'r', 'e', 'h', ' ', 'B', 'a', 'y', 'a', 't', \"'\", 'u', \"'\", 'O', 'r', 's', 'o', 'n', ' ', 'W', 'e', 'l', 'l', 'e', 's', \"'\", ',', ' ', 'u', \"'\", 'J', 'o', 's', 'e', 'p', 'h', ' ', 'C', 'o', 't', 't', 'e', 'n', \"'\", ',', ' ', 'u', \"'\", 'D', 'o', 'r', 'o', 't', 'h', 'y', ' ', 'C', 'o', 'm', 'i', 'n', 'g', 'o', 'r', 'e', \"'\", 'u', \"'\", 'S', 'i', 'g', 'o', 'u', 'r', 'n', 'e', 'y', ' ', 'W', 'e', 'a', 'v', 'e', 'r', \"'\", ',', ' ', 'u', \"'\", 'M', 'i', 'c', 'h', 'a', 'e', 'l', ' ', 'B', 'i', 'e', 'h', 'n', \"'\", ',', ' ', 'u', \"'\", 'C', 'a', 'r', 'r', 'i', 'e', ' ', 'H', 'e', 'n', 'n', \"'\", 'u', \"'\", 'J', 'a', 'm', 'e', 's', ' ', 'S', 't', 'e', 'w', 'a', 'r', 't', \"'\", ',', ' ', 'u', \"'\", 'K', 'i', 'm', ' ', 'N', 'o', 'v', 'a', 'k', \"'\", ',', ' ', 'u', \"'\", 'B', 'a', 'r', 'b', 'a', 'r', 'a', ' ', 'B', 'e', 'l', ' ', 'G', 'e', 'd', 'd', 'e', 's', \"'\", 'u', \"'\", 'M', 'i', 'n', '-', 's', 'i', 'k', ' ', 'C', 'h', 'o', 'i', \"'\", ',', ' ', 'u', \"'\", 'J', 'i', '-', 't', 'a', 'e', ' ', 'Y', 'u', \"'\", ',', ' ', 'u', \"'\", 'H', 'y', 'e', '-', 'j', 'e', 'o', 'n', 'g', ' ', 'K', 'a', 'n', 'g', \"'\", 'u', \"'\", 'R', 'o', 'b', 'e', 'r', 't', ' ', 'D', 'e', ' ', 'N', 'i', 'r', 'o', \"'\", ',', ' ', 'u', \"'\", 'J', 'a', 'm', 'e', 's', ' ', 'W', 'o', 'o', 'd', 's', \"'\", ',', ' ', 'u', \"'\", 'E', 'l', 'i', 'z', 'a', 'b', 'e', 't', 'h', ' ', 'M', 'c', 'G', 'o', 'v', 'e', 'r', 'n', \"'\", 'u', \"'\", 'F', 'r', 'e', 'd', ' ', 'M', 'a', 'c', 'M', 'u', 'r', 'r', 'a', 'y', \"'\", ',', ' ', 'u', \"'\", 'B', 'a', 'r', 'b', 'a', 'r', 'a', ' ', 'S', 't', 'a', 'n', 'w', 'y', 'c', 'k', \"'\", ',', ' ', 'u', \"'\", 'E', 'd', 'w', 'a', 'r', 'd', ' ', 'G', '.', ' ', 'R', 'o', 'b', 'i', 'n', 's', 'o', 'n', \"'\", 'u', \"'\", 'M', 'a', 'r', 'k', ' ', 'H', 'a', 'm', 'i', 'l', 'l', \"'\", ',', ' ', 'u', \"'\", 'H', 'a', 'r', 'r', 'i', 's', 'o', 'n', ' ', 'F', 'o', 'r', 'd', \"'\", ',', ' ', 'u', \"'\", 'C', 'a', 'r', 'r', 'i', 'e', ' ', 'F', 'i', 's', 'h', 'e', 'r', \"'\", 'u', \"'\", 'T', 'o', 'm', ' ', 'H', 'a', 'n', 'k', 's', \"'\", ',', ' ', 'u', \"'\", 'T', 'i', 'm', ' ', 'A', 'l', 'l', 'e', 'n', \"'\", ',', ' ', 'u', \"'\", 'J', 'o', 'a', 'n', ' ', 'C', 'u', 's', 'a', 'c', 'k', \"'\", 'u', \"'\", 'M', 'e', 'l', ' ', 'G', 'i', 'b', 's', 'o', 'n', \"'\", ',', ' ', 'u', \"'\", 'S', 'o', 'p', 'h', 'i', 'e', ' ', 'M', 'a', 'r', 'c', 'e', 'a', 'u', \"'\", ',', ' ', 'u', \"'\", 'P', 'a', 't', 'r', 'i', 'c', 'k', ' ', 'M', 'c', 'G', 'o', 'o', 'h', 'a', 'n', \"'\", 'u', \"'\", 'G', 'r', 'e', 'g', 'o', 'r', 'y', ' ', 'P', 'e', 'c', 'k', \"'\", ',', ' ', 'u', \"'\", 'J', 'o', 'h', 'n', ' ', 'M', 'e', 'g', 'n', 'a', \"'\", ',', ' ', 'u', \"'\", 'F', 'r', 'a', 'n', 'k', ' ', 'O', 'v', 'e', 'r', 't', 'o', 'n', \"'\", 'u', \"'\", 'E', 'l', 'l', 'e', 'n', ' ', 'B', 'u', 'r', 's', 't', 'y', 'n', \"'\", ',', ' ', 'u', \"'\", 'J', 'a', 'r', 'e', 'd', ' ', 'L', 'e', 't', 'o', \"'\", ',', ' ', 'u', \"'\", 'J', 'e', 'n', 'n', 'i', 'f', 'e', 'r', ' ', 'C', 'o', 'n', 'n', 'e', 'l', 'l', 'y', \"'\", 'u', '\"', 'P', 'e', 't', 'e', 'r', ' ', 'O', \"'\", 'T', 'o', 'o', 'l', 'e', '\"', ',', ' ', 'u', \"'\", 'A', 'l', 'e', 'c', ' ', 'G', 'u', 'i', 'n', 'n', 'e', 's', 's', \"'\", ',', ' ', 'u', \"'\", 'A', 'n', 't', 'h', 'o', 'n', 'y', ' ', 'Q', 'u', 'i', 'n', 'n', \"'\", 'u', \"'\", 'M', 'a', 'l', 'c', 'o', 'l', 'm', ' ', 'M', 'c', 'D', 'o', 'w', 'e', 'l', 'l', \"'\", ',', ' ', 'u', \"'\", 'P', 'a', 't', 'r', 'i', 'c', 'k', ' ', 'M', 'a', 'g', 'e', 'e', \"'\", ',', ' ', 'u', \"'\", 'M', 'i', 'c', 'h', 'a', 'e', 'l', ' ', 'B', 'a', 't', 'e', 's', \"'\", 'u', \"'\", 'L', 'a', 'm', 'b', 'e', 'r', 't', 'o', ' ', 'M', 'a', 'g', 'g', 'i', 'o', 'r', 'a', 'n', 'i', \"'\", ',', ' ', 'u', \"'\", 'E', 'n', 'z', 'o', ' ', 'S', 't', 'a', 'i', 'o', 'l', 'a', \"'\", ',', ' ', 'u', \"'\", 'L', 'i', 'a', 'n', 'e', 'l', 'l', 'a', ' ', 'C', 'a', 'r', 'e', 'l', 'l', \"'\", 'u', \"'\", 'C', 'h', 'a', 'r', 'l', 'e', 's', ' ', 'C', 'h', 'a', 'p', 'l', 'i', 'n', \"'\", ',', ' ', 'u', \"'\", 'E', 'd', 'n', 'a', ' ', 'P', 'u', 'r', 'v', 'i', 'a', 'n', 'c', 'e', \"'\", ',', ' ', 'u', \"'\", 'J', 'a', 'c', 'k', 'i', 'e', ' ', 'C', 'o', 'o', 'g', 'a', 'n', \"'\", 'u', \"'\", 'S', 'h', 'a', 'h', ' ', 'R', 'u', 'k', 'h', ' ', 'K', 'h', 'a', 'n', \"'\", ',', ' ', 'u', \"'\", 'G', 'a', 'y', 'a', 't', 'r', 'i', ' ', 'J', 'o', 's', 'h', 'i', \"'\", ',', ' ', 'u', \"'\", 'K', 'i', 's', 'h', 'o', 'r', 'i', ' ', 'B', 'a', 'l', 'a', 'l', \"'\", 'u', \"'\", 'H', 'a', 'r', 'v', 'e', 'y', ' ', 'K', 'e', 'i', 't', 'e', 'l', \"'\", ',', ' ', 'u', \"'\", 'T', 'i', 'm', ' ', 'R', 'o', 't', 'h', \"'\", ',', ' ', 'u', \"'\", 'M', 'i', 'c', 'h', 'a', 'e', 'l', ' ', 'M', 'a', 'd', 's', 'e', 'n', \"'\", 'u', \"'\", 'J', 'i', 'm', ' ', 'C', 'a', 'r', 'r', 'e', 'y', \"'\", ',', ' ', 'u', \"'\", 'K', 'a', 't', 'e', ' ', 'W', 'i', 'n', 's', 'l', 'e', 't', \"'\", ',', ' ', 'u', \"'\", 'T', 'o', 'm', ' ', 'W', 'i', 'l', 'k', 'i', 'n', 's', 'o', 'n', \"'\", 'u', \"'\", 'R', 'o', 'b', 'e', 'r', 't', ' ', 'D', 'e', ' ', 'N', 'i', 'r', 'o', \"'\", ',', ' ', 'u', \"'\", 'J', 'o', 'd', 'i', 'e', ' ', 'F', 'o', 's', 't', 'e', 'r', \"'\", ',', ' ', 'u', \"'\", 'C', 'y', 'b', 'i', 'l', 'l', ' ', 'S', 'h', 'e', 'p', 'h', 'e', 'r', 'd', \"'\", 'u', \"'\", 'S', 'h', 'a', 'h', ' ', 'R', 'u', 'k', 'h', ' ', 'K', 'h', 'a', 'n', \"'\", ',', ' ', 'u', \"'\", 'K', 'a', 'j', 'o', 'l', \"'\", ',', ' ', 'u', \"'\", 'A', 'm', 'r', 'i', 's', 'h', ' ', 'P', 'u', 'r', 'i', \"'\", 'u', \"'\", 'G', 'e', 'n', 'e', ' ', 'K', 'e', 'l', 'l', 'y', \"'\", ',', ' ', 'u', '\"', 'D', 'o', 'n', 'a', 'l', 'd', ' ', 'O', \"'\", 'C', 'o', 'n', 'n', 'o', 'r', '\"', ',', ' ', 'u', \"'\", 'D', 'e', 'b', 'b', 'i', 'e', ' ', 'R', 'e', 'y', 'n', 'o', 'l', 'd', 's', \"'\", 'u', \"'\", 'B', 'e', 't', 't', 'e', ' ', 'D', 'a', 'v', 'i', 's', \"'\", ',', ' ', 'u', \"'\", 'A', 'n', 'n', 'e', ' ', 'B', 'a', 'x', 't', 'e', 'r', \"'\", ',', ' ', 'u', \"'\", 'G', 'e', 'o', 'r', 'g', 'e', ' ', 'S', 'a', 'n', 'd', 'e', 'r', 's', \"'\", 'u', \"'\", 'T', 'o', 's', 'h', 'i', 'r', '\\\\', 'x', 'f', '4', ' ', 'M', 'i', 'f', 'u', 'n', 'e', \"'\", ',', ' ', 'u', \"'\", 'E', 'i', 'j', 'i', 'r', '\\\\', 'x', 'f', '4', ' ', 'T', '\\\\', 'x', 'f', '4', 'n', 'o', \"'\", ',', ' ', 'u', \"'\", 'T', 'a', 't', 's', 'u', 'y', 'a', ' ', 'N', 'a', 'k', 'a', 'd', 'a', 'i', \"'\", 'u', \"'\", 'P', 'a', 'u', 'l', ' ', 'N', 'e', 'w', 'm', 'a', 'n', \"'\", ',', ' ', 'u', \"'\", 'R', 'o', 'b', 'e', 'r', 't', ' ', 'R', 'e', 'd', 'f', 'o', 'r', 'd', \"'\", ',', ' ', 'u', \"'\", 'R', 'o', 'b', 'e', 'r', 't', ' ', 'S', 'h', 'a', 'w', \"'\", 'u', \"'\", 'T', 'o', 's', 'h', 'i', 'r', '\\\\', 'x', 'f', '4', ' ', 'M', 'i', 'f', 'u', 'n', 'e', \"'\", ',', ' ', 'u', \"'\", 'M', 'a', 'c', 'h', 'i', 'k', 'o', ' ', 'K', 'y', '\\\\', 'x', 'f', '4', \"'\", ',', ' ', 'u', \"'\", 'M', 'a', 's', 'a', 'y', 'u', 'k', 'i', ' ', 'M', 'o', 'r', 'i', \"'\", 'u', \"'\", 'F', '.', ' ', 'M', 'u', 'r', 'r', 'a', 'y', ' ', 'A', 'b', 'r', 'a', 'h', 'a', 'm', \"'\", ',', ' ', 'u', \"'\", 'T', 'o', 'm', ' ', 'H', 'u', 'l', 'c', 'e', \"'\", ',', ' ', 'u', \"'\", 'E', 'l', 'i', 'z', 'a', 'b', 'e', 't', 'h', ' ', 'B', 'e', 'r', 'r', 'i', 'd', 'g', 'e', \"'\", 'u', \"'\", 'H', 'u', 'm', 'p', 'h', 'r', 'e', 'y', ' ', 'B', 'o', 'g', 'a', 'r', 't', \"'\", ',', ' ', 'u', \"'\", 'W', 'a', 'l', 't', 'e', 'r', ' ', 'H', 'u', 's', 't', 'o', 'n', \"'\", ',', ' ', 'u', \"'\", 'T', 'i', 'm', ' ', 'H', 'o', 'l', 't', \"'\", 'u', \"'\", 'G', 'r', 'a', 'h', 'a', 'm', ' ', 'C', 'h', 'a', 'p', 'm', 'a', 'n', \"'\", ',', ' ', 'u', \"'\", 'J', 'o', 'h', 'n', ' ', 'C', 'l', 'e', 'e', 's', 'e', \"'\", ',', ' ', 'u', \"'\", 'E', 'r', 'i', 'c', ' ', 'I', 'd', 'l', 'e', \"'\", 'u', \"'\", 'M', 'a', 't', 't', 'h', 'e', 'w', ' ', 'M', 'o', 'd', 'i', 'n', 'e', \"'\", ',', ' ', 'u', \"'\", 'R', '.', ' ', 'L', 'e', 'e', ' ', 'E', 'r', 'm', 'e', 'y', \"'\", ',', ' ', 'u', '\"', 'V', 'i', 'n', 'c', 'e', 'n', 't', ' ', 'D', \"'\", 'O', 'n', 'o', 'f', 'r', 'i', 'o', '\"', 'u', \"'\", 'J', 'a', 'c', 'k', ' ', 'L', 'e', 'm', 'm', 'o', 'n', \"'\", ',', ' ', 'u', \"'\", 'S', 'h', 'i', 'r', 'l', 'e', 'y', ' ', 'M', 'a', 'c', 'L', 'a', 'i', 'n', 'e', \"'\", ',', ' ', 'u', \"'\", 'F', 'r', 'e', 'd', ' ', 'M', 'a', 'c', 'M', 'u', 'r', 'r', 'a', 'y', \"'\", 'u', \"'\", 'T', 'a', 'k', 'a', 's', 'h', 'i', ' ', 'S', 'h', 'i', 'm', 'u', 'r', 'a', \"'\", ',', ' ', 'u', \"'\", 'N', 'o', 'b', 'u', 'o', ' ', 'K', 'a', 'n', 'e', 'k', 'o', \"'\", ',', ' ', 'u', '\"', 'S', 'h', 'i', 'n', \"'\", 'i', 'c', 'h', 'i', ' ', 'H', 'i', 'm', 'o', 'r', 'i', '\"', 'u', \"'\", 'O', 'r', 's', 'o', 'n', ' ', 'W', 'e', 'l', 'l', 'e', 's', \"'\", ',', ' ', 'u', \"'\", 'J', 'o', 's', 'e', 'p', 'h', ' ', 'C', 'o', 't', 't', 'e', 'n', \"'\", ',', ' ', 'u', \"'\", 'A', 'l', 'i', 'd', 'a', ' ', 'V', 'a', 'l', 'l', 'i', \"'\", 'u', \"'\", 'J', 'a', 's', 'o', 'n', ' ', 'S', 't', 'a', 't', 'h', 'a', 'm', \"'\", ',', ' ', 'u', \"'\", 'B', 'r', 'a', 'd', ' ', 'P', 'i', 't', 't', \"'\", ',', ' ', 'u', \"'\", 'B', 'e', 'n', 'i', 'c', 'i', 'o', ' ', 'D', 'e', 'l', ' ', 'T', 'o', 'r', 'o', \"'\", 'u', \"'\", 'C', 'l', 'i', 'n', 't', ' ', 'E', 'a', 's', 't', 'w', 'o', 'o', 'd', \"'\", ',', ' ', 'u', \"'\", 'L', 'e', 'e', ' ', 'V', 'a', 'n', ' ', 'C', 'l', 'e', 'e', 'f', \"'\", ',', ' ', 'u', \"'\", 'G', 'i', 'a', 'n', ' ', 'M', 'a', 'r', 'i', 'a', ' ', 'V', 'o', 'l', 'o', 'n', 't', '\\\\', 'x', 'e', '9', \"'\", 'u', \"'\", 'B', 'r', 'i', 'g', 'i', 't', 't', 'e', ' ', 'H', 'e', 'l', 'm', \"'\", ',', ' ', 'u', \"'\", 'A', 'l', 'f', 'r', 'e', 'd', ' ', 'A', 'b', 'e', 'l', \"'\", ',', ' ', 'u', \"'\", 'G', 'u', 's', 't', 'a', 'v', ' ', 'F', 'r', '\\\\', 'x', 'f', '6', 'h', 'l', 'i', 'c', 'h', \"'\", 'u', \"'\", 'A', 'a', 'm', 'i', 'r', ' ', 'K', 'h', 'a', 'n', \"'\", ',', ' ', 'u', \"'\", 'S', 'a', 'i', 'f', ' ', 'A', 'l', 'i', ' ', 'K', 'h', 'a', 'n', \"'\", ',', ' ', 'u', \"'\", 'A', 'k', 's', 'h', 'a', 'y', 'e', ' ', 'K', 'h', 'a', 'n', 'n', 'a', \"'\", 'u', \"'\", 'K', 'e', 'i', 'r', ' ', 'D', 'u', 'l', 'l', 'e', 'a', \"'\", ',', ' ', 'u', \"'\", 'G', 'a', 'r', 'y', ' ', 'L', 'o', 'c', 'k', 'w', 'o', 'o', 'd', \"'\", ',', ' ', 'u', \"'\", 'W', 'i', 'l', 'l', 'i', 'a', 'm', ' ', 'S', 'y', 'l', 'v', 'e', 's', 't', 'e', 'r', \"'\", 'u', \"'\", 'M', 'a', 'r', 'i', 'l', 'y', 'n', ' ', 'M', 'o', 'n', 'r', 'o', 'e', \"'\", ',', ' ', 'u', \"'\", 'T', 'o', 'n', 'y', ' ', 'C', 'u', 'r', 't', 'i', 's', \"'\", ',', ' ', 'u', \"'\", 'J', 'a', 'c', 'k', ' ', 'L', 'e', 'm', 'm', 'o', 'n', \"'\", 'u', \"'\", 'K', 'e', 'v', 'i', 'n', ' ', 'S', 'p', 'a', 'c', 'e', 'y', \"'\", ',', ' ', 'u', \"'\", 'R', 'u', 's', 's', 'e', 'l', 'l', ' ', 'C', 'r', 'o', 'w', 'e', \"'\", ',', ' ', 'u', \"'\", 'G', 'u', 'y', ' ', 'P', 'e', 'a', 'r', 'c', 'e', \"'\", 'u', \"'\", 'C', 'h', 'r', 'i', 's', 't', 'i', 'a', 'n', ' ', 'B', 'a', 'l', 'e', \"'\", ',', ' ', 'u', \"'\", 'M', 'i', 'c', 'h', 'a', 'e', 'l', ' ', 'C', 'a', 'i', 'n', 'e', \"'\", ',', ' ', 'u', \"'\", 'K', 'e', 'n', ' ', 'W', 'a', 't', 'a', 'n', 'a', 'b', 'e', \"'\", 'u', \"'\", 'B', 'r', 'a', 'd', ' ', 'P', 'i', 't', 't', \"'\", ',', ' ', 'u', \"'\", 'D', 'i', 'a', 'n', 'e', ' ', 'K', 'r', 'u', 'g', 'e', 'r', \"'\", ',', ' ', 'u', \"'\", 'E', 'l', 'i', ' ', 'R', 'o', 't', 'h', \"'\", 'u', \"'\", 'A', 'l', ' ', 'P', 'a', 'c', 'i', 'n', 'o', \"'\", ',', ' ', 'u', \"'\", 'M', 'i', 'c', 'h', 'e', 'l', 'l', 'e', ' ', 'P', 'f', 'e', 'i', 'f', 'f', 'e', 'r', \"'\", ',', ' ', 'u', \"'\", 'S', 't', 'e', 'v', 'e', 'n', ' ', 'B', 'a', 'u', 'e', 'r', \"'\", 'u', \"'\", 'J', 'a', 'm', 'e', 's', ' ', 'S', 't', 'e', 'w', 'a', 'r', 't', \"'\", ',', ' ', 'u', \"'\", 'J', 'e', 'a', 'n', ' ', 'A', 'r', 't', 'h', 'u', 'r', \"'\", ',', ' ', 'u', \"'\", 'C', 'l', 'a', 'u', 'd', 'e', ' ', 'R', 'a', 'i', 'n', 's', \"'\", 'u', \"'\", 'T', 'o', 'm', ' ', 'H', 'a', 'n', 'k', 's', \"'\", ',', ' ', 'u', \"'\", 'T', 'i', 'm', ' ', 'A', 'l', 'l', 'e', 'n', \"'\", ',', ' ', 'u', \"'\", 'D', 'o', 'n', ' ', 'R', 'i', 'c', 'k', 'l', 'e', 's', \"'\", 'u', \"'\", 'H', 'a', 'r', 'r', 'i', 's', 'o', 'n', ' ', 'F', 'o', 'r', 'd', \"'\", ',', ' ', 'u', \"'\", 'S', 'e', 'a', 'n', ' ', 'C', 'o', 'n', 'n', 'e', 'r', 'y', \"'\", ',', ' ', 'u', \"'\", 'A', 'l', 'i', 's', 'o', 'n', ' ', 'D', 'o', 'o', 'd', 'y', \"'\", 'u', \"'\", 'C', 'l', 'i', 'n', 't', ' ', 'E', 'a', 's', 't', 'w', 'o', 'o', 'd', \"'\", ',', ' ', 'u', \"'\", 'G', 'e', 'n', 'e', ' ', 'H', 'a', 'c', 'k', 'm', 'a', 'n', \"'\", ',', ' ', 'u', \"'\", 'M', 'o', 'r', 'g', 'a', 'n', ' ', 'F', 'r', 'e', 'e', 'm', 'a', 'n', \"'\", 'u', \"'\", 'S', 't', 'e', 'v', 'e', ' ', 'M', 'c', 'Q', 'u', 'e', 'e', 'n', \"'\", ',', ' ', 'u', \"'\", 'J', 'a', 'm', 'e', 's', ' ', 'G', 'a', 'r', 'n', 'e', 'r', \"'\", ',', ' ', 'u', \"'\", 'R', 'i', 'c', 'h', 'a', 'r', 'd', ' ', 'A', 't', 't', 'e', 'n', 'b', 'o', 'r', 'o', 'u', 'g', 'h', \"'\", 'u', \"'\", 'M', 'a', 'd', 's', ' ', 'M', 'i', 'k', 'k', 'e', 'l', 's', 'e', 'n', \"'\", ',', ' ', 'u', \"'\", 'T', 'h', 'o', 'm', 'a', 's', ' ', 'B', 'o', ' ', 'L', 'a', 'r', 's', 'e', 'n', \"'\", ',', ' ', 'u', \"'\", 'A', 'n', 'n', 'i', 'k', 'a', ' ', 'W', 'e', 'd', 'd', 'e', 'r', 'k', 'o', 'p', 'p', \"'\", 'u', \"'\", 'M', 'a', 'r', 'l', 'o', 'n', ' ', 'B', 'r', 'a', 'n', 'd', 'o', \"'\", ',', ' ', 'u', \"'\", 'K', 'a', 'r', 'l', ' ', 'M', 'a', 'l', 'd', 'e', 'n', \"'\", ',', ' ', 'u', \"'\", 'L', 'e', 'e', ' ', 'J', '.', ' ', 'C', 'o', 'b', 'b', \"'\", 'u', \"'\", 'B', 'u', 's', 't', 'e', 'r', ' ', 'K', 'e', 'a', 't', 'o', 'n', \"'\", ',', ' ', 'u', \"'\", 'M', 'a', 'r', 'i', 'o', 'n', ' ', 'M', 'a', 'c', 'k', \"'\", ',', ' ', 'u', \"'\", 'G', 'l', 'e', 'n', ' ', 'C', 'a', 'v', 'e', 'n', 'd', 'e', 'r', \"'\", 'u', \"'\", 'R', 'o', 'b', 'e', 'r', 't', ' ', 'D', 'e', ' ', 'N', 'i', 'r', 'o', \"'\", ',', ' ', 'u', \"'\", 'C', 'a', 't', 'h', 'y', ' ', 'M', 'o', 'r', 'i', 'a', 'r', 't', 'y', \"'\", ',', ' ', 'u', \"'\", 'J', 'o', 'e', ' ', 'P', 'e', 's', 'c', 'i', \"'\", 'u', \"'\", 'B', 'r', 'u', 'n', 'o', ' ', 'G', 'a', 'n', 'z', \"'\", ',', ' ', 'u', \"'\", 'A', 'l', 'e', 'x', 'a', 'n', 'd', 'r', 'a', ' ', 'M', 'a', 'r', 'i', 'a', ' ', 'L', 'a', 'r', 'a', \"'\", ',', ' ', 'u', \"'\", 'U', 'l', 'r', 'i', 'c', 'h', ' ', 'M', 'a', 't', 't', 'h', 'e', 's', \"'\", 'u', \"'\", 'E', 'd', 'w', 'a', 'r', 'd', ' ', 'A', 's', 'n', 'e', 'r', \"'\", ',', ' ', 'u', \"'\", 'J', 'o', 'r', 'd', 'a', 'n', ' ', 'N', 'a', 'g', 'a', 'i', \"'\", ',', ' ', 'u', \"'\", 'J', 'o', 'h', 'n', ' ', 'R', 'a', 't', 'z', 'e', 'n', 'b', 'e', 'r', 'g', 'e', 'r', \"'\", 'u', \"'\", 'V', 'i', 'c', 't', 'o', 'r', ' ', 'S', 'j', '\\\\', 'x', 'f', '6', 's', 't', 'r', '\\\\', 'x', 'f', '6', 'm', \"'\", ',', ' ', 'u', \"'\", 'B', 'i', 'b', 'i', ' ', 'A', 'n', 'd', 'e', 'r', 's', 's', 'o', 'n', \"'\", ',', ' ', 'u', \"'\", 'I', 'n', 'g', 'r', 'i', 'd', ' ', 'T', 'h', 'u', 'l', 'i', 'n', \"'\", 'u', \"'\", 'C', 'h', 'a', 'r', 'l', 'e', 's', ' ', 'C', 'h', 'a', 'p', 'l', 'i', 'n', \"'\", ',', ' ', 'u', \"'\", 'M', 'a', 'c', 'k', ' ', 'S', 'w', 'a', 'i', 'n', \"'\", ',', ' ', 'u', \"'\", 'T', 'o', 'm', ' ', 'M', 'u', 'r', 'r', 'a', 'y', \"'\", 'u', \"'\", 'T', 'a', 't', 's', 'u', 'y', 'a', ' ', 'N', 'a', 'k', 'a', 'd', 'a', 'i', \"'\", ',', ' ', 'u', \"'\", 'A', 'k', 'i', 'r', 'a', ' ', 'T', 'e', 'r', 'a', 'o', \"'\", ',', ' ', 'u', \"'\", 'J', 'i', 'n', 'p', 'a', 'c', 'h', 'i', ' ', 'N', 'e', 'z', 'u', \"'\", 'u', \"'\", 'J', 'a', 'c', 'k', ' ', 'N', 'i', 'c', 'h', 'o', 'l', 's', 'o', 'n', \"'\", ',', ' ', 'u', \"'\", 'F', 'a', 'y', 'e', ' ', 'D', 'u', 'n', 'a', 'w', 'a', 'y', \"'\", ',', ' ', 'u', \"'\", 'J', 'o', 'h', 'n', ' ', 'H', 'u', 's', 't', 'o', 'n', \"'\", 'u', \"'\", 'H', 'i', 't', 'o', 's', 'h', 'i', ' ', 'T', 'a', 'k', 'a', 'g', 'i', \"'\", ',', ' ', 'u', \"'\", 'N', 'o', 'r', 'i', 'k', 'o', ' ', 'H', 'i', 'd', 'a', 'k', 'a', \"'\", ',', ' ', 'u', \"'\", 'C', 'h', 'i', 'k', 'a', ' ', 'S', 'a', 'k', 'a', 'm', 'o', 't', 'o', \"'\", 'u', \"'\", 'S', 'p', 'e', 'n', 'c', 'e', 'r', ' ', 'T', 'r', 'a', 'c', 'y', \"'\", ',', ' ', 'u', \"'\", 'B', 'u', 'r', 't', ' ', 'L', 'a', 'n', 'c', 'a', 's', 't', 'e', 'r', \"'\", ',', ' ', 'u', \"'\", 'R', 'i', 'c', 'h', 'a', 'r', 'd', ' ', 'W', 'i', 'd', 'm', 'a', 'r', 'k', \"'\", 'u', \"'\", 'R', 'a', 'n', 'b', 'i', 'r', ' ', 'K', 'a', 'p', 'o', 'o', 'r', \"'\", ',', ' ', 'u', \"'\", 'P', 'r', 'i', 'y', 'a', 'n', 'k', 'a', ' ', 'C', 'h', 'o', 'p', 'r', 'a', \"'\", ',', ' ', 'u', \"'\", 'I', 'l', 'e', 'a', 'n', 'a', \"'\", 'u', \"'\", 'M', 'a', 'x', ' ', 'v', 'o', 'n', ' ', 'S', 'y', 'd', 'o', 'w', \"'\", ',', ' ', 'u', \"'\", 'G', 'u', 'n', 'n', 'a', 'r', ' ', 'B', 'j', '\\\\', 'x', 'f', '6', 'r', 'n', 's', 't', 'r', 'a', 'n', 'd', \"'\", ',', ' ', 'u', \"'\", 'B', 'e', 'n', 'g', 't', ' ', 'E', 'k', 'e', 'r', 'o', 't', \"'\", 'u', \"'\", 'A', 'l', ' ', 'P', 'a', 'c', 'i', 'n', 'o', \"'\", ',', ' ', 'u', \"'\", 'R', 'o', 'b', 'e', 'r', 't', ' ', 'D', 'e', ' ', 'N', 'i', 'r', 'o', \"'\", ',', ' ', 'u', \"'\", 'V', 'a', 'l', ' ', 'K', 'i', 'l', 'm', 'e', 'r', \"'\", 'u', \"'\", 'I', 'v', 'a', 'n', 'a', ' ', 'B', 'a', 'q', 'u', 'e', 'r', 'o', \"'\", ',', ' ', 'u', \"'\", 'A', 'r', 'i', 'a', 'd', 'n', 'a', ' ', 'G', 'i', 'l', \"'\", ',', ' ', 'u', \"'\", 'S', 'e', 'r', 'g', 'i', ' ', 'L', '\\\\', 'x', 'f', '3', 'p', 'e', 'z', \"'\", 'u', \"'\", 'W', 'i', 'l', 'l', 'i', 'a', 'm', ' ', 'H', 'o', 'l', 'd', 'e', 'n', \"'\", ',', ' ', 'u', \"'\", 'A', 'l', 'e', 'c', ' ', 'G', 'u', 'i', 'n', 'n', 'e', 's', 's', \"'\", ',', ' ', 'u', \"'\", 'J', 'a', 'c', 'k', ' ', 'H', 'a', 'w', 'k', 'i', 'n', 's', \"'\", 'u', \"'\", 'B', 'r', 'u', 'c', 'e', ' ', 'W', 'i', 'l', 'l', 'i', 's', \"'\", ',', ' ', 'u', \"'\", 'A', 'l', 'a', 'n', ' ', 'R', 'i', 'c', 'k', 'm', 'a', 'n', \"'\", ',', ' ', 'u', \"'\", 'B', 'o', 'n', 'n', 'i', 'e', ' ', 'B', 'e', 'd', 'e', 'l', 'i', 'a', \"'\", 'u', \"'\", 'R', 'o', 'b', 'i', 'n', ' ', 'W', 'i', 'l', 'l', 'i', 'a', 'm', 's', \"'\", ',', ' ', 'u', \"'\", 'M', 'a', 't', 't', ' ', 'D', 'a', 'm', 'o', 'n', \"'\", ',', ' ', 'u', \"'\", 'B', 'e', 'n', ' ', 'A', 'f', 'f', 'l', 'e', 'c', 'k', \"'\", 'u', \"'\", 'Y', 'v', 'e', 's', ' ', 'M', 'o', 'n', 't', 'a', 'n', 'd', \"'\", ',', ' ', 'u', \"'\", 'C', 'h', 'a', 'r', 'l', 'e', 's', ' ', 'V', 'a', 'n', 'e', 'l', \"'\", ',', ' ', 'u', \"'\", 'P', 'e', 't', 'e', 'r', ' ', 'v', 'a', 'n', ' ', 'E', 'y', 'c', 'k', \"'\", 'u', \"'\", 'R', 'i', 'c', 'a', 'r', 'd', 'o', ' ', 'D', 'a', 'r', '\\\\', 'x', 'e', 'd', 'n', \"'\", ',', ' ', 'u', \"'\", 'S', 'o', 'l', 'e', 'd', 'a', 'd', ' ', 'V', 'i', 'l', 'l', 'a', 'm', 'i', 'l', \"'\", ',', ' ', 'u', \"'\", 'P', 'a', 'b', 'l', 'o', ' ', 'R', 'a', 'g', 'o', \"'\", 'u', \"'\", 'A', 'a', 'm', 'i', 'r', ' ', 'K', 'h', 'a', 'n', \"'\", ',', ' ', 'u', \"'\", 'G', 'r', 'a', 'c', 'y', ' ', 'S', 'i', 'n', 'g', 'h', \"'\", ',', ' ', 'u', \"'\", 'R', 'a', 'c', 'h', 'e', 'l', ' ', 'S', 'h', 'e', 'l', 'l', 'e', 'y', \"'\", 'u', \"'\", 'L', 'e', 'o', 'n', 'a', 'r', 'd', 'o', ' ', 'D', 'i', 'C', 'a', 'p', 'r', 'i', 'o', \"'\", ',', ' ', 'u', \"'\", 'J', 'o', 'n', 'a', 'h', ' ', 'H', 'i', 'l', 'l', \"'\", ',', ' ', 'u', \"'\", 'M', 'a', 'r', 'g', 'o', 't', ' ', 'R', 'o', 'b', 'b', 'i', 'e', \"'\", 'u', \"'\", 'C', 'l', 'a', 'r', 'k', ' ', 'G', 'a', 'b', 'l', 'e', \"'\", ',', ' ', 'u', \"'\", 'C', 'l', 'a', 'u', 'd', 'e', 't', 't', 'e', ' ', 'C', 'o', 'l', 'b', 'e', 'r', 't', \"'\", ',', ' ', 'u', \"'\", 'W', 'a', 'l', 't', 'e', 'r', ' ', 'C', 'o', 'n', 'n', 'o', 'l', 'l', 'y', \"'\", 'u', \"'\", 'H', 'a', 'r', 'r', 'i', 's', 'o', 'n', ' ', 'F', 'o', 'r', 'd', \"'\", ',', ' ', 'u', \"'\", 'R', 'u', 't', 'g', 'e', 'r', ' ', 'H', 'a', 'u', 'e', 'r', \"'\", ',', ' ', 'u', \"'\", 'S', 'e', 'a', 'n', ' ', 'Y', 'o', 'u', 'n', 'g', \"'\", 'u', \"'\", 'T', 'o', 'm', ' ', 'H', 'a', 'r', 'd', 'y', \"'\", ',', ' ', 'u', \"'\", 'N', 'i', 'c', 'k', ' ', 'N', 'o', 'l', 't', 'e', \"'\", ',', ' ', 'u', \"'\", 'J', 'o', 'e', 'l', ' ', 'E', 'd', 'g', 'e', 'r', 't', 'o', 'n', \"'\", 'u', \"'\", 'C', 'h', 'i', 'e', 'k', 'o', ' ', 'B', 'a', 'i', 's', 'h', '\\\\', 'x', 'f', '4', \"'\", ',', ' ', 'u', \"'\", 'T', 'a', 'k', 'u', 'y', 'a', ' ', 'K', 'i', 'm', 'u', 'r', 'a', \"'\", ',', ' ', 'u', \"'\", 'T', 'a', 't', 's', 'u', 'y', 'a', ' ', 'G', 'a', 's', 'h', '\\\\', 'x', 'f', 'b', 'i', 'n', \"'\", 'u', \"'\", 'A', 'n', 't', 'h', 'o', 'n', 'y', ' ', 'H', 'o', 'p', 'k', 'i', 'n', 's', \"'\", ',', ' ', 'u', \"'\", 'J', 'o', 'h', 'n', ' ', 'H', 'u', 'r', 't', \"'\", ',', ' ', 'u', \"'\", 'A', 'n', 'n', 'e', ' ', 'B', 'a', 'n', 'c', 'r', 'o', 'f', 't', \"'\", 'u', \"'\", 'L', 'a', 'u', 'r', 'e', 'n', 'c', 'e', ' ', 'O', 'l', 'i', 'v', 'i', 'e', 'r', \"'\", ',', ' ', 'u', \"'\", 'J', 'o', 'a', 'n', ' ', 'F', 'o', 'n', 't', 'a', 'i', 'n', 'e', \"'\", ',', ' ', 'u', \"'\", 'G', 'e', 'o', 'r', 'g', 'e', ' ', 'S', 'a', 'n', 'd', 'e', 'r', 's', \"'\", 'u', \"'\", 'L', 'u', 'b', 'n', 'a', ' ', 'A', 'z', 'a', 'b', 'a', 'l', \"'\", ',', ' ', 'u', \"'\", 'M', '\\\\', 'x', 'e', '9', 'l', 'i', 's', 's', 'a', ' ', 'D', '\\\\', 'x', 'e', '9', 's', 'o', 'r', 'm', 'e', 'a', 'u', 'x', '-', 'P', 'o', 'u', 'l', 'i', 'n', \"'\", ',', ' ', 'u', \"'\", 'M', 'a', 'x', 'i', 'm', ' ', 'G', 'a', 'u', 'd', 'e', 't', 't', 'e', \"'\", 'u', \"'\", 'J', 'a', 's', 'o', 'n', ' ', 'F', 'l', 'e', 'm', 'y', 'n', 'g', \"'\", ',', ' ', 'u', \"'\", 'D', 'e', 'x', 't', 'e', 'r', ' ', 'F', 'l', 'e', 't', 'c', 'h', 'e', 'r', \"'\", ',', ' ', 'u', \"'\", 'N', 'i', 'c', 'k', ' ', 'M', 'o', 'r', 'a', 'n', \"'\", 'u', \"'\", 'H', 'u', 'g', 'o', ' ', 'W', 'e', 'a', 'v', 'i', 'n', 'g', \"'\", ',', ' ', 'u', \"'\", 'N', 'a', 't', 'a', 'l', 'i', 'e', ' ', 'P', 'o', 'r', 't', 'm', 'a', 'n', \"'\", ',', ' ', 'u', \"'\", 'R', 'u', 'p', 'e', 'r', 't', ' ', 'G', 'r', 'a', 'v', 'e', 's', \"'\", 'u', \"'\", 'J', 'e', 'f', 'f', ' ', 'B', 'r', 'i', 'd', 'g', 'e', 's', \"'\", ',', ' ', 'u', \"'\", 'J', 'o', 'h', 'n', ' ', 'G', 'o', 'o', 'd', 'm', 'a', 'n', \"'\", ',', ' ', 'u', \"'\", 'J', 'u', 'l', 'i', 'a', 'n', 'n', 'e', ' ', 'M', 'o', 'o', 'r', 'e', \"'\", 'u', \"'\", 'P', 'a', 'u', 'l', ' ', 'N', 'e', 'w', 'm', 'a', 'n', \"'\", ',', ' ', 'u', \"'\", 'G', 'e', 'o', 'r', 'g', 'e', ' ', 'K', 'e', 'n', 'n', 'e', 'd', 'y', \"'\", ',', ' ', 'u', \"'\", 'S', 't', 'r', 'o', 't', 'h', 'e', 'r', ' ', 'M', 'a', 'r', 't', 'i', 'n', \"'\", 'u', \"'\", 'D', 'a', 'r', '\\\\', 'x', 'e', 'd', 'o', ' ', 'G', 'r', 'a', 'n', 'd', 'i', 'n', 'e', 't', 't', 'i', \"'\", ',', ' ', 'u', \"'\", 'M', 'a', 'r', '\\\\', 'x', 'e', 'd', 'a', ' ', 'M', 'a', 'r', 'u', 'l', 'l', \"'\", ',', ' ', 'u', \"'\", 'M', '\\\\', 'x', 'f', '3', 'n', 'i', 'c', 'a', ' ', 'V', 'i', 'l', 'l', 'a', \"'\", 'u', \"'\", 'R', 'o', 'b', 'e', 'r', 't', ' ', 'D', 'e', ' ', 'N', 'i', 'r', 'o', \"'\", ',', ' ', 'u', \"'\", 'S', 'h', 'a', 'r', 'o', 'n', ' ', 'S', 't', 'o', 'n', 'e', \"'\", ',', ' ', 'u', \"'\", 'J', 'o', 'e', ' ', 'P', 'e', 's', 'c', 'i', \"'\", 'u', \"'\", 'C', 'l', 'a', 'r', 'k', ' ', 'G', 'a', 'b', 'l', 'e', \"'\", ',', ' ', 'u', \"'\", 'V', 'i', 'v', 'i', 'e', 'n', ' ', 'L', 'e', 'i', 'g', 'h', \"'\", ',', ' ', 'u', \"'\", 'T', 'h', 'o', 'm', 'a', 's', ' ', 'M', 'i', 't', 'c', 'h', 'e', 'l', 'l', \"'\", 'u', \"'\", 'B', 'e', 'n', ' ', 'A', 'f', 'f', 'l', 'e', 'c', 'k', \"'\", ',', ' ', 'u', \"'\", 'R', 'o', 's', 'a', 'm', 'u', 'n', 'd', ' ', 'P', 'i', 'k', 'e', \"'\", ',', ' ', 'u', \"'\", 'N', 'e', 'i', 'l', ' ', 'P', 'a', 't', 'r', 'i', 'c', 'k', ' ', 'H', 'a', 'r', 'r', 'i', 's', \"'\", 'u', \"'\", 'F', 'r', 'e', 'd', 'r', 'i', 'c', ' ', 'M', 'a', 'r', 'c', 'h', \"'\", ',', ' ', 'u', \"'\", 'D', 'a', 'n', 'a', ' ', 'A', 'n', 'd', 'r', 'e', 'w', 's', \"'\", ',', ' ', 'u', \"'\", 'M', 'y', 'r', 'n', 'a', ' ', 'L', 'o', 'y', \"'\", 'u', \"'\", 'J', 'a', 'y', ' ', 'B', 'a', 'r', 'u', 'c', 'h', 'e', 'l', \"'\", ',', ' ', 'u', \"'\", 'G', 'e', 'r', 'a', 'r', 'd', ' ', 'B', 'u', 't', 'l', 'e', 'r', \"'\", ',', ' ', 'u', \"'\", 'C', 'h', 'r', 'i', 's', 't', 'o', 'p', 'h', 'e', 'r', ' ', 'M', 'i', 'n', 't', 'z', '-', 'P', 'l', 'a', 's', 's', 'e', \"'\", 'u', \"'\", 'S', 'i', 'm', 'o', 'n', 'e', ' ', 'S', 'i', 'g', 'n', 'o', 'r', 'e', 't', \"'\", ',', ' ', 'u', \"'\", 'V', '\\\\', 'x', 'e', '9', 'r', 'a', ' ', 'C', 'l', 'o', 'u', 'z', 'o', 't', \"'\", ',', ' ', 'u', \"'\", 'P', 'a', 'u', 'l', ' ', 'M', 'e', 'u', 'r', 'i', 's', 's', 'e', \"'\", 'u', \"'\", 'C', 'l', 'i', 'n', 't', ' ', 'E', 'a', 's', 't', 'w', 'o', 'o', 'd', \"'\", ',', ' ', 'u', \"'\", 'B', 'e', 'e', ' ', 'V', 'a', 'n', 'g', \"'\", ',', ' ', 'u', \"'\", 'C', 'h', 'r', 'i', 's', 't', 'o', 'p', 'h', 'e', 'r', ' ', 'C', 'a', 'r', 'l', 'e', 'y', \"'\", 'u', \"'\", 'D', 'a', 'n', 'i', 'e', 'l', ' ', 'B', 'r', '\\\\', 'x', 'f', 'c', 'h', 'l', \"'\", ',', ' ', 'u', \"'\", 'C', 'h', 'r', 'i', 's', ' ', 'H', 'e', 'm', 's', 'w', 'o', 'r', 't', 'h', \"'\", ',', ' ', 'u', \"'\", 'O', 'l', 'i', 'v', 'i', 'a', ' ', 'W', 'i', 'l', 'd', 'e', \"'\", 'u', \"'\", 'E', 'm', 'i', 'l', 'e', ' ', 'H', 'i', 'r', 's', 'c', 'h', \"'\", ',', ' ', 'u', \"'\", 'V', 'i', 'n', 'c', 'e', ' ', 'V', 'a', 'u', 'g', 'h', 'n', \"'\", ',', ' ', 'u', \"'\", 'C', 'a', 't', 'h', 'e', 'r', 'i', 'n', 'e', ' ', 'K', 'e', 'e', 'n', 'e', 'r', \"'\", 'u', \"'\", 'T', 'a', 'e', '-', 'h', 'y', 'u', 'n', ' ', 'C', 'h', 'a', \"'\", ',', ' ', 'u', \"'\", 'G', 'i', 'a', 'n', 'n', 'a', ' ', 'J', 'u', 'n', \"'\", ',', ' ', 'u', \"'\", 'I', 'n', '-', 'm', 'u', 'n', ' ', 'K', 'i', 'm', \"'\", 'u', \"'\", 'R', 'o', 'b', 'e', 'r', 't', ' ', 'D', 'e', ' ', 'N', 'i', 'r', 'o', \"'\", ',', ' ', 'u', \"'\", 'C', 'h', 'r', 'i', 's', 't', 'o', 'p', 'h', 'e', 'r', ' ', 'W', 'a', 'l', 'k', 'e', 'n', \"'\", ',', ' ', 'u', \"'\", 'J', 'o', 'h', 'n', ' ', 'C', 'a', 'z', 'a', 'l', 'e', \"'\", 'u', \"'\", 'T', 'o', 'n', 'i', ' ', 'C', 'o', 'l', 'l', 'e', 't', 't', 'e', \"'\", ',', ' ', 'u', \"'\", 'P', 'h', 'i', 'l', 'i', 'p', ' ', 'S', 'e', 'y', 'm', 'o', 'u', 'r', ' ', 'H', 'o', 'f', 'f', 'm', 'a', 'n', \"'\", ',', ' ', 'u', \"'\", 'E', 'r', 'i', 'c', ' ', 'B', 'a', 'n', 'a', \"'\", 'u', \"'\", 'R', 'i', 'c', 'h', 'a', 'r', 'd', ' ', 'G', 'e', 'r', 'e', \"'\", ',', ' ', 'u', \"'\", 'J', 'o', 'a', 'n', ' ', 'A', 'l', 'l', 'e', 'n', \"'\", ',', ' ', 'u', \"'\", 'C', 'a', 'r', 'y', '-', 'H', 'i', 'r', 'o', 'y', 'u', 'k', 'i', ' ', 'T', 'a', 'g', 'a', 'w', 'a', \"'\", 'u', \"'\", 'H', 'u', 'm', 'p', 'h', 'r', 'e', 'y', ' ', 'B', 'o', 'g', 'a', 'r', 't', \"'\", ',', ' ', 'u', \"'\", 'M', 'a', 'r', 'y', ' ', 'A', 's', 't', 'o', 'r', \"'\", ',', ' ', 'u', \"'\", 'G', 'l', 'a', 'd', 'y', 's', ' ', 'G', 'e', 'o', 'r', 'g', 'e', \"'\", 'u', \"'\", 'R', 'u', 's', 's', 'e', 'l', 'l', ' ', 'C', 'r', 'o', 'w', 'e', \"'\", ',', ' ', 'u', \"'\", 'E', 'd', ' ', 'H', 'a', 'r', 'r', 'i', 's', \"'\", ',', ' ', 'u', \"'\", 'J', 'e', 'n', 'n', 'i', 'f', 'e', 'r', ' ', 'C', 'o', 'n', 'n', 'e', 'l', 'l', 'y', \"'\", 'u', \"'\", 'R', 'a', 'y', ' ', 'M', 'i', 'l', 'l', 'a', 'n', 'd', \"'\", ',', ' ', 'u', \"'\", 'G', 'r', 'a', 'c', 'e', ' ', 'K', 'e', 'l', 'l', 'y', \"'\", ',', ' ', 'u', \"'\", 'R', 'o', 'b', 'e', 'r', 't', ' ', 'C', 'u', 'm', 'm', 'i', 'n', 'g', 's', \"'\", 'u', \"'\", 'E', 'w', 'a', 'n', ' ', 'M', 'c', 'G', 'r', 'e', 'g', 'o', 'r', \"'\", ',', ' ', 'u', \"'\", 'E', 'w', 'e', 'n', ' ', 'B', 'r', 'e', 'm', 'n', 'e', 'r', \"'\", ',', ' ', 'u', \"'\", 'J', 'o', 'n', 'n', 'y', ' ', 'L', 'e', 'e', ' ', 'M', 'i', 'l', 'l', 'e', 'r', \"'\", 'u', \"'\", 'D', 'o', 'n', 'g', '-', 'g', 'u', 'n', ' ', 'J', 'a', 'n', 'g', \"'\", ',', ' ', 'u', \"'\", 'B', 'i', 'n', ' ', 'W', 'o', 'n', \"'\", ',', ' ', 'u', \"'\", 'E', 'u', 'n', '-', 'j', 'u', ' ', 'L', 'e', 'e', \"'\", 'u', \"'\", 'B', 'i', 'b', 'i', ' ', 'A', 'n', 'd', 'e', 'r', 's', 's', 'o', 'n', \"'\", ',', ' ', 'u', \"'\", 'L', 'i', 'v', ' ', 'U', 'l', 'l', 'm', 'a', 'n', 'n', \"'\", ',', ' ', 'u', \"'\", 'M', 'a', 'r', 'g', 'a', 'r', 'e', 't', 'h', 'a', ' ', 'K', 'r', 'o', 'o', 'k', \"'\", 'u', \"'\", 'C', 'h', 'a', 'r', 'l', 't', 'o', 'n', ' ', 'H', 'e', 's', 't', 'o', 'n', \"'\", ',', ' ', 'u', \"'\", 'O', 'r', 's', 'o', 'n', ' ', 'W', 'e', 'l', 'l', 'e', 's', \"'\", ',', ' ', 'u', \"'\", 'J', 'a', 'n', 'e', 't', ' ', 'L', 'e', 'i', 'g', 'h', \"'\", 'u', \"'\", 'W', 'i', 'l', 'l', 'i', 'a', 'm', ' ', 'H', '.', ' ', 'M', 'a', 'c', 'y', \"'\", ',', ' ', 'u', \"'\", 'F', 'r', 'a', 'n', 'c', 'e', 's', ' ', 'M', 'c', 'D', 'o', 'r', 'm', 'a', 'n', 'd', \"'\", ',', ' ', 'u', \"'\", 'S', 't', 'e', 'v', 'e', ' ', 'B', 'u', 's', 'c', 'e', 'm', 'i', \"'\", 'u', \"'\", 'R', 'o', 'b', 'e', 'r', 't', ' ', 'D', 'o', 'w', 'n', 'e', 'y', ' ', 'J', 'r', '.', \"'\", ',', ' ', 'u', \"'\", 'C', 'h', 'r', 'i', 's', ' ', 'E', 'v', 'a', 'n', 's', \"'\", ',', ' ', 'u', \"'\", 'S', 'c', 'a', 'r', 'l', 'e', 't', 't', ' ', 'J', 'o', 'h', 'a', 'n', 's', 's', 'o', 'n', \"'\", 'u', \"'\", 'J', 'e', 'a', 'n', '-', 'P', 'i', 'e', 'r', 'r', 'e', ' ', 'L', '\\\\', 'x', 'e', '9', 'a', 'u', 'd', \"'\", ',', ' ', 'u', \"'\", 'A', 'l', 'b', 'e', 'r', 't', ' ', 'R', '\\\\', 'x', 'e', '9', 'm', 'y', \"'\", ',', ' ', 'u', \"'\", 'C', 'l', 'a', 'i', 'r', 'e', ' ', 'M', 'a', 'u', 'r', 'i', 'e', 'r', \"'\", 'u', \"'\", 'C', 'a', 'r', 'y', ' ', 'E', 'l', 'w', 'e', 's', \"'\", ',', ' ', 'u', \"'\", 'M', 'a', 'n', 'd', 'y', ' ', 'P', 'a', 't', 'i', 'n', 'k', 'i', 'n', \"'\", ',', ' ', 'u', \"'\", 'R', 'o', 'b', 'i', 'n', ' ', 'W', 'r', 'i', 'g', 'h', 't', \"'\", 'u', \"'\", 'D', 'o', 'n', ' ', 'C', 'h', 'e', 'a', 'd', 'l', 'e', \"'\", ',', ' ', 'u', \"'\", 'S', 'o', 'p', 'h', 'i', 'e', ' ', 'O', 'k', 'o', 'n', 'e', 'd', 'o', \"'\", ',', ' ', 'u', \"'\", 'J', 'o', 'a', 'q', 'u', 'i', 'n', ' ', 'P', 'h', 'o', 'e', 'n', 'i', 'x', \"'\", 'u', \"'\", 'A', 'l', 'i', 's', 'a', ' ', 'F', 'r', 'e', 'y', 'n', 'd', 'l', 'i', 'k', 'h', \"'\", ',', ' ', 'u', \"'\", 'A', 'l', 'e', 'k', 's', 'a', 'n', 'd', 'r', ' ', 'K', 'a', 'y', 'd', 'a', 'n', 'o', 'v', 's', 'k', 'i', 'y', \"'\", ',', ' ', 'u', \"'\", 'A', 'n', 'a', 't', 'o', 'l', 'i', 'y', ' ', 'S', 'o', 'l', 'o', 'n', 'i', 't', 's', 'y', 'n', \"'\", 'u', \"'\", 'B', 'r', 'a', 'h', 'i', 'm', ' ', 'H', 'a', 'd', 'j', 'a', 'd', 'j', \"'\", ',', ' ', 'u', \"'\", 'J', 'e', 'a', 'n', ' ', 'M', 'a', 'r', 't', 'i', 'n', \"'\", ',', ' ', 'u', \"'\", 'Y', 'a', 'c', 'e', 'f', ' ', 'S', 'a', 'a', 'd', 'i', \"'\", 'u', \"'\", 'P', 'r', 'e', 'd', 'r', 'a', 'g', ' ', 'M', 'a', 'n', 'o', 'j', 'l', 'o', 'v', 'i', 'c', \"'\", ',', ' ', 'u', \"'\", 'L', 'a', 'z', 'a', 'r', ' ', 'R', 'i', 's', 't', 'o', 'v', 's', 'k', 'i', \"'\", ',', ' ', 'u', \"'\", 'M', 'i', 'r', 'j', 'a', 'n', 'a', ' ', 'J', 'o', 'k', 'o', 'v', 'i', 'c', \"'\", 'u', \"'\", 'B', 'e', 'r', 't', 'i', 'l', ' ', 'G', 'u', 'v', 'e', \"'\", ',', ' ', 'u', \"'\", 'P', 'e', 'r', 'n', 'i', 'l', 'l', 'a', ' ', 'A', 'l', 'l', 'w', 'i', 'n', \"'\", ',', ' ', 'u', \"'\", 'K', 'r', 'i', 's', 't', 'i', 'n', 'a', ' ', 'A', 'd', 'o', 'l', 'p', 'h', 's', 'o', 'n', \"'\", 'u', \"'\", 'F', 'a', 'y', 'e', ' ', 'D', 'u', 'n', 'a', 'w', 'a', 'y', \"'\", ',', ' ', 'u', \"'\", 'W', 'i', 'l', 'l', 'i', 'a', 'm', ' ', 'H', 'o', 'l', 'd', 'e', 'n', \"'\", ',', ' ', 'u', \"'\", 'P', 'e', 't', 'e', 'r', ' ', 'F', 'i', 'n', 'c', 'h', \"'\", 'u', \"'\", 'K', 'u', 'r', 't', ' ', 'R', 'u', 's', 's', 'e', 'l', 'l', \"'\", ',', ' ', 'u', \"'\", 'W', 'i', 'l', 'f', 'o', 'r', 'd', ' ', 'B', 'r', 'i', 'm', 'l', 'e', 'y', \"'\", ',', ' ', 'u', \"'\", 'K', 'e', 'i', 't', 'h', ' ', 'D', 'a', 'v', 'i', 'd', \"'\", 'u', \"'\", 'P', 'a', 'u', 'l', ' ', 'N', 'e', 'w', 'm', 'a', 'n', \"'\", ',', ' ', 'u', \"'\", 'R', 'o', 'b', 'e', 'r', 't', ' ', 'R', 'e', 'd', 'f', 'o', 'r', 'd', \"'\", ',', ' ', 'u', \"'\", 'K', 'a', 't', 'h', 'a', 'r', 'i', 'n', 'e', ' ', 'R', 'o', 's', 's', \"'\", 'u', \"'\", 'H', 'e', 'n', 'r', 'y', ' ', 'F', 'o', 'n', 'd', 'a', \"'\", ',', ' ', 'u', \"'\", 'J', 'a', 'n', 'e', ' ', 'D', 'a', 'r', 'w', 'e', 'l', 'l', \"'\", ',', ' ', 'u', \"'\", 'J', 'o', 'h', 'n', ' ', 'C', 'a', 'r', 'r', 'a', 'd', 'i', 'n', 'e', \"'\", 'u', \"'\", 'B', 'a', 'j', 'r', 'a', 'm', ' ', 'S', 'e', 'v', 'e', 'r', 'd', 'z', 'a', 'n', \"'\", ',', ' ', 'u', \"'\", 'S', 'r', 'd', 'j', 'a', 'n', ' ', 'T', 'o', 'd', 'o', 'r', 'o', 'v', 'i', 'c', \"'\", ',', ' ', 'u', \"'\", 'B', 'r', 'a', 'n', 'k', 'a', ' ', 'K', 'a', 't', 'i', 'c', \"'\", 'u', \"'\", 'G', 'r', 'a', 'h', 'a', 'm', ' ', 'C', 'h', 'a', 'p', 'm', 'a', 'n', \"'\", ',', ' ', 'u', \"'\", 'J', 'o', 'h', 'n', ' ', 'C', 'l', 'e', 'e', 's', 'e', \"'\", ',', ' ', 'u', \"'\", 'M', 'i', 'c', 'h', 'a', 'e', 'l', ' ', 'P', 'a', 'l', 'i', 'n', \"'\", 'u', \"'\", 'B', 'r', 'u', 'c', 'e', ' ', 'W', 'i', 'l', 'l', 'i', 's', \"'\", ',', ' ', 'u', \"'\", 'H', 'a', 'l', 'e', 'y', ' ', 'J', 'o', 'e', 'l', ' ', 'O', 's', 'm', 'e', 'n', 't', \"'\", ',', ' ', 'u', \"'\", 'T', 'o', 'n', 'i', ' ', 'C', 'o', 'l', 'l', 'e', 't', 't', 'e', \"'\", 'u', \"'\", 'A', 'l', 'b', 'e', 'r', 't', ' ', 'B', 'r', 'o', 'o', 'k', 's', \"'\", ',', ' ', 'u', \"'\", 'E', 'l', 'l', 'e', 'n', ' ', 'D', 'e', 'G', 'e', 'n', 'e', 'r', 'e', 's', \"'\", ',', ' ', 'u', \"'\", 'A', 'l', 'e', 'x', 'a', 'n', 'd', 'e', 'r', ' ', 'G', 'o', 'u', 'l', 'd', \"'\", 'u', \"'\", 'S', 'u', 'm', 'i', ' ', 'S', 'h', 'i', 'm', 'a', 'm', 'o', 't', 'o', \"'\", ',', ' ', 'u', \"'\", 'M', 'a', 'h', 'i', 't', 'o', ' ', 'T', 's', 'u', 'j', 'i', 'm', 'u', 'r', 'a', \"'\", ',', ' ', 'u', \"'\", 'H', 'i', 's', 'a', 'k', 'o', ' ', 'K', 'y', '\\\\', 'x', 'f', '4', 'd', 'a', \"'\", 'u', \"'\", 'C', 'o', 'l', 'i', 'n', ' ', 'F', 'i', 'r', 't', 'h', \"'\", ',', ' ', 'u', \"'\", 'T', 'a', 'r', 'o', 'n', ' ', 'E', 'g', 'e', 'r', 't', 'o', 'n', \"'\", ',', ' ', 'u', \"'\", 'S', 'a', 'm', 'u', 'e', 'l', ' ', 'L', '.', ' ', 'J', 'a', 'c', 'k', 's', 'o', 'n', \"'\", 'u', \"'\", 'C', 'h', 'a', 'r', 'l', 'i', 'e', ' ', 'S', 'h', 'e', 'e', 'n', \"'\", ',', ' ', 'u', \"'\", 'T', 'o', 'm', ' ', 'B', 'e', 'r', 'e', 'n', 'g', 'e', 'r', \"'\", ',', ' ', 'u', \"'\", 'W', 'i', 'l', 'l', 'e', 'm', ' ', 'D', 'a', 'f', 'o', 'e', \"'\", 'u', \"'\", 'C', 'h', 'r', 'i', 's', ' ', 'P', 'r', 'a', 't', 't', \"'\", ',', ' ', 'u', \"'\", 'V', 'i', 'n', ' ', 'D', 'i', 'e', 's', 'e', 'l', \"'\", ',', ' ', 'u', \"'\", 'B', 'r', 'a', 'd', 'l', 'e', 'y', ' ', 'C', 'o', 'o', 'p', 'e', 'r', \"'\", 'u', \"'\", 'D', 'a', 'n', 'i', 'e', 'l', ' ', 'D', 'a', 'y', '-', 'L', 'e', 'w', 'i', 's', \"'\", ',', ' ', 'u', \"'\", 'P', 'e', 't', 'e', ' ', 'P', 'o', 's', 't', 'l', 'e', 't', 'h', 'w', 'a', 'i', 't', 'e', \"'\", ',', ' ', 'u', \"'\", 'A', 'l', 'i', 's', 'o', 'n', ' ', 'C', 'r', 'o', 's', 'b', 'i', 'e', \"'\", 'u', \"'\", 'U', 'm', 'a', ' ', 'T', 'h', 'u', 'r', 'm', 'a', 'n', \"'\", ',', ' ', 'u', \"'\", 'D', 'a', 'v', 'i', 'd', ' ', 'C', 'a', 'r', 'r', 'a', 'd', 'i', 'n', 'e', \"'\", ',', ' ', 'u', \"'\", 'D', 'a', 'r', 'y', 'l', ' ', 'H', 'a', 'n', 'n', 'a', 'h', \"'\", 'u', \"'\", 'T', 'o', 'm', 'm', 'y', ' ', 'L', 'e', 'e', ' ', 'J', 'o', 'n', 'e', 's', \"'\", ',', ' ', 'u', \"'\", 'J', 'a', 'v', 'i', 'e', 'r', ' ', 'B', 'a', 'r', 'd', 'e', 'm', \"'\", ',', ' ', 'u', \"'\", 'J', 'o', 's', 'h', ' ', 'B', 'r', 'o', 'l', 'i', 'n', \"'\", 'u', \"'\", 'A', 'l', 'a', 'i', 'n', ' ', 'D', 'e', 'l', 'o', 'n', \"'\", ',', ' ', 'u', \"'\", 'N', 'a', 't', 'h', 'a', 'l', 'i', 'e', ' ', 'D', 'e', 'l', 'o', 'n', \"'\", ',', ' ', 'u', \"'\", 'F', 'r', 'a', 'n', '\\\\', 'x', 'e', '7', 'o', 'i', 's', ' ', 'P', '\\\\', 'x', 'e', '9', 'r', 'i', 'e', 'r', \"'\", 'u', \"'\", 'C', 'h', 'i', 'w', 'e', 't', 'e', 'l', ' ', 'E', 'j', 'i', 'o', 'f', 'o', 'r', \"'\", ',', ' ', 'u', \"'\", 'M', 'i', 'c', 'h', 'a', 'e', 'l', ' ', 'K', 'e', 'n', 'n', 'e', 't', 'h', ' ', 'W', 'i', 'l', 'l', 'i', 'a', 'm', 's', \"'\", ',', ' ', 'u', \"'\", 'M', 'i', 'c', 'h', 'a', 'e', 'l', ' ', 'F', 'a', 's', 's', 'b', 'e', 'n', 'd', 'e', 'r', \"'\", 'u', \"'\", 'T', 'i', 'm', ' ', 'R', 'o', 't', 'h', \"'\", ',', ' ', 'u', \"'\", 'P', 'r', 'u', 'i', 't', 't', ' ', 'T', 'a', 'y', 'l', 'o', 'r', ' ', 'V', 'i', 'n', 'c', 'e', \"'\", ',', ' ', 'u', \"'\", 'B', 'i', 'l', 'l', ' ', 'N', 'u', 'n', 'n', \"'\", 'u', \"'\", 'M', 'a', 'r', 'c', 'e', 'l', 'l', 'o', ' ', 'M', 'a', 's', 't', 'r', 'o', 'i', 'a', 'n', 'n', 'i', \"'\", ',', ' ', 'u', \"'\", 'A', 'n', 'o', 'u', 'k', ' ', 'A', 'i', 'm', '\\\\', 'x', 'e', '9', 'e', \"'\", ',', ' ', 'u', \"'\", 'C', 'l', 'a', 'u', 'd', 'i', 'a', ' ', 'C', 'a', 'r', 'd', 'i', 'n', 'a', 'l', 'e', \"'\", 'u', \"'\", 'C', 'h', 'a', 'r', 'l', 't', 'o', 'n', ' ', 'H', 'e', 's', 't', 'o', 'n', \"'\", ',', ' ', 'u', \"'\", 'J', 'a', 'c', 'k', ' ', 'H', 'a', 'w', 'k', 'i', 'n', 's', \"'\", ',', ' ', 'u', \"'\", 'S', 't', 'e', 'p', 'h', 'e', 'n', ' ', 'B', 'o', 'y', 'd', \"'\", 'u', \"'\", 'E', 'm', 'i', 'l', 'i', 'o', ' ', 'E', 'c', 'h', 'e', 'v', 'a', 'r', 'r', '\\\\', 'x', 'e', 'd', 'a', \"'\", ',', ' ', 'u', \"'\", 'G', 'a', 'e', 'l', ' ', 'G', 'a', 'r', 'c', '\\\\', 'x', 'e', 'd', 'a', ' ', 'B', 'e', 'r', 'n', 'a', 'l', \"'\", ',', ' ', 'u', \"'\", 'G', 'o', 'y', 'a', ' ', 'T', 'o', 'l', 'e', 'd', 'o', \"'\", 'u', \"'\", 'W', 'i', 'l', ' ', 'W', 'h', 'e', 'a', 't', 'o', 'n', \"'\", ',', ' ', 'u', \"'\", 'R', 'i', 'v', 'e', 'r', ' ', 'P', 'h', 'o', 'e', 'n', 'i', 'x', \"'\", ',', ' ', 'u', \"'\", 'C', 'o', 'r', 'e', 'y', ' ', 'F', 'e', 'l', 'd', 'm', 'a', 'n', \"'\", 'u', \"'\", 'B', 'e', 't', 't', 'e', ' ', 'D', 'a', 'v', 'i', 's', \"'\", ',', ' ', 'u', \"'\", 'J', 'o', 'a', 'n', ' ', 'C', 'r', 'a', 'w', 'f', 'o', 'r', 'd', \"'\", ',', ' ', 'u', \"'\", 'V', 'i', 'c', 't', 'o', 'r', ' ', 'B', 'u', 'o', 'n', 'o', \"'\", 'u', \"'\", 'W', 'o', 'o', 'd', 'y', ' ', 'A', 'l', 'l', 'e', 'n', \"'\", ',', ' ', 'u', \"'\", 'D', 'i', 'a', 'n', 'e', ' ', 'K', 'e', 'a', 't', 'o', 'n', \"'\", ',', ' ', 'u', \"'\", 'T', 'o', 'n', 'y', ' ', 'R', 'o', 'b', 'e', 'r', 't', 's', \"'\", 'u', \"'\", 'B', 'e', 'n', 'e', 'd', 'i', 'c', 't', ' ', 'C', 'u', 'm', 'b', 'e', 'r', 'b', 'a', 't', 'c', 'h', \"'\", ',', ' ', 'u', \"'\", 'K', 'e', 'i', 'r', 'a', ' ', 'K', 'n', 'i', 'g', 'h', 't', 'l', 'e', 'y', \"'\", ',', ' ', 'u', \"'\", 'M', 'a', 't', 't', 'h', 'e', 'w', ' ', 'G', 'o', 'o', 'd', 'e', \"'\", 'u', \"'\", 'G', 'e', 'n', 'e', ' ', 'T', 'i', 'e', 'r', 'n', 'e', 'y', \"'\", ',', ' ', 'u', \"'\", 'D', 'a', 'n', 'a', ' ', 'A', 'n', 'd', 'r', 'e', 'w', 's', \"'\", ',', ' ', 'u', \"'\", 'C', 'l', 'i', 'f', 't', 'o', 'n', ' ', 'W', 'e', 'b', 'b', \"'\", 'u', \"'\", 'M', 'a', 's', 'a', 'h', 'i', 'r', 'o', ' ', 'M', 'o', 't', 'o', 'k', 'i', \"'\", ',', ' ', 'u', \"'\", 'R', 'y', '\\\\', 'x', 'f', '4', 'k', 'o', ' ', 'H', 'i', 'r', 'o', 's', 'u', 'e', \"'\", ',', ' ', 'u', \"'\", 'T', 's', 'u', 't', 'o', 'm', 'u', ' ', 'Y', 'a', 'm', 'a', 'z', 'a', 'k', 'i', \"'\", 'u', \"'\", 'A', 'n', 'd', 'y', ' ', 'L', 'a', 'u', \"'\", ',', ' ', 'u', \"'\", 'T', 'o', 'n', 'y', ' ', 'C', 'h', 'i', 'u', ' ', 'W', 'a', 'i', ' ', 'L', 'e', 'u', 'n', 'g', \"'\", ',', ' ', 'u', \"'\", 'A', 'n', 't', 'h', 'o', 'n', 'y', ' ', 'C', 'h', 'a', 'u', '-', 'S', 'a', 'n', 'g', ' ', 'W', 'o', 'n', 'g', \"'\", 'u', \"'\", 'D', 'a', 'n', 'i', 'e', 'l', ' ', 'D', 'a', 'y', '-', 'L', 'e', 'w', 'i', 's', \"'\", ',', ' ', 'u', \"'\", 'P', 'a', 'u', 'l', ' ', 'D', 'a', 'n', 'o', \"'\", ',', ' ', 'u', \"'\", 'C', 'i', 'a', 'r', '\\\\', 'x', 'e', '1', 'n', ' ', 'H', 'i', 'n', 'd', 's', \"'\", 'u', \"'\", 'R', 'a', 'l', 'p', 'h', ' ', 'F', 'i', 'e', 'n', 'n', 'e', 's', \"'\", ',', ' ', 'u', \"'\", 'F', '.', ' ', 'M', 'u', 'r', 'r', 'a', 'y', ' ', 'A', 'b', 'r', 'a', 'h', 'a', 'm', \"'\", ',', ' ', 'u', \"'\", 'M', 'a', 't', 'h', 'i', 'e', 'u', ' ', 'A', 'm', 'a', 'l', 'r', 'i', 'c', \"'\", 'u', \"'\", 'A', 'n', 't', 'h', 'o', 'n', 'y', ' ', 'Q', 'u', 'i', 'n', 'n', \"'\", ',', ' ', 'u', \"'\", 'G', 'i', 'u', 'l', 'i', 'e', 't', 't', 'a', ' ', 'M', 'a', 's', 'i', 'n', 'a', \"'\", ',', ' ', 'u', \"'\", 'R', 'i', 'c', 'h', 'a', 'r', 'd', ' ', 'B', 'a', 's', 'e', 'h', 'a', 'r', 't', \"'\", 'u', \"'\", 'M', 'i', 'c', 'k', 'e', 'y', ' ', 'R', 'o', 'u', 'r', 'k', 'e', \"'\", ',', ' ', 'u', \"'\", 'C', 'l', 'i', 'v', 'e', ' ', 'O', 'w', 'e', 'n', \"'\", ',', ' ', 'u', \"'\", 'B', 'r', 'u', 'c', 'e', ' ', 'W', 'i', 'l', 'l', 'i', 's', \"'\", 'u', \"'\", 'K', 'a', 'n', 'g', '-', 'h', 'o', ' ', 'S', 'o', 'n', 'g', \"'\", ',', ' ', 'u', \"'\", 'S', 'a', 'n', 'g', '-', 'k', 'y', 'u', 'n', 'g', ' ', 'K', 'i', 'm', \"'\", ',', ' ', 'u', \"'\", 'R', 'o', 'e', '-', 'h', 'a', ' ', 'K', 'i', 'm', \"'\", 'u', \"'\", 'J', 'a', 'k', 'e', ' ', 'G', 'y', 'l', 'l', 'e', 'n', 'h', 'a', 'a', 'l', \"'\", ',', ' ', 'u', \"'\", 'J', 'e', 'n', 'a', ' ', 'M', 'a', 'l', 'o', 'n', 'e', \"'\", ',', ' ', 'u', \"'\", 'M', 'a', 'r', 'y', ' ', 'M', 'c', 'D', 'o', 'n', 'n', 'e', 'l', 'l', \"'\", 'u', \"'\", 'E', 'l', 'i', 'z', 'a', 'b', 'e', 't', 'h', ' ', 'T', 'a', 'y', 'l', 'o', 'r', \"'\", ',', ' ', 'u', \"'\", 'R', 'i', 'c', 'h', 'a', 'r', 'd', ' ', 'B', 'u', 'r', 't', 'o', 'n', \"'\", ',', ' ', 'u', \"'\", 'G', 'e', 'o', 'r', 'g', 'e', ' ', 'S', 'e', 'g', 'a', 'l', \"'\", 'u', \"'\", 'B', 'e', 'n', ' ', 'K', 'i', 'n', 'g', 's', 'l', 'e', 'y', \"'\", ',', ' ', 'u', \"'\", 'J', 'o', 'h', 'n', ' ', 'G', 'i', 'e', 'l', 'g', 'u', 'd', \"'\", ',', ' ', 'u', \"'\", 'C', 'a', 'n', 'd', 'i', 'c', 'e', ' ', 'B', 'e', 'r', 'g', 'e', 'n', \"'\", 'u', \"'\", 'N', 'a', 't', 'a', 'l', 'y', 'a', ' ', 'B', 'o', 'n', 'd', 'a', 'r', 'c', 'h', 'u', 'k', \"'\", ',', ' ', 'u', \"'\", 'D', 'o', 'n', 'a', 't', 'a', 's', ' ', 'B', 'a', 'n', 'i', 'o', 'n', 'i', 's', \"'\", ',', ' ', 'u', \"'\", 'J', '\\\\', 'x', 'f', 'c', 'r', 'i', ' ', 'J', '\\\\', 'x', 'e', '4', 'r', 'v', 'e', 't', \"'\", 'u', \"'\", 'D', 'a', 'n', 'i', 'e', 'l', ' ', 'R', 'a', 'd', 'c', 'l', 'i', 'f', 'f', 'e', \"'\", ',', ' ', 'u', \"'\", 'E', 'm', 'm', 'a', ' ', 'W', 'a', 't', 's', 'o', 'n', \"'\", ',', ' ', 'u', \"'\", 'R', 'u', 'p', 'e', 'r', 't', ' ', 'G', 'r', 'i', 'n', 't', \"'\", 'u', \"'\", 'H', 'a', 'r', 'r', 'y', ' ', 'D', 'e', 'a', 'n', ' ', 'S', 't', 'a', 'n', 't', 'o', 'n', \"'\", ',', ' ', 'u', \"'\", 'N', 'a', 's', 't', 'a', 's', 's', 'j', 'a', ' ', 'K', 'i', 'n', 's', 'k', 'i', \"'\", ',', ' ', 'u', \"'\", 'D', 'e', 'a', 'n', ' ', 'S', 't', 'o', 'c', 'k', 'w', 'e', 'l', 'l', \"'\", 'u', \"'\", 'J', 'u', 'd', 'y', ' ', 'G', 'a', 'r', 'l', 'a', 'n', 'd', \"'\", ',', ' ', 'u', \"'\", 'F', 'r', 'a', 'n', 'k', ' ', 'M', 'o', 'r', 'g', 'a', 'n', \"'\", ',', ' ', 'u', \"'\", 'R', 'a', 'y', ' ', 'B', 'o', 'l', 'g', 'e', 'r', \"'\", 'u', \"'\", 'S', 'e', 'u', 'n', 'g', '-', 'y', 'e', 'o', 'n', ' ', 'L', 'e', 'e', \"'\", ',', ' ', 'u', \"'\", 'H', 'y', 'u', 'n', '-', 'k', 'y', 'o', 'o', 'n', ' ', 'L', 'e', 'e', \"'\", ',', ' ', 'u', \"'\", 'H', 'y', 'u', 'k', '-', 'h', 'o', ' ', 'K', 'w', 'o', 'n', \"'\", 'u', \"'\", 'E', 'l', 'l', 'a', 'r', ' ', 'C', 'o', 'l', 't', 'r', 'a', 'n', 'e', \"'\", ',', ' ', 'u', \"'\", 'P', 'a', 't', 'r', 'i', 'c', 'i', 'a', ' ', 'A', 'r', 'q', 'u', 'e', 't', 't', 'e', \"'\", ',', ' ', 'u', \"'\", 'E', 't', 'h', 'a', 'n', ' ', 'H', 'a', 'w', 'k', 'e', \"'\", 'u', \"'\", 'H', 'i', 'l', 'a', 'r', 'y', ' ', 'S', 'w', 'a', 'n', 'k', \"'\", ',', ' ', 'u', \"'\", 'C', 'l', 'i', 'n', 't', ' ', 'E', 'a', 's', 't', 'w', 'o', 'o', 'd', \"'\", ',', ' ', 'u', \"'\", 'M', 'o', 'r', 'g', 'a', 'n', ' ', 'F', 'r', 'e', 'e', 'm', 'a', 'n', \"'\", 'u', \"'\", 'T', 'i', 'm', 'o', 't', 'h', 'y', ' ', 'B', 'o', 't', 't', 'o', 'm', 's', \"'\", ',', ' ', 'u', \"'\", 'J', 'e', 'f', 'f', ' ', 'B', 'r', 'i', 'd', 'g', 'e', 's', \"'\", ',', ' ', 'u', \"'\", 'C', 'y', 'b', 'i', 'l', 'l', ' ', 'S', 'h', 'e', 'p', 'h', 'e', 'r', 'd', \"'\", 'u', \"'\", 'F', 'a', 'r', 'l', 'e', 'y', ' ', 'G', 'r', 'a', 'n', 'g', 'e', 'r', \"'\", ',', ' ', 'u', \"'\", 'R', 'o', 'b', 'e', 'r', 't', ' ', 'W', 'a', 'l', 'k', 'e', 'r', \"'\", ',', ' ', 'u', \"'\", 'R', 'u', 't', 'h', ' ', 'R', 'o', 'm', 'a', 'n', \"'\", 'u', \"'\", 'E', 'l', 'i', 'z', 'a', 'b', 'e', 't', 'h', ' ', 'T', 'a', 'y', 'l', 'o', 'r', \"'\", ',', ' ', 'u', \"'\", 'P', 'a', 'u', 'l', ' ', 'N', 'e', 'w', 'm', 'a', 'n', \"'\", ',', ' ', 'u', \"'\", 'B', 'u', 'r', 'l', ' ', 'I', 'v', 'e', 's', \"'\", 'u', \"'\", 'M', 'a', 'r', 'c', 'e', 'l', 'l', 'o', ' ', 'M', 'a', 's', 't', 'r', 'o', 'i', 'a', 'n', 'n', 'i', \"'\", ',', ' ', 'u', \"'\", 'A', 'n', 'i', 't', 'a', ' ', 'E', 'k', 'b', 'e', 'r', 'g', \"'\", ',', ' ', 'u', \"'\", 'A', 'n', 'o', 'u', 'k', ' ', 'A', 'i', 'm', '\\\\', 'x', 'e', '9', 'e', \"'\", 'u', \"'\", 'B', 'r', 'i', 'g', 'i', 't', 't', 'e', ' ', 'L', 'i', 'n', \"'\", ',', ' ', 'u', \"'\", 'T', 'a', 'k', 'e', 's', 'h', 'i', ' ', 'K', 'a', 'n', 'e', 's', 'h', 'i', 'r', 'o', \"'\", ',', ' ', 'u', \"'\", 'T', 'o', 'n', 'y', ' ', 'C', 'h', 'i', 'u', ' ', 'W', 'a', 'i', ' ', 'L', 'e', 'u', 'n', 'g', \"'\", 'u', \"'\", 'R', 'o', 'b', 'e', 'r', 't', ' ', 'M', 'i', 't', 'c', 'h', 'u', 'm', \"'\", ',', ' ', 'u', \"'\", 'S', 'h', 'e', 'l', 'l', 'e', 'y', ' ', 'W', 'i', 'n', 't', 'e', 'r', 's', \"'\", ',', ' ', 'u', \"'\", 'L', 'i', 'l', 'l', 'i', 'a', 'n', ' ', 'G', 'i', 's', 'h', \"'\", 'u', \"'\", 'V', 'i', 'n', 'c', 'e', 'n', 't', ' ', 'C', 'a', 's', 's', 'e', 'l', \"'\", ',', ' ', 'u', \"'\", 'H', 'u', 'b', 'e', 'r', 't', ' ', 'K', 'o', 'u', 'n', 'd', '\\\\', 'x', 'e', '9', \"'\", ',', ' ', 'u', \"'\", 'S', 'a', '\\\\', 'x', 'e', 'f', 'd', ' ', 'T', 'a', 'g', 'h', 'm', 'a', 'o', 'u', 'i', \"'\", 'u', \"'\", 'D', 'o', 'n', 'n', 'i', 'e', ' ', 'Y', 'e', 'n', \"'\", ',', ' ', 'u', \"'\", 'S', 'i', 'm', 'o', 'n', ' ', 'Y', 'a', 'm', \"'\", ',', ' ', 'u', \"'\", 'S', 'i', 'u', '-', 'W', 'o', 'n', 'g', ' ', 'F', 'a', 'n', \"'\", 'u', \"'\", 'G', 'a', 'r', 'y', ' ', 'C', 'o', 'o', 'p', 'e', 'r', \"'\", ',', ' ', 'u', \"'\", 'G', 'r', 'a', 'c', 'e', ' ', 'K', 'e', 'l', 'l', 'y', \"'\", ',', ' ', 'u', \"'\", 'T', 'h', 'o', 'm', 'a', 's', ' ', 'M', 'i', 't', 'c', 'h', 'e', 'l', 'l', \"'\", 'u', \"'\", 'C', 'a', 'r', 'y', ' ', 'G', 'r', 'a', 'n', 't', \"'\", ',', ' ', 'u', \"'\", 'I', 'n', 'g', 'r', 'i', 'd', ' ', 'B', 'e', 'r', 'g', 'm', 'a', 'n', \"'\", ',', ' ', 'u', \"'\", 'C', 'l', 'a', 'u', 'd', 'e', ' ', 'R', 'a', 'i', 'n', 's', \"'\", 'u', \"'\", 'E', 't', 'h', 'a', 'n', ' ', 'H', 'a', 'w', 'k', 'e', \"'\", ',', ' ', 'u', \"'\", 'J', 'u', 'l', 'i', 'e', ' ', 'D', 'e', 'l', 'p', 'y', \"'\", ',', ' ', 'u', \"'\", 'A', 'n', 'd', 'r', 'e', 'a', ' ', 'E', 'c', 'k', 'e', 'r', 't', \"'\", 'u', \"'\", 'W', 'a', 'g', 'n', 'e', 'r', ' ', 'M', 'o', 'u', 'r', 'a', \"'\", ',', ' ', 'u', \"'\", 'I', 'r', 'a', 'n', 'd', 'h', 'i', 'r', ' ', 'S', 'a', 'n', 't', 'o', 's', \"'\", ',', ' ', 'u', \"'\", 'A', 'n', 'd', 'r', '\\\\', 'x', 'e', '9', ' ', 'R', 'a', 'm', 'i', 'r', 'o', \"'\", 'u', \"'\", 'M', 'a', 't', 't', ' ', 'D', 'a', 'm', 'o', 'n', \"'\", ',', ' ', 'u', \"'\", '\\\\', 'x', 'c', '9', 'd', 'g', 'a', 'r', ' ', 'R', 'a', 'm', '\\\\', 'x', 'e', 'd', 'r', 'e', 'z', \"'\", ',', ' ', 'u', \"'\", 'J', 'o', 'a', 'n', ' ', 'A', 'l', 'l', 'e', 'n', \"'\", 'u', \"'\", 'A', 'n', 'n', 'a', ' ', 'P', 'a', 'q', 'u', 'i', 'n', \"'\", ',', ' ', 'u', \"'\", 'J', 'a', 'm', 'e', 's', ' ', 'V', 'a', 'n', ' ', 'D', 'e', 'r', ' ', 'B', 'e', 'e', 'k', \"'\", ',', ' ', 'u', \"'\", 'C', 'l', 'o', 'r', 'i', 's', ' ', 'L', 'e', 'a', 'c', 'h', 'm', 'a', 'n', \"'\", 'u', \"'\", 'U', 'l', 'r', 'i', 'c', 'h', ' ', 'T', 'h', 'o', 'm', 's', 'e', 'n', \"'\", ',', ' ', 'u', \"'\", 'H', 'e', 'n', 'n', 'i', 'n', 'g', ' ', 'M', 'o', 'r', 'i', 't', 'z', 'e', 'n', \"'\", ',', ' ', 'u', \"'\", 'T', 'h', 'o', 'm', 'a', 's', ' ', 'B', 'o', ' ', 'L', 'a', 'r', 's', 'e', 'n', \"'\", 'u', \"'\", 'K', 'i', '-', 'd', 'u', 'k', ' ', 'K', 'i', 'm', \"'\", ',', ' ', 'u', \"'\", 'Y', 'e', 'o', 'n', 'g', '-', 's', 'u', ' ', 'O', 'h', \"'\", ',', ' ', 'u', \"'\", 'J', 'o', 'n', 'g', '-', 'h', 'o', ' ', 'K', 'i', 'm', \"'\", 'u', \"'\", 'L', 'e', 'o', 'n', 'a', 'r', 'd', 'o', ' ', 'D', 'i', 'C', 'a', 'p', 'r', 'i', 'o', \"'\", ',', ' ', 'u', \"'\", 'E', 'm', 'i', 'l', 'y', ' ', 'M', 'o', 'r', 't', 'i', 'm', 'e', 'r', \"'\", ',', ' ', 'u', \"'\", 'M', 'a', 'r', 'k', ' ', 'R', 'u', 'f', 'f', 'a', 'l', 'o', \"'\", 'u', '\"', 'R', 'y', 'a', 'n', ' ', 'O', \"'\", 'N', 'e', 'a', 'l', '\"', ',', ' ', 'u', \"'\", 'M', 'a', 'r', 'i', 's', 'a', ' ', 'B', 'e', 'r', 'e', 'n', 's', 'o', 'n', \"'\", ',', ' ', 'u', \"'\", 'P', 'a', 't', 'r', 'i', 'c', 'k', ' ', 'M', 'a', 'g', 'e', 'e', \"'\", 'u', \"'\", 'W', 'i', 'l', 'l', 'i', 'a', 'm', ' ', 'H', 'o', 'l', 'd', 'e', 'n', \"'\", ',', ' ', 'u', \"'\", 'D', 'o', 'n', ' ', 'T', 'a', 'y', 'l', 'o', 'r', \"'\", ',', ' ', 'u', \"'\", 'O', 't', 't', 'o', ' ', 'P', 'r', 'e', 'm', 'i', 'n', 'g', 'e', 'r', \"'\", 'u', \"'\", 'I', 'r', '\\\\', 'x', 'e', '8', 'n', 'e', ' ', 'J', 'a', 'c', 'o', 'b', \"'\", ',', ' ', 'u', \"'\", 'J', 'e', 'a', 'n', '-', 'L', 'o', 'u', 'i', 's', ' ', 'T', 'r', 'i', 'n', 't', 'i', 'g', 'n', 'a', 'n', 't', \"'\", ',', ' ', 'u', \"'\", 'F', 'r', '\\\\', 'x', 'e', '9', 'd', '\\\\', 'x', 'e', '9', 'r', 'i', 'q', 'u', 'e', ' ', 'F', 'e', 'd', 'e', 'r', \"'\", 'u', \"'\", 'P', 'a', 't', 'r', 'i', 'c', 'k', ' ', 'S', 't', 'e', 'w', 'a', 'r', 't', \"'\", ',', ' ', 'u', \"'\", 'I', 'a', 'n', ' ', 'M', 'c', 'K', 'e', 'l', 'l', 'e', 'n', \"'\", ',', ' ', 'u', \"'\", 'H', 'u', 'g', 'h', ' ', 'J', 'a', 'c', 'k', 'm', 'a', 'n', \"'\", 'u', \"'\", 'L', 'a', 'u', 'r', 'e', 'n', 'c', 'e', ' ', 'O', 'l', 'i', 'v', 'i', 'e', 'r', \"'\", ',', ' ', 'u', \"'\", 'M', 'i', 'c', 'h', 'a', 'e', 'l', ' ', 'C', 'a', 'i', 'n', 'e', \"'\", ',', ' ', 'u', \"'\", 'A', 'l', 'e', 'c', ' ', 'C', 'a', 'w', 't', 'h', 'o', 'r', 'n', 'e', \"'\", 'u', \"'\", 'T', 'o', 'n', 'y', ' ', 'C', 'h', 'i', 'u', ' ', 'W', 'a', 'i', ' ', 'L', 'e', 'u', 'n', 'g', \"'\", ',', ' ', 'u', \"'\", 'M', 'a', 'g', 'g', 'i', 'e', ' ', 'C', 'h', 'e', 'u', 'n', 'g', \"'\", ',', ' ', 'u', \"'\", 'P', 'i', 'n', 'g', ' ', 'L', 'a', 'm', ' ', 'S', 'i', 'u', \"'\", 'u', \"'\", 'J', 'a', 'm', 'e', 's', ' ', 'S', 't', 'e', 'w', 'a', 'r', 't', \"'\", ',', ' ', 'u', \"'\", 'J', 'o', 'h', 'n', ' ', 'W', 'a', 'y', 'n', 'e', \"'\", ',', ' ', 'u', \"'\", 'V', 'e', 'r', 'a', ' ', 'M', 'i', 'l', 'e', 's', \"'\", 'u', \"'\", 'C', 'a', 'r', 'y', ' ', 'G', 'r', 'a', 'n', 't', \"'\", ',', ' ', 'u', \"'\", 'P', 'r', 'i', 's', 'c', 'i', 'l', 'l', 'a', ' ', 'L', 'a', 'n', 'e', \"'\", ',', ' ', 'u', \"'\", 'R', 'a', 'y', 'm', 'o', 'n', 'd', ' ', 'M', 'a', 's', 's', 'e', 'y', \"'\", 'u', \"'\", 'H', 'u', 'm', 'p', 'h', 'r', 'e', 'y', ' ', 'B', 'o', 'g', 'a', 'r', 't', \"'\", ',', ' ', 'u', \"'\", 'L', 'a', 'u', 'r', 'e', 'n', ' ', 'B', 'a', 'c', 'a', 'l', 'l', \"'\", ',', ' ', 'u', \"'\", 'J', 'o', 'h', 'n', ' ', 'R', 'i', 'd', 'g', 'e', 'l', 'y', \"'\", 'u', \"'\", 'G', 'r', 'e', 'g', 'o', 'r', 'y', ' ', 'P', 'e', 'c', 'k', \"'\", ',', ' ', 'u', \"'\", 'A', 'u', 'd', 'r', 'e', 'y', ' ', 'H', 'e', 'p', 'b', 'u', 'r', 'n', \"'\", ',', ' ', 'u', \"'\", 'E', 'd', 'd', 'i', 'e', ' ', 'A', 'l', 'b', 'e', 'r', 't', \"'\", 'u', \"'\", 'C', 'a', 'r', 'y', ' ', 'G', 'r', 'a', 'n', 't', \"'\", ',', ' ', 'u', \"'\", 'K', 'a', 't', 'h', 'a', 'r', 'i', 'n', 'e', ' ', 'H', 'e', 'p', 'b', 'u', 'r', 'n', \"'\", ',', ' ', 'u', \"'\", 'J', 'a', 'm', 'e', 's', ' ', 'S', 't', 'e', 'w', 'a', 'r', 't', \"'\", 'u', \"'\", 'N', 'o', 'z', 'o', 'm', 'u', ' ', 'S', 'a', 's', 'a', 'k', 'i', \"'\", ',', ' ', 'u', \"'\", 'M', 'a', 'm', 'i', ' ', 'K', 'o', 'y', 'a', 'm', 'a', \"'\", ',', ' ', 'u', \"'\", 'M', 'i', 't', 's', 'u', 'o', ' ', 'I', 'w', 'a', 't', 'a', \"'\", 'u', \"'\", 'J', 'a', 'm', 'e', 's', ' ', 'S', 't', 'e', 'w', 'a', 'r', 't', \"'\", ',', ' ', 'u', \"'\", 'L', 'e', 'e', ' ', 'R', 'e', 'm', 'i', 'c', 'k', \"'\", ',', ' ', 'u', \"'\", 'B', 'e', 'n', ' ', 'G', 'a', 'z', 'z', 'a', 'r', 'a', \"'\", 'u', \"'\", 'W', 'e', 'r', 'n', 'e', 'r', ' ', 'K', 'r', 'a', 'u', 's', 's', \"'\", ',', ' ', 'u', \"'\", 'C', 'o', 'n', 'r', 'a', 'd', ' ', 'V', 'e', 'i', 'd', 't', \"'\", ',', ' ', 'u', \"'\", 'F', 'r', 'i', 'e', 'd', 'r', 'i', 'c', 'h', ' ', 'F', 'e', 'h', 'e', 'r', \"'\", 'u', \"'\", 'E', 'm', 'm', 'a', ' ', 'S', 't', 'o', 'n', 'e', \"'\", ',', ' ', 'u', \"'\", 'V', 'i', 'o', 'l', 'a', ' ', 'D', 'a', 'v', 'i', 's', \"'\", ',', ' ', 'u', \"'\", 'O', 'c', 't', 'a', 'v', 'i', 'a', ' ', 'S', 'p', 'e', 'n', 'c', 'e', 'r', \"'\", 'u', \"'\", 'J', 'a', 'v', 'i', 'e', 'r', ' ', 'B', 'a', 'r', 'd', 'e', 'm', \"'\", ',', ' ', 'u', \"'\", 'B', 'e', 'l', '\\\\', 'x', 'e', '9', 'n', ' ', 'R', 'u', 'e', 'd', 'a', \"'\", ',', ' ', 'u', \"'\", 'L', 'o', 'l', 'a', ' ', 'D', 'u', 'e', '\\\\', 'x', 'f', '1', 'a', 's', \"'\", 'u', \"'\", 'W', 'a', 'g', 'n', 'e', 'r', ' ', 'M', 'o', 'u', 'r', 'a', \"'\", ',', ' ', 'u', \"'\", 'A', 'n', 'd', 'r', '\\\\', 'x', 'e', '9', ' ', 'R', 'a', 'm', 'i', 'r', 'o', \"'\", ',', ' ', 'u', \"'\", 'C', 'a', 'i', 'o', ' ', 'J', 'u', 'n', 'q', 'u', 'e', 'i', 'r', 'a', \"'\", 'u', \"'\", 'P', 'a', 'u', 'l', ' ', 'N', 'e', 'w', 'm', 'a', 'n', \"'\", ',', ' ', 'u', \"'\", 'J', 'a', 'c', 'k', 'i', 'e', ' ', 'G', 'l', 'e', 'a', 's', 'o', 'n', \"'\", ',', ' ', 'u', \"'\", 'P', 'i', 'p', 'e', 'r', ' ', 'L', 'a', 'u', 'r', 'i', 'e', \"'\", 'u', \"'\", 'J', 'o', 'h', 'n', ' ', 'W', 'a', 'y', 'n', 'e', \"'\", ',', ' ', 'u', \"'\", 'D', 'e', 'a', 'n', ' ', 'M', 'a', 'r', 't', 'i', 'n', \"'\", ',', ' ', 'u', \"'\", 'R', 'i', 'c', 'k', 'y', ' ', 'N', 'e', 'l', 's', 'o', 'n', \"'\", 'u', \"'\", 'B', 'r', 'u', 'c', 'e', ' ', 'W', 'i', 'l', 'l', 'i', 's', \"'\", ',', ' ', 'u', \"'\", 'M', 'a', 'd', 'e', 'l', 'e', 'i', 'n', 'e', ' ', 'S', 't', 'o', 'w', 'e', \"'\", ',', ' ', 'u', \"'\", 'B', 'r', 'a', 'd', ' ', 'P', 'i', 't', 't', \"'\", 'u', \"'\", 'J', 'a', 'm', 'e', 's', ' ', 'S', 't', 'e', 'w', 'a', 'r', 't', \"'\", ',', ' ', 'u', \"'\", 'J', 'o', 's', 'e', 'p', 'h', 'i', 'n', 'e', ' ', 'H', 'u', 'l', 'l', \"'\", ',', ' ', 'u', \"'\", 'P', 'e', 'g', 'g', 'y', ' ', 'D', 'o', 'w', \"'\", 'u', \"'\", 'P', 'e', 't', 'e', 'r', ' ', 'B', 'i', 'l', 'l', 'i', 'n', 'g', 's', 'l', 'e', 'y', \"'\", ',', ' ', 'u', \"'\", 'M', 'e', 'l', 'i', 'n', 'd', 'a', ' ', 'D', 'i', 'l', 'l', 'o', 'n', \"'\", ',', ' ', 'u', \"'\", 'D', 'a', 'r', 'r', 'e', 'n', ' ', 'M', 'c', 'G', 'a', 'v', 'i', 'n', \"'\", 'u', \"'\", 'R', 'o', 'y', ' ', 'S', 'c', 'h', 'e', 'i', 'd', 'e', 'r', \"'\", ',', ' ', 'u', \"'\", 'R', 'o', 'b', 'e', 'r', 't', ' ', 'S', 'h', 'a', 'w', \"'\", ',', ' ', 'u', \"'\", 'R', 'i', 'c', 'h', 'a', 'r', 'd', ' ', 'D', 'r', 'e', 'y', 'f', 'u', 's', 's', \"'\", 'u', \"'\", 'I', 'k', 'o', ' ', 'U', 'w', 'a', 'i', 's', \"'\", ',', ' ', 'u', \"'\", 'Y', 'a', 'y', 'a', 'n', ' ', 'R', 'u', 'h', 'i', 'a', 'n', \"'\", ',', ' ', 'u', \"'\", 'A', 'r', 'i', 'f', 'i', 'n', ' ', 'P', 'u', 't', 'r', 'a', \"'\", 'u', \"'\", 'S', 'y', 'l', 'v', 'e', 's', 't', 'e', 'r', ' ', 'S', 't', 'a', 'l', 'l', 'o', 'n', 'e', \"'\", ',', ' ', 'u', \"'\", 'T', 'a', 'l', 'i', 'a', ' ', 'S', 'h', 'i', 'r', 'e', \"'\", ',', ' ', 'u', \"'\", 'B', 'u', 'r', 't', ' ', 'Y', 'o', 'u', 'n', 'g', \"'\", 'u', \"'\", 'B', 'r', 'u', 'n', 'o', ' ', 'G', 'a', 'n', 'z', \"'\", ',', ' ', 'u', \"'\", 'S', 'o', 'l', 'v', 'e', 'i', 'g', ' ', 'D', 'o', 'm', 'm', 'a', 'r', 't', 'i', 'n', \"'\", ',', ' ', 'u', \"'\", 'O', 't', 't', 'o', ' ', 'S', 'a', 'n', 'd', 'e', 'r', \"'\", 'u', \"'\", 'J', 'o', 'h', 'n', 'n', 'y', ' ', 'D', 'e', 'p', 'p', \"'\", ',', ' ', 'u', \"'\", 'G', 'e', 'o', 'f', 'f', 'r', 'e', 'y', ' ', 'R', 'u', 's', 'h', \"'\", ',', ' ', 'u', \"'\", 'O', 'r', 'l', 'a', 'n', 'd', 'o', ' ', 'B', 'l', 'o', 'o', 'm', \"'\", 'u', \"'\", 'S', 't', 'e', 'r', 'l', 'i', 'n', 'g', ' ', 'H', 'a', 'y', 'd', 'e', 'n', \"'\", ',', ' ', 'u', \"'\", 'C', 'o', 'l', 'e', 'e', 'n', ' ', 'G', 'r', 'a', 'y', \"'\", ',', ' ', 'u', \"'\", 'V', 'i', 'n', 'c', 'e', ' ', 'E', 'd', 'w', 'a', 'r', 'd', 's', \"'\", 'u', \"'\", 'S', 't', 'e', 'v', 'e', ' ', 'M', 'c', 'Q', 'u', 'e', 'e', 'n', \"'\", ',', ' ', 'u', \"'\", 'D', 'u', 's', 't', 'i', 'n', ' ', 'H', 'o', 'f', 'f', 'm', 'a', 'n', \"'\", ',', ' ', 'u', \"'\", 'V', 'i', 'c', 't', 'o', 'r', ' ', 'J', 'o', 'r', 'y', \"'\", 'u', \"'\", 'C', 'o', 'l', 'i', 'n', ' ', 'F', 'i', 'r', 't', 'h', \"'\", ',', ' ', 'u', \"'\", 'G', 'e', 'o', 'f', 'f', 'r', 'e', 'y', ' ', 'R', 'u', 's', 'h', \"'\", ',', ' ', 'u', \"'\", 'H', 'e', 'l', 'e', 'n', 'a', ' ', 'B', 'o', 'n', 'h', 'a', 'm', ' ', 'C', 'a', 'r', 't', 'e', 'r', \"'\", 'u', \"'\", 'B', 'i', 'l', 'l', ' ', 'M', 'u', 'r', 'r', 'a', 'y', \"'\", ',', ' ', 'u', \"'\", 'A', 'n', 'd', 'i', 'e', ' ', 'M', 'a', 'c', 'D', 'o', 'w', 'e', 'l', 'l', \"'\", ',', ' ', 'u', \"'\", 'C', 'h', 'r', 'i', 's', ' ', 'E', 'l', 'l', 'i', 'o', 't', 't', \"'\", 'u', \"'\", 'C', 'l', 'i', 'n', 't', ' ', 'E', 'a', 's', 't', 'w', 'o', 'o', 'd', \"'\", ',', ' ', 'u', \"'\", 'G', 'i', 'a', 'n', ' ', 'M', 'a', 'r', 'i', 'a', ' ', 'V', 'o', 'l', 'o', 'n', 't', '\\\\', 'x', 'e', '9', \"'\", ',', ' ', 'u', \"'\", 'M', 'a', 'r', 'i', 'a', 'n', 'n', 'e', ' ', 'K', 'o', 'c', 'h', \"'\", 'u', \"'\", 'B', 'i', 'l', 'l', 'y', ' ', 'C', 'r', 'y', 's', 't', 'a', 'l', \"'\", ',', ' ', 'u', \"'\", 'J', 'o', 'h', 'n', ' ', 'G', 'o', 'o', 'd', 'm', 'a', 'n', \"'\", ',', ' ', 'u', \"'\", 'M', 'a', 'r', 'y', ' ', 'G', 'i', 'b', 'b', 's', \"'\", 'u', \"'\", 'A', 'l', ' ', 'P', 'a', 'c', 'i', 'n', 'o', \"'\", ',', ' ', 'u', \"'\", 'J', 'o', 'h', 'n', ' ', 'C', 'a', 'z', 'a', 'l', 'e', \"'\", ',', ' ', 'u', \"'\", 'P', 'e', 'n', 'e', 'l', 'o', 'p', 'e', ' ', 'A', 'l', 'l', 'e', 'n', \"'\", 'u', \"'\", 'L', 'o', 'g', 'a', 'n', ' ', 'L', 'e', 'r', 'm', 'a', 'n', \"'\", ',', ' ', 'u', \"'\", 'E', 'm', 'm', 'a', ' ', 'W', 'a', 't', 's', 'o', 'n', \"'\", ',', ' ', 'u', \"'\", 'E', 'z', 'r', 'a', ' ', 'M', 'i', 'l', 'l', 'e', 'r', \"'\", 'u', \"'\", 'G', 'e', 'n', 'e', ' ', 'W', 'i', 'l', 'd', 'e', 'r', \"'\", ',', ' ', 'u', \"'\", 'M', 'a', 'd', 'e', 'l', 'i', 'n', 'e', ' ', 'K', 'a', 'h', 'n', \"'\", ',', ' ', 'u', \"'\", 'M', 'a', 'r', 't', 'y', ' ', 'F', 'e', 'l', 'd', 'm', 'a', 'n', \"'\", 'u', \"'\", 'A', 'r', 'n', 'o', 'l', 'd', ' ', 'S', 'c', 'h', 'w', 'a', 'r', 'z', 'e', 'n', 'e', 'g', 'g', 'e', 'r', \"'\", ',', ' ', 'u', \"'\", 'L', 'i', 'n', 'd', 'a', ' ', 'H', 'a', 'm', 'i', 'l', 't', 'o', 'n', \"'\", ',', ' ', 'u', \"'\", 'M', 'i', 'c', 'h', 'a', 'e', 'l', ' ', 'B', 'i', 'e', 'h', 'n', \"'\", 'u', \"'\", 'R', 'u', 't', 'h', ' ', 'G', 'o', 'r', 'd', 'o', 'n', \"'\", ',', ' ', 'u', \"'\", 'B', 'u', 'd', ' ', 'C', 'o', 'r', 't', \"'\", ',', ' ', 'u', \"'\", 'V', 'i', 'v', 'i', 'a', 'n', ' ', 'P', 'i', 'c', 'k', 'l', 'e', 's', \"'\", 'u', \"'\", 'E', 't', 'h', 'a', 'n', ' ', 'H', 'a', 'w', 'k', 'e', \"'\", ',', ' ', 'u', \"'\", 'J', 'u', 'l', 'i', 'e', ' ', 'D', 'e', 'l', 'p', 'y', \"'\", ',', ' ', 'u', \"'\", 'V', 'e', 'r', 'n', 'o', 'n', ' ', 'D', 'o', 'b', 't', 'c', 'h', 'e', 'f', 'f', \"'\", 'u', \"'\", 'V', 'i', 'v', 'i', 'e', 'n', ' ', 'L', 'e', 'i', 'g', 'h', \"'\", ',', ' ', 'u', \"'\", 'M', 'a', 'r', 'l', 'o', 'n', ' ', 'B', 'r', 'a', 'n', 'd', 'o', \"'\", ',', ' ', 'u', \"'\", 'K', 'i', 'm', ' ', 'H', 'u', 'n', 't', 'e', 'r', \"'\", 'u', \"'\", 'K', 'a', 't', 'h', 'a', 'r', 'i', 'n', 'e', ' ', 'H', 'e', 'p', 'b', 'u', 'r', 'n', \"'\", ',', ' ', 'u', \"'\", 'C', 'a', 'r', 'y', ' ', 'G', 'r', 'a', 'n', 't', \"'\", ',', ' ', 'u', \"'\", 'C', 'h', 'a', 'r', 'l', 'e', 's', ' ', 'R', 'u', 'g', 'g', 'l', 'e', 's', \"'\", 'u', \"'\", 'M', 'a', 't', 'h', 'i', 'e', 'u', ' ', 'A', 'm', 'a', 'l', 'r', 'i', 'c', \"'\", ',', ' ', 'u', \"'\", 'E', 'm', 'm', 'a', 'n', 'u', 'e', 'l', 'l', 'e', ' ', 'S', 'e', 'i', 'g', 'n', 'e', 'r', \"'\", ',', ' ', 'u', \"'\", 'M', 'a', 'r', 'i', 'e', '-', 'J', 'o', 's', '\\\\', 'x', 'e', '9', 'e', ' ', 'C', 'r', 'o', 'z', 'e', \"'\", 'u', \"'\", 'C', 'a', 'r', 'y', ' ', 'G', 'r', 'a', 'n', 't', \"'\", ',', ' ', 'u', \"'\", 'R', 'o', 's', 'a', 'l', 'i', 'n', 'd', ' ', 'R', 'u', 's', 's', 'e', 'l', 'l', \"'\", ',', ' ', 'u', \"'\", 'R', 'a', 'l', 'p', 'h', ' ', 'B', 'e', 'l', 'l', 'a', 'm', 'y', \"'\", 'u', \"'\", 'B', 'i', 'l', 'l', 'y', ' ', 'B', 'o', 'b', ' ', 'T', 'h', 'o', 'r', 'n', 't', 'o', 'n', \"'\", ',', ' ', 'u', \"'\", 'D', 'w', 'i', 'g', 'h', 't', ' ', 'Y', 'o', 'a', 'k', 'a', 'm', \"'\", ',', ' ', 'u', \"'\", 'J', '.', 'T', '.', ' ', 'W', 'a', 'l', 's', 'h', \"'\", 'u', \"'\", 'L', 'e', 'w', ' ', 'A', 'y', 'r', 'e', 's', \"'\", ',', ' ', 'u', \"'\", 'L', 'o', 'u', 'i', 's', ' ', 'W', 'o', 'l', 'h', 'e', 'i', 'm', \"'\", ',', ' ', 'u', \"'\", 'J', 'o', 'h', 'n', ' ', 'W', 'r', 'a', 'y', \"'\", 'u', \"'\", 'H', 'u', 'g', 'h', ' ', 'J', 'a', 'c', 'k', 'm', 'a', 'n', \"'\", ',', ' ', 'u', \"'\", 'J', 'a', 'k', 'e', ' ', 'G', 'y', 'l', 'l', 'e', 'n', 'h', 'a', 'a', 'l', \"'\", ',', ' ', 'u', \"'\", 'V', 'i', 'o', 'l', 'a', ' ', 'D', 'a', 'v', 'i', 's', \"'\", 'u', \"'\", 'V', 'l', 'a', 'd', 'i', 'm', 'i', 'r', ' ', 'G', 'a', 'r', 'i', 'n', \"'\", ',', ' ', 'u', \"'\", 'I', 'v', 'a', 'n', ' ', 'D', 'o', 'b', 'r', 'o', 'n', 'r', 'a', 'v', 'o', 'v', \"'\", ',', ' ', 'u', \"'\", 'K', 'o', 'n', 's', 't', 'a', 'n', 't', 'i', 'n', ' ', 'L', 'a', 'v', 'r', 'o', 'n', 'e', 'n', 'k', 'o', \"'\", 'u', \"'\", 'F', 'r', 'a', 'n', 'k', ' ', 'S', 'i', 'n', 'a', 't', 'r', 'a', \"'\", ',', ' ', 'u', \"'\", 'L', 'a', 'u', 'r', 'e', 'n', 'c', 'e', ' ', 'H', 'a', 'r', 'v', 'e', 'y', \"'\", ',', ' ', 'u', \"'\", 'J', 'a', 'n', 'e', 't', ' ', 'L', 'e', 'i', 'g', 'h', \"'\", 'u', \"'\", 'G', 'r', 'o', 'u', 'c', 'h', 'o', ' ', 'M', 'a', 'r', 'x', \"'\", ',', ' ', 'u', \"'\", 'H', 'a', 'r', 'p', 'o', ' ', 'M', 'a', 'r', 'x', \"'\", ',', ' ', 'u', \"'\", 'C', 'h', 'i', 'c', 'o', ' ', 'M', 'a', 'r', 'x', \"'\", 'u', '\"', 'P', 'a', 'i', 'g', 'e', ' ', 'O', \"'\", 'H', 'a', 'r', 'a', '\"', ',', ' ', 'u', \"'\", 'R', 'o', 'b', 'b', 'y', ' ', 'B', 'e', 'n', 's', 'o', 'n', \"'\", ',', ' ', 'u', \"'\", 'R', 'i', 'c', 'h', 'a', 'r', 'd', ' ', 'W', 'h', 'i', 't', 'e', \"'\", 'u', \"'\", 'J', 'i', 'm', ' ', 'C', 'a', 'r', 'r', 'e', 'y', \"'\", ',', ' ', 'u', \"'\", 'E', 'd', ' ', 'H', 'a', 'r', 'r', 'i', 's', \"'\", ',', ' ', 'u', \"'\", 'L', 'a', 'u', 'r', 'a', ' ', 'L', 'i', 'n', 'n', 'e', 'y', \"'\", 'u', \"'\", 'W', 'i', 'l', 'l', 'i', 'a', 'm', ' ', 'H', 'o', 'l', 'd', 'e', 'n', \"'\", ',', ' ', 'u', \"'\", 'E', 'r', 'n', 'e', 's', 't', ' ', 'B', 'o', 'r', 'g', 'n', 'i', 'n', 'e', \"'\", ',', ' ', 'u', \"'\", 'R', 'o', 'b', 'e', 'r', 't', ' ', 'R', 'y', 'a', 'n', \"'\", 'u', \"'\", 'J', 'a', 'm', 'e', 's', ' ', 'S', 't', 'e', 'w', 'a', 'r', 't', \"'\", ',', ' ', 'u', \"'\", 'J', 'o', 'h', 'n', ' ', 'D', 'a', 'l', 'l', \"'\", ',', ' ', 'u', \"'\", 'F', 'a', 'r', 'l', 'e', 'y', ' ', 'G', 'r', 'a', 'n', 'g', 'e', 'r', \"'\", 'u', \"'\", 'D', 'u', 's', 't', 'i', 'n', ' ', 'H', 'o', 'f', 'f', 'm', 'a', 'n', \"'\", ',', ' ', 'u', \"'\", 'A', 'n', 'n', 'e', ' ', 'B', 'a', 'n', 'c', 'r', 'o', 'f', 't', \"'\", ',', ' ', 'u', \"'\", 'K', 'a', 't', 'h', 'a', 'r', 'i', 'n', 'e', ' ', 'R', 'o', 's', 's', \"'\", 'u', \"'\", 'S', 'a', 'm', ' ', 'N', 'e', 'i', 'l', 'l', \"'\", ',', ' ', 'u', \"'\", 'L', 'a', 'u', 'r', 'a', ' ', 'D', 'e', 'r', 'n', \"'\", ',', ' ', 'u', \"'\", 'J', 'e', 'f', 'f', ' ', 'G', 'o', 'l', 'd', 'b', 'l', 'u', 'm', \"'\", 'u', \"'\", 'N', 'i', 'c', 'o', 'l', 'e', ' ', 'K', 'i', 'd', 'm', 'a', 'n', \"'\", ',', ' ', 'u', \"'\", 'P', 'a', 'u', 'l', ' ', 'B', 'e', 't', 't', 'a', 'n', 'y', \"'\", ',', ' ', 'u', \"'\", 'L', 'a', 'u', 'r', 'e', 'n', ' ', 'B', 'a', 'c', 'a', 'l', 'l', \"'\", 'u', \"'\", 'V', 'i', 'n', ' ', 'D', 'i', 'e', 's', 'e', 'l', \"'\", ',', ' ', 'u', \"'\", 'P', 'a', 'u', 'l', ' ', 'W', 'a', 'l', 'k', 'e', 'r', \"'\", ',', ' ', 'u', \"'\", 'D', 'w', 'a', 'y', 'n', 'e', ' ', 'J', 'o', 'h', 'n', 's', 'o', 'n', \"'\", 'u', \"'\", 'G', 'e', 'o', 'r', 'g', 'e', ' ', 'C', '.', ' ', 'S', 'c', 'o', 't', 't', \"'\", ',', ' ', 'u', \"'\", 'K', 'a', 'r', 'l', ' ', 'M', 'a', 'l', 'd', 'e', 'n', \"'\", ',', ' ', 'u', \"'\", 'S', 't', 'e', 'p', 'h', 'e', 'n', ' ', 'Y', 'o', 'u', 'n', 'g', \"'\", 'u', \"'\", 'D', 'a', 'n', 'n', 'y', ' ', 'E', 'l', 'f', 'm', 'a', 'n', \"'\", ',', ' ', 'u', \"'\", 'C', 'h', 'r', 'i', 's', ' ', 'S', 'a', 'r', 'a', 'n', 'd', 'o', 'n', \"'\", ',', ' ', 'u', '\"', 'C', 'a', 't', 'h', 'e', 'r', 'i', 'n', 'e', ' ', 'O', \"'\", 'H', 'a', 'r', 'a', '\"', 'u', \"'\", 'P', 'e', 't', 'e', 'r', ' ', 'S', 'e', 'l', 'l', 'e', 'r', 's', \"'\", ',', ' ', 'u', \"'\", 'S', 'h', 'i', 'r', 'l', 'e', 'y', ' ', 'M', 'a', 'c', 'L', 'a', 'i', 'n', 'e', \"'\", ',', ' ', 'u', \"'\", 'M', 'e', 'l', 'v', 'y', 'n', ' ', 'D', 'o', 'u', 'g', 'l', 'a', 's', \"'\", 'u', \"'\", 'C', 'h', 'i', 'a', 'r', 'a', ' ', 'M', 'a', 's', 't', 'r', 'o', 'i', 'a', 'n', 'n', 'i', \"'\", ',', ' ', 'u', \"'\", 'C', 'a', 't', 'h', 'e', 'r', 'i', 'n', 'e', ' ', 'D', 'e', 'n', 'e', 'u', 'v', 'e', \"'\", ',', ' ', 'u', \"'\", 'G', 'e', 'n', 'a', ' ', 'R', 'o', 'w', 'l', 'a', 'n', 'd', 's', \"'\", 'u', \"'\", 'R', 'o', 'b', ' ', 'R', 'e', 'i', 'n', 'e', 'r', \"'\", ',', ' ', 'u', \"'\", 'M', 'i', 'c', 'h', 'a', 'e', 'l', ' ', 'M', 'c', 'K', 'e', 'a', 'n', \"'\", ',', ' ', 'u', \"'\", 'C', 'h', 'r', 'i', 's', 't', 'o', 'p', 'h', 'e', 'r', ' ', 'G', 'u', 'e', 's', 't', \"'\", 'u', \"'\", 'J', 'a', 'm', 'e', 's', ' ', 'D', 'e', 'a', 'n', \"'\", ',', ' ', 'u', \"'\", 'R', 'a', 'y', 'm', 'o', 'n', 'd', ' ', 'M', 'a', 's', 's', 'e', 'y', \"'\", ',', ' ', 'u', \"'\", 'J', 'u', 'l', 'i', 'e', ' ', 'H', 'a', 'r', 'r', 'i', 's', \"'\", 'u', \"'\", 'B', 'o', 'b', ' ', 'G', 'e', 'l', 'd', 'o', 'f', \"'\", ',', ' ', 'u', \"'\", 'C', 'h', 'r', 'i', 's', 't', 'i', 'n', 'e', ' ', 'H', 'a', 'r', 'g', 'r', 'e', 'a', 'v', 'e', 's', \"'\", ',', ' ', 'u', \"'\", 'J', 'a', 'm', 'e', 's', ' ', 'L', 'a', 'u', 'r', 'e', 'n', 's', 'o', 'n', \"'\", 'u', \"'\", 'L', 'e', 'o', 'n', 'a', 'r', 'd', 'o', ' ', 'D', 'i', 'C', 'a', 'p', 'r', 'i', 'o', \"'\", ',', ' ', 'u', \"'\", 'D', 'j', 'i', 'm', 'o', 'n', ' ', 'H', 'o', 'u', 'n', 's', 'o', 'u', \"'\", ',', ' ', 'u', \"'\", 'J', 'e', 'n', 'n', 'i', 'f', 'e', 'r', ' ', 'C', 'o', 'n', 'n', 'e', 'l', 'l', 'y', \"'\", 'u', \"'\", 'E', 'w', 'a', 'n', ' ', 'M', 'c', 'G', 'r', 'e', 'g', 'o', 'r', \"'\", ',', ' ', 'u', \"'\", 'A', 'l', 'b', 'e', 'r', 't', ' ', 'F', 'i', 'n', 'n', 'e', 'y', \"'\", ',', ' ', 'u', \"'\", 'B', 'i', 'l', 'l', 'y', ' ', 'C', 'r', 'u', 'd', 'u', 'p', \"'\", 'u', \"'\", 'D', 'e', 'v', ' ', 'P', 'a', 't', 'e', 'l', \"'\", ',', ' ', 'u', \"'\", 'F', 'r', 'e', 'i', 'd', 'a', ' ', 'P', 'i', 'n', 't', 'o', \"'\", ',', ' ', 'u', \"'\", 'S', 'a', 'u', 'r', 'a', 'b', 'h', ' ', 'S', 'h', 'u', 'k', 'l', 'a', \"'\", 'u', \"'\", 'C', 'h', 'r', 'i', 's', ' ', 'P', 'i', 'n', 'e', \"'\", ',', ' ', 'u', \"'\", 'Z', 'a', 'c', 'h', 'a', 'r', 'y', ' ', 'Q', 'u', 'i', 'n', 't', 'o', \"'\", ',', ' ', 'u', \"'\", 'S', 'i', 'm', 'o', 'n', ' ', 'P', 'e', 'g', 'g', \"'\", 'u', \"'\", 'R', 'i', 'c', 'h', 'a', 'r', 'd', ' ', 'F', 'a', 'r', 'n', 's', 'w', 'o', 'r', 't', 'h', \"'\", ',', ' ', 'u', \"'\", 'S', 'i', 's', 's', 'y', ' ', 'S', 'p', 'a', 'c', 'e', 'k', \"'\", ',', ' ', 'u', \"'\", 'J', 'a', 'n', 'e', ' ', 'G', 'a', 'l', 'l', 'o', 'w', 'a', 'y', ' ', 'H', 'e', 'i', 't', 'z', \"'\", 'u', \"'\", 'M', 'a', 'r', 't', 'i', 'n', ' ', 'L', 'a', 'n', 'd', 'a', 'u', \"'\", ',', ' ', 'u', \"'\", 'W', 'o', 'o', 'd', 'y', ' ', 'A', 'l', 'l', 'e', 'n', \"'\", ',', ' ', 'u', \"'\", 'B', 'i', 'l', 'l', ' ', 'B', 'e', 'r', 'n', 's', 't', 'e', 'i', 'n', \"'\", 'u', \"'\", 'C', 'a', 'r', 'y', ' ', 'G', 'r', 'a', 'n', 't', \"'\", ',', ' ', 'u', \"'\", 'A', 'u', 'd', 'r', 'e', 'y', ' ', 'H', 'e', 'p', 'b', 'u', 'r', 'n', \"'\", ',', ' ', 'u', \"'\", 'W', 'a', 'l', 't', 'e', 'r', ' ', 'M', 'a', 't', 't', 'h', 'a', 'u', \"'\", 'u', \"'\", 'K', 'e', 'v', 'i', 'n', ' ', 'C', 'o', 's', 't', 'n', 'e', 'r', \"'\", ',', ' ', 'u', \"'\", 'G', 'a', 'r', 'y', ' ', 'O', 'l', 'd', 'm', 'a', 'n', \"'\", ',', ' ', 'u', \"'\", 'J', 'a', 'c', 'k', ' ', 'L', 'e', 'm', 'm', 'o', 'n', \"'\", 'u', \"'\", 'D', 'a', 'v', 'i', 'd', ' ', 'E', 'm', 'g', 'e', \"'\", ',', ' ', 'u', \"'\", 'K', 'e', 'n', ' ', 'F', 'o', 'r', 'e', 'e', \"'\", ',', ' ', 'u', \"'\", 'S', 'c', 'o', 't', 't', ' ', 'H', '.', ' ', 'R', 'e', 'i', 'n', 'i', 'g', 'e', 'r', \"'\", 'u', \"'\", 'T', 'o', 'm', ' ', 'C', 'r', 'u', 'i', 's', 'e', \"'\", ',', ' ', 'u', \"'\", 'J', 'a', 's', 'o', 'n', ' ', 'R', 'o', 'b', 'a', 'r', 'd', 's', \"'\", ',', ' ', 'u', \"'\", 'J', 'u', 'l', 'i', 'a', 'n', 'n', 'e', ' ', 'M', 'o', 'o', 'r', 'e', \"'\", 'u', \"'\", 'W', 'o', 'o', 'd', 'y', ' ', 'A', 'l', 'l', 'e', 'n', \"'\", ',', ' ', 'u', \"'\", 'D', 'i', 'a', 'n', 'e', ' ', 'K', 'e', 'a', 't', 'o', 'n', \"'\", ',', ' ', 'u', \"'\", 'M', 'a', 'r', 'i', 'e', 'l', ' ', 'H', 'e', 'm', 'i', 'n', 'g', 'w', 'a', 'y', \"'\", 'u', \"'\", 'F', 'e', 'r', 'n', 'a', 'n', 'd', 'a', ' ', 'M', 'o', 'n', 't', 'e', 'n', 'e', 'g', 'r', 'o', \"'\", ',', ' ', 'u', \"'\", 'V', 'i', 'n', '\\\\', 'x', 'e', 'd', 'c', 'i', 'u', 's', ' ', 'd', 'e', ' ', 'O', 'l', 'i', 'v', 'e', 'i', 'r', 'a', \"'\", ',', ' ', 'u', \"'\", 'M', 'a', 'r', '\\\\', 'x', 'e', 'd', 'l', 'i', 'a', ' ', 'P', '\\\\', 'x', 'e', 'a', 'r', 'a', \"'\", 'u', \"'\", 'J', 'o', 'n', 'a', 't', 'h', 'a', 'n', ' ', 'P', 'r', 'y', 'c', 'e', \"'\", ',', ' ', 'u', \"'\", 'K', 'i', 'm', ' ', 'G', 'r', 'e', 'i', 's', 't', \"'\", ',', ' ', 'u', \"'\", 'R', 'o', 'b', 'e', 'r', 't', ' ', 'D', 'e', ' ', 'N', 'i', 'r', 'o', \"'\", 'u', \"'\", 'E', 'l', 'l', 'e', 'n', ' ', 'B', 'u', 'r', 's', 't', 'y', 'n', \"'\", ',', ' ', 'u', \"'\", 'M', 'a', 'x', ' ', 'v', 'o', 'n', ' ', 'S', 'y', 'd', 'o', 'w', \"'\", ',', ' ', 'u', \"'\", 'L', 'i', 'n', 'd', 'a', ' ', 'B', 'l', 'a', 'i', 'r', \"'\", 'u', \"'\", 'J', 'o', 'a', 'q', 'u', 'i', 'n', ' ', 'P', 'h', 'o', 'e', 'n', 'i', 'x', \"'\", ',', ' ', 'u', \"'\", 'A', 'm', 'y', ' ', 'A', 'd', 'a', 'm', 's', \"'\", ',', ' ', 'u', \"'\", 'S', 'c', 'a', 'r', 'l', 'e', 't', 't', ' ', 'J', 'o', 'h', 'a', 'n', 's', 's', 'o', 'n', \"'\", 'u', \"'\", 'B', 'j', '\\\\', 'x', 'f', '6', 'r', 'k', \"'\", ',', ' ', 'u', \"'\", 'C', 'a', 't', 'h', 'e', 'r', 'i', 'n', 'e', ' ', 'D', 'e', 'n', 'e', 'u', 'v', 'e', \"'\", ',', ' ', 'u', \"'\", 'D', 'a', 'v', 'i', 'd', ' ', 'M', 'o', 'r', 's', 'e', \"'\", 'u', \"'\", 'D', 'u', 's', 't', 'i', 'n', ' ', 'H', 'o', 'f', 'f', 'm', 'a', 'n', \"'\", ',', ' ', 'u', \"'\", 'T', 'o', 'm', ' ', 'C', 'r', 'u', 'i', 's', 'e', \"'\", ',', ' ', 'u', \"'\", 'V', 'a', 'l', 'e', 'r', 'i', 'a', ' ', 'G', 'o', 'l', 'i', 'n', 'o', \"'\", 'u', \"'\", 'R', 'o', 's', 'a', 'r', 'i', 'o', ' ', 'F', 'l', 'o', 'r', 'e', 's', \"'\", ',', ' ', 'u', \"'\", 'J', 'a', 'v', 'i', 'e', 'r', ' ', 'C', '\\\\', 'x', 'e', '1', 'm', 'a', 'r', 'a', \"'\", ',', ' ', 'u', \"'\", 'D', 'a', 'r', '\\\\', 'x', 'e', 'd', 'o', ' ', 'G', 'r', 'a', 'n', 'd', 'i', 'n', 'e', 't', 't', 'i', \"'\", 'u', \"'\", 'E', 'r', 'r', 'o', 'l', ' ', 'F', 'l', 'y', 'n', 'n', \"'\", ',', ' ', 'u', \"'\", 'O', 'l', 'i', 'v', 'i', 'a', ' ', 'd', 'e', ' ', 'H', 'a', 'v', 'i', 'l', 'l', 'a', 'n', 'd', \"'\", ',', ' ', 'u', \"'\", 'B', 'a', 's', 'i', 'l', ' ', 'R', 'a', 't', 'h', 'b', 'o', 'n', 'e', \"'\", 'u', \"'\", 'K', 'l', 'a', 'u', 's', ' ', 'K', 'i', 'n', 's', 'k', 'i', \"'\", ',', ' ', 'u', \"'\", 'R', 'u', 'y', ' ', 'G', 'u', 'e', 'r', 'r', 'a', \"'\", ',', ' ', 'u', \"'\", 'H', 'e', 'l', 'e', 'n', 'a', ' ', 'R', 'o', 'j', 'o', \"'\", 'u', \"'\", 'S', 'i', 'd', 'n', 'e', 'y', ' ', 'P', 'o', 'i', 't', 'i', 'e', 'r', \"'\", ',', ' ', 'u', \"'\", 'R', 'o', 'd', ' ', 'S', 't', 'e', 'i', 'g', 'e', 'r', \"'\", ',', ' ', 'u', \"'\", 'W', 'a', 'r', 'r', 'e', 'n', ' ', 'O', 'a', 't', 'e', 's', \"'\", 'u', \"'\", 'M', 'a', 'x', ' ', 'S', 'c', 'h', 'r', 'e', 'c', 'k', \"'\", ',', ' ', 'u', \"'\", 'G', 'r', 'e', 't', 'a', ' ', 'S', 'c', 'h', 'r', '\\\\', 'x', 'f', '6', 'd', 'e', 'r', \"'\", ',', ' ', 'u', \"'\", 'R', 'u', 't', 'h', ' ', 'L', 'a', 'n', 'd', 's', 'h', 'o', 'f', 'f', \"'\", 'u', \"'\", 'N', 'a', 't', 'a', 'l', 'i', 'e', ' ', 'P', 'o', 'r', 't', 'm', 'a', 'n', \"'\", ',', ' ', 'u', \"'\", 'M', 'i', 'l', 'a', ' ', 'K', 'u', 'n', 'i', 's', \"'\", ',', ' ', 'u', \"'\", 'V', 'i', 'n', 'c', 'e', 'n', 't', ' ', 'C', 'a', 's', 's', 'e', 'l', \"'\", 'u', \"'\", 'B', 'r', 'a', 'd', ' ', 'G', 'a', 'r', 'r', 'e', 't', 't', \"'\", ',', ' ', 'u', \"'\", 'L', 'o', 'u', ' ', 'R', 'o', 'm', 'a', 'n', 'o', \"'\", ',', ' ', 'u', \"'\", 'P', 'a', 't', 't', 'o', 'n', ' ', 'O', 's', 'w', 'a', 'l', 't', \"'\", 'u', \"'\", 'J', 'o', 'h', 'n', ' ', 'W', 'a', 'y', 'n', 'e', \"'\", ',', ' ', 'u', \"'\", 'J', 'e', 'f', 'f', 'r', 'e', 'y', ' ', 'H', 'u', 'n', 't', 'e', 'r', \"'\", ',', ' ', 'u', \"'\", 'V', 'e', 'r', 'a', ' ', 'M', 'i', 'l', 'e', 's', \"'\", 'u', \"'\", 'B', 'r', 'i', 'e', ' ', 'L', 'a', 'r', 's', 'o', 'n', \"'\", ',', ' ', 'u', \"'\", 'F', 'r', 'a', 'n', 't', 'z', ' ', 'T', 'u', 'r', 'n', 'e', 'r', \"'\", ',', ' ', 'u', \"'\", 'J', 'o', 'h', 'n', ' ', 'G', 'a', 'l', 'l', 'a', 'g', 'h', 'e', 'r', ' ', 'J', 'r', '.', \"'\", 'u', \"'\", 'O', 'm', 'a', 'r', ' ', 'S', 'h', 'a', 'r', 'i', 'f', \"'\", ',', ' ', 'u', \"'\", 'J', 'u', 'l', 'i', 'e', ' ', 'C', 'h', 'r', 'i', 's', 't', 'i', 'e', \"'\", ',', ' ', 'u', \"'\", 'G', 'e', 'r', 'a', 'l', 'd', 'i', 'n', 'e', ' ', 'C', 'h', 'a', 'p', 'l', 'i', 'n', \"'\", 'u', \"'\", 'S', 'u', 'r', 'a', 'j', ' ', 'S', 'h', 'a', 'r', 'm', 'a', \"'\", ',', ' ', 'u', \"'\", 'I', 'r', 'r', 'f', 'a', 'n', ' ', 'K', 'h', 'a', 'n', \"'\", ',', ' ', 'u', \"'\", 'A', 'd', 'i', 'l', ' ', 'H', 'u', 's', 's', 'a', 'i', 'n', \"'\", 'u', \"'\", 'D', 'u', 's', 't', 'i', 'n', ' ', 'H', 'o', 'f', 'f', 'm', 'a', 'n', \"'\", ',', ' ', 'u', \"'\", 'R', 'o', 'b', 'e', 'r', 't', ' ', 'R', 'e', 'd', 'f', 'o', 'r', 'd', \"'\", ',', ' ', 'u', \"'\", 'J', 'a', 'c', 'k', ' ', 'W', 'a', 'r', 'd', 'e', 'n', \"'\", 'u', \"'\", 'A', 'l', 'e', 'k', 's', 'a', 'n', 'd', 'r', ' ', 'A', 'n', 't', 'o', 'n', 'o', 'v', \"'\", ',', ' ', 'u', \"'\", 'V', 'l', 'a', 'd', 'i', 'm', 'i', 'r', ' ', 'B', 'a', 'r', 's', 'k', 'y', \"'\", ',', ' ', 'u', \"'\", 'G', 'r', 'i', 'g', 'o', 'r', 'i', ' ', 'A', 'l', 'e', 'k', 's', 'a', 'n', 'd', 'r', 'o', 'v', \"'\", 'u', \"'\", 'K', 'e', 'v', 'i', 'n', ' ', 'C', 'o', 's', 't', 'n', 'e', 'r', \"'\", ',', ' ', 'u', \"'\", 'M', 'a', 'r', 'y', ' ', 'M', 'c', 'D', 'o', 'n', 'n', 'e', 'l', 'l', \"'\", ',', ' ', 'u', \"'\", 'G', 'r', 'a', 'h', 'a', 'm', ' ', 'G', 'r', 'e', 'e', 'n', 'e', \"'\", 'u', \"'\", 'L', 'e', 'o', 'n', 'a', 'r', 'd', 'o', ' ', 'D', 'i', 'C', 'a', 'p', 'r', 'i', 'o', \"'\", ',', ' ', 'u', \"'\", 'T', 'o', 'm', ' ', 'H', 'a', 'n', 'k', 's', \"'\", ',', ' ', 'u', \"'\", 'C', 'h', 'r', 'i', 's', 't', 'o', 'p', 'h', 'e', 'r', ' ', 'W', 'a', 'l', 'k', 'e', 'n', \"'\", 'u', \"'\", 'R', 'u', 's', 's', 'e', 'l', 'l', ' ', 'C', 'r', 'o', 'w', 'e', \"'\", ',', ' ', 'u', \"'\", 'R', 'e', 'n', '\\\\', 'x', 'e', '9', 'e', ' ', 'Z', 'e', 'l', 'l', 'w', 'e', 'g', 'e', 'r', \"'\", ',', ' ', 'u', \"'\", 'C', 'r', 'a', 'i', 'g', ' ', 'B', 'i', 'e', 'r', 'k', 'o', \"'\", 'u', \"'\", 'R', 'o', 'b', 'i', 'n', ' ', 'W', 'i', 'l', 'l', 'i', 'a', 'm', 's', \"'\", ',', ' ', 'u', \"'\", 'R', 'o', 'b', 'e', 'r', 't', ' ', 'S', 'e', 'a', 'n', ' ', 'L', 'e', 'o', 'n', 'a', 'r', 'd', \"'\", ',', ' ', 'u', \"'\", 'E', 't', 'h', 'a', 'n', ' ', 'H', 'a', 'w', 'k', 'e', \"'\", 'u', \"'\", 'A', 't', 's', 'u', 'k', 'o', ' ', 'T', 'a', 'n', 'a', 'k', 'a', \"'\", ',', ' ', 'u', \"'\", 'I', 'e', 'm', 'a', 's', 'a', ' ', 'K', 'a', 'y', 'u', 'm', 'i', \"'\", ',', ' ', 'u', \"'\", 'A', 'k', 'i', 'o', ' ', '\\\\', 'x', 'd', '4', 't', 's', 'u', 'k', 'a', \"'\", 'u', \"'\", 'B', 'i', 'r', 'o', 'l', ' ', '\\\\', 'x', 'd', 'c', 'n', 'e', 'l', \"'\", ',', ' ', 'u', \"'\", 'S', 'i', 'b', 'e', 'l', ' ', 'K', 'e', 'k', 'i', 'l', 'l', 'i', \"'\", ',', ' ', 'u', \"'\", 'G', '\\\\', 'x', 'f', 'c', 'v', 'e', 'n', ' ', 'K', 'i', 'r', 'a', '\\\\', 'x', 'e', '7', \"'\", 'u', \"'\", 'B', 'r', 'a', 'n', 'k', 'o', ' ', 'D', 'j', 'u', 'r', 'i', 'c', \"'\", ',', ' ', 'u', \"'\", 'R', 'e', 'n', 'e', ' ', 'B', 'i', 't', 'o', 'r', 'a', 'j', 'a', 'c', \"'\", ',', ' ', 'u', \"'\", 'F', 'i', 'l', 'i', 'p', ' ', 'S', 'o', 'v', 'a', 'g', 'o', 'v', 'i', 'c', \"'\", 'u', \"'\", 'M', 'a', 't', 't', 'h', 'e', 'w', ' ', 'M', 'c', 'C', 'o', 'n', 'a', 'u', 'g', 'h', 'e', 'y', \"'\", ',', ' ', 'u', \"'\", 'J', 'e', 'n', 'n', 'i', 'f', 'e', 'r', ' ', 'G', 'a', 'r', 'n', 'e', 'r', \"'\", ',', ' ', 'u', \"'\", 'J', 'a', 'r', 'e', 'd', ' ', 'L', 'e', 't', 'o', \"'\", 'u', \"'\", 'R', 'i', 'c', 'h', 'a', 'r', 'd', ' ', 'G', 'e', 'r', 'e', \"'\", ',', ' ', 'u', \"'\", 'B', 'r', 'o', 'o', 'k', 'e', ' ', 'A', 'd', 'a', 'm', 's', \"'\", ',', ' ', 'u', \"'\", 'S', 'a', 'm', ' ', 'S', 'h', 'e', 'p', 'a', 'r', 'd', \"'\", 'u', \"'\", 'J', 'u', 'l', 'i', 'e', ' ', 'A', 'n', 'd', 'r', 'e', 'w', 's', \"'\", ',', ' ', 'u', \"'\", 'C', 'h', 'r', 'i', 's', 't', 'o', 'p', 'h', 'e', 'r', ' ', 'P', 'l', 'u', 'm', 'm', 'e', 'r', \"'\", ',', ' ', 'u', \"'\", 'E', 'l', 'e', 'a', 'n', 'o', 'r', ' ', 'P', 'a', 'r', 'k', 'e', 'r', \"'\", 'u', \"'\", 'S', 'h', 'a', 'r', 'l', 't', 'o', ' ', 'C', 'o', 'p', 'l', 'e', 'y', \"'\", ',', ' ', 'u', \"'\", 'D', 'a', 'v', 'i', 'd', ' ', 'J', 'a', 'm', 'e', 's', \"'\", ',', ' ', 'u', \"'\", 'J', 'a', 's', 'o', 'n', ' ', 'C', 'o', 'p', 'e', \"'\", 'u', \"'\", 'T', 'e', 'r', 'e', 's', 'a', ' ', 'W', 'r', 'i', 'g', 'h', 't', \"'\", ',', ' ', 'u', \"'\", 'J', 'o', 's', 'e', 'p', 'h', ' ', 'C', 'o', 't', 't', 'e', 'n', \"'\", ',', ' ', 'u', \"'\", 'M', 'a', 'c', 'd', 'o', 'n', 'a', 'l', 'd', ' ', 'C', 'a', 'r', 'e', 'y', \"'\", 'u', \"'\", 'C', 'o', 'l', 'i', 'n', ' ', 'C', 'l', 'i', 'v', 'e', \"'\", ',', ' ', 'u', \"'\", 'M', 'a', 'e', ' ', 'C', 'l', 'a', 'r', 'k', 'e', \"'\", ',', ' ', 'u', \"'\", 'B', 'o', 'r', 'i', 's', ' ', 'K', 'a', 'r', 'l', 'o', 'f', 'f', \"'\", 'u', \"'\", 'S', 'i', 'm', 'o', 'n', ' ', 'P', 'e', 'g', 'g', \"'\", ',', ' ', 'u', \"'\", 'N', 'i', 'c', 'k', ' ', 'F', 'r', 'o', 's', 't', \"'\", ',', ' ', 'u', \"'\", 'K', 'a', 't', 'e', ' ', 'A', 's', 'h', 'f', 'i', 'e', 'l', 'd', \"'\", 'u', \"'\", 'D', 'u', 'a', 'n', 'e', ' ', 'J', 'o', 'n', 'e', 's', \"'\", ',', ' ', 'u', '\"', 'J', 'u', 'd', 'i', 't', 'h', ' ', 'O', \"'\", 'D', 'e', 'a', '\"', ',', ' ', 'u', \"'\", 'K', 'a', 'r', 'l', ' ', 'H', 'a', 'r', 'd', 'm', 'a', 'n', \"'\", 'u', \"'\", 'U', 'm', 'a', ' ', 'T', 'h', 'u', 'r', 'm', 'a', 'n', \"'\", ',', ' ', 'u', \"'\", 'D', 'a', 'v', 'i', 'd', ' ', 'C', 'a', 'r', 'r', 'a', 'd', 'i', 'n', 'e', \"'\", ',', ' ', 'u', \"'\", 'M', 'i', 'c', 'h', 'a', 'e', 'l', ' ', 'M', 'a', 'd', 's', 'e', 'n', \"'\", 'u', \"'\", 'T', 'i', 'm', 'o', 't', 'h', 'y', ' ', 'S', 'p', 'a', 'l', 'l', \"'\", ',', ' ', 'u', \"'\", 'B', 'r', 'e', 'n', 'd', 'a', ' ', 'B', 'l', 'e', 't', 'h', 'y', 'n', \"'\", ',', ' ', 'u', \"'\", 'P', 'h', 'y', 'l', 'l', 'i', 's', ' ', 'L', 'o', 'g', 'a', 'n', \"'\", 'u', \"'\", 'J', 'e', 'a', 'n', ' ', 'D', 'u', 'j', 'a', 'r', 'd', 'i', 'n', \"'\", ',', ' ', 'u', \"'\", 'B', '\\\\', 'x', 'e', '9', 'r', '\\\\', 'x', 'e', '9', 'n', 'i', 'c', 'e', ' ', 'B', 'e', 'j', 'o', \"'\", ',', ' ', 'u', \"'\", 'J', 'o', 'h', 'n', ' ', 'G', 'o', 'o', 'd', 'm', 'a', 'n', \"'\", 'u', \"'\", 'S', 'c', 'o', 't', 't', ' ', 'W', 'e', 'i', 'n', 'g', 'e', 'r', \"'\", ',', ' ', 'u', \"'\", 'R', 'o', 'b', 'i', 'n', ' ', 'W', 'i', 'l', 'l', 'i', 'a', 'm', 's', \"'\", ',', ' ', 'u', \"'\", 'L', 'i', 'n', 'd', 'a', ' ', 'L', 'a', 'r', 'k', 'i', 'n', \"'\", 'u', \"'\", 'M', 'a', 'r', 'g', 'a', 'r', 'e', 't', ' ', 'L', 'o', 'c', 'k', 'w', 'o', 'o', 'd', \"'\", ',', ' ', 'u', \"'\", 'M', 'i', 'c', 'h', 'a', 'e', 'l', ' ', 'R', 'e', 'd', 'g', 'r', 'a', 'v', 'e', \"'\", ',', ' ', 'u', \"'\", 'P', 'a', 'u', 'l', ' ', 'L', 'u', 'k', 'a', 's', \"'\", 'u', \"'\", 'I', 'a', 'n', ' ', 'M', 'c', 'K', 'e', 'l', 'l', 'e', 'n', \"'\", ',', ' ', 'u', \"'\", 'M', 'a', 'r', 't', 'i', 'n', ' ', 'F', 'r', 'e', 'e', 'm', 'a', 'n', \"'\", ',', ' ', 'u', \"'\", 'R', 'i', 'c', 'h', 'a', 'r', 'd', ' ', 'A', 'r', 'm', 'i', 't', 'a', 'g', 'e', \"'\", 'u', \"'\", 'K', '\\\\', 'x', 'e', '5', 'r', 'e', ' ', 'H', 'e', 'd', 'e', 'b', 'r', 'a', 'n', 't', \"'\", ',', ' ', 'u', \"'\", 'L', 'i', 'n', 'a', ' ', 'L', 'e', 'a', 'n', 'd', 'e', 'r', 's', 's', 'o', 'n', \"'\", ',', ' ', 'u', \"'\", 'P', 'e', 'r', ' ', 'R', 'a', 'g', 'n', 'a', 'r', \"'\", 'u', \"'\", 'T', 'o', 'p', 'o', 'l', \"'\", ',', ' ', 'u', \"'\", 'N', 'o', 'r', 'm', 'a', ' ', 'C', 'r', 'a', 'n', 'e', \"'\", ',', ' ', 'u', \"'\", 'L', 'e', 'o', 'n', 'a', 'r', 'd', ' ', 'F', 'r', 'e', 'y', \"'\", 'u', \"'\", 'M', 'a', 'r', 't', 'i', 'n', ' ', 'F', 'r', 'e', 'e', 'm', 'a', 'n', \"'\", ',', ' ', 'u', \"'\", 'I', 'a', 'n', ' ', 'M', 'c', 'K', 'e', 'l', 'l', 'e', 'n', \"'\", ',', ' ', 'u', \"'\", 'R', 'i', 'c', 'h', 'a', 'r', 'd', ' ', 'A', 'r', 'm', 'i', 't', 'a', 'g', 'e', \"'\", 'u', \"'\", 'J', 'u', 'l', 'i', 'e', 't', 't', 'e', ' ', 'B', 'i', 'n', 'o', 'c', 'h', 'e', \"'\", ',', ' ', 'u', \"'\", 'Z', 'b', 'i', 'g', 'n', 'i', 'e', 'w', ' ', 'Z', 'a', 'm', 'a', 'c', 'h', 'o', 'w', 's', 'k', 'i', \"'\", ',', ' ', 'u', \"'\", 'J', 'u', 'l', 'i', 'e', ' ', 'D', 'e', 'l', 'p', 'y', \"'\", 'u', \"'\", 'M', 'i', 'a', ' ', 'F', 'a', 'r', 'r', 'o', 'w', \"'\", ',', ' ', 'u', \"'\", 'J', 'o', 'h', 'n', ' ', 'C', 'a', 's', 's', 'a', 'v', 'e', 't', 'e', 's', \"'\", ',', ' ', 'u', \"'\", 'R', 'u', 't', 'h', ' ', 'G', 'o', 'r', 'd', 'o', 'n', \"'\", 'u', \"'\", 'S', 'e', 'a', 'n', ' ', 'P', 'e', 'n', 'n', \"'\", ',', ' ', 'u', \"'\", 'T', 'i', 'm', ' ', 'R', 'o', 'b', 'b', 'i', 'n', 's', \"'\", ',', ' ', 'u', \"'\", 'K', 'e', 'v', 'i', 'n', ' ', 'B', 'a', 'c', 'o', 'n', \"'\", 'u', \"'\", 'N', 'a', 't', 'h', 'a', 'n', ' ', 'F', 'i', 'l', 'l', 'i', 'o', 'n', \"'\", ',', ' ', 'u', \"'\", 'G', 'i', 'n', 'a', ' ', 'T', 'o', 'r', 'r', 'e', 's', \"'\", ',', ' ', 'u', \"'\", 'C', 'h', 'i', 'w', 'e', 't', 'e', 'l', ' ', 'E', 'j', 'i', 'o', 'f', 'o', 'r', \"'\", 'u', \"'\", 'M', 'a', 'g', 'a', 'l', 'i', ' ', 'N', 'o', '\\\\', 'x', 'e', 'b', 'l', \"'\", ',', ' ', 'u', \"'\", 'B', 'r', 'u', 'n', 'o', ' ', 'Z', 'a', 'n', 'i', 'n', \"'\", ',', ' ', 'u', \"'\", 'P', 'u', 'p', 'e', 'l', 'l', 'a', ' ', 'M', 'a', 'g', 'g', 'i', 'o', \"'\", 'u', \"'\", 'C', 'h', 'a', 'r', 'l', 't', 'o', 'n', ' ', 'H', 'e', 's', 't', 'o', 'n', \"'\", ',', ' ', 'u', \"'\", 'R', 'o', 'd', 'd', 'y', ' ', 'M', 'c', 'D', 'o', 'w', 'a', 'l', 'l', \"'\", ',', ' ', 'u', \"'\", 'K', 'i', 'm', ' ', 'H', 'u', 'n', 't', 'e', 'r', \"'\", 'u', \"'\", 'C', 'h', 'r', 'i', 's', 't', 'i', 'a', 'n', ' ', 'S', 'l', 'a', 't', 'e', 'r', \"'\", ',', ' ', 'u', \"'\", 'P', 'a', 't', 'r', 'i', 'c', 'i', 'a', ' ', 'A', 'r', 'q', 'u', 'e', 't', 't', 'e', \"'\", ',', ' ', 'u', \"'\", 'D', 'e', 'n', 'n', 'i', 's', ' ', 'H', 'o', 'p', 'p', 'e', 'r', \"'\", 'u', \"'\", 'M', 'i', 'a', ' ', 'F', 'a', 'r', 'r', 'o', 'w', \"'\", ',', ' ', 'u', \"'\", 'D', 'i', 'a', 'n', 'n', 'e', ' ', 'W', 'i', 'e', 's', 't', \"'\", ',', ' ', 'u', \"'\", 'M', 'i', 'c', 'h', 'a', 'e', 'l', ' ', 'C', 'a', 'i', 'n', 'e', \"'\", 'u', \"'\", 'S', 'a', 'm', ' ', 'R', 'o', 'c', 'k', 'w', 'e', 'l', 'l', \"'\", ',', ' ', 'u', \"'\", 'K', 'e', 'v', 'i', 'n', ' ', 'S', 'p', 'a', 'c', 'e', 'y', \"'\", ',', ' ', 'u', \"'\", 'D', 'o', 'm', 'i', 'n', 'i', 'q', 'u', 'e', ' ', 'M', 'c', 'E', 'l', 'l', 'i', 'g', 'o', 't', 't', \"'\", 'u', \"'\", 'E', 't', 'h', 'a', 'n', ' ', 'H', 'a', 'w', 'k', 'e', \"'\", ',', ' ', 'u', \"'\", 'J', 'u', 'l', 'i', 'e', ' ', 'D', 'e', 'l', 'p', 'y', \"'\", ',', ' ', 'u', \"'\", 'S', 'e', 'a', 'm', 'u', 's', ' ', 'D', 'a', 'v', 'e', 'y', '-', 'F', 'i', 't', 'z', 'p', 'a', 't', 'r', 'i', 'c', 'k', \"'\", 'u', \"'\", 'S', 'h', 'a', 'h', ' ', 'R', 'u', 'k', 'h', ' ', 'K', 'h', 'a', 'n', \"'\", ',', ' ', 'u', \"'\", 'K', 'a', 'j', 'o', 'l', \"'\", ',', ' ', 'u', \"'\", 'S', 'h', 'e', 'e', 't', 'a', 'l', ' ', 'M', 'e', 'n', 'o', 'n', \"'\", 'u', \"'\", 'A', 'l', ' ', 'P', 'a', 'c', 'i', 'n', 'o', \"'\", ',', ' ', 'u', '\"', 'C', 'h', 'r', 'i', 's', ' ', 'O', \"'\", 'D', 'o', 'n', 'n', 'e', 'l', 'l', '\"', ',', ' ', 'u', \"'\", 'J', 'a', 'm', 'e', 's', ' ', 'R', 'e', 'b', 'h', 'o', 'r', 'n', \"'\", 'u', \"'\", 'N', 'a', 'o', 'm', 'i', ' ', 'W', 'a', 't', 't', 's', \"'\", ',', ' ', 'u', \"'\", 'L', 'a', 'u', 'r', 'a', ' ', 'H', 'a', 'r', 'r', 'i', 'n', 'g', \"'\", ',', ' ', 'u', \"'\", 'J', 'u', 's', 't', 'i', 'n', ' ', 'T', 'h', 'e', 'r', 'o', 'u', 'x', \"'\", 'u', \"'\", 'F', 'a', 'y', ' ', 'W', 'r', 'a', 'y', \"'\", ',', ' ', 'u', \"'\", 'R', 'o', 'b', 'e', 'r', 't', ' ', 'A', 'r', 'm', 's', 't', 'r', 'o', 'n', 'g', \"'\", ',', ' ', 'u', \"'\", 'B', 'r', 'u', 'c', 'e', ' ', 'C', 'a', 'b', 'o', 't', \"'\", 'u', \"'\", 'S', 'h', 'a', 'i', 'l', 'e', 'n', 'e', ' ', 'W', 'o', 'o', 'd', 'l', 'e', 'y', \"'\", ',', ' ', 'u', \"'\", 'A', 'n', 's', 'e', 'l', ' ', 'E', 'l', 'g', 'o', 'r', 't', \"'\", ',', ' ', 'u', \"'\", 'N', 'a', 't', ' ', 'W', 'o', 'l', 'f', 'f', \"'\", 'u', \"'\", 'C', 'r', 'a', 'i', 'g', ' ', 'T', '.', ' ', 'N', 'e', 'l', 's', 'o', 'n', \"'\", ',', ' ', 'u', \"'\", 'S', 'a', 'm', 'u', 'e', 'l', ' ', 'L', '.', ' ', 'J', 'a', 'c', 'k', 's', 'o', 'n', \"'\", ',', ' ', 'u', \"'\", 'H', 'o', 'l', 'l', 'y', ' ', 'H', 'u', 'n', 't', 'e', 'r', \"'\", 'u', \"'\", 'J', 'o', 'h', 'n', 'n', 'y', ' ', 'D', 'e', 'p', 'p', \"'\", ',', ' ', 'u', \"'\", 'W', 'i', 'n', 'o', 'n', 'a', ' ', 'R', 'y', 'd', 'e', 'r', \"'\", ',', ' ', 'u', \"'\", 'D', 'i', 'a', 'n', 'n', 'e', ' ', 'W', 'i', 'e', 's', 't', \"'\", 'u', \"'\", 'D', 'a', 'n', 'i', 'e', 'l', ' ', 'C', 'r', 'a', 'i', 'g', \"'\", ',', ' ', 'u', \"'\", 'E', 'v', 'a', ' ', 'G', 'r', 'e', 'e', 'n', \"'\", ',', ' ', 'u', \"'\", 'J', 'u', 'd', 'i', ' ', 'D', 'e', 'n', 'c', 'h', \"'\", 'u', \"'\", 'J', 'a', 'y', ' ', 'B', 'a', 'r', 'u', 'c', 'h', 'e', 'l', \"'\", ',', ' ', 'u', \"'\", 'C', 'a', 't', 'e', ' ', 'B', 'l', 'a', 'n', 'c', 'h', 'e', 't', 't', \"'\", ',', ' ', 'u', \"'\", 'G', 'e', 'r', 'a', 'r', 'd', ' ', 'B', 'u', 't', 'l', 'e', 'r', \"'\", 'u', \"'\", 'C', 'o', 'l', 'i', 'n', ' ', 'F', 'a', 'r', 'r', 'e', 'l', 'l', \"'\", ',', ' ', 'u', \"'\", 'B', 'r', 'e', 'n', 'd', 'a', 'n', ' ', 'G', 'l', 'e', 'e', 's', 'o', 'n', \"'\", ',', ' ', 'u', \"'\", 'C', 'i', 'a', 'r', '\\\\', 'x', 'e', '1', 'n', ' ', 'H', 'i', 'n', 'd', 's', \"'\", 'u', \"'\", 'K', 'e', 'v', 'i', 'n', ' ', 'C', 'o', 's', 't', 'n', 'e', 'r', \"'\", ',', ' ', 'u', \"'\", 'S', 'e', 'a', 'n', ' ', 'C', 'o', 'n', 'n', 'e', 'r', 'y', \"'\", ',', ' ', 'u', \"'\", 'R', 'o', 'b', 'e', 'r', 't', ' ', 'D', 'e', ' ', 'N', 'i', 'r', 'o', \"'\", 'u', \"'\", 'J', 'e', 'a', 'n', '-', 'P', 'a', 'u', 'l', ' ', 'B', 'e', 'l', 'm', 'o', 'n', 'd', 'o', \"'\", ',', ' ', 'u', \"'\", 'J', 'e', 'a', 'n', ' ', 'S', 'e', 'b', 'e', 'r', 'g', \"'\", ',', ' ', 'u', \"'\", 'D', 'a', 'n', 'i', 'e', 'l', ' ', 'B', 'o', 'u', 'l', 'a', 'n', 'g', 'e', 'r', \"'\", 'u', \"'\", 'K', 'i', 'r', 'k', ' ', 'D', 'o', 'u', 'g', 'l', 'a', 's', \"'\", ',', ' ', 'u', \"'\", 'L', 'a', 'u', 'r', 'e', 'n', 'c', 'e', ' ', 'O', 'l', 'i', 'v', 'i', 'e', 'r', \"'\", ',', ' ', 'u', \"'\", 'J', 'e', 'a', 'n', ' ', 'S', 'i', 'm', 'm', 'o', 'n', 's', \"'\", 'u', \"'\", 'E', 'l', 'i', ' ', 'M', 'a', 'r', 'i', 'e', 'n', 't', 'h', 'a', 'l', \"'\", ',', ' ', 'u', \"'\", 'H', 'a', 'r', 'r', 'y', ' ', 'C', 'o', 'n', 'n', 'i', 'c', 'k', ' ', 'J', 'r', '.', \"'\", ',', ' ', 'u', \"'\", 'J', 'e', 'n', 'n', 'i', 'f', 'e', 'r', ' ', 'A', 'n', 'i', 's', 't', 'o', 'n', \"'\", 'u', \"'\", 'D', 'u', 's', 't', 'i', 'n', ' ', 'H', 'o', 'f', 'f', 'm', 'a', 'n', \"'\", ',', ' ', 'u', \"'\", 'J', 'o', 'n', ' ', 'V', 'o', 'i', 'g', 'h', 't', \"'\", ',', ' ', 'u', \"'\", 'S', 'y', 'l', 'v', 'i', 'a', ' ', 'M', 'i', 'l', 'e', 's', \"'\", 'u', \"'\", 'J', 'o', 'h', 'n', ' ', 'B', 'e', 'l', 'u', 's', 'h', 'i', \"'\", ',', ' ', 'u', \"'\", 'D', 'a', 'n', ' ', 'A', 'y', 'k', 'r', 'o', 'y', 'd', \"'\", ',', ' ', 'u', \"'\", 'C', 'a', 'b', ' ', 'C', 'a', 'l', 'l', 'o', 'w', 'a', 'y', \"'\", 'u', \"'\", 'W', 'a', 'l', 'l', 'a', 'c', 'e', ' ', 'F', 'o', 'r', 'd', \"'\", ',', ' ', 'u', \"'\", 'L', 'e', 'i', 'l', 'a', ' ', 'H', 'y', 'a', 'm', 's', \"'\", ',', ' ', 'u', \"'\", 'O', 'l', 'g', 'a', ' ', 'B', 'a', 'c', 'l', 'a', 'n', 'o', 'v', 'a', \"'\", 'u', \"'\", 'K', 'e', 'n', ' ', 'W', 'a', 't', 'a', 'n', 'a', 'b', 'e', \"'\", ',', ' ', 'u', \"'\", 'K', 'a', 'z', 'u', 'n', 'a', 'r', 'i', ' ', 'N', 'i', 'n', 'o', 'm', 'i', 'y', 'a', \"'\", ',', ' ', 'u', \"'\", 'T', 's', 'u', 'y', 'o', 's', 'h', 'i', ' ', 'I', 'h', 'a', 'r', 'a', \"'\", 'u', \"'\", 'T', 'o', 'm', ' ', 'C', 'r', 'u', 'i', 's', 'e', \"'\", ',', ' ', 'u', \"'\", 'E', 'm', 'i', 'l', 'y', ' ', 'B', 'l', 'u', 'n', 't', \"'\", ',', ' ', 'u', \"'\", 'B', 'i', 'l', 'l', ' ', 'P', 'a', 'x', 't', 'o', 'n', \"'\", 'u', \"'\", 'M', 'a', 't', 't', 'h', 'e', 'w', ' ', 'B', 'r', 'o', 'd', 'e', 'r', 'i', 'c', 'k', \"'\", ',', ' ', 'u', \"'\", 'D', 'e', 'n', 'z', 'e', 'l', ' ', 'W', 'a', 's', 'h', 'i', 'n', 'g', 't', 'o', 'n', \"'\", ',', ' ', 'u', \"'\", 'C', 'a', 'r', 'y', ' ', 'E', 'l', 'w', 'e', 's', \"'\", 'u', \"'\", 'H', 'u', 'm', 'p', 'h', 'r', 'e', 'y', ' ', 'B', 'o', 'g', 'a', 'r', 't', \"'\", ',', ' ', 'u', \"'\", 'K', 'a', 't', 'h', 'a', 'r', 'i', 'n', 'e', ' ', 'H', 'e', 'p', 'b', 'u', 'r', 'n', \"'\", ',', ' ', 'u', \"'\", 'R', 'o', 'b', 'e', 'r', 't', ' ', 'M', 'o', 'r', 'l', 'e', 'y', \"'\", 'u', \"'\", 'M', 'i', 'c', 'h', 'a', 'e', 'l', ' ', 'K', 'e', 'a', 't', 'o', 'n', \"'\", ',', ' ', 'u', \"'\", 'Z', 'a', 'c', 'h', ' ', 'G', 'a', 'l', 'i', 'f', 'i', 'a', 'n', 'a', 'k', 'i', 's', \"'\", ',', ' ', 'u', \"'\", 'E', 'd', 'w', 'a', 'r', 'd', ' ', 'N', 'o', 'r', 't', 'o', 'n', \"'\", 'u', \"'\", 'R', 'y', 'a', 'n', ' ', 'P', 'o', 't', 't', 'e', 'r', \"'\", ',', ' ', 'u', \"'\", 'S', 'c', 'o', 't', 't', ' ', 'A', 'd', 's', 'i', 't', \"'\", ',', ' ', 'u', \"'\", 'J', 'a', 'm', 'i', 'e', ' ', 'C', 'h', 'u', 'n', 'g', \"'\", 'u', \"'\", 'B', 'i', 'l', 'l', 'y', ' ', 'C', 'r', 'u', 'd', 'u', 'p', \"'\", ',', ' ', 'u', \"'\", 'P', 'a', 't', 'r', 'i', 'c', 'k', ' ', 'F', 'u', 'g', 'i', 't', \"'\", ',', ' ', 'u', \"'\", 'K', 'a', 't', 'e', ' ', 'H', 'u', 'd', 's', 'o', 'n', \"'\", 'u', \"'\", 'G', 'e', 'n', 'a', ' ', 'R', 'o', 'w', 'l', 'a', 'n', 'd', 's', \"'\", ',', ' ', 'u', \"'\", 'J', 'a', 'm', 'e', 's', ' ', 'G', 'a', 'r', 'n', 'e', 'r', \"'\", ',', ' ', 'u', \"'\", 'R', 'a', 'c', 'h', 'e', 'l', ' ', 'M', 'c', 'A', 'd', 'a', 'm', 's', \"'\", 'u', \"'\", 'G', 'e', 'n', 'e', ' ', 'H', 'a', 'c', 'k', 'm', 'a', 'n', \"'\", ',', ' ', 'u', \"'\", 'J', 'o', 'h', 'n', ' ', 'C', 'a', 'z', 'a', 'l', 'e', \"'\", ',', ' ', 'u', \"'\", 'A', 'l', 'l', 'e', 'n', ' ', 'G', 'a', 'r', 'f', 'i', 'e', 'l', 'd', \"'\", 'u', \"'\", 'E', 'm', 'i', 'l', 'i', 'o', ' ', 'E', 's', 't', 'e', 'v', 'e', 'z', \"'\", ',', ' ', 'u', \"'\", 'J', 'u', 'd', 'd', ' ', 'N', 'e', 'l', 's', 'o', 'n', \"'\", ',', ' ', 'u', \"'\", 'M', 'o', 'l', 'l', 'y', ' ', 'R', 'i', 'n', 'g', 'w', 'a', 'l', 'd', \"'\", 'u', \"'\", 'W', 'i', 'l', 'l', ' ', 'S', 'm', 'i', 't', 'h', \"'\", ',', ' ', 'u', \"'\", 'T', 'h', 'a', 'n', 'd', 'i', 'e', ' ', 'N', 'e', 'w', 't', 'o', 'n', \"'\", ',', ' ', 'u', \"'\", 'J', 'a', 'd', 'e', 'n', ' ', 'S', 'm', 'i', 't', 'h', \"'\", 'u', \"'\", 'Y', 'u', 'n', '-', 'F', 'a', 't', ' ', 'C', 'h', 'o', 'w', \"'\", ',', ' ', 'u', \"'\", 'D', 'a', 'n', 'n', 'y', ' ', 'L', 'e', 'e', \"'\", ',', ' ', 'u', \"'\", 'S', 'a', 'l', 'l', 'y', ' ', 'Y', 'e', 'h', \"'\", 'u', \"'\", 'G', 'l', 'e', 'n', ' ', 'H', 'a', 'n', 's', 'a', 'r', 'd', \"'\", ',', ' ', 'u', \"'\", 'M', 'a', 'r', 'k', '\\\\', 'x', 'e', '9', 't', 'a', ' ', 'I', 'r', 'g', 'l', 'o', 'v', '\\\\', 'x', 'e', '1', \"'\", ',', ' ', 'u', \"'\", 'H', 'u', 'g', 'h', ' ', 'W', 'a', 'l', 's', 'h', \"'\", 'u', \"'\", 'J', 'e', 't', ' ', 'L', 'i', \"'\", ',', ' ', 'u', \"'\", 'T', 'o', 'n', 'y', ' ', 'C', 'h', 'i', 'u', ' ', 'W', 'a', 'i', ' ', 'L', 'e', 'u', 'n', 'g', \"'\", ',', ' ', 'u', \"'\", 'M', 'a', 'g', 'g', 'i', 'e', ' ', 'C', 'h', 'e', 'u', 'n', 'g', \"'\", 'u', \"'\", 'A', 'n', 't', 'h', 'o', 'n', 'y', ' ', 'H', 'o', 'p', 'k', 'i', 'n', 's', \"'\", ',', ' ', 'u', \"'\", 'E', 'm', 'm', 'a', ' ', 'T', 'h', 'o', 'm', 'p', 's', 'o', 'n', \"'\", ',', ' ', 'u', \"'\", 'J', 'o', 'h', 'n', ' ', 'H', 'a', 'y', 'c', 'r', 'a', 'f', 't', \"'\", 'u', \"'\", 'B', 'o', 'r', 'i', 's', ' ', 'K', 'a', 'r', 'l', 'o', 'f', 'f', \"'\", ',', ' ', 'u', \"'\", 'E', 'l', 's', 'a', ' ', 'L', 'a', 'n', 'c', 'h', 'e', 's', 't', 'e', 'r', \"'\", ',', ' ', 'u', \"'\", 'C', 'o', 'l', 'i', 'n', ' ', 'C', 'l', 'i', 'v', 'e', \"'\", 'u', \"'\", 'M', 'i', 'c', 'k', 'e', 'y', ' ', 'R', 'o', 'u', 'r', 'k', 'e', \"'\", ',', ' ', 'u', \"'\", 'M', 'a', 'r', 'i', 's', 'a', ' ', 'T', 'o', 'm', 'e', 'i', \"'\", ',', ' ', 'u', \"'\", 'E', 'v', 'a', 'n', ' ', 'R', 'a', 'c', 'h', 'e', 'l', ' ', 'W', 'o', 'o', 'd', \"'\", 'u', \"'\", 'J', 'a', 'k', 'e', ' ', 'G', 'y', 'l', 'l', 'e', 'n', 'h', 'a', 'a', 'l', \"'\", ',', ' ', 'u', \"'\", 'R', 'e', 'n', 'e', ' ', 'R', 'u', 's', 's', 'o', \"'\", ',', ' ', 'u', \"'\", 'B', 'i', 'l', 'l', ' ', 'P', 'a', 'x', 't', 'o', 'n', \"'\", 'u', \"'\", 'S', 'a', 'n', 'd', 'r', 'a', ' ', 'B', 'u', 'l', 'l', 'o', 'c', 'k', \"'\", ',', ' ', 'u', \"'\", 'G', 'e', 'o', 'r', 'g', 'e', ' ', 'C', 'l', 'o', 'o', 'n', 'e', 'y', \"'\", ',', ' ', 'u', \"'\", 'E', 'd', ' ', 'H', 'a', 'r', 'r', 'i', 's', \"'\", 'u', \"'\", 'Y', 'u', 'n', '-', 'F', 'a', 't', ' ', 'C', 'h', 'o', 'w', \"'\", ',', ' ', 'u', \"'\", 'T', 'o', 'n', 'y', ' ', 'C', 'h', 'i', 'u', ' ', 'W', 'a', 'i', ' ', 'L', 'e', 'u', 'n', 'g', \"'\", ',', ' ', 'u', \"'\", 'T', 'e', 'r', 'e', 's', 'a', ' ', 'M', 'o', \"'\", 'u', \"'\", 'W', 'a', 'r', 'r', 'e', 'n', ' ', 'B', 'e', 'a', 't', 't', 'y', \"'\", ',', ' ', 'u', \"'\", 'F', 'a', 'y', 'e', ' ', 'D', 'u', 'n', 'a', 'w', 'a', 'y', \"'\", ',', ' ', 'u', \"'\", 'M', 'i', 'c', 'h', 'a', 'e', 'l', ' ', 'J', '.', ' ', 'P', 'o', 'l', 'l', 'a', 'r', 'd', \"'\", 'u', \"'\", 'F', 'r', 'a', 'n', 'k', 'a', ' ', 'P', 'o', 't', 'e', 'n', 't', 'e', \"'\", ',', ' ', 'u', \"'\", 'M', 'a', 't', 't', ' ', 'D', 'a', 'm', 'o', 'n', \"'\", ',', ' ', 'u', \"'\", 'C', 'h', 'r', 'i', 's', ' ', 'C', 'o', 'o', 'p', 'e', 'r', \"'\", 'u', \"'\", 'H', 'u', 'm', 'p', 'h', 'r', 'e', 'y', ' ', 'B', 'o', 'g', 'a', 'r', 't', \"'\", ',', ' ', 'u', \"'\", 'E', 'd', 'w', 'a', 'r', 'd', ' ', 'G', '.', ' ', 'R', 'o', 'b', 'i', 'n', 's', 'o', 'n', \"'\", ',', ' ', 'u', \"'\", 'L', 'a', 'u', 'r', 'e', 'n', ' ', 'B', 'a', 'c', 'a', 'l', 'l', \"'\", 'u', \"'\", 'R', 'i', 'c', 'a', 'r', 'd', 'o', ' ', 'D', 'a', 'r', '\\\\', 'x', 'e', 'd', 'n', \"'\", ',', ' ', 'u', \"'\", 'G', 'a', 's', 't', '\\\\', 'x', 'f', '3', 'n', ' ', 'P', 'a', 'u', 'l', 's', \"'\", ',', ' ', 'u', \"'\", 'L', 'e', 't', 'i', 'c', 'i', 'a', ' ', 'B', 'r', '\\\\', 'x', 'e', '9', 'd', 'i', 'c', 'e', \"'\", 'u', \"'\", 'T', 'o', 'm', ' ', 'H', 'a', 'n', 'k', 's', \"'\", ',', ' ', 'u', \"'\", 'T', 'i', 'm', ' ', 'A', 'l', 'l', 'e', 'n', \"'\", ',', ' ', 'u', \"'\", 'J', 'o', 'a', 'n', ' ', 'C', 'u', 's', 'a', 'c', 'k', \"'\", 'u', \"'\", 'S', 'a', 'm', ' ', 'W', 'a', 't', 'e', 'r', 's', 't', 'o', 'n', \"'\", ',', ' ', 'u', \"'\", 'H', 'a', 'i', 'n', 'g', ' ', 'S', '.', ' ', 'N', 'g', 'o', 'r', \"'\", ',', ' ', 'u', \"'\", 'J', 'o', 'h', 'n', ' ', 'M', 'a', 'l', 'k', 'o', 'v', 'i', 'c', 'h', \"'\", 'u', \"'\", 'C', 'e', 'c', 'i', 'l', 'i', 'a', ' ', 'R', 'o', 't', 'h', \"'\", ',', ' ', 'u', \"'\", 'M', 'a', 'r', 'i', 's', 'a', ' ', 'P', 'a', 'r', 'e', 'd', 'e', 's', \"'\", ',', ' ', 'u', \"'\", 'C', 'a', 'n', 'd', 'e', 'l', 'a', ' ', 'P', 'e', '\\\\', 'x', 'f', '1', 'a', \"'\", 'u', \"'\", 'B', 'e', 'a', 'u', ' ', 'B', 'i', 'l', 'l', 'i', 'n', 'g', 's', 'l', 'e', 'a', \"'\", ',', ' ', 'u', \"'\", 'M', 'e', 'l', 'i', 's', 's', 'a', ' ', 'F', 'a', 'h', 'n', \"'\", ',', ' ', 'u', \"'\", 'N', 'i', 'c', 'h', 'o', 'l', 'a', 's', ' ', 'G', 'u', 'e', 's', 't', \"'\", 'u', \"'\", 'J', 'o', 'h', 'n', 'n', 'y', ' ', 'D', 'e', 'p', 'p', \"'\", ',', ' ', 'u', \"'\", 'M', 'a', 'r', 't', 'i', 'n', ' ', 'L', 'a', 'n', 'd', 'a', 'u', \"'\", ',', ' ', 'u', \"'\", 'S', 'a', 'r', 'a', 'h', ' ', 'J', 'e', 's', 's', 'i', 'c', 'a', ' ', 'P', 'a', 'r', 'k', 'e', 'r', \"'\", 'u', \"'\", 'J', 'o', 'h', 'n', ' ', 'W', 'a', 'y', 'n', 'e', \"'\", ',', ' ', 'u', \"'\", 'C', 'l', 'a', 'i', 'r', 'e', ' ', 'T', 'r', 'e', 'v', 'o', 'r', \"'\", ',', ' ', 'u', \"'\", 'A', 'n', 'd', 'y', ' ', 'D', 'e', 'v', 'i', 'n', 'e', \"'\", 'u', \"'\", 'S', 'e', 'a', 'n', ' ', 'C', 'o', 'n', 'n', 'e', 'r', 'y', \"'\", ',', ' ', 'u', \"'\", 'M', 'i', 'c', 'h', 'a', 'e', 'l', ' ', 'C', 'a', 'i', 'n', 'e', \"'\", ',', ' ', 'u', \"'\", 'C', 'h', 'r', 'i', 's', 't', 'o', 'p', 'h', 'e', 'r', ' ', 'P', 'l', 'u', 'm', 'm', 'e', 'r', \"'\", 'u', \"'\", 'C', 'l', 'i', 'n', 't', ' ', 'E', 'a', 's', 't', 'w', 'o', 'o', 'd', \"'\", ',', ' ', 'u', \"'\", 'S', 'o', 'n', 'd', 'r', 'a', ' ', 'L', 'o', 'c', 'k', 'e', \"'\", ',', ' ', 'u', \"'\", 'C', 'h', 'i', 'e', 'f', ' ', 'D', 'a', 'n', ' ', 'G', 'e', 'o', 'r', 'g', 'e', \"'\", 'u', \"'\", 'J', 'u', 'l', 'i', 'a', 'n', 'n', 'e', ' ', 'M', 'o', 'o', 'r', 'e', \"'\", ',', ' ', 'u', \"'\", 'C', 'l', 'i', 'v', 'e', ' ', 'O', 'w', 'e', 'n', \"'\", ',', ' ', 'u', \"'\", 'C', 'h', 'i', 'w', 'e', 't', 'e', 'l', ' ', 'E', 'j', 'i', 'o', 'f', 'o', 'r', \"'\", 'u', \"'\", 'R', 'u', 's', 's', 'e', 'l', 'l', ' ', 'C', 'r', 'o', 'w', 'e', \"'\", ',', ' ', 'u', \"'\", 'A', 'l', ' ', 'P', 'a', 'c', 'i', 'n', 'o', \"'\", ',', ' ', 'u', \"'\", 'C', 'h', 'r', 'i', 's', 't', 'o', 'p', 'h', 'e', 'r', ' ', 'P', 'l', 'u', 'm', 'm', 'e', 'r', \"'\", 'u', \"'\", 'S', 'a', 'm', ' ', 'S', 'h', 'e', 'p', 'a', 'r', 'd', \"'\", ',', ' ', 'u', \"'\", 'S', 'c', 'o', 't', 't', ' ', 'G', 'l', 'e', 'n', 'n', \"'\", ',', ' ', 'u', \"'\", 'E', 'd', ' ', 'H', 'a', 'r', 'r', 'i', 's', \"'\", 'u', \"'\", 'M', 'a', 'r', 't', 'i', 'n', ' ', 'S', 'h', 'e', 'e', 'n', \"'\", ',', ' ', 'u', \"'\", 'S', 'i', 's', 's', 'y', ' ', 'S', 'p', 'a', 'c', 'e', 'k', \"'\", ',', ' ', 'u', \"'\", 'W', 'a', 'r', 'r', 'e', 'n', ' ', 'O', 'a', 't', 'e', 's', \"'\", 'u', \"'\", 'T', 'a', 'h', 'a', 'r', ' ', 'R', 'a', 'h', 'i', 'm', \"'\", ',', ' ', 'u', \"'\", 'N', 'i', 'e', 'l', 's', ' ', 'A', 'r', 'e', 's', 't', 'r', 'u', 'p', \"'\", ',', ' ', 'u', \"'\", 'A', 'd', 'e', 'l', ' ', 'B', 'e', 'n', 'c', 'h', 'e', 'r', 'i', 'f', \"'\", 'u', \"'\", 'A', 'n', 'a', 'm', 'a', 'r', 'i', 'a', ' ', 'M', 'a', 'r', 'i', 'n', 'c', 'a', \"'\", ',', ' ', 'u', \"'\", 'V', 'l', 'a', 'd', ' ', 'I', 'v', 'a', 'n', 'o', 'v', \"'\", ',', ' ', 'u', \"'\", 'L', 'a', 'u', 'r', 'a', ' ', 'V', 'a', 's', 'i', 'l', 'i', 'u', \"'\", 'u', \"'\", 'B', '\\\\', 'x', 'e', '9', 'r', '\\\\', 'x', 'e', '9', 'n', 'i', 'c', 'e', ' ', 'B', 'e', 'j', 'o', \"'\", ',', ' ', 'u', \"'\", 'T', 'a', 'h', 'a', 'r', ' ', 'R', 'a', 'h', 'i', 'm', \"'\", ',', ' ', 'u', \"'\", 'A', 'l', 'i', ' ', 'M', 'o', 's', 'a', 'f', 'f', 'a', \"'\", 'u', \"'\", 'L', 'e', 'e', ' ', 'P', 'a', 'c', 'e', \"'\", ',', ' ', 'u', \"'\", 'C', 'a', 't', 'i', 'n', 'c', 'a', ' ', 'U', 'n', 't', 'a', 'r', 'u', \"'\", ',', ' ', 'u', \"'\", 'J', 'u', 's', 't', 'i', 'n', 'e', ' ', 'W', 'a', 'd', 'd', 'e', 'l', 'l', \"'\", 'u', \"'\", 'E', 'm', 'i', 'l', 'y', ' ', 'W', 'a', 't', 's', 'o', 'n', \"'\", ',', ' ', 'u', \"'\", 'S', 't', 'e', 'l', 'l', 'a', 'n', ' ', 'S', 'k', 'a', 'r', 's', 'g', '\\\\', 'x', 'e', '5', 'r', 'd', \"'\", ',', ' ', 'u', \"'\", 'K', 'a', 't', 'r', 'i', 'n', ' ', 'C', 'a', 'r', 't', 'l', 'i', 'd', 'g', 'e', \"'\", 'u', \"'\", 'J', 'a', 'r', 'e', 'd', ' ', 'L', 'e', 't', 'o', \"'\", ',', ' ', 'u', \"'\", 'S', 'a', 'r', 'a', 'h', ' ', 'P', 'o', 'l', 'l', 'e', 'y', \"'\", ',', ' ', 'u', \"'\", 'D', 'i', 'a', 'n', 'e', ' ', 'K', 'r', 'u', 'g', 'e', 'r', \"'\", 'u', \"'\", 'D', 'o', 'n', ' ', 'C', 'h', 'e', 'a', 'd', 'l', 'e', \"'\", ',', ' ', 'u', \"'\", 'S', 'a', 'n', 'd', 'r', 'a', ' ', 'B', 'u', 'l', 'l', 'o', 'c', 'k', \"'\", ',', ' ', 'u', \"'\", 'T', 'h', 'a', 'n', 'd', 'i', 'e', ' ', 'N', 'e', 'w', 't', 'o', 'n', \"'\", 'u', \"'\", 'S', 'a', 'm', ' ', 'W', 'o', 'r', 't', 'h', 'i', 'n', 'g', 't', 'o', 'n', \"'\", ',', ' ', 'u', \"'\", 'Z', 'o', 'e', ' ', 'S', 'a', 'l', 'd', 'a', 'n', 'a', \"'\", ',', ' ', 'u', \"'\", 'S', 'i', 'g', 'o', 'u', 'r', 'n', 'e', 'y', ' ', 'W', 'e', 'a', 'v', 'e', 'r', \"'\", 'u', \"'\", 'R', 'o', 'b', 'e', 'r', 't', ' ', 'D', 'o', 'w', 'n', 'e', 'y', ' ', 'J', 'r', '.', \"'\", ',', ' ', 'u', \"'\", 'G', 'w', 'y', 'n', 'e', 't', 'h', ' ', 'P', 'a', 'l', 't', 'r', 'o', 'w', \"'\", ',', ' ', 'u', \"'\", 'T', 'e', 'r', 'r', 'e', 'n', 'c', 'e', ' ', 'H', 'o', 'w', 'a', 'r', 'd', \"'\", 'u', \"'\", 'D', 'a', 'n', 'n', 'y', ' ', 'A', 'i', 'e', 'l', 'l', 'o', \"'\", ',', ' ', 'u', \"'\", 'O', 's', 's', 'i', 'e', ' ', 'D', 'a', 'v', 'i', 's', \"'\", ',', ' ', 'u', \"'\", 'R', 'u', 'b', 'y', ' ', 'D', 'e', 'e', \"'\", 'u', \"'\", 'A', 'l', ' ', 'P', 'a', 'c', 'i', 'n', 'o', \"'\", ',', ' ', 'u', \"'\", 'S', 'e', 'a', 'n', ' ', 'P', 'e', 'n', 'n', \"'\", ',', ' ', 'u', \"'\", 'P', 'e', 'n', 'e', 'l', 'o', 'p', 'e', ' ', 'A', 'n', 'n', ' ', 'M', 'i', 'l', 'l', 'e', 'r', \"'\", 'u', \"'\", 'Y', 'u', 'n', '-', 'F', 'a', 't', ' ', 'C', 'h', 'o', 'w', \"'\", ',', ' ', 'u', \"'\", 'M', 'i', 'c', 'h', 'e', 'l', 'l', 'e', ' ', 'Y', 'e', 'o', 'h', \"'\", ',', ' ', 'u', \"'\", 'Z', 'i', 'y', 'i', ' ', 'Z', 'h', 'a', 'n', 'g', \"'\", 'u', \"'\", 'O', 'k', 's', 'a', 'n', 'a', ' ', 'A', 'k', 'i', 'n', 's', 'h', 'i', 'n', 'a', \"'\", ',', ' ', 'u', \"'\", 'A', 'r', 't', 'y', 'o', 'm', ' ', 'B', 'o', 'g', 'u', 'c', 'h', 'a', 'r', 's', 'k', 'i', 'y', \"'\", ',', ' ', 'u', \"'\", 'P', 'a', 'v', 'e', 'l', ' ', 'P', 'o', 'n', 'o', 'm', 'a', 'r', 'y', 'o', 'v', \"'\", 'u', \"'\", 'G', '\\\\', 'x', 'e', '9', 'r', 'a', 'r', 'd', ' ', 'J', 'u', 'g', 'n', 'o', 't', \"'\", ',', ' ', 'u', \"'\", 'F', 'r', 'a', 'n', '\\\\', 'x', 'e', '7', 'o', 'i', 's', ' ', 'B', 'e', 'r', 'l', '\\\\', 'x', 'e', '9', 'a', 'n', 'd', \"'\", ',', ' ', 'u', \"'\", 'J', 'e', 'a', 'n', '-', 'B', 'a', 'p', 't', 'i', 's', 't', 'e', ' ', 'M', 'a', 'u', 'n', 'i', 'e', 'r', \"'\", 'u', \"'\", 'W', 'i', 'l', 'l', 'e', 'm', ' ', 'D', 'a', 'f', 'o', 'e', \"'\", ',', ' ', 'u', \"'\", 'S', 'e', 'a', 'n', ' ', 'P', 'a', 't', 'r', 'i', 'c', 'k', ' ', 'F', 'l', 'a', 'n', 'e', 'r', 'y', \"'\", ',', ' ', 'u', \"'\", 'N', 'o', 'r', 'm', 'a', 'n', ' ', 'R', 'e', 'e', 'd', 'u', 's', \"'\", 'u', \"'\", 'G', 'a', 'b', 'r', 'i', 'e', 'l', ' ', 'B', 'y', 'r', 'n', 'e', \"'\", ',', ' ', 'u', \"'\", 'A', 'l', 'b', 'e', 'r', 't', ' ', 'F', 'i', 'n', 'n', 'e', 'y', \"'\", ',', ' ', 'u', \"'\", 'J', 'o', 'h', 'n', ' ', 'T', 'u', 'r', 't', 'u', 'r', 'r', 'o', \"'\", 'u', \"'\", 'J', 'o', 'a', 'q', 'u', 'i', 'n', ' ', 'P', 'h', 'o', 'e', 'n', 'i', 'x', \"'\", ',', ' ', 'u', \"'\", 'R', 'e', 'e', 's', 'e', ' ', 'W', 'i', 't', 'h', 'e', 'r', 's', 'p', 'o', 'o', 'n', \"'\", ',', ' ', 'u', \"'\", 'G', 'i', 'n', 'n', 'i', 'f', 'e', 'r', ' ', 'G', 'o', 'o', 'd', 'w', 'i', 'n', \"'\", 'u', \"'\", 'M', 'i', 'k', 'e', ' ', 'M', 'y', 'e', 'r', 's', \"'\", ',', ' ', 'u', \"'\", 'E', 'd', 'd', 'i', 'e', ' ', 'M', 'u', 'r', 'p', 'h', 'y', \"'\", ',', ' ', 'u', \"'\", 'C', 'a', 'm', 'e', 'r', 'o', 'n', ' ', 'D', 'i', 'a', 'z', \"'\", 'u', \"'\", 'A', 'u', 'd', 'r', 'e', 'y', ' ', 'H', 'e', 'p', 'b', 'u', 'r', 'n', \"'\", ',', ' ', 'u', \"'\", 'R', 'e', 'x', ' ', 'H', 'a', 'r', 'r', 'i', 's', 'o', 'n', \"'\", ',', ' ', 'u', \"'\", 'S', 't', 'a', 'n', 'l', 'e', 'y', ' ', 'H', 'o', 'l', 'l', 'o', 'w', 'a', 'y', \"'\", 'u', \"'\", 'C', 'h', 'a', 'r', 'l', 't', 'o', 'n', ' ', 'H', 'e', 's', 't', 'o', 'n', \"'\", ',', ' ', 'u', \"'\", 'Y', 'u', 'l', ' ', 'B', 'r', 'y', 'n', 'n', 'e', 'r', \"'\", ',', ' ', 'u', \"'\", 'A', 'n', 'n', 'e', ' ', 'B', 'a', 'x', 't', 'e', 'r', \"'\", 'u', \"'\", 'M', 'a', 'r', 'k', ' ', 'W', 'a', 'h', 'l', 'b', 'e', 'r', 'g', \"'\", ',', ' ', 'u', \"'\", 'C', 'h', 'r', 'i', 's', 't', 'i', 'a', 'n', ' ', 'B', 'a', 'l', 'e', \"'\", ',', ' ', 'u', \"'\", 'A', 'm', 'y', ' ', 'A', 'd', 'a', 'm', 's', \"'\", 'u', \"'\", 'T', 'o', 'm', ' ', 'H', 'a', 'n', 'k', 's', \"'\", ',', ' ', 'u', \"'\", 'B', 'a', 'r', 'k', 'h', 'a', 'd', ' ', 'A', 'b', 'd', 'i', \"'\", ',', ' ', 'u', \"'\", 'B', 'a', 'r', 'k', 'h', 'a', 'd', ' ', 'A', 'b', 'd', 'i', 'r', 'a', 'h', 'm', 'a', 'n', \"'\", 'u', \"'\", 'L', 'i', 'z', 'a', ' ', 'M', 'i', 'n', 'n', 'e', 'l', 'l', 'i', \"'\", ',', ' ', 'u', \"'\", 'M', 'i', 'c', 'h', 'a', 'e', 'l', ' ', 'Y', 'o', 'r', 'k', \"'\", ',', ' ', 'u', \"'\", 'H', 'e', 'l', 'm', 'u', 't', ' ', 'G', 'r', 'i', 'e', 'm', \"'\", 'u', \"'\", 'D', 'o', 'n', 'a', 'l', 'd', ' ', 'P', 'l', 'e', 'a', 's', 'e', 'n', 'c', 'e', \"'\", ',', ' ', 'u', \"'\", 'J', 'a', 'm', 'i', 'e', ' ', 'L', 'e', 'e', ' ', 'C', 'u', 'r', 't', 'i', 's', \"'\", ',', ' ', 'u', \"'\", 'T', 'o', 'n', 'y', ' ', 'M', 'o', 'r', 'a', 'n', \"'\", 'u', \"'\", 'D', 'a', 'n', 'i', 'e', 'l', ' ', 'D', 'a', 'y', '-', 'L', 'e', 'w', 'i', 's', \"'\", ',', ' ', 'u', \"'\", 'B', 'r', 'e', 'n', 'd', 'a', ' ', 'F', 'r', 'i', 'c', 'k', 'e', 'r', \"'\", ',', ' ', 'u', \"'\", 'A', 'l', 'i', 's', 'o', 'n', ' ', 'W', 'h', 'e', 'l', 'a', 'n', \"'\", 'u', \"'\", 'E', 'd', 'm', 'u', 'n', 'd', ' ', 'G', 'w', 'e', 'n', 'n', \"'\", ',', ' ', 'u', '\"', 'M', 'a', 'u', 'r', 'e', 'e', 'n', ' ', 'O', \"'\", 'H', 'a', 'r', 'a', '\"', ',', ' ', 'u', \"'\", 'J', 'o', 'h', 'n', ' ', 'P', 'a', 'y', 'n', 'e', \"'\", 'u', \"'\", 'B', 'i', 'n', ' ', 'W', 'o', 'n', \"'\", ',', ' ', 'u', \"'\", 'S', 'a', 'e', '-', 'r', 'o', 'n', ' ', 'K', 'i', 'm', \"'\", ',', ' ', 'u', \"'\", 'T', 'a', 'e', '-', 'h', 'o', 'o', 'n', ' ', 'K', 'i', 'm', \"'\", 'u', \"'\", 'R', 'i', 'i', 's', 'a', ' ', 'N', 'a', 'k', 'a', \"'\", ',', ' ', 'u', \"'\", 'T', 'a', 'k', 'u', 'y', 'a', ' ', 'I', 's', 'h', 'i', 'd', 'a', \"'\", ',', ' ', 'u', \"'\", 'M', 'i', 't', 's', 'u', 't', 'a', 'k', 'a', ' ', 'I', 't', 'a', 'k', 'u', 'r', 'a', \"'\", 'u', \"'\", 'S', 't', 'e', 'v', 'e', ' ', 'C', 'a', 'r', 'e', 'l', 'l', \"'\", ',', ' ', 'u', \"'\", 'T', 'o', 'n', 'i', ' ', 'C', 'o', 'l', 'l', 'e', 't', 't', 'e', \"'\", ',', ' ', 'u', \"'\", 'G', 'r', 'e', 'g', ' ', 'K', 'i', 'n', 'n', 'e', 'a', 'r', \"'\", 'u', \"'\", 'L', 'i', 'a', 'm', ' ', 'N', 'e', 'e', 's', 'o', 'n', \"'\", ',', ' ', 'u', \"'\", 'M', 'a', 'g', 'g', 'i', 'e', ' ', 'G', 'r', 'a', 'c', 'e', \"'\", ',', ' ', 'u', \"'\", 'F', 'a', 'm', 'k', 'e', ' ', 'J', 'a', 'n', 's', 's', 'e', 'n', \"'\", 'u', \"'\", 'L', '\\\\', 'x', 'e', '9', 'a', ' ', 'S', 'e', 'y', 'd', 'o', 'u', 'x', \"'\", ',', ' ', 'u', \"'\", 'A', 'd', '\\\\', 'x', 'e', '8', 'l', 'e', ' ', 'E', 'x', 'a', 'r', 'c', 'h', 'o', 'p', 'o', 'u', 'l', 'o', 's', \"'\", ',', ' ', 'u', \"'\", 'S', 'a', 'l', 'i', 'm', ' ', 'K', 'e', 'c', 'h', 'i', 'o', 'u', 'c', 'h', 'e', \"'\", 'u', \"'\", 'M', 'a', 'r', 'k', ' ', 'W', 'a', 'h', 'l', 'b', 'e', 'r', 'g', \"'\", ',', ' ', 'u', \"'\", 'J', 'u', 'l', 'i', 'a', 'n', 'n', 'e', ' ', 'M', 'o', 'o', 'r', 'e', \"'\", ',', ' ', 'u', \"'\", 'B', 'u', 'r', 't', ' ', 'R', 'e', 'y', 'n', 'o', 'l', 'd', 's', \"'\", 'u', \"'\", 'S', 'i', 'm', 'o', 'n', ' ', 'P', 'e', 'g', 'g', \"'\", ',', ' ', 'u', \"'\", 'N', 'i', 'c', 'k', ' ', 'F', 'r', 'o', 's', 't', \"'\", ',', ' ', 'u', \"'\", 'M', 'a', 'r', 't', 'i', 'n', ' ', 'F', 'r', 'e', 'e', 'm', 'a', 'n', \"'\", 'u', \"'\", 'M', 'a', 't', 't', 'h', 'e', 'w', ' ', 'B', 'r', 'o', 'd', 'e', 'r', 'i', 'c', 'k', \"'\", ',', ' ', 'u', \"'\", 'A', 'l', 'a', 'n', ' ', 'R', 'u', 'c', 'k', \"'\", ',', ' ', 'u', \"'\", 'M', 'i', 'a', ' ', 'S', 'a', 'r', 'a', \"'\", 'u', \"'\", 'A', 'n', 't', 'h', 'o', 'n', 'y', ' ', 'H', 'o', 'p', 'k', 'i', 'n', 's', \"'\", ',', ' ', 'u', \"'\", 'D', 'i', 'a', 'n', 'e', ' ', 'L', 'a', 'd', 'd', \"'\", ',', ' ', 'u', \"'\", 'I', 'a', 'i', 'n', ' ', 'R', 'e', 'a', \"'\", 'u', \"'\", 'K', 'i', 'r', 's', 't', 'e', 'n', ' ', 'D', 'u', 'n', 's', 't', \"'\", ',', ' ', 'u', \"'\", 'M', 'i', 'n', 'a', 'm', 'i', ' ', 'T', 'a', 'k', 'a', 'y', 'a', 'm', 'a', \"'\", ',', ' ', 'u', \"'\", 'R', 'e', 'i', ' ', 'S', 'a', 'k', 'u', 'm', 'a', \"'\", 'u', \"'\", 'T', 'o', 'm', ' ', 'W', 'a', 'i', 't', 's', \"'\", ',', ' ', 'u', \"'\", 'J', 'o', 'h', 'n', ' ', 'L', 'u', 'r', 'i', 'e', \"'\", ',', ' ', 'u', \"'\", 'R', 'o', 'b', 'e', 'r', 't', 'o', ' ', 'B', 'e', 'n', 'i', 'g', 'n', 'i', \"'\", 'u', \"'\", 'A', 'l', ' ', 'P', 'a', 'c', 'i', 'n', 'o', \"'\", ',', ' ', 'u', \"'\", 'J', 'a', 'c', 'k', ' ', 'L', 'e', 'm', 'm', 'o', 'n', \"'\", ',', ' ', 'u', \"'\", 'A', 'l', 'e', 'c', ' ', 'B', 'a', 'l', 'd', 'w', 'i', 'n', \"'\", 'u', '\"', 'B', 'r', 'i', 'a', 'n', ' ', 'O', \"'\", 'H', 'a', 'l', 'l', 'o', 'r', 'a', 'n', '\"', ',', ' ', 'u', \"'\", 'J', 'e', 'f', 'f', ' ', 'A', 'n', 'd', 'e', 'r', 's', 'o', 'n', \"'\", ',', ' ', 'u', \"'\", 'M', 'a', 'r', 'i', 'l', 'y', 'n', ' ', 'G', 'h', 'i', 'g', 'l', 'i', 'o', 't', 't', 'i', \"'\", 'u', \"'\", 'U', 'l', 'r', 'i', 'c', 'h', ' ', 'T', 'h', 'o', 'm', 's', 'e', 'n', \"'\", ',', ' ', 'u', \"'\", 'M', 'a', 'd', 's', ' ', 'M', 'i', 'k', 'k', 'e', 'l', 's', 'e', 'n', \"'\", ',', ' ', 'u', \"'\", 'N', 'i', 'c', 'o', 'l', 'a', 's', ' ', 'B', 'r', 'o', \"'\", 'u', \"'\", 'D', 'a', 'n', 'i', 'e', 'l', ' ', 'C', 'r', 'a', 'i', 'g', \"'\", ',', ' ', 'u', \"'\", 'R', 'o', 'o', 'n', 'e', 'y', ' ', 'M', 'a', 'r', 'a', \"'\", ',', ' ', 'u', \"'\", 'C', 'h', 'r', 'i', 's', 't', 'o', 'p', 'h', 'e', 'r', ' ', 'P', 'l', 'u', 'm', 'm', 'e', 'r', \"'\", 'u', \"'\", 'R', 'o', 'b', 'e', 'r', 't', ' ', 'D', 'o', 'n', 'a', 't', \"'\", ',', ' ', 'u', \"'\", 'M', 'a', 'd', 'e', 'l', 'e', 'i', 'n', 'e', ' ', 'C', 'a', 'r', 'r', 'o', 'l', 'l', \"'\", ',', ' ', 'u', \"'\", 'L', 'u', 'c', 'i', 'e', ' ', 'M', 'a', 'n', 'n', 'h', 'e', 'i', 'm', \"'\", 'u', \"'\", 'H', 'e', 'n', 'r', 'y', ' ', 'T', 'h', 'o', 'm', 'a', 's', \"'\", ',', ' ', 'u', \"'\", 'D', 'r', 'e', 'w', ' ', 'B', 'a', 'r', 'r', 'y', 'm', 'o', 'r', 'e', \"'\", ',', ' ', 'u', \"'\", 'P', 'e', 't', 'e', 'r', ' ', 'C', 'o', 'y', 'o', 't', 'e', \"'\", 'u', \"'\", 'K', 'u', 'r', 't', ' ', 'R', 'u', 's', 's', 'e', 'l', 'l', \"'\", ',', ' ', 'u', \"'\", 'V', 'a', 'l', ' ', 'K', 'i', 'l', 'm', 'e', 'r', \"'\", ',', ' ', 'u', \"'\", 'S', 'a', 'm', ' ', 'E', 'l', 'l', 'i', 'o', 't', 't', \"'\", 'u', \"'\", 'A', 'r', 'n', 'o', 'l', 'd', ' ', 'S', 'c', 'h', 'w', 'a', 'r', 'z', 'e', 'n', 'e', 'g', 'g', 'e', 'r', \"'\", ',', ' ', 'u', \"'\", 'C', 'a', 'r', 'l', ' ', 'W', 'e', 'a', 't', 'h', 'e', 'r', 's', \"'\", ',', ' ', 'u', \"'\", 'K', 'e', 'v', 'i', 'n', ' ', 'P', 'e', 't', 'e', 'r', ' ', 'H', 'a', 'l', 'l', \"'\", 'u', \"'\", 'M', 'a', 'n', 'd', 'y', ' ', 'M', 'o', 'o', 'r', 'e', \"'\", ',', ' ', 'u', \"'\", 'Z', 'a', 'c', 'h', 'a', 'r', 'y', ' ', 'L', 'e', 'v', 'i', \"'\", ',', ' ', 'u', \"'\", 'D', 'o', 'n', 'n', 'a', ' ', 'M', 'u', 'r', 'p', 'h', 'y', \"'\", 'u', \"'\", 'S', 'p', 'e', 'n', 'c', 'e', 'r', ' ', 'T', 'r', 'a', 'c', 'y', \"'\", ',', ' ', 'u', \"'\", 'S', 'i', 'd', 'n', 'e', 'y', ' ', 'P', 'o', 'i', 't', 'i', 'e', 'r', \"'\", ',', ' ', 'u', \"'\", 'K', 'a', 't', 'h', 'a', 'r', 'i', 'n', 'e', ' ', 'H', 'e', 'p', 'b', 'u', 'r', 'n', \"'\", 'u', \"'\", 'D', 'o', 'n', 'a', 'l', 'd', ' ', 'S', 'u', 't', 'h', 'e', 'r', 'l', 'a', 'n', 'd', \"'\", ',', ' ', 'u', \"'\", 'M', 'a', 'r', 'y', ' ', 'T', 'y', 'l', 'e', 'r', ' ', 'M', 'o', 'o', 'r', 'e', \"'\", ',', ' ', 'u', \"'\", 'J', 'u', 'd', 'd', ' ', 'H', 'i', 'r', 's', 'c', 'h', \"'\", 'u', \"'\", 'G', 'e', 'o', 'f', 'f', 'r', 'e', 'y', ' ', 'R', 'u', 's', 'h', \"'\", ',', ' ', 'u', \"'\", 'J', 'i', 'm', ' ', 'S', 't', 'u', 'r', 'g', 'e', 's', 's', \"'\", ',', ' ', 'u', \"'\", 'S', 'y', 'l', 'v', 'i', 'a', ' ', 'H', 'o', 'e', 'k', 's', \"'\", 'u', \"'\", 'B', 'r', 'a', 'd', 'l', 'e', 'y', ' ', 'C', 'o', 'o', 'p', 'e', 'r', \"'\", ',', ' ', 'u', \"'\", 'J', 'e', 'n', 'n', 'i', 'f', 'e', 'r', ' ', 'L', 'a', 'w', 'r', 'e', 'n', 'c', 'e', \"'\", ',', ' ', 'u', \"'\", 'R', 'o', 'b', 'e', 'r', 't', ' ', 'D', 'e', ' ', 'N', 'i', 'r', 'o', \"'\", 'u', \"'\", 'K', 'e', 'n', 'n', 'e', 't', 'h', ' ', 'B', 'r', 'a', 'n', 'a', 'g', 'h', \"'\", ',', ' ', 'u', \"'\", 'J', 'u', 'l', 'i', 'e', ' ', 'C', 'h', 'r', 'i', 's', 't', 'i', 'e', \"'\", ',', ' ', 'u', \"'\", 'D', 'e', 'r', 'e', 'k', ' ', 'J', 'a', 'c', 'o', 'b', 'i', \"'\", 'u', \"'\", 'J', 'e', 'a', 'n', '-', 'L', 'o', 'u', 'i', 's', ' ', 'T', 'r', 'i', 'n', 't', 'i', 'g', 'n', 'a', 'n', 't', \"'\", ',', ' ', 'u', \"'\", 'E', 'm', 'm', 'a', 'n', 'u', 'e', 'l', 'l', 'e', ' ', 'R', 'i', 'v', 'a', \"'\", ',', ' ', 'u', \"'\", 'I', 's', 'a', 'b', 'e', 'l', 'l', 'e', ' ', 'H', 'u', 'p', 'p', 'e', 'r', 't', \"'\", 'u', \"'\", 'B', 'y', 'u', 'n', 'g', '-', 'h', 'u', 'n', ' ', 'L', 'e', 'e', \"'\", ',', ' ', 'u', \"'\", 'M', 'i', 'n', '-', 's', 'i', 'k', ' ', 'C', 'h', 'o', 'i', \"'\", ',', ' ', 'u', \"'\", 'I', 'n', '-', 's', 'e', 'o', ' ', 'K', 'i', 'm', \"'\", 'u', \"'\", 'G', 'a', 'e', 'l', ' ', 'G', 'a', 'r', 'c', '\\\\', 'x', 'e', 'd', 'a', ' ', 'B', 'e', 'r', 'n', 'a', 'l', \"'\", ',', ' ', 'u', \"'\", 'R', 'o', 'd', 'r', 'i', 'g', 'o', ' ', 'D', 'e', ' ', 'l', 'a', ' ', 'S', 'e', 'r', 'n', 'a', \"'\", ',', ' ', 'u', \"'\", 'M', '\\\\', 'x', 'e', 'd', 'a', ' ', 'M', 'a', 'e', 's', 't', 'r', 'o', \"'\", 'u', \"'\", 'R', 'o', 'n', ' ', 'L', 'i', 'v', 'i', 'n', 'g', 's', 't', 'o', 'n', \"'\", ',', ' ', 'u', \"'\", 'J', 'e', 'n', 'n', 'i', 'f', 'e', 'r', ' ', 'A', 'n', 'i', 's', 't', 'o', 'n', \"'\", ',', ' ', 'u', \"'\", 'D', 'a', 'v', 'i', 'd', ' ', 'H', 'e', 'r', 'm', 'a', 'n', \"'\", 'u', \"'\", 'A', 'n', 'd', 'r', 'e', 'a', 's', ' ', 'W', 'i', 'l', 's', 'o', 'n', \"'\", ',', ' ', 'u', \"'\", 'H', 'e', 'n', 'r', 'i', 'k', ' ', 'L', 'u', 'n', 'd', 's', 't', 'r', '\\\\', 'x', 'f', '6', 'm', \"'\", ',', ' ', 'u', \"'\", 'G', 'u', 's', 't', 'a', 'f', ' ', 'S', 'k', 'a', 'r', 's', 'g', '\\\\', 'x', 'e', '5', 'r', 'd', \"'\", 'u', \"'\", 'M', 'i', 'c', 'h', 'a', 'e', 'l', ' ', 'N', 'y', 'q', 'v', 'i', 's', 't', \"'\", ',', ' ', 'u', \"'\", 'N', 'o', 'o', 'm', 'i', ' ', 'R', 'a', 'p', 'a', 'c', 'e', \"'\", ',', ' ', 'u', \"'\", 'E', 'w', 'a', ' ', 'F', 'r', '\\\\', 'x', 'f', '6', 'l', 'i', 'n', 'g', \"'\", 'u', \"'\", 'R', 'i', 'c', 'h', 'a', 'r', 'd', ' ', 'E', '.', ' ', 'G', 'r', 'a', 'n', 't', \"'\", ',', ' ', 'u', \"'\", 'P', 'a', 'u', 'l', ' ', 'M', 'c', 'G', 'a', 'n', 'n', \"'\", ',', ' ', 'u', \"'\", 'R', 'i', 'c', 'h', 'a', 'r', 'd', ' ', 'G', 'r', 'i', 'f', 'f', 'i', 't', 'h', 's', \"'\", 'u', \"'\", 'M', 'i', 'c', 'h', 'a', 'e', 'l', ' ', 'R', 'e', 'n', 'n', 'i', 'e', \"'\", ',', ' ', 'u', \"'\", 'P', 'a', 't', 'r', 'i', 'c', 'i', 'a', ' ', 'N', 'e', 'a', 'l', \"'\", ',', ' ', 'u', \"'\", 'H', 'u', 'g', 'h', ' ', 'M', 'a', 'r', 'l', 'o', 'w', 'e', \"'\", 'u', \"'\", 'C', 'a', 'r', 'i', 'c', 'e', ' ', 'v', 'a', 'n', ' ', 'H', 'o', 'u', 't', 'e', 'n', \"'\", ',', ' ', 'u', \"'\", 'S', 'e', 'b', 'a', 's', 't', 'i', 'a', 'n', ' ', 'K', 'o', 'c', 'h', \"'\", ',', ' ', 'u', \"'\", 'T', 'h', 'o', 'm', ' ', 'H', 'o', 'f', 'f', 'm', 'a', 'n', \"'\", 'u', \"'\", 'B', 'r', 'u', 'c', 'e', ' ', 'C', 'a', 'm', 'p', 'b', 'e', 'l', 'l', \"'\", ',', ' ', 'u', \"'\", 'S', 'a', 'r', 'a', 'h', ' ', 'B', 'e', 'r', 'r', 'y', \"'\", ',', ' ', 'u', \"'\", 'D', 'a', 'n', ' ', 'H', 'i', 'c', 'k', 's', \"'\", 'u', \"'\", 'H', 'i', 'd', 'e', 'a', 'k', 'i', ' ', 'A', 'n', 'n', 'o', \"'\", ',', ' ', 'u', \"'\", 'H', 'i', 'd', 'e', 't', 'o', 's', 'h', 'i', ' ', 'N', 'i', 's', 'h', 'i', 'j', 'i', 'm', 'a', \"'\", ',', ' ', 'u', \"'\", 'M', 'i', 'o', 'r', 'i', ' ', 'T', 'a', 'k', 'i', 'm', 'o', 't', 'o', \"'\", 'u', \"'\", 'C', 'h', 'r', 'i', 's', ' ', 'P', 'i', 'n', 'e', \"'\", ',', ' ', 'u', \"'\", 'Z', 'a', 'c', 'h', 'a', 'r', 'y', ' ', 'Q', 'u', 'i', 'n', 't', 'o', \"'\", ',', ' ', 'u', \"'\", 'Z', 'o', 'e', ' ', 'S', 'a', 'l', 'd', 'a', 'n', 'a', \"'\", 'u', \"'\", 'M', 'i', 'c', 'h', '\\\\', 'x', 'e', '8', 'l', 'e', ' ', 'C', 'a', 'u', 'c', 'h', 'e', 't', 'e', 'u', 'x', \"'\", ',', ' ', 'u', \"'\", 'J', 'e', 'a', 'n', '-', 'C', 'l', 'a', 'u', 'd', 'e', ' ', 'D', 'o', 'n', 'd', 'a', \"'\", ',', ' ', 'u', \"'\", 'M', 'i', 'c', 'h', 'e', 'l', ' ', 'R', 'o', 'b', 'i', 'n', \"'\", 'u', \"'\", 'E', 'd', 'u', 'a', 'r', 'd', 'o', ' ', 'N', 'o', 'r', 'i', 'e', 'g', 'a', \"'\", ',', ' ', 'u', \"'\", 'P', 'e', 'n', '\\\\', 'x', 'e', '9', 'l', 'o', 'p', 'e', ' ', 'C', 'r', 'u', 'z', \"'\", ',', ' ', 'u', \"'\", 'C', 'h', 'e', 't', 'e', ' ', 'L', 'e', 'r', 'a', \"'\", 'u', \"'\", 'Y', 'u', 'l', ' ', 'B', 'r', 'y', 'n', 'n', 'e', 'r', \"'\", ',', ' ', 'u', \"'\", 'S', 't', 'e', 'v', 'e', ' ', 'M', 'c', 'Q', 'u', 'e', 'e', 'n', \"'\", ',', ' ', 'u', \"'\", 'C', 'h', 'a', 'r', 'l', 'e', 's', ' ', 'B', 'r', 'o', 'n', 's', 'o', 'n', \"'\", 'u', \"'\", 'R', 'y', 'a', 'n', ' ', 'G', 'o', 's', 'l', 'i', 'n', 'g', \"'\", ',', ' ', 'u', \"'\", 'C', 'a', 'r', 'e', 'y', ' ', 'M', 'u', 'l', 'l', 'i', 'g', 'a', 'n', \"'\", ',', ' ', 'u', \"'\", 'B', 'r', 'y', 'a', 'n', ' ', 'C', 'r', 'a', 'n', 's', 't', 'o', 'n', \"'\", 'u', \"'\", 'G', 'e', 'n', 'e', ' ', 'H', 'a', 'c', 'k', 'm', 'a', 'n', \"'\", ',', ' ', 'u', \"'\", 'W', 'i', 'l', 'l', 'e', 'm', ' ', 'D', 'a', 'f', 'o', 'e', \"'\", ',', ' ', 'u', \"'\", 'F', 'r', 'a', 'n', 'c', 'e', 's', ' ', 'M', 'c', 'D', 'o', 'r', 'm', 'a', 'n', 'd', \"'\", 'u', \"'\", 'C', 'h', 'r', 'i', 's', ' ', 'P', 'r', 'a', 't', 't', \"'\", ',', ' ', 'u', \"'\", 'W', 'i', 'l', 'l', ' ', 'F', 'e', 'r', 'r', 'e', 'l', 'l', \"'\", ',', ' ', 'u', \"'\", 'E', 'l', 'i', 'z', 'a', 'b', 'e', 't', 'h', ' ', 'B', 'a', 'n', 'k', 's', \"'\", 'u', \"'\", 'E', 'd', 'w', 'a', 'r', 'd', ' ', 'F', 'o', 'x', \"'\", ',', ' ', 'u', \"'\", 'T', 'e', 'r', 'e', 'n', 'c', 'e', ' ', 'A', 'l', 'e', 'x', 'a', 'n', 'd', 'e', 'r', \"'\", ',', ' ', 'u', \"'\", 'M', 'i', 'c', 'h', 'e', 'l', ' ', 'A', 'u', 'c', 'l', 'a', 'i', 'r', \"'\", 'u', \"'\", 'J', 'a', 'm', 'e', 's', ' ', 'C', 'a', 'a', 'n', \"'\", ',', ' ', 'u', \"'\", 'K', 'a', 't', 'h', 'y', ' ', 'B', 'a', 't', 'e', 's', \"'\", ',', ' ', 'u', \"'\", 'R', 'i', 'c', 'h', 'a', 'r', 'd', ' ', 'F', 'a', 'r', 'n', 's', 'w', 'o', 'r', 't', 'h', \"'\", 'u', \"'\", 'G', 'e', 'n', 'e', ' ', 'W', 'i', 'l', 'd', 'e', 'r', \"'\", ',', ' ', 'u', \"'\", 'J', 'a', 'c', 'k', ' ', 'A', 'l', 'b', 'e', 'r', 't', 's', 'o', 'n', \"'\", ',', ' ', 'u', \"'\", 'P', 'e', 't', 'e', 'r', ' ', 'O', 's', 't', 'r', 'u', 'm', \"'\", 'u', \"'\", 'L', 'e', 'o', 'p', 'o', 'l', 'd', ' ', 'S', 't', 'o', 'k', 'o', 'w', 's', 'k', 'i', \"'\", ',', ' ', 'u', \"'\", 'D', 'e', 'e', 'm', 's', ' ', 'T', 'a', 'y', 'l', 'o', 'r', \"'\", ',', ' ', 'u', \"'\", 'C', 'o', 'r', 'e', 'y', ' ', 'B', 'u', 'r', 't', 'o', 'n', \"'\", 'u', \"'\", 'E', 't', 'h', 'a', 'n', ' ', 'H', 'a', 'w', 'k', 'e', \"'\", ',', ' ', 'u', \"'\", 'U', 'm', 'a', ' ', 'T', 'h', 'u', 'r', 'm', 'a', 'n', \"'\", ',', ' ', 'u', \"'\", 'J', 'u', 'd', 'e', ' ', 'L', 'a', 'w', \"'\", 'u', \"'\", 'D', 'e', 'n', 'z', 'e', 'l', ' ', 'W', 'a', 's', 'h', 'i', 'n', 'g', 't', 'o', 'n', \"'\", ',', ' ', 'u', \"'\", 'R', 'u', 's', 's', 'e', 'l', 'l', ' ', 'C', 'r', 'o', 'w', 'e', \"'\", ',', ' ', 'u', \"'\", 'C', 'h', 'i', 'w', 'e', 't', 'e', 'l', ' ', 'E', 'j', 'i', 'o', 'f', 'o', 'r', \"'\", 'u', \"'\", 'S', 'h', '\\\\', 'x', 'f', 'b', 'i', 'c', 'h', 'i', 'r', '\\\\', 'x', 'f', '4', ' ', 'M', 'o', 'r', 'i', 'y', 'a', 'm', 'a', \"'\", ',', ' ', 'u', \"'\", 'T', 'o', 'k', 'i', 'k', 'o', ' ', 'K', 'a', 't', '\\\\', 'x', 'f', '4', \"'\", ',', ' ', 'u', \"'\", 'S', 'a', 'n', 's', 'h', 'i', ' ', 'K', 'a', 't', 's', 'u', 'r', 'a', \"'\", 'u', \"'\", 'G', 'e', 'n', 'e', ' ', 'H', 'a', 'c', 'k', 'm', 'a', 'n', \"'\", ',', ' ', 'u', \"'\", 'R', 'o', 'y', ' ', 'S', 'c', 'h', 'e', 'i', 'd', 'e', 'r', \"'\", ',', ' ', 'u', \"'\", 'F', 'e', 'r', 'n', 'a', 'n', 'd', 'o', ' ', 'R', 'e', 'y', \"'\", 'u', \"'\", 'A', 's', 'a', ' ', 'B', 'u', 't', 't', 'e', 'r', 'f', 'i', 'e', 'l', 'd', \"'\", ',', ' ', 'u', \"'\", 'D', 'a', 'v', 'i', 'd', ' ', 'T', 'h', 'e', 'w', 'l', 'i', 's', \"'\", ',', ' ', 'u', \"'\", 'R', 'u', 'p', 'e', 'r', 't', ' ', 'F', 'r', 'i', 'e', 'n', 'd', \"'\", 'u', \"'\", 'C', 'h', 'r', 'i', 's', 't', 'i', 'a', 'n', ' ', 'B', 'a', 'l', 'e', \"'\", ',', ' ', 'u', \"'\", 'J', 'o', 'h', 'n', ' ', 'M', 'a', 'l', 'k', 'o', 'v', 'i', 'c', 'h', \"'\", ',', ' ', 'u', \"'\", 'M', 'i', 'r', 'a', 'n', 'd', 'a', ' ', 'R', 'i', 'c', 'h', 'a', 'r', 'd', 's', 'o', 'n', \"'\", 'u', \"'\", 'D', 'o', 'm', 'h', 'n', 'a', 'l', 'l', ' ', 'G', 'l', 'e', 'e', 's', 'o', 'n', \"'\", ',', ' ', 'u', \"'\", 'R', 'a', 'c', 'h', 'e', 'l', ' ', 'M', 'c', 'A', 'd', 'a', 'm', 's', \"'\", ',', ' ', 'u', \"'\", 'B', 'i', 'l', 'l', ' ', 'N', 'i', 'g', 'h', 'y', \"'\", 'u', \"'\", 'I', 's', 'a', 'b', 'e', 'l', 'l', 'a', ' ', 'R', 'o', 's', 's', 'e', 'l', 'l', 'i', 'n', 'i', \"'\", ',', ' ', 'u', \"'\", 'K', 'y', 'l', 'e', ' ', 'M', 'a', 'c', 'L', 'a', 'c', 'h', 'l', 'a', 'n', \"'\", ',', ' ', 'u', \"'\", 'D', 'e', 'n', 'n', 'i', 's', ' ', 'H', 'o', 'p', 'p', 'e', 'r', \"'\", 'u', \"'\", 'P', 'a', 'd', 'd', 'y', ' ', 'C', 'o', 'n', 's', 'i', 'd', 'i', 'n', 'e', \"'\", ',', ' ', 'u', \"'\", 'S', 'a', 'm', 'a', 'n', 't', 'h', 'a', ' ', 'M', 'o', 'r', 't', 'o', 'n', \"'\", ',', ' ', 'u', \"'\", 'D', 'j', 'i', 'm', 'o', 'n', ' ', 'H', 'o', 'u', 'n', 's', 'o', 'u', \"'\", 'u', \"'\", 'B', 'r', 'a', 'd', ' ', 'P', 'i', 't', 't', \"'\", ',', ' ', 'u', \"'\", 'C', 'a', 't', 'e', ' ', 'B', 'l', 'a', 'n', 'c', 'h', 'e', 't', 't', \"'\", ',', ' ', 'u', \"'\", 'T', 'i', 'l', 'd', 'a', ' ', 'S', 'w', 'i', 'n', 't', 'o', 'n', \"'\", 'u', \"'\", 'D', 'a', 'n', 'i', 'e', 'l', ' ', 'D', 'a', 'y', '-', 'L', 'e', 'w', 'i', 's', \"'\", ',', ' ', 'u', \"'\", 'M', 'a', 'd', 'e', 'l', 'e', 'i', 'n', 'e', ' ', 'S', 't', 'o', 'w', 'e', \"'\", ',', ' ', 'u', \"'\", 'R', 'u', 's', 's', 'e', 'l', 'l', ' ', 'M', 'e', 'a', 'n', 's', \"'\", 'u', \"'\", 'J', 'a', 'r', 'e', 'd', ' ', 'G', 'i', 'l', 'm', 'a', 'n', \"'\", ',', ' ', 'u', \"'\", 'K', 'a', 'r', 'a', ' ', 'H', 'a', 'y', 'w', 'a', 'r', 'd', \"'\", ',', ' ', 'u', \"'\", 'B', 'r', 'u', 'c', 'e', ' ', 'W', 'i', 'l', 'l', 'i', 's', \"'\", 'u', \"'\", 'J', 'a', 'm', 'e', 's', ' ', 'D', 'e', 'a', 'n', \"'\", ',', ' ', 'u', \"'\", 'N', 'a', 't', 'a', 'l', 'i', 'e', ' ', 'W', 'o', 'o', 'd', \"'\", ',', ' ', 'u', \"'\", 'S', 'a', 'l', ' ', 'M', 'i', 'n', 'e', 'o', \"'\", 'u', \"'\", 'G', 'e', 'o', 'r', 'g', 'e', ' ', 'C', 'l', 'o', 'o', 'n', 'e', 'y', \"'\", ',', ' ', 'u', \"'\", 'M', 'e', 'r', 'y', 'l', ' ', 'S', 't', 'r', 'e', 'e', 'p', \"'\", ',', ' ', 'u', \"'\", 'B', 'i', 'l', 'l', ' ', 'M', 'u', 'r', 'r', 'a', 'y', \"'\", 'u', \"'\", 'K', 'e', 'v', 'i', 'n', ' ', 'M', 'c', 'C', 'a', 'r', 't', 'h', 'y', \"'\", ',', ' ', 'u', \"'\", 'D', 'a', 'n', 'a', ' ', 'W', 'y', 'n', 't', 'e', 'r', \"'\", ',', ' ', 'u', \"'\", 'L', 'a', 'r', 'r', 'y', ' ', 'G', 'a', 't', 'e', 's', \"'\", 'u', \"'\", 'J', 'a', 'k', 'e', ' ', 'G', 'y', 'l', 'l', 'e', 'n', 'h', 'a', 'a', 'l', \"'\", ',', ' ', 'u', \"'\", 'C', 'h', 'r', 'i', 's', ' ', 'C', 'o', 'o', 'p', 'e', 'r', \"'\", ',', ' ', 'u', \"'\", 'L', 'a', 'u', 'r', 'a', ' ', 'D', 'e', 'r', 'n', \"'\", 'u', \"'\", 'C', 'l', 'i', 'n', 't', ' ', 'E', 'a', 's', 't', 'w', 'o', 'o', 'd', \"'\", ',', ' ', 'u', \"'\", 'A', 'n', 'd', 'r', 'e', 'w', ' ', 'R', 'o', 'b', 'i', 'n', 's', 'o', 'n', \"'\", ',', ' ', 'u', \"'\", 'H', 'a', 'r', 'r', 'y', ' ', 'G', 'u', 'a', 'r', 'd', 'i', 'n', 'o', \"'\", 'u', \"'\", 'B', 'i', 'l', 'l', ' ', 'M', 'u', 'r', 'r', 'a', 'y', \"'\", ',', ' ', 'u', \"'\", 'D', 'a', 'n', ' ', 'A', 'y', 'k', 'r', 'o', 'y', 'd', \"'\", ',', ' ', 'u', \"'\", 'S', 'i', 'g', 'o', 'u', 'r', 'n', 'e', 'y', ' ', 'W', 'e', 'a', 'v', 'e', 'r', \"'\", 'u', \"'\", 'C', 'h', 'r', 'i', 's', ' ', 'E', 'v', 'a', 'n', 's', \"'\", ',', ' ', 'u', \"'\", 'S', 'a', 'm', 'u', 'e', 'l', ' ', 'L', '.', ' ', 'J', 'a', 'c', 'k', 's', 'o', 'n', \"'\", ',', ' ', 'u', \"'\", 'S', 'c', 'a', 'r', 'l', 'e', 't', 't', ' ', 'J', 'o', 'h', 'a', 'n', 's', 's', 'o', 'n', \"'\", 'u', \"'\", 'J', 'o', 'h', 'n', ' ', 'C', '.', ' ', 'R', 'e', 'i', 'l', 'l', 'y', \"'\", ',', ' ', 'u', \"'\", 'J', 'a', 'c', 'k', ' ', 'M', 'c', 'B', 'r', 'a', 'y', 'e', 'r', \"'\", ',', ' ', 'u', \"'\", 'J', 'a', 'n', 'e', ' ', 'L', 'y', 'n', 'c', 'h', \"'\", 'u', \"'\", 'Z', 'a', 'c', 'h', ' ', 'G', 'a', 'l', 'i', 'f', 'i', 'a', 'n', 'a', 'k', 'i', 's', \"'\", ',', ' ', 'u', \"'\", 'B', 'r', 'a', 'd', 'l', 'e', 'y', ' ', 'C', 'o', 'o', 'p', 'e', 'r', \"'\", ',', ' ', 'u', \"'\", 'J', 'u', 's', 't', 'i', 'n', ' ', 'B', 'a', 'r', 't', 'h', 'a', \"'\", 'u', \"'\", 'M', 'i', 'c', 'h', 'a', 'e', 'l', ' ', 'J', '.', ' ', 'F', 'o', 'x', \"'\", ',', ' ', 'u', \"'\", 'C', 'h', 'r', 'i', 's', 't', 'o', 'p', 'h', 'e', 'r', ' ', 'L', 'l', 'o', 'y', 'd', \"'\", ',', ' ', 'u', \"'\", 'L', 'e', 'a', ' ', 'T', 'h', 'o', 'm', 'p', 's', 'o', 'n', \"'\", 'u', \"'\", 'C', 'a', 't', 'h', 'e', 'r', 'i', 'n', 'e', ' ', 'D', 'e', 'n', 'e', 'u', 'v', 'e', \"'\", ',', ' ', 'u', \"'\", 'J', 'e', 'a', 'n', ' ', 'S', 'o', 'r', 'e', 'l', \"'\", ',', ' ', 'u', \"'\", 'M', 'i', 'c', 'h', 'e', 'l', ' ', 'P', 'i', 'c', 'c', 'o', 'l', 'i', \"'\", 'u', \"'\", 'G', 'e', 'o', 'r', 'g', 'e', ' ', 'C', 'l', 'o', 'o', 'n', 'e', 'y', \"'\", ',', ' ', 'u', \"'\", 'J', 'o', 'h', 'n', ' ', 'T', 'u', 'r', 't', 'u', 'r', 'r', 'o', \"'\", ',', ' ', 'u', \"'\", 'T', 'i', 'm', ' ', 'B', 'l', 'a', 'k', 'e', ' ', 'N', 'e', 'l', 's', 'o', 'n', \"'\", 'u', \"'\", 'C', 'a', 't', 'h', 'e', 'r', 'i', 'n', 'e', ' ', 'D', 'e', 'n', 'e', 'u', 'v', 'e', \"'\", ',', ' ', 'u', \"'\", 'I', 'a', 'n', ' ', 'H', 'e', 'n', 'd', 'r', 'y', \"'\", ',', ' ', 'u', \"'\", 'J', 'o', 'h', 'n', ' ', 'F', 'r', 'a', 's', 'e', 'r', \"'\", 'u', \"'\", 'R', 'o', 'b', 'e', 'r', 't', ' ', 'H', 'a', 'y', 's', \"'\", ',', ' ', 'u', \"'\", 'J', 'u', 'l', 'i', 'e', ' ', 'H', 'a', 'g', 'e', 'r', 't', 'y', \"'\", ',', ' ', 'u', \"'\", 'L', 'e', 's', 'l', 'i', 'e', ' ', 'N', 'i', 'e', 'l', 's', 'e', 'n', \"'\", 'u', \"'\", 'K', 'e', 'i', 'r', 'a', ' ', 'K', 'n', 'i', 'g', 'h', 't', 'l', 'e', 'y', \"'\", ',', ' ', 'u', \"'\", 'M', 'a', 't', 't', 'h', 'e', 'w', ' ', 'M', 'a', 'c', 'f', 'a', 'd', 'y', 'e', 'n', \"'\", ',', ' ', 'u', \"'\", 'B', 'r', 'e', 'n', 'd', 'a', ' ', 'B', 'l', 'e', 't', 'h', 'y', 'n', \"'\", 'u', \"'\", 'S', 't', 'a', 'n', 'l', 'e', 'y', ' ', 'B', 'a', 'k', 'e', 'r', \"'\", ',', ' ', 'u', \"'\", 'J', 'a', 'c', 'k', ' ', 'H', 'a', 'w', 'k', 'i', 'n', 's', \"'\", ',', ' ', 'u', \"'\", 'U', 'l', 'l', 'a', ' ', 'J', 'a', 'c', 'o', 'b', 's', 's', 'o', 'n', \"'\", 'u', \"'\", 'W', 'i', 'n', 'o', 'n', 'a', ' ', 'R', 'y', 'd', 'e', 'r', \"'\", ',', ' ', 'u', \"'\", 'G', 'e', 'n', 'a', ' ', 'R', 'o', 'w', 'l', 'a', 'n', 'd', 's', \"'\", ',', ' ', 'u', \"'\", 'L', 'i', 's', 'a', 'n', 'n', 'e', ' ', 'F', 'a', 'l', 'k', \"'\", 'u', \"'\", 'B', 'u', 'r', 't', ' ', 'L', 'a', 'n', 'c', 'a', 's', 't', 'e', 'r', \"'\", ',', ' ', 'u', \"'\", 'M', 'o', 'n', 't', 'g', 'o', 'm', 'e', 'r', 'y', ' ', 'C', 'l', 'i', 'f', 't', \"'\", ',', ' ', 'u', \"'\", 'D', 'e', 'b', 'o', 'r', 'a', 'h', ' ', 'K', 'e', 'r', 'r', \"'\", 'u', \"'\", 'G', 'e', 'r', 'a', 'r', 'd', 'o', ' ', 'T', 'a', 'r', 'a', 'c', 'e', 'n', 'a', \"'\", ',', ' ', 'u', \"'\", 'R', 'a', 'o', 'u', 'l', ' ', 'T', 'r', 'u', 'j', 'i', 'l', 'l', 'o', \"'\", ',', ' ', 'u', \"'\", 'D', 'a', 'l', 'i', 'a', ' ', 'H', 'e', 'r', 'n', '\\\\', 'x', 'e', '1', 'n', 'd', 'e', 'z', \"'\", 'u', \"'\", 'K', 'e', 'i', 'r', 'a', ' ', 'K', 'n', 'i', 'g', 'h', 't', 'l', 'e', 'y', \"'\", ',', ' ', 'u', \"'\", 'J', 'a', 'm', 'e', 's', ' ', 'M', 'c', 'A', 'v', 'o', 'y', \"'\", ',', ' ', 'u', \"'\", 'B', 'r', 'e', 'n', 'd', 'a', ' ', 'B', 'l', 'e', 't', 'h', 'y', 'n', \"'\", 'u', \"'\", 'L', 'e', 'e', ' ', 'M', 'a', 'r', 'v', 'i', 'n', \"'\", ',', ' ', 'u', \"'\", 'E', 'r', 'n', 'e', 's', 't', ' ', 'B', 'o', 'r', 'g', 'n', 'i', 'n', 'e', \"'\", ',', ' ', 'u', \"'\", 'C', 'h', 'a', 'r', 'l', 'e', 's', ' ', 'B', 'r', 'o', 'n', 's', 'o', 'n', \"'\", 'u', \"'\", 'J', 'a', 'm', 'e', 's', ' ', 'M', 'c', 'A', 'v', 'o', 'y', \"'\", ',', ' ', 'u', \"'\", 'M', 'i', 'c', 'h', 'a', 'e', 'l', ' ', 'F', 'a', 's', 's', 'b', 'e', 'n', 'd', 'e', 'r', \"'\", ',', ' ', 'u', \"'\", 'J', 'e', 'n', 'n', 'i', 'f', 'e', 'r', ' ', 'L', 'a', 'w', 'r', 'e', 'n', 'c', 'e', \"'\", 'u', \"'\", 'F', 'r', 'a', 'n', 'k', 'a', ' ', 'P', 'o', 't', 'e', 'n', 't', 'e', \"'\", ',', ' ', 'u', \"'\", 'M', 'o', 'r', 'i', 't', 'z', ' ', 'B', 'l', 'e', 'i', 'b', 't', 'r', 'e', 'u', \"'\", ',', ' ', 'u', \"'\", 'H', 'e', 'r', 'b', 'e', 'r', 't', ' ', 'K', 'n', 'a', 'u', 'p', \"'\", 'u', \"'\", 'J', 'o', 'h', 'n', ' ', 'W', 'a', 'y', 'n', 'e', \"'\", ',', ' ', 'u', \"'\", 'R', 'o', 'b', 'e', 'r', 't', ' ', 'R', 'y', 'a', 'n', \"'\", ',', ' ', 'u', \"'\", 'R', 'i', 'c', 'h', 'a', 'r', 'd', ' ', 'B', 'u', 'r', 't', 'o', 'n', \"'\", 'u', \"'\", 'W', 'o', 'o', 'd', 'y', ' ', 'A', 'l', 'l', 'e', 'n', \"'\", ',', ' ', 'u', \"'\", 'M', 'i', 'a', ' ', 'F', 'a', 'r', 'r', 'o', 'w', \"'\", ',', ' ', 'u', \"'\", 'P', 'a', 't', 'r', 'i', 'c', 'k', ' ', 'H', 'o', 'r', 'g', 'a', 'n', \"'\", 'u', \"'\", 'J', 'o', 'h', 'n', ' ', 'L', 'o', 'n', 'e', \"'\", ',', ' ', 'u', \"'\", 'J', 'o', 'a', 'n', ' ', 'C', 'h', 'e', 'n', \"'\", ',', ' ', 'u', '\"', 'P', 'e', 't', 'e', 'r', ' ', 'O', \"'\", 'T', 'o', 'o', 'l', 'e', '\"', 'u', \"'\", 'S', 'e', 'a', 'n', ' ', 'A', 's', 't', 'i', 'n', \"'\", ',', ' ', 'u', \"'\", 'J', 'o', 's', 'h', ' ', 'B', 'r', 'o', 'l', 'i', 'n', \"'\", ',', ' ', 'u', \"'\", 'J', 'e', 'f', 'f', ' ', 'C', 'o', 'h', 'e', 'n', \"'\", 'u', \"'\", 'C', 'h', 'r', 'i', 's', 't', 'i', 'a', 'n', ' ', 'F', 'r', 'i', 'e', 'd', 'e', 'l', \"'\", ',', ' ', 'u', \"'\", 'E', 'r', 'n', 's', 't', ' ', 'J', 'a', 'c', 'o', 'b', 'i', \"'\", ',', ' ', 'u', \"'\", 'L', 'e', 'o', 'n', 'i', 'e', ' ', 'B', 'e', 'n', 'e', 's', 'c', 'h', \"'\", 'u', \"'\", 'H', 'a', 'r', 'r', 'i', 's', 'o', 'n', ' ', 'F', 'o', 'r', 'd', \"'\", ',', ' ', 'u', \"'\", 'T', 'o', 'm', 'm', 'y', ' ', 'L', 'e', 'e', ' ', 'J', 'o', 'n', 'e', 's', \"'\", ',', ' ', 'u', \"'\", 'S', 'e', 'l', 'a', ' ', 'W', 'a', 'r', 'd', \"'\", 'u', \"'\", 'D', 'a', 'n', 'n', 'y', ' ', 'G', 'l', 'o', 'v', 'e', 'r', \"'\", ',', ' ', 'u', \"'\", 'W', 'h', 'o', 'o', 'p', 'i', ' ', 'G', 'o', 'l', 'd', 'b', 'e', 'r', 'g', \"'\", ',', ' ', 'u', \"'\", 'O', 'p', 'r', 'a', 'h', ' ', 'W', 'i', 'n', 'f', 'r', 'e', 'y', \"'\", 'u', \"'\", 'T', 'r', 'e', 'y', ' ', 'P', 'a', 'r', 'k', 'e', 'r', \"'\", ',', ' ', 'u', \"'\", 'M', 'a', 't', 't', ' ', 'S', 't', 'o', 'n', 'e', \"'\", ',', ' ', 'u', \"'\", 'M', 'a', 'r', 'y', ' ', 'K', 'a', 'y', ' ', 'B', 'e', 'r', 'g', 'm', 'a', 'n', \"'\", 'u', \"'\", 'Z', 'o', 'o', 'e', 'y', ' ', 'D', 'e', 's', 'c', 'h', 'a', 'n', 'e', 'l', \"'\", ',', ' ', 'u', \"'\", 'J', 'o', 's', 'e', 'p', 'h', ' ', 'G', 'o', 'r', 'd', 'o', 'n', '-', 'L', 'e', 'v', 'i', 't', 't', \"'\", ',', ' ', 'u', \"'\", 'G', 'e', 'o', 'f', 'f', 'r', 'e', 'y', ' ', 'A', 'r', 'e', 'n', 'd', \"'\", 'u', \"'\", 'B', 'i', 'l', 'l', ' ', 'M', 'u', 'r', 'r', 'a', 'y', \"'\", ',', ' ', 'u', \"'\", 'S', 'c', 'a', 'r', 'l', 'e', 't', 't', ' ', 'J', 'o', 'h', 'a', 'n', 's', 's', 'o', 'n', \"'\", ',', ' ', 'u', \"'\", 'G', 'i', 'o', 'v', 'a', 'n', 'n', 'i', ' ', 'R', 'i', 'b', 'i', 's', 'i', \"'\", 'u', \"'\", 'B', 'e', 'n', ' ', 'A', 'f', 'f', 'l', 'e', 'c', 'k', \"'\", ',', ' ', 'u', \"'\", 'B', 'r', 'y', 'a', 'n', ' ', 'C', 'r', 'a', 'n', 's', 't', 'o', 'n', \"'\", ',', ' ', 'u', \"'\", 'J', 'o', 'h', 'n', ' ', 'G', 'o', 'o', 'd', 'm', 'a', 'n', \"'\", 'u', \"'\", 'C', 'l', 'e', 'a', 'v', 'o', 'n', ' ', 'L', 'i', 't', 't', 'l', 'e', \"'\", ',', ' ', 'u', \"'\", 'G', 'e', 'n', 'e', ' ', 'W', 'i', 'l', 'd', 'e', 'r', \"'\", ',', ' ', 'u', \"'\", 'S', 'l', 'i', 'm', ' ', 'P', 'i', 'c', 'k', 'e', 'n', 's', \"'\", 'u', \"'\", 'A', 'u', 'd', 'r', 'e', 'y', ' ', 'H', 'e', 'p', 'b', 'u', 'r', 'n', \"'\", ',', ' ', 'u', \"'\", 'G', 'e', 'o', 'r', 'g', 'e', ' ', 'P', 'e', 'p', 'p', 'a', 'r', 'd', \"'\", ',', ' ', 'u', \"'\", 'P', 'a', 't', 'r', 'i', 'c', 'i', 'a', ' ', 'N', 'e', 'a', 'l', \"'\", 'u', \"'\", 'J', 'o', 'h', 'n', 'n', 'y', ' ', 'D', 'e', 'p', 'p', \"'\", ',', ' ', 'u', \"'\", 'K', 'a', 't', 'e', ' ', 'W', 'i', 'n', 's', 'l', 'e', 't', \"'\", ',', ' ', 'u', \"'\", 'J', 'u', 'l', 'i', 'e', ' ', 'C', 'h', 'r', 'i', 's', 't', 'i', 'e', \"'\", 'u', \"'\", 'M', 'o', 'r', 'i', 't', 'z', ' ', 'B', 'l', 'e', 'i', 'b', 't', 'r', 'e', 'u', \"'\", ',', ' ', 'u', \"'\", 'C', 'h', 'r', 'i', 's', 't', 'i', 'a', 'n', ' ', 'B', 'e', 'r', 'k', 'e', 'l', \"'\", ',', ' ', 'u', \"'\", 'O', 'l', 'i', 'v', 'e', 'r', ' ', 'S', 't', 'o', 'k', 'o', 'w', 's', 'k', 'i', \"'\", 'u', \"'\", 'J', 'o', 's', 'h', ' ', 'H', 'a', 'r', 't', 'n', 'e', 't', 't', \"'\", ',', ' ', 'u', \"'\", 'B', 'e', 'n', ' ', 'K', 'i', 'n', 'g', 's', 'l', 'e', 'y', \"'\", ',', ' ', 'u', \"'\", 'M', 'o', 'r', 'g', 'a', 'n', ' ', 'F', 'r', 'e', 'e', 'm', 'a', 'n', \"'\", 'u', \"'\", 'E', 'd', 'd', 'i', 'e', ' ', 'R', 'e', 'd', 'm', 'a', 'y', 'n', 'e', \"'\", ',', ' ', 'u', \"'\", 'F', 'e', 'l', 'i', 'c', 'i', 't', 'y', ' ', 'J', 'o', 'n', 'e', 's', \"'\", ',', ' ', 'u', \"'\", 'T', 'o', 'm', ' ', 'P', 'r', 'i', 'o', 'r', \"'\", 'u', \"'\", 'D', 'a', 'n', 'i', 'e', 'l', ' ', 'R', 'a', 'd', 'c', 'l', 'i', 'f', 'f', 'e', \"'\", ',', ' ', 'u', \"'\", 'E', 'm', 'm', 'a', ' ', 'W', 'a', 't', 's', 'o', 'n', \"'\", ',', ' ', 'u', \"'\", 'R', 'u', 'p', 'e', 'r', 't', ' ', 'G', 'r', 'i', 'n', 't', \"'\", 'u', \"'\", 'S', 't', 'e', 'p', 'h', 'e', 'n', ' ', 'C', 'h', 'o', 'w', \"'\", ',', ' ', 'u', \"'\", 'W', 'a', 'h', ' ', 'Y', 'u', 'e', 'n', \"'\", ',', ' ', 'u', \"'\", 'Q', 'i', 'u', ' ', 'Y', 'u', 'e', 'n', \"'\", 'u', \"'\", 'J', 'o', 'h', 'n', ' ', 'C', 'u', 's', 'a', 'c', 'k', \"'\", ',', ' ', 'u', \"'\", 'C', 'a', 'm', 'e', 'r', 'o', 'n', ' ', 'D', 'i', 'a', 'z', \"'\", ',', ' ', 'u', \"'\", 'C', 'a', 't', 'h', 'e', 'r', 'i', 'n', 'e', ' ', 'K', 'e', 'e', 'n', 'e', 'r', \"'\", 'u', \"'\", 'J', 'e', 's', 's', 'e', ' ', 'E', 'i', 's', 'e', 'n', 'b', 'e', 'r', 'g', \"'\", ',', ' ', 'u', \"'\", 'A', 'n', 'd', 'r', 'e', 'w', ' ', 'G', 'a', 'r', 'f', 'i', 'e', 'l', 'd', \"'\", ',', ' ', 'u', \"'\", 'J', 'u', 's', 't', 'i', 'n', ' ', 'T', 'i', 'm', 'b', 'e', 'r', 'l', 'a', 'k', 'e', \"'\", 'u', \"'\", 'R', 'u', 's', 's', 'e', 'l', 'l', ' ', 'C', 'r', 'o', 'w', 'e', \"'\", ',', ' ', 'u', \"'\", 'C', 'h', 'r', 'i', 's', 't', 'i', 'a', 'n', ' ', 'B', 'a', 'l', 'e', \"'\", ',', ' ', 'u', \"'\", 'B', 'e', 'n', ' ', 'F', 'o', 's', 't', 'e', 'r', \"'\", 'u', \"'\", 'S', 'e', 'a', 'n', ' ', 'C', 'o', 'n', 'n', 'e', 'r', 'y', \"'\", ',', ' ', 'u', \"'\", 'C', 'h', 'r', 'i', 's', 't', 'i', 'a', 'n', ' ', 'S', 'l', 'a', 't', 'e', 'r', \"'\", ',', ' ', 'u', \"'\", 'H', 'e', 'l', 'm', 'u', 't', ' ', 'Q', 'u', 'a', 'l', 't', 'i', 'n', 'g', 'e', 'r', \"'\", 'u', \"'\", 'J', 'u', 'l', 'i', 'e', ' ', 'A', 'n', 'd', 'r', 'e', 'w', 's', \"'\", ',', ' ', 'u', \"'\", 'D', 'i', 'c', 'k', ' ', 'V', 'a', 'n', ' ', 'D', 'y', 'k', 'e', \"'\", ',', ' ', 'u', \"'\", 'D', 'a', 'v', 'i', 'd', ' ', 'T', 'o', 'm', 'l', 'i', 'n', 's', 'o', 'n', \"'\", 'u', \"'\", 'M', 'i', 'c', 'h', 'a', 'e', 'l', ' ', 'D', 'o', 'u', 'g', 'l', 'a', 's', \"'\", ',', ' ', 'u', \"'\", 'D', 'e', 'b', 'o', 'r', 'a', 'h', ' ', 'K', 'a', 'r', 'a', ' ', 'U', 'n', 'g', 'e', 'r', \"'\", ',', ' ', 'u', \"'\", 'S', 'e', 'a', 'n', ' ', 'P', 'e', 'n', 'n', \"'\", 'u', \"'\", 'A', 'n', 'g', 'e', 'l', 'i', 'n', 'a', ' ', 'J', 'o', 'l', 'i', 'e', \"'\", ',', ' ', 'u', \"'\", 'C', 'o', 'l', 'm', ' ', 'F', 'e', 'o', 'r', 'e', \"'\", ',', ' ', 'u', \"'\", 'A', 'm', 'y', ' ', 'R', 'y', 'a', 'n', \"'\", 'u', \"'\", 'A', 'l', ' ', 'P', 'a', 'c', 'i', 'n', 'o', \"'\", ',', ' ', 'u', \"'\", 'J', 'o', 'h', 'n', 'n', 'y', ' ', 'D', 'e', 'p', 'p', \"'\", ',', ' ', 'u', \"'\", 'M', 'i', 'c', 'h', 'a', 'e', 'l', ' ', 'M', 'a', 'd', 's', 'e', 'n', \"'\", 'u', \"'\", 'A', 'l', ' ', 'P', 'a', 'c', 'i', 'n', 'o', \"'\", ',', ' ', 'u', \"'\", 'J', 'o', 'h', 'n', ' ', 'R', 'a', 'n', 'd', 'o', 'l', 'p', 'h', \"'\", ',', ' ', 'u', \"'\", 'J', 'a', 'c', 'k', ' ', 'K', 'e', 'h', 'o', 'e', \"'\", 'u', \"'\", 'J', 'o', 'h', 'n', 'n', 'y', ' ', 'D', 'e', 'p', 'p', \"'\", ',', ' ', 'u', \"'\", 'L', 'e', 'o', 'n', 'a', 'r', 'd', 'o', ' ', 'D', 'i', 'C', 'a', 'p', 'r', 'i', 'o', \"'\", ',', ' ', 'u', \"'\", 'J', 'u', 'l', 'i', 'e', 't', 't', 'e', ' ', 'L', 'e', 'w', 'i', 's', \"'\", 'u', \"'\", 'S', 'e', 'a', 'n', ' ', 'C', 'o', 'n', 'n', 'e', 'r', 'y', \"'\", ',', ' ', 'u', \"'\", 'G', 'e', 'r', 't', ' ', 'F', 'r', '\\\\', 'x', 'f', '6', 'b', 'e', \"'\", ',', ' ', 'u', \"'\", 'H', 'o', 'n', 'o', 'r', ' ', 'B', 'l', 'a', 'c', 'k', 'm', 'a', 'n', \"'\", 'u', \"'\", 'B', 'r', 'u', 'c', 'e', ' ', 'D', 'e', 'r', 'n', \"'\", ',', ' ', 'u', \"'\", 'W', 'i', 'l', 'l', ' ', 'F', 'o', 'r', 't', 'e', \"'\", ',', ' ', 'u', \"'\", 'J', 'u', 'n', 'e', ' ', 'S', 'q', 'u', 'i', 'b', 'b', \"'\", 'u', \"'\", 'T', 'o', 'm', ' ', 'G', 'u', 'i', 'r', 'y', \"'\", ',', ' ', 'u', \"'\", 'M', 'i', 'k', 'e', ' ', 'V', 'i', 't', 'a', 'r', \"'\", ',', ' ', 'u', \"'\", 'P', 'a', 't', 'r', 'i', 'c', 'k', ' ', 'R', 'e', 'n', 'n', 'a', \"'\", 'u', \"'\", 'C', 'u', 'b', 'a', ' ', 'G', 'o', 'o', 'd', 'i', 'n', 'g', ' ', 'J', 'r', '.', \"'\", ',', ' ', 'u', \"'\", 'L', 'a', 'u', 'r', 'e', 'n', 'c', 'e', ' ', 'F', 'i', 's', 'h', 'b', 'u', 'r', 'n', 'e', \"'\", ',', ' ', 'u', \"'\", 'H', 'u', 'd', 'h', 'a', 'i', 'l', ' ', 'A', 'l', '-', 'A', 'm', 'i', 'r', \"'\", 'u', \"'\", 'M', 'a', 't', 't', ' ', 'D', 'a', 'm', 'o', 'n', \"'\", ',', ' ', 'u', \"'\", 'F', 'r', 'a', 'n', 'k', 'a', ' ', 'P', 'o', 't', 'e', 'n', 't', 'e', \"'\", ',', ' ', 'u', \"'\", 'J', 'o', 'a', 'n', ' ', 'A', 'l', 'l', 'e', 'n', \"'\", 'u', \"'\", 'D', 'a', 'n', 'i', 'e', 'l', ' ', 'C', 'r', 'a', 'i', 'g', \"'\", ',', ' ', 'u', \"'\", 'J', 'a', 'v', 'i', 'e', 'r', ' ', 'B', 'a', 'r', 'd', 'e', 'm', \"'\", ',', ' ', 'u', \"'\", 'N', 'a', 'o', 'm', 'i', 'e', ' ', 'H', 'a', 'r', 'r', 'i', 's', \"'\", 'u', \"'\", 'J', 'a', 'm', 'i', 'e', ' ', 'F', 'o', 'x', 'x', \"'\", ',', ' ', 'u', \"'\", 'R', 'e', 'g', 'i', 'n', 'a', ' ', 'K', 'i', 'n', 'g', \"'\", ',', ' ', 'u', \"'\", 'K', 'e', 'r', 'r', 'y', ' ', 'W', 'a', 's', 'h', 'i', 'n', 'g', 't', 'o', 'n', \"'\", 'u', \"'\", 'G', 'e', 'r', 'a', 'r', 'd', ' ', 'B', 'u', 't', 'l', 'e', 'r', \"'\", ',', ' ', 'u', \"'\", 'L', 'e', 'n', 'a', ' ', 'H', 'e', 'a', 'd', 'e', 'y', \"'\", ',', ' ', 'u', \"'\", 'D', 'a', 'v', 'i', 'd', ' ', 'W', 'e', 'n', 'h', 'a', 'm', \"'\", 'u', \"'\", 'R', 'o', 'b', 'e', 'r', 't', ' ', 'D', 'e', ' ', 'N', 'i', 'r', 'o', \"'\", ',', ' ', 'u', \"'\", 'C', 'h', 'a', 'z', 'z', ' ', 'P', 'a', 'l', 'm', 'i', 'n', 't', 'e', 'r', 'i', \"'\", ',', ' ', 'u', \"'\", 'L', 'i', 'l', 'l', 'o', ' ', 'B', 'r', 'a', 'n', 'c', 'a', 't', 'o', \"'\", 'u', \"'\", 'R', 'o', 'd', ' ', 'T', 'a', 'y', 'l', 'o', 'r', \"'\", ',', ' ', 'u', \"'\", 'T', 'i', 'p', 'p', 'i', ' ', 'H', 'e', 'd', 'r', 'e', 'n', \"'\", ',', ' ', 'u', \"'\", 'S', 'u', 'z', 'a', 'n', 'n', 'e', ' ', 'P', 'l', 'e', 's', 'h', 'e', 't', 't', 'e', \"'\", 'u', \"'\", 'T', 'a', 't', 's', 'u', 'y', 'a', ' ', 'F', 'u', 'j', 'i', 'w', 'a', 'r', 'a', \"'\", ',', ' ', 'u', \"'\", 'A', 'k', 'i', ' ', 'M', 'a', 'e', 'd', 'a', \"'\", ',', ' ', 'u', \"'\", 'T', 'a', 'r', '\\\\', 'x', 'f', '4', ' ', 'Y', 'a', 'm', 'a', 'm', 'o', 't', 'o', \"'\", 'u', \"'\", 'S', 'a', 'm', ' ', 'R', 'i', 'l', 'e', 'y', \"'\", ',', ' ', 'u', \"'\", 'S', 'a', 'm', 'a', 'n', 't', 'h', 'a', ' ', 'M', 'o', 'r', 't', 'o', 'n', \"'\", ',', ' ', 'u', \"'\", 'C', 'r', 'a', 'i', 'g', ' ', 'P', 'a', 'r', 'k', 'i', 'n', 's', 'o', 'n', \"'\", 'u', \"'\", 'D', 'u', 's', 't', 'i', 'n', ' ', 'H', 'o', 'f', 'f', 'm', 'a', 'n', \"'\", ',', ' ', 'u', \"'\", 'M', 'e', 'r', 'y', 'l', ' ', 'S', 't', 'r', 'e', 'e', 'p', \"'\", ',', ' ', 'u', \"'\", 'J', 'a', 'n', 'e', ' ', 'A', 'l', 'e', 'x', 'a', 'n', 'd', 'e', 'r', \"'\", 'u', \"'\", 'J', 'o', 'n', ' ', 'V', 'o', 'i', 'g', 'h', 't', \"'\", ',', ' ', 'u', \"'\", 'B', 'u', 'r', 't', ' ', 'R', 'e', 'y', 'n', 'o', 'l', 'd', 's', \"'\", ',', ' ', 'u', \"'\", 'N', 'e', 'd', ' ', 'B', 'e', 'a', 't', 't', 'y', \"'\", 'u', \"'\", 'G', 'e', 'o', 'r', 'g', 'e', ' ', 'C', 'l', 'o', 'o', 'n', 'e', 'y', \"'\", ',', ' ', 'u', \"'\", 'B', 'r', 'a', 'd', ' ', 'P', 'i', 't', 't', \"'\", ',', ' ', 'u', \"'\", 'J', 'u', 'l', 'i', 'a', ' ', 'R', 'o', 'b', 'e', 'r', 't', 's', \"'\", 'u', \"'\", 'J', 'a', 'c', 'k', ' ', 'N', 'i', 'c', 'h', 'o', 'l', 's', 'o', 'n', \"'\", ',', ' ', 'u', \"'\", 'H', 'e', 'l', 'e', 'n', ' ', 'H', 'u', 'n', 't', \"'\", ',', ' ', 'u', \"'\", 'G', 'r', 'e', 'g', ' ', 'K', 'i', 'n', 'n', 'e', 'a', 'r', \"'\", 'u', \"'\", 'R', 'o', 'b', 'e', 'r', 't', ' ', 'D', 'e', ' ', 'N', 'i', 'r', 'o', \"'\", ',', ' ', 'u', \"'\", 'R', 'o', 'b', 'i', 'n', ' ', 'W', 'i', 'l', 'l', 'i', 'a', 'm', 's', \"'\", ',', ' ', 'u', \"'\", 'J', 'u', 'l', 'i', 'e', ' ', 'K', 'a', 'v', 'n', 'e', 'r', \"'\", 'u', \"'\", 'R', 'o', 'b', 'e', 'r', 't', ' ', 'D', 'e', ' ', 'N', 'i', 'r', 'o', \"'\", ',', ' ', 'u', \"'\", 'J', 'e', 'r', 'r', 'y', ' ', 'L', 'e', 'w', 'i', 's', \"'\", ',', ' ', 'u', \"'\", 'D', 'i', 'a', 'h', 'n', 'n', 'e', ' ', 'A', 'b', 'b', 'o', 't', 't', \"'\", 'u', \"'\", 'D', 'e', 'n', 'z', 'e', 'l', ' ', 'W', 'a', 's', 'h', 'i', 'n', 'g', 't', 'o', 'n', \"'\", ',', ' ', 'u', \"'\", 'C', 'h', 'r', 'i', 's', 't', 'o', 'p', 'h', 'e', 'r', ' ', 'W', 'a', 'l', 'k', 'e', 'n', \"'\", ',', ' ', 'u', \"'\", 'D', 'a', 'k', 'o', 't', 'a', ' ', 'F', 'a', 'n', 'n', 'i', 'n', 'g', \"'\", 'u', \"'\", 'H', 'u', 'm', 'p', 'h', 'r', 'e', 'y', ' ', 'B', 'o', 'g', 'a', 'r', 't', \"'\", ',', ' ', 'u', \"'\", 'A', 'u', 'd', 'r', 'e', 'y', ' ', 'H', 'e', 'p', 'b', 'u', 'r', 'n', \"'\", ',', ' ', 'u', \"'\", 'W', 'i', 'l', 'l', 'i', 'a', 'm', ' ', 'H', 'o', 'l', 'd', 'e', 'n', \"'\", 'u', \"'\", 'R', 'u', 'f', 'u', 's', ' ', 'S', 'e', 'w', 'e', 'l', 'l', \"'\", ',', ' ', 'u', \"'\", 'K', 'i', 'e', 'f', 'e', 'r', ' ', 'S', 'u', 't', 'h', 'e', 'r', 'l', 'a', 'n', 'd', \"'\", ',', ' ', 'u', \"'\", 'J', 'e', 'n', 'n', 'i', 'f', 'e', 'r', ' ', 'C', 'o', 'n', 'n', 'e', 'l', 'l', 'y', \"'\", 'u', \"'\", 'D', 'a', 'n', 'i', 'e', 'l', ' ', 'B', 'r', '\\\\', 'x', 'f', 'c', 'h', 'l', \"'\", ',', ' ', 'u', \"'\", 'K', 'a', 't', 'r', 'i', 'n', ' ', 'S', 'a', '\\\\', 'x', 'd', 'f', \"'\", ',', ' ', 'u', \"'\", 'C', 'h', 'u', 'l', 'p', 'a', 'n', ' ', 'K', 'h', 'a', 'm', 'a', 't', 'o', 'v', 'a', \"'\", 'u', \"'\", 'D', 'e', 'n', 'z', 'e', 'l', ' ', 'W', 'a', 's', 'h', 'i', 'n', 'g', 't', 'o', 'n', \"'\", ',', ' ', 'u', \"'\", 'W', 'i', 'l', 'l', ' ', 'P', 'a', 't', 't', 'o', 'n', \"'\", ',', ' ', 'u', \"'\", 'W', 'o', 'o', 'd', ' ', 'H', 'a', 'r', 'r', 'i', 's', \"'\", 'u', \"'\", 'W', 'i', 'l', 'l', 'i', 'a', 'm', ' ', 'S', 'h', 'a', 't', 'n', 'e', 'r', \"'\", ',', ' ', 'u', \"'\", 'L', 'e', 'o', 'n', 'a', 'r', 'd', ' ', 'N', 'i', 'm', 'o', 'y', \"'\", ',', ' ', 'u', \"'\", 'D', 'e', 'F', 'o', 'r', 'e', 's', 't', ' ', 'K', 'e', 'l', 'l', 'e', 'y', \"'\", 'u', \"'\", 'T', 'o', 'm', ' ', 'H', 'a', 'n', 'k', 's', \"'\", ',', ' ', 'u', \"'\", 'T', 'y', 'l', 'e', 'r', ' ', 'H', 'o', 'e', 'c', 'h', 'l', 'i', 'n', \"'\", ',', ' ', 'u', \"'\", 'R', 'o', 'b', ' ', 'M', 'a', 'x', 'e', 'y', \"'\", 'u', \"'\", 'J', 'a', 's', 'o', 'n', ' ', 'S', 'c', 'h', 'w', 'a', 'r', 't', 'z', 'm', 'a', 'n', \"'\", ',', ' ', 'u', \"'\", 'B', 'i', 'l', 'l', ' ', 'M', 'u', 'r', 'r', 'a', 'y', \"'\", ',', ' ', 'u', \"'\", 'O', 'l', 'i', 'v', 'i', 'a', ' ', 'W', 'i', 'l', 'l', 'i', 'a', 'm', 's', \"'\", 'u', \"'\", 'C', 'h', 'r', 'i', 's', 't', 'i', 'a', 'n', ' ', 'B', 'a', 'l', 'e', \"'\", ',', ' ', 'u', \"'\", 'J', 'e', 'n', 'n', 'i', 'f', 'e', 'r', ' ', 'J', 'a', 's', 'o', 'n', ' ', 'L', 'e', 'i', 'g', 'h', \"'\", ',', ' ', 'u', \"'\", 'A', 'i', 't', 'a', 'n', 'a', ' ', 'S', '\\\\', 'x', 'e', '1', 'n', 'c', 'h', 'e', 'z', '-', 'G', 'i', 'j', '\\\\', 'x', 'f', '3', 'n', \"'\", 'u', \"'\", 'M', 'a', 'd', 'e', 'l', 'i', 'n', 'e', ' ', 'C', 'a', 'r', 'r', 'o', 'l', 'l', \"'\", ',', ' ', 'u', \"'\", 'C', 'a', 'l', 'l', 'a', 'n', ' ', 'M', 'c', 'A', 'u', 'l', 'i', 'f', 'f', 'e', \"'\", ',', ' ', 'u', \"'\", 'R', 'e', 'b', 'e', 'c', 'c', 'a', ' ', 'D', 'e', ' ', 'M', 'o', 'r', 'n', 'a', 'y', \"'\", 'u', \"'\", 'J', 'i', 'm', ' ', 'C', 'a', 'v', 'i', 'e', 'z', 'e', 'l', \"'\", ',', ' ', 'u', \"'\", 'G', 'u', 'y', ' ', 'P', 'e', 'a', 'r', 'c', 'e', \"'\", ',', ' ', 'u', \"'\", 'R', 'i', 'c', 'h', 'a', 'r', 'd', ' ', 'H', 'a', 'r', 'r', 'i', 's', \"'\", 'u', \"'\", 'A', 'd', 'r', 'i', 'e', 'n', ' ', 'B', 'r', 'o', 'd', 'y', \"'\", ',', ' ', 'u', \"'\", 'C', 'h', 'r', 'i', 's', 't', 'i', 'n', 'a', ' ', 'H', 'e', 'n', 'd', 'r', 'i', 'c', 'k', 's', \"'\", ',', ' ', 'u', \"'\", 'M', 'a', 'r', 'c', 'i', 'a', ' ', 'G', 'a', 'y', ' ', 'H', 'a', 'r', 'd', 'e', 'n', \"'\", 'u', \"'\", 'G', 'u', 'i', 'l', 'l', 'a', 'u', 'm', 'e', ' ', 'C', 'a', 'n', 'e', 't', \"'\", ',', ' ', 'u', \"'\", 'M', 'a', 'r', 'i', 'o', 'n', ' ', 'C', 'o', 't', 'i', 'l', 'l', 'a', 'r', 'd', \"'\", ',', ' ', 'u', \"'\", 'T', 'h', 'i', 'b', 'a', 'u', 'l', 't', ' ', 'V', 'e', 'r', 'h', 'a', 'e', 'g', 'h', 'e', \"'\", 'u', \"'\", 'J', 'o', 'h', 'n', 'n', 'y', ' ', 'D', 'e', 'p', 'p', \"'\", ',', ' ', 'u', \"'\", 'G', 'a', 'r', 'y', ' ', 'F', 'a', 'r', 'm', 'e', 'r', \"'\", ',', ' ', 'u', \"'\", 'C', 'r', 'i', 's', 'p', 'i', 'n', ' ', 'G', 'l', 'o', 'v', 'e', 'r', \"'\", 'u', \"'\", 'M', 'i', 'a', ' ', 'F', 'a', 'r', 'r', 'o', 'w', \"'\", ',', ' ', 'u', \"'\", 'J', 'e', 'f', 'f', ' ', 'D', 'a', 'n', 'i', 'e', 'l', 's', \"'\", ',', ' ', 'u', \"'\", 'D', 'a', 'n', 'n', 'y', ' ', 'A', 'i', 'e', 'l', 'l', 'o', \"'\", 'u', \"'\", 'S', 'e', 'a', 'n', ' ', 'P', 'e', 'n', 'n', \"'\", ',', ' ', 'u', \"'\", 'B', 'e', 'n', 'i', 'c', 'i', 'o', ' ', 'D', 'e', 'l', ' ', 'T', 'o', 'r', 'o', \"'\", ',', ' ', 'u', \"'\", 'N', 'a', 'o', 'm', 'i', ' ', 'W', 'a', 't', 't', 's', \"'\", 'u', \"'\", 'J', 'o', 's', 'e', 'p', 'h', ' ', 'G', 'o', 'r', 'd', 'o', 'n', '-', 'L', 'e', 'v', 'i', 't', 't', \"'\", ',', ' ', 'u', \"'\", 'S', 'e', 't', 'h', ' ', 'R', 'o', 'g', 'e', 'n', \"'\", ',', ' ', 'u', \"'\", 'A', 'n', 'n', 'a', ' ', 'K', 'e', 'n', 'd', 'r', 'i', 'c', 'k', \"'\", 'u', \"'\", 'A', 'a', 'r', 'o', 'n', ' ', 'T', 'a', 'y', 'l', 'o', 'r', '-', 'J', 'o', 'h', 'n', 's', 'o', 'n', \"'\", ',', ' ', 'u', \"'\", 'N', 'i', 'c', 'o', 'l', 'a', 's', ' ', 'C', 'a', 'g', 'e', \"'\", ',', ' ', 'u', \"'\", 'C', 'h', 'l', 'o', '\\\\', 'x', 'e', 'b', ' ', 'G', 'r', 'a', 'c', 'e', ' ', 'M', 'o', 'r', 'e', 't', 'z', \"'\", 'u', \"'\", 'M', 'a', 'r', 'i', 'e', '-', 'L', 'a', 'u', 'r', 'e', ' ', 'D', 'o', 'u', 'g', 'n', 'a', 'c', \"'\", ',', ' ', 'u', \"'\", 'D', 'o', 'm', 'i', 'n', 'i', 'q', 'u', 'e', ' ', 'P', 'i', 'n', 'o', 'n', \"'\", ',', ' ', 'u', \"'\", 'P', 'a', 's', 'c', 'a', 'l', ' ', 'B', 'e', 'n', 'e', 'z', 'e', 'c', 'h', \"'\", 'u', \"'\", 'J', 'o', 'h', 'n', ' ', 'T', 'u', 'r', 't', 'u', 'r', 'r', 'o', \"'\", ',', ' ', 'u', \"'\", 'J', 'o', 'h', 'n', ' ', 'G', 'o', 'o', 'd', 'm', 'a', 'n', \"'\", ',', ' ', 'u', \"'\", 'J', 'u', 'd', 'y', ' ', 'D', 'a', 'v', 'i', 's', \"'\", 'u', \"'\", 'J', 'a', 'm', 'e', 's', ' ', 'M', 'c', 'A', 'v', 'o', 'y', \"'\", ',', ' ', 'u', \"'\", 'F', 'o', 'r', 'e', 's', 't', ' ', 'W', 'h', 'i', 't', 'a', 'k', 'e', 'r', \"'\", ',', ' ', 'u', \"'\", 'G', 'i', 'l', 'l', 'i', 'a', 'n', ' ', 'A', 'n', 'd', 'e', 'r', 's', 'o', 'n', \"'\", 'u', \"'\", 'N', 'i', 'c', 'o', 'l', 'a', 's', ' ', 'C', 'a', 'g', 'e', \"'\", ',', ' ', 'u', \"'\", 'M', 'e', 'r', 'y', 'l', ' ', 'S', 't', 'r', 'e', 'e', 'p', \"'\", ',', ' ', 'u', \"'\", 'C', 'h', 'r', 'i', 's', ' ', 'C', 'o', 'o', 'p', 'e', 'r', \"'\", 'u', \"'\", 'A', 'u', 'd', 'r', 'e', 'y', ' ', 'T', 'a', 'u', 't', 'o', 'u', \"'\", ',', ' ', 'u', \"'\", 'G', 'a', 's', 'p', 'a', 'r', 'd', ' ', 'U', 'l', 'l', 'i', 'e', 'l', \"'\", ',', ' ', 'u', \"'\", 'J', 'o', 'd', 'i', 'e', ' ', 'F', 'o', 's', 't', 'e', 'r', \"'\", 'u', \"'\", 'B', 'r', 'a', 'd', 'y', ' ', 'C', 'o', 'r', 'b', 'e', 't', \"'\", ',', ' ', 'u', \"'\", 'J', 'o', 's', 'e', 'p', 'h', ' ', 'G', 'o', 'r', 'd', 'o', 'n', '-', 'L', 'e', 'v', 'i', 't', 't', \"'\", ',', ' ', 'u', \"'\", 'E', 'l', 'i', 's', 'a', 'b', 'e', 't', 'h', ' ', 'S', 'h', 'u', 'e', \"'\", 'u', \"'\", 'C', 'h', 'a', 'r', 'l', 'i', 'e', ' ', 'C', 'o', 'x', \"'\", ',', ' ', 'u', \"'\", 'C', 'l', 'a', 'i', 'r', 'e', ' ', 'D', 'a', 'n', 'e', 's', \"'\", ',', ' ', 'u', \"'\", 'S', 'i', 'e', 'n', 'n', 'a', ' ', 'M', 'i', 'l', 'l', 'e', 'r', \"'\", 'u', \"'\", 'J', 'o', 's', 'h', ' ', 'H', 'a', 'r', 't', 'n', 'e', 't', 't', \"'\", ',', ' ', 'u', \"'\", 'E', 'w', 'a', 'n', ' ', 'M', 'c', 'G', 'r', 'e', 'g', 'o', 'r', \"'\", ',', ' ', 'u', \"'\", 'T', 'o', 'm', ' ', 'S', 'i', 'z', 'e', 'm', 'o', 'r', 'e', \"'\", 'u', \"'\", 'M', 'e', 'g', 'u', 'm', 'i', ' ', 'H', 'a', 'y', 'a', 's', 'h', 'i', 'b', 'a', 'r', 'a', \"'\", ',', ' ', 'u', \"'\", 'T', '\\\\', 'x', 'f', '4', 'r', 'u', ' ', 'E', 'm', 'o', 'r', 'i', \"'\", ',', ' ', 'u', \"'\", 'K', 'a', 't', 's', 'u', 'n', 'o', 's', 'u', 'k', 'e', ' ', 'H', 'o', 'r', 'i', \"'\", 'u', \"'\", 'J', 'o', 'h', 'n', 'n', 'y', ' ', 'D', 'e', 'p', 'p', \"'\", ',', ' ', 'u', \"'\", 'B', 'e', 'n', 'i', 'c', 'i', 'o', ' ', 'D', 'e', 'l', ' ', 'T', 'o', 'r', 'o', \"'\", ',', ' ', 'u', \"'\", 'T', 'o', 'b', 'e', 'y', ' ', 'M', 'a', 'g', 'u', 'i', 'r', 'e', \"'\", 'u', \"'\", 'F', 'r', 'a', 'n', 'k', ' ', 'L', 'a', 'n', 'g', 'e', 'l', 'l', 'a', \"'\", ',', ' ', 'u', \"'\", 'M', 'i', 'c', 'h', 'a', 'e', 'l', ' ', 'S', 'h', 'e', 'e', 'n', \"'\", ',', ' ', 'u', \"'\", 'K', 'e', 'v', 'i', 'n', ' ', 'B', 'a', 'c', 'o', 'n', \"'\", 'u', \"'\", 'B', 'r', 'u', 'c', 'e', ' ', 'L', 'e', 'e', \"'\", ',', ' ', 'u', \"'\", 'J', 'o', 'h', 'n', ' ', 'S', 'a', 'x', 'o', 'n', \"'\", ',', ' ', 'u', \"'\", 'J', 'i', 'm', ' ', 'K', 'e', 'l', 'l', 'y', \"'\", 'u', \"'\", 'A', 'n', 'd', 'i', 'e', ' ', 'M', 'a', 'c', 'D', 'o', 'w', 'e', 'l', 'l', \"'\", ',', ' ', 'u', \"'\", 'J', 'u', 'l', 'i', 'a', 'n', 'n', 'e', ' ', 'M', 'o', 'o', 'r', 'e', \"'\", ',', ' ', 'u', \"'\", 'T', 'i', 'm', ' ', 'R', 'o', 'b', 'b', 'i', 'n', 's', \"'\", 'u', \"'\", 'J', 'o', 'h', 'n', ' ', 'L', 'e', 'n', 'n', 'o', 'n', \"'\", ',', ' ', 'u', \"'\", 'P', 'a', 'u', 'l', ' ', 'M', 'c', 'C', 'a', 'r', 't', 'n', 'e', 'y', \"'\", ',', ' ', 'u', \"'\", 'G', 'e', 'o', 'r', 'g', 'e', ' ', 'H', 'a', 'r', 'r', 'i', 's', 'o', 'n', \"'\", 'u', \"'\", 'T', 'o', 'm', ' ', 'C', 'r', 'u', 'i', 's', 'e', \"'\", ',', ' ', 'u', \"'\", 'K', 'e', 'n', ' ', 'W', 'a', 't', 'a', 'n', 'a', 'b', 'e', \"'\", ',', ' ', 'u', \"'\", 'B', 'i', 'l', 'l', 'y', ' ', 'C', 'o', 'n', 'n', 'o', 'l', 'l', 'y', \"'\", 'u', \"'\", 'P', 'e', 't', 'e', 'r', ' ', 'D', 'i', 'n', 'k', 'l', 'a', 'g', 'e', \"'\", ',', ' ', 'u', \"'\", 'P', 'a', 't', 'r', 'i', 'c', 'i', 'a', ' ', 'C', 'l', 'a', 'r', 'k', 's', 'o', 'n', \"'\", ',', ' ', 'u', \"'\", 'B', 'o', 'b', 'b', 'y', ' ', 'C', 'a', 'n', 'n', 'a', 'v', 'a', 'l', 'e', \"'\", 'u', \"'\", 'J', 'e', 's', 's', 'e', ' ', 'E', 'i', 's', 'e', 'n', 'b', 'e', 'r', 'g', \"'\", ',', ' ', 'u', \"'\", 'E', 'm', 'm', 'a', ' ', 'S', 't', 'o', 'n', 'e', \"'\", ',', ' ', 'u', \"'\", 'W', 'o', 'o', 'd', 'y', ' ', 'H', 'a', 'r', 'r', 'e', 'l', 's', 'o', 'n', \"'\", 'u', \"'\", 'K', 'a', 'n', 'g', '-', 'h', 'o', ' ', 'S', 'o', 'n', 'g', \"'\", ',', ' ', 'u', \"'\", 'H', 'a', '-', 'k', 'y', 'u', 'n', ' ', 'S', 'h', 'i', 'n', \"'\", ',', ' ', 'u', \"'\", 'D', 'o', 'o', 'n', 'a', ' ', 'B', 'a', 'e', \"'\", 'u', \"'\", 'S', 't', 'e', 'v', 'e', ' ', 'C', 'a', 'r', 'e', 'l', 'l', \"'\", ',', ' ', 'u', \"'\", 'J', 'a', 's', 'o', 'n', ' ', 'S', 'e', 'g', 'e', 'l', \"'\", ',', ' ', 'u', \"'\", 'R', 'u', 's', 's', 'e', 'l', 'l', ' ', 'B', 'r', 'a', 'n', 'd', \"'\", 'u', \"'\", 'A', 'l', 'a', 'n', ' ', 'L', 'a', 'd', 'd', \"'\", ',', ' ', 'u', \"'\", 'J', 'e', 'a', 'n', ' ', 'A', 'r', 't', 'h', 'u', 'r', \"'\", ',', ' ', 'u', \"'\", 'V', 'a', 'n', ' ', 'H', 'e', 'f', 'l', 'i', 'n', \"'\", 'u', \"'\", 'W', 'a', 'l', 't', 'e', 'r', ' ', 'P', 'i', 'd', 'g', 'e', 'o', 'n', \"'\", ',', ' ', 'u', \"'\", 'A', 'n', 'n', 'e', ' ', 'F', 'r', 'a', 'n', 'c', 'i', 's', \"'\", ',', ' ', 'u', \"'\", 'L', 'e', 's', 'l', 'i', 'e', ' ', 'N', 'i', 'e', 'l', 's', 'e', 'n', \"'\", 'u', \"'\", 'L', 'e', 'o', 'n', 'a', 'r', 'd', 'o', ' ', 'D', 'i', 'C', 'a', 'p', 'r', 'i', 'o', \"'\", ',', ' ', 'u', \"'\", 'K', 'a', 't', 'e', ' ', 'W', 'i', 'n', 's', 'l', 'e', 't', \"'\", ',', ' ', 'u', \"'\", 'B', 'i', 'l', 'l', 'y', ' ', 'Z', 'a', 'n', 'e', \"'\", 'u', \"'\", 'M', 'o', 'r', 'g', 'a', 'n', ' ', 'F', 'r', 'e', 'e', 'm', 'a', 'n', \"'\", ',', ' ', 'u', \"'\", 'E', 'd', ' ', 'H', 'a', 'r', 'r', 'i', 's', \"'\", ',', ' ', 'u', \"'\", 'C', 'a', 's', 'e', 'y', ' ', 'A', 'f', 'f', 'l', 'e', 'c', 'k', \"'\", 'u', \"'\", 'T', 'h', 'i', 'e', 'r', 'r', 'y', ' ', 'L', 'h', 'e', 'r', 'm', 'i', 't', 't', 'e', \"'\", ',', ' ', 'u', \"'\", 'J', 'a', 'c', 'q', 'u', 'e', 's', ' ', 'V', 'i', 'l', 'l', 'e', 'r', 'e', 't', \"'\", ',', ' ', 'u', \"'\", 'F', 'r', 'a', 'n', 'c', 'i', 's', ' ', 'H', 'u', 's', 't', 'e', 'r', \"'\", 'u', \"'\", 'G', 'a', 'r', 'y', ' ', 'O', 'l', 'd', 'm', 'a', 'n', \"'\", ',', ' ', 'u', \"'\", 'K', 'e', 'r', 'i', ' ', 'R', 'u', 's', 's', 'e', 'l', 'l', \"'\", ',', ' ', 'u', \"'\", 'A', 'n', 'd', 'y', ' ', 'S', 'e', 'r', 'k', 'i', 's', \"'\", 'u', \"'\", 'E', 'd', 'w', 'a', 'r', 'd', ' ', 'N', 'o', 'r', 't', 'o', 'n', \"'\", ',', ' ', 'u', \"'\", 'B', 'a', 'r', 'r', 'y', ' ', 'P', 'e', 'p', 'p', 'e', 'r', \"'\", ',', ' ', 'u', \"'\", 'P', 'h', 'i', 'l', 'i', 'p', ' ', 'S', 'e', 'y', 'm', 'o', 'u', 'r', ' ', 'H', 'o', 'f', 'f', 'm', 'a', 'n', \"'\", 'u', \"'\", 'C', 'a', 't', 'e', ' ', 'B', 'l', 'a', 'n', 'c', 'h', 'e', 't', 't', \"'\", ',', ' ', 'u', \"'\", 'M', 'a', 't', 't', ' ', 'D', 'a', 'm', 'o', 'n', \"'\", ',', ' ', 'u', \"'\", 'L', 'i', 'a', 'm', ' ', 'N', 'e', 'e', 's', 'o', 'n', \"'\", 'u', \"'\", 'G', 'e', 'o', 'f', 'f', 'r', 'e', 'y', ' ', 'R', 'u', 's', 'h', \"'\", ',', ' ', 'u', \"'\", 'A', 'r', 'm', 'i', 'n', ' ', 'M', 'u', 'e', 'l', 'l', 'e', 'r', '-', 'S', 't', 'a', 'h', 'l', \"'\", ',', ' ', 'u', \"'\", 'J', 'u', 's', 't', 'i', 'n', ' ', 'B', 'r', 'a', 'i', 'n', 'e', \"'\", 'u', \"'\", 'Q', 'u', 'i', 'n', 't', 'o', 'n', ' ', 'A', 'a', 'r', 'o', 'n', \"'\", ',', ' ', 'u', \"'\", 'S', 'a', 'n', 'd', 'r', 'a', ' ', 'B', 'u', 'l', 'l', 'o', 'c', 'k', \"'\", ',', ' ', 'u', \"'\", 'T', 'i', 'm', ' ', 'M', 'c', 'G', 'r', 'a', 'w', \"'\", 'u', \"'\", 'J', 'a', 'k', 'e', ' ', 'G', 'y', 'l', 'l', 'e', 'n', 'h', 'a', 'a', 'l', \"'\", ',', ' ', 'u', \"'\", 'H', 'e', 'a', 't', 'h', ' ', 'L', 'e', 'd', 'g', 'e', 'r', \"'\", ',', ' ', 'u', \"'\", 'M', 'i', 'c', 'h', 'e', 'l', 'l', 'e', ' ', 'W', 'i', 'l', 'l', 'i', 'a', 'm', 's', \"'\", 'u', \"'\", 'T', 'o', 'm', ' ', 'H', 'a', 'n', 'k', 's', \"'\", ',', ' ', 'u', \"'\", 'H', 'e', 'l', 'e', 'n', ' ', 'H', 'u', 'n', 't', \"'\", ',', ' ', 'u', \"'\", 'P', 'a', 'u', 'l', ' ', 'S', 'a', 'n', 'c', 'h', 'e', 'z', \"'\", 'u', \"'\", 'D', 'e', 'n', 'z', 'e', 'l', ' ', 'W', 'a', 's', 'h', 'i', 'n', 'g', 't', 'o', 'n', \"'\", ',', ' ', 'u', \"'\", 'A', 'n', 'g', 'e', 'l', 'a', ' ', 'B', 'a', 's', 's', 'e', 't', 't', \"'\", ',', ' ', 'u', \"'\", 'D', 'e', 'l', 'r', 'o', 'y', ' ', 'L', 'i', 'n', 'd', 'o', \"'\", 'u', \"'\", 'A', 'l', 'e', 'x', 'a', 'n', 'd', 'r', 'a', ' ', 'D', 'a', 'h', 'l', 's', 't', 'r', '\\\\', 'x', 'f', '6', 'm', \"'\", ',', ' ', 'u', \"'\", 'R', 'e', 'b', 'e', 'c', 'k', 'a', ' ', 'L', 'i', 'l', 'j', 'e', 'b', 'e', 'r', 'g', \"'\", ',', ' ', 'u', \"'\", 'E', 'r', 'i', 'c', 'a', ' ', 'C', 'a', 'r', 'l', 's', 'o', 'n', \"'\", 'u', \"'\", 'A', 'n', 'd', 'r', 'e', 'w', ' ', 'G', 'a', 'r', 'f', 'i', 'e', 'l', 'd', \"'\", ',', ' ', 'u', \"'\", 'P', 'e', 't', 'e', 'r', ' ', 'M', 'u', 'l', 'l', 'a', 'n', \"'\", ',', ' ', 'u', \"'\", 'S', 'h', 'a', 'u', 'n', ' ', 'E', 'v', 'a', 'n', 's', \"'\", 'u', \"'\", 'M', 'i', 'c', 'h', 'a', 'e', 'l', ' ', 'B', 'e', 'c', 'k', \"'\", ',', ' ', 'u', \"'\", 'J', 'a', 'm', 'e', 's', ' ', 'R', 'e', 'm', 'a', 'r', \"'\", ',', ' ', 'u', \"'\", 'D', 'o', 'r', 's', 'e', 'y', ' ', 'W', 'r', 'i', 'g', 'h', 't', \"'\", 'u', \"'\", 'R', 'i', 'c', 'h', 'a', 'r', 'd', ' ', 'D', 'r', 'e', 'y', 'f', 'u', 's', 's', \"'\", ',', ' ', 'u', \"'\", 'F', 'r', 'a', 'n', '\\\\', 'x', 'e', '7', 'o', 'i', 's', ' ', 'T', 'r', 'u', 'f', 'f', 'a', 'u', 't', \"'\", ',', ' ', 'u', \"'\", 'T', 'e', 'r', 'i', ' ', 'G', 'a', 'r', 'r', \"'\", 'u', \"'\", 'S', 'c', 'a', 'r', 'l', 'e', 't', 't', ' ', 'J', 'o', 'h', 'a', 'n', 's', 's', 'o', 'n', \"'\", ',', ' ', 'u', \"'\", 'J', 'o', 'n', 'a', 't', 'h', 'a', 'n', ' ', 'R', 'h', 'y', 's', ' ', 'M', 'e', 'y', 'e', 'r', 's', \"'\", ',', ' ', 'u', \"'\", 'E', 'm', 'i', 'l', 'y', ' ', 'M', 'o', 'r', 't', 'i', 'm', 'e', 'r', \"'\", 'u', \"'\", 'D', 'e', 'n', 'z', 'e', 'l', ' ', 'W', 'a', 's', 'h', 'i', 'n', 'g', 't', 'o', 'n', \"'\", ',', ' ', 'u', \"'\", 'E', 't', 'h', 'a', 'n', ' ', 'H', 'a', 'w', 'k', 'e', \"'\", ',', ' ', 'u', \"'\", 'S', 'c', 'o', 't', 't', ' ', 'G', 'l', 'e', 'n', 'n', \"'\", 'u', \"'\", 'A', 's', 'h', 't', 'o', 'n', ' ', 'K', 'u', 't', 'c', 'h', 'e', 'r', \"'\", ',', ' ', 'u', \"'\", 'A', 'm', 'y', ' ', 'S', 'm', 'a', 'r', 't', \"'\", ',', ' ', 'u', \"'\", 'M', 'e', 'l', 'o', 'r', 'a', ' ', 'W', 'a', 'l', 't', 'e', 'r', 's', \"'\", 'u', \"'\", 'R', 'o', 'n', ' ', 'P', 'e', 'r', 'l', 'm', 'a', 'n', \"'\", ',', ' ', 'u', \"'\", 'D', 'a', 'n', 'i', 'e', 'l', ' ', 'E', 'm', 'i', 'l', 'f', 'o', 'r', 'k', \"'\", ',', ' ', 'u', \"'\", 'J', 'u', 'd', 'i', 't', 'h', ' ', 'V', 'i', 't', 't', 'e', 't', \"'\", 'u', \"'\", 'J', 'a', 'm', 'i', 'e', ' ', 'B', 'e', 'l', 'l', \"'\", ',', ' ', 'u', \"'\", 'J', 'u', 'l', 'i', 'e', ' ', 'W', 'a', 'l', 't', 'e', 'r', 's', \"'\", ',', ' ', 'u', \"'\", 'J', 'e', 'a', 'n', ' ', 'H', 'e', 'y', 'w', 'o', 'o', 'd', \"'\", 'u', \"'\", 'H', 'u', 'g', 'h', ' ', 'G', 'r', 'a', 'n', 't', \"'\", ',', ' ', 'u', \"'\", 'M', 'a', 'r', 't', 'i', 'n', 'e', ' ', 'M', 'c', 'C', 'u', 't', 'c', 'h', 'e', 'o', 'n', \"'\", ',', ' ', 'u', \"'\", 'L', 'i', 'a', 'm', ' ', 'N', 'e', 'e', 's', 'o', 'n', \"'\", 'u', \"'\", 'Z', 'e', 'r', 'o', ' ', 'M', 'o', 's', 't', 'e', 'l', \"'\", ',', ' ', 'u', \"'\", 'G', 'e', 'n', 'e', ' ', 'W', 'i', 'l', 'd', 'e', 'r', \"'\", ',', ' ', 'u', \"'\", 'D', 'i', 'c', 'k', ' ', 'S', 'h', 'a', 'w', 'n', \"'\", 'u', \"'\", 'D', 'a', 'n', 'i', 'e', 'l', ' ', 'R', 'a', 'd', 'c', 'l', 'i', 'f', 'f', 'e', \"'\", ',', ' ', 'u', \"'\", 'E', 'm', 'm', 'a', ' ', 'W', 'a', 't', 's', 'o', 'n', \"'\", ',', ' ', 'u', \"'\", 'R', 'u', 'p', 'e', 'r', 't', ' ', 'G', 'r', 'i', 'n', 't', \"'\", 'u', \"'\", 'R', 'i', 'c', 'h', 'a', 'r', 'd', ' ', 'J', 'e', 'n', 'k', 'i', 'n', 's', \"'\", ',', ' ', 'u', \"'\", 'H', 'a', 'a', 'z', ' ', 'S', 'l', 'e', 'i', 'm', 'a', 'n', \"'\", ',', ' ', 'u', \"'\", 'D', 'a', 'n', 'a', 'i', ' ', 'G', 'u', 'r', 'i', 'r', 'a', \"'\", 'u', \"'\", 'T', 'o', 'm', ' ', 'H', 'a', 'n', 'k', 's', \"'\", ',', ' ', 'u', \"'\", 'D', 'e', 'n', 'z', 'e', 'l', ' ', 'W', 'a', 's', 'h', 'i', 'n', 'g', 't', 'o', 'n', \"'\", ',', ' ', 'u', \"'\", 'R', 'o', 'b', 'e', 'r', 't', 'a', ' ', 'M', 'a', 'x', 'w', 'e', 'l', 'l', \"'\", 'u', \"'\", 'E', 'm', 'm', 'a', ' ', 'T', 'h', 'o', 'm', 'p', 's', 'o', 'n', \"'\", ',', ' ', 'u', \"'\", 'K', 'a', 't', 'e', ' ', 'W', 'i', 'n', 's', 'l', 'e', 't', \"'\", ',', ' ', 'u', \"'\", 'J', 'a', 'm', 'e', 's', ' ', 'F', 'l', 'e', 'e', 't', \"'\", 'u', \"'\", 'Z', 'b', 'i', 'g', 'n', 'i', 'e', 'w', ' ', 'Z', 'a', 'm', 'a', 'c', 'h', 'o', 'w', 's', 'k', 'i', \"'\", ',', ' ', 'u', \"'\", 'J', 'u', 'l', 'i', 'e', ' ', 'D', 'e', 'l', 'p', 'y', \"'\", ',', ' ', 'u', \"'\", 'J', 'a', 'n', 'u', 's', 'z', ' ', 'G', 'a', 'j', 'o', 's', \"'\", 'u', \"'\", 'T', 'o', 'n', 'i', ' ', 'S', 'e', 'r', 'v', 'i', 'l', 'l', 'o', \"'\", ',', ' ', 'u', \"'\", 'C', 'a', 'r', 'l', 'o', ' ', 'V', 'e', 'r', 'd', 'o', 'n', 'e', \"'\", ',', ' ', 'u', \"'\", 'S', 'a', 'b', 'r', 'i', 'n', 'a', ' ', 'F', 'e', 'r', 'i', 'l', 'l', 'i', \"'\", 'u', \"'\", 'R', 'i', 'c', 'h', 'a', 'r', 'd', ' ', 'G', 'e', 'r', 'e', \"'\", ',', ' ', 'u', \"'\", 'L', 'a', 'u', 'r', 'a', ' ', 'L', 'i', 'n', 'n', 'e', 'y', \"'\", ',', ' ', 'u', \"'\", 'E', 'd', 'w', 'a', 'r', 'd', ' ', 'N', 'o', 'r', 't', 'o', 'n', \"'\", 'u', \"'\", 'R', 'i', 'c', 'h', 'a', 'r', 'd', ' ', 'B', 'u', 'r', 't', 'o', 'n', \"'\", ',', ' ', 'u', \"'\", 'C', 'l', 'i', 'n', 't', ' ', 'E', 'a', 's', 't', 'w', 'o', 'o', 'd', \"'\", ',', ' ', 'u', \"'\", 'M', 'a', 'r', 'y', ' ', 'U', 'r', 'e', \"'\", 'u', \"'\", 'J', 'a', 's', 'o', 'n', ' ', 'L', 'o', 'n', 'd', 'o', 'n', \"'\", ',', ' ', 'u', \"'\", 'W', 'i', 'l', 'e', 'y', ' ', 'W', 'i', 'g', 'g', 'i', 'n', 's', \"'\", ',', ' ', 'u', \"'\", 'M', 'a', 't', 't', 'h', 'e', 'w', ' ', 'M', 'c', 'C', 'o', 'n', 'a', 'u', 'g', 'h', 'e', 'y', \"'\", 'u', \"'\", 'J', 'o', 'h', 'n', ' ', 'G', 'e', 't', 'z', \"'\", ',', ' ', 'u', \"'\", 'F', 'r', 'a', 'n', 'c', 'e', 's', ' ', 'M', 'c', 'D', 'o', 'r', 'm', 'a', 'n', 'd', \"'\", ',', ' ', 'u', \"'\", 'D', 'a', 'n', ' ', 'H', 'e', 'd', 'a', 'y', 'a', \"'\", 'u', \"'\", 'T', 'h', 'o', 'm', 'a', 's', ' ', 'T', 'u', 'r', 'g', 'o', 'o', 's', 'e', \"'\", ',', ' ', 'u', \"'\", 'S', 't', 'e', 'p', 'h', 'e', 'n', ' ', 'G', 'r', 'a', 'h', 'a', 'm', \"'\", ',', ' ', 'u', \"'\", 'J', 'o', ' ', 'H', 'a', 'r', 't', 'l', 'e', 'y', \"'\", 'u', \"'\", 'J', 'e', 't', ' ', 'L', 'i', \"'\", ',', ' ', 'u', \"'\", 'L', 'i', ' ', 'S', 'u', 'n', \"'\", ',', ' ', 'u', \"'\", 'Y', 'o', 'n', 'g', ' ', 'D', 'o', 'n', 'g', \"'\", 'u', \"'\", 'G', 'l', 'e', 'n', 'n', ' ', 'C', 'l', 'o', 's', 'e', \"'\", ',', ' ', 'u', \"'\", 'J', 'o', 'h', 'n', ' ', 'M', 'a', 'l', 'k', 'o', 'v', 'i', 'c', 'h', \"'\", ',', ' ', 'u', \"'\", 'M', 'i', 'c', 'h', 'e', 'l', 'l', 'e', ' ', 'P', 'f', 'e', 'i', 'f', 'f', 'e', 'r', \"'\", 'u', \"'\", 'C', 'a', 'r', 'y', ' ', 'E', 'l', 'w', 'e', 's', \"'\", ',', ' ', 'u', \"'\", 'L', 'e', 'i', 'g', 'h', ' ', 'W', 'h', 'a', 'n', 'n', 'e', 'l', 'l', \"'\", ',', ' ', 'u', \"'\", 'D', 'a', 'n', 'n', 'y', ' ', 'G', 'l', 'o', 'v', 'e', 'r', \"'\", 'u', \"'\", 'A', 'd', 'r', 'i', 'a', 'n', 'a', ' ', 'C', 'a', 's', 'e', 'l', 'o', 't', 't', 'i', \"'\", ',', ' ', 'u', \"'\", 'H', 'a', 'r', 'r', 'y', ' ', 'S', 't', 'o', 'c', 'k', 'w', 'e', 'l', 'l', \"'\", ',', ' ', 'u', \"'\", 'L', 'u', 'c', 'i', 'l', 'l', 'e', ' ', 'L', 'a', ' ', 'V', 'e', 'r', 'n', 'e', \"'\", 'u', \"'\", 'D', 'a', 'k', 'o', 't', 'a', ' ', 'F', 'a', 'n', 'n', 'i', 'n', 'g', \"'\", ',', ' ', 'u', \"'\", 'T', 'e', 'r', 'i', ' ', 'H', 'a', 't', 'c', 'h', 'e', 'r', \"'\", ',', ' ', 'u', \"'\", 'J', 'o', 'h', 'n', ' ', 'H', 'o', 'd', 'g', 'm', 'a', 'n', \"'\", 'u', \"'\", 'J', 'e', 'n', 'n', 'i', 'f', 'e', 'r', ' ', 'L', 'a', 'w', 'r', 'e', 'n', 'c', 'e', \"'\", ',', ' ', 'u', \"'\", 'J', 'o', 's', 'h', ' ', 'H', 'u', 't', 'c', 'h', 'e', 'r', 's', 'o', 'n', \"'\", ',', ' ', 'u', \"'\", 'L', 'i', 'a', 'm', ' ', 'H', 'e', 'm', 's', 'w', 'o', 'r', 't', 'h', \"'\", 'u', \"'\", 'M', 'e', 'r', 'y', 'l', ' ', 'S', 't', 'r', 'e', 'e', 'p', \"'\", ',', ' ', 'u', \"'\", 'K', 'e', 'v', 'i', 'n', ' ', 'K', 'l', 'i', 'n', 'e', \"'\", ',', ' ', 'u', \"'\", 'P', 'e', 't', 'e', 'r', ' ', 'M', 'a', 'c', 'N', 'i', 'c', 'o', 'l', \"'\", 'u', \"'\", 'M', 'a', 'r', 'i', 'o', 'n', ' ', 'C', 'o', 't', 'i', 'l', 'l', 'a', 'r', 'd', \"'\", ',', ' ', 'u', \"'\", 'S', 'y', 'l', 'v', 'i', 'e', ' ', 'T', 'e', 's', 't', 'u', 'd', \"'\", ',', ' ', 'u', \"'\", 'P', 'a', 's', 'c', 'a', 'l', ' ', 'G', 'r', 'e', 'g', 'g', 'o', 'r', 'y', \"'\", 'u', \"'\", 'H', 'a', 'y', 'd', 'e', 'n', ' ', 'C', 'h', 'r', 'i', 's', 't', 'e', 'n', 's', 'e', 'n', \"'\", ',', ' ', 'u', \"'\", 'N', 'a', 't', 'a', 'l', 'i', 'e', ' ', 'P', 'o', 'r', 't', 'm', 'a', 'n', \"'\", ',', ' ', 'u', \"'\", 'E', 'w', 'a', 'n', ' ', 'M', 'c', 'G', 'r', 'e', 'g', 'o', 'r', \"'\", 'u', \"'\", 'J', 'e', 'f', 'f', ' ', 'B', 'r', 'i', 'd', 'g', 'e', 's', \"'\", ',', ' ', 'u', \"'\", 'M', 'a', 't', 't', ' ', 'D', 'a', 'm', 'o', 'n', \"'\", ',', ' ', 'u', \"'\", 'H', 'a', 'i', 'l', 'e', 'e', ' ', 'S', 't', 'e', 'i', 'n', 'f', 'e', 'l', 'd', \"'\", 'u', \"'\", 'G', 'r', 'i', 'f', 'f', 'i', 'n', ' ', 'D', 'u', 'n', 'n', 'e', \"'\", ',', ' ', 'u', \"'\", 'R', 'o', 's', 'a', 'n', 'n', 'a', ' ', 'A', 'r', 'q', 'u', 'e', 't', 't', 'e', \"'\", ',', ' ', 'u', \"'\", 'V', 'e', 'r', 'n', 'a', ' ', 'B', 'l', 'o', 'o', 'm', \"'\", 'u', \"'\", 'K', 'r', 'i', 's', 't', 'e', 'n', ' ', 'B', 'e', 'l', 'l', \"'\", ',', ' ', 'u', \"'\", 'I', 'd', 'i', 'n', 'a', ' ', 'M', 'e', 'n', 'z', 'e', 'l', \"'\", ',', ' ', 'u', \"'\", 'J', 'o', 'n', 'a', 't', 'h', 'a', 'n', ' ', 'G', 'r', 'o', 'f', 'f', \"'\", 'u', \"'\", 'J', 'a', 'm', 'e', 's', ' ', 'M', 'a', 's', 'o', 'n', \"'\", ',', ' ', 'u', \"'\", 'S', 'h', 'e', 'l', 'l', 'e', 'y', ' ', 'W', 'i', 'n', 't', 'e', 'r', 's', \"'\", ',', ' ', 'u', \"'\", 'S', 'u', 'e', ' ', 'L', 'y', 'o', 'n', \"'\", 'u', \"'\", 'N', 'a', 'o', 'm', 'i', ' ', 'W', 'a', 't', 't', 's', \"'\", ',', ' ', 'u', \"'\", 'V', 'i', 'g', 'g', 'o', ' ', 'M', 'o', 'r', 't', 'e', 'n', 's', 'e', 'n', \"'\", ',', ' ', 'u', \"'\", 'A', 'r', 'm', 'i', 'n', ' ', 'M', 'u', 'e', 'l', 'l', 'e', 'r', '-', 'S', 't', 'a', 'h', 'l', \"'\", 'u', \"'\", 'O', 'w', 'e', 'n', ' ', 'W', 'i', 'l', 's', 'o', 'n', \"'\", ',', ' ', 'u', \"'\", 'R', 'a', 'c', 'h', 'e', 'l', ' ', 'M', 'c', 'A', 'd', 'a', 'm', 's', \"'\", ',', ' ', 'u', \"'\", 'K', 'a', 't', 'h', 'y', ' ', 'B', 'a', 't', 'e', 's', \"'\", 'u', \"'\", 'M', 'i', 'c', 'h', 'a', 'e', 'l', ' ', 'C', 'a', 'i', 'n', 'e', \"'\", ',', ' ', 'u', \"'\", 'D', 'a', 'v', 'e', ' ', 'G', 'o', 'e', 'l', 'z', \"'\", ',', ' ', 'u', \"'\", 'S', 't', 'e', 'v', 'e', ' ', 'W', 'h', 'i', 't', 'm', 'i', 'r', 'e', \"'\", 'u', \"'\", 'B', 'o', 'b', ' ', 'H', 'o', 's', 'k', 'i', 'n', 's', \"'\", ',', ' ', 'u', \"'\", 'C', 'h', 'r', 'i', 's', 't', 'o', 'p', 'h', 'e', 'r', ' ', 'L', 'l', 'o', 'y', 'd', \"'\", ',', ' ', 'u', \"'\", 'J', 'o', 'a', 'n', 'n', 'a', ' ', 'C', 'a', 's', 's', 'i', 'd', 'y', \"'\", 'u', \"'\", 'Y', 'e', 'o', 'n', 'g', '-', 'a', 'e', ' ', 'L', 'e', 'e', \"'\", ',', ' ', 'u', \"'\", 'M', 'i', 'n', '-', 's', 'i', 'k', ' ', 'C', 'h', 'o', 'i', \"'\", ',', ' ', 'u', \"'\", 'S', 'h', 'i', '-', 'h', 'o', 'o', ' ', 'K', 'i', 'm', \"'\", 'u', \"'\", 'K', 'u', 'r', 't', ' ', 'R', 'u', 's', 's', 'e', 'l', 'l', \"'\", ',', ' ', 'u', \"'\", 'R', 'o', 's', 'e', ' ', 'M', 'c', 'G', 'o', 'w', 'a', 'n', \"'\", ',', ' ', 'u', \"'\", 'D', 'a', 'n', 'n', 'y', ' ', 'T', 'r', 'e', 'j', 'o', \"'\", 'u', \"'\", 'M', 'i', 'k', 'a', 'e', 'l', ' ', 'P', 'e', 'r', 's', 'b', 'r', 'a', 'n', 'd', 't', \"'\", ',', ' ', 'u', \"'\", 'T', 'r', 'i', 'n', 'e', ' ', 'D', 'y', 'r', 'h', 'o', 'l', 'm', \"'\", ',', ' ', 'u', \"'\", 'M', 'a', 'r', 'k', 'u', 's', ' ', 'R', 'y', 'g', 'a', 'a', 'r', 'd', \"'\", 'u', \"'\", 'D', 'a', 'v', 'i', 'd', ' ', 'H', 'e', 'm', 'm', 'i', 'n', 'g', 's', \"'\", ',', ' ', 'u', \"'\", 'V', 'a', 'n', 'e', 's', 's', 'a', ' ', 'R', 'e', 'd', 'g', 'r', 'a', 'v', 'e', \"'\", ',', ' ', 'u', \"'\", 'S', 'a', 'r', 'a', 'h', ' ', 'M', 'i', 'l', 'e', 's', \"'\", 'u', \"'\", 'B', 'r', 'i', 'd', 'g', 'i', 't', ' ', 'M', 'e', 'n', 'd', 'l', 'e', 'r', \"'\", ',', ' ', 'u', \"'\", 'A', 'm', 'y', ' ', 'P', 'o', 'e', 'h', 'l', 'e', 'r', \"'\", ',', ' ', 'u', \"'\", 'W', 'i', 'l', 'l', ' ', 'A', 'r', 'n', 'e', 't', 't', \"'\", 'u', \"'\", 'R', 'o', 'b', 'e', 'r', 't', ' ', 'D', 'o', 'w', 'n', 'e', 'y', ' ', 'J', 'r', '.', \"'\", ',', ' ', 'u', \"'\", 'V', 'a', 'l', ' ', 'K', 'i', 'l', 'm', 'e', 'r', \"'\", ',', ' ', 'u', \"'\", 'M', 'i', 'c', 'h', 'e', 'l', 'l', 'e', ' ', 'M', 'o', 'n', 'a', 'g', 'h', 'a', 'n', \"'\", 'u', \"'\", 'B', 'i', 'l', 'l', ' ', 'P', 'u', 'l', 'l', 'm', 'a', 'n', \"'\", ',', ' ', 'u', \"'\", 'P', 'a', 't', 'r', 'i', 'c', 'i', 'a', ' ', 'A', 'r', 'q', 'u', 'e', 't', 't', 'e', \"'\", ',', ' ', 'u', \"'\", 'J', 'o', 'h', 'n', ' ', 'R', 'o', 's', 'e', 'l', 'i', 'u', 's', \"'\", 'u', \"'\", 'J', 'a', 'k', 'e', ' ', 'G', 'y', 'l', 'l', 'e', 'n', 'h', 'a', 'a', 'l', \"'\", ',', ' ', 'u', \"'\", 'R', 'o', 'b', 'e', 'r', 't', ' ', 'D', 'o', 'w', 'n', 'e', 'y', ' ', 'J', 'r', '.', \"'\", ',', ' ', 'u', \"'\", 'M', 'a', 'r', 'k', ' ', 'R', 'u', 'f', 'f', 'a', 'l', 'o', \"'\", 'u', \"'\", 'H', 'u', 'g', 'h', ' ', 'J', 'a', 'c', 'k', 'm', 'a', 'n', \"'\", ',', ' ', 'u', \"'\", 'R', 'u', 's', 's', 'e', 'l', 'l', ' ', 'C', 'r', 'o', 'w', 'e', \"'\", ',', ' ', 'u', \"'\", 'A', 'n', 'n', 'e', ' ', 'H', 'a', 't', 'h', 'a', 'w', 'a', 'y', \"'\", 'u', \"'\", 'N', 'i', 'c', 'o', 'l', 'e', ' ', 'K', 'i', 'd', 'm', 'a', 'n', \"'\", ',', ' ', 'u', \"'\", 'E', 'w', 'a', 'n', ' ', 'M', 'c', 'G', 'r', 'e', 'g', 'o', 'r', \"'\", ',', ' ', 'u', \"'\", 'J', 'o', 'h', 'n', ' ', 'L', 'e', 'g', 'u', 'i', 'z', 'a', 'm', 'o', \"'\", 'u', \"'\", 'K', 'e', 'i', 's', 'h', 'a', ' ', 'C', 'a', 's', 't', 'l', 'e', '-', 'H', 'u', 'g', 'h', 'e', 's', \"'\", ',', ' ', 'u', \"'\", 'R', 'a', 'w', 'i', 'r', 'i', ' ', 'P', 'a', 'r', 'a', 't', 'e', 'n', 'e', \"'\", ',', ' ', 'u', \"'\", 'V', 'i', 'c', 'k', 'y', ' ', 'H', 'a', 'u', 'g', 'h', 't', 'o', 'n', \"'\", 'u', \"'\", 'J', 'a', 'k', 'e', ' ', 'G', 'y', 'l', 'l', 'e', 'n', 'h', 'a', 'a', 'l', \"'\", ',', ' ', 'u', \"'\", 'M', 'i', 'c', 'h', 'a', 'e', 'l', ' ', 'P', 'e', '\\\\', 'x', 'f', '1', 'a', \"'\", ',', ' ', 'u', \"'\", 'A', 'n', 'n', 'a', ' ', 'K', 'e', 'n', 'd', 'r', 'i', 'c', 'k', \"'\", 'u', \"'\", 'J', 'u', 'd', 'i', ' ', 'D', 'e', 'n', 'c', 'h', \"'\", ',', ' ', 'u', \"'\", 'S', 't', 'e', 'v', 'e', ' ', 'C', 'o', 'o', 'g', 'a', 'n', \"'\", ',', ' ', 'u', \"'\", 'S', 'o', 'p', 'h', 'i', 'e', ' ', 'K', 'e', 'n', 'n', 'e', 'd', 'y', ' ', 'C', 'l', 'a', 'r', 'k', \"'\", 'u', \"'\", 'B', 'r', 'a', 'd', ' ', 'P', 'i', 't', 't', \"'\", ',', ' ', 'u', \"'\", 'S', 'h', 'i', 'a', ' ', 'L', 'a', 'B', 'e', 'o', 'u', 'f', \"'\", ',', ' ', 'u', \"'\", 'L', 'o', 'g', 'a', 'n', ' ', 'L', 'e', 'r', 'm', 'a', 'n', \"'\", 'u', \"'\", 'J', 'e', 'a', 'n', '-', 'M', 'a', 'r', 'c', ' ', 'B', 'a', 'r', 'r', \"'\", ',', ' ', 'u', \"'\", 'J', 'e', 'a', 'n', ' ', 'R', 'e', 'n', 'o', \"'\", ',', ' ', 'u', \"'\", 'R', 'o', 's', 'a', 'n', 'n', 'a', ' ', 'A', 'r', 'q', 'u', 'e', 't', 't', 'e', \"'\", 'u', \"'\", 'S', 'y', 'l', 'v', 'e', 's', 't', 'e', 'r', ' ', 'S', 't', 'a', 'l', 'l', 'o', 'n', 'e', \"'\", ',', ' ', 'u', \"'\", 'B', 'r', 'i', 'a', 'n', ' ', 'D', 'e', 'n', 'n', 'e', 'h', 'y', \"'\", ',', ' ', 'u', \"'\", 'R', 'i', 'c', 'h', 'a', 'r', 'd', ' ', 'C', 'r', 'e', 'n', 'n', 'a', \"'\", 'u', \"'\", 'T', 'o', 'm', ' ', 'C', 'r', 'u', 'i', 's', 'e', \"'\", ',', ' ', 'u', \"'\", 'C', 'o', 'l', 'i', 'n', ' ', 'F', 'a', 'r', 'r', 'e', 'l', 'l', \"'\", ',', ' ', 'u', \"'\", 'S', 'a', 'm', 'a', 'n', 't', 'h', 'a', ' ', 'M', 'o', 'r', 't', 'o', 'n', \"'\", 'u', \"'\", 'I', 'n', 'g', 'r', 'i', 'd', ' ', 'B', 'e', 'r', 'g', 'm', 'a', 'n', \"'\", ',', ' ', 'u', \"'\", 'G', 'r', 'e', 'g', 'o', 'r', 'y', ' ', 'P', 'e', 'c', 'k', \"'\", ',', ' ', 'u', \"'\", 'M', 'i', 'c', 'h', 'a', 'e', 'l', ' ', 'C', 'h', 'e', 'k', 'h', 'o', 'v', \"'\", 'u', \"'\", 'E', 'd', 'w', 'a', 'r', 'd', ' ', 'W', 'o', 'o', 'd', 'w', 'a', 'r', 'd', \"'\", ',', ' ', 'u', \"'\", 'C', 'h', 'r', 'i', 's', 't', 'o', 'p', 'h', 'e', 'r', ' ', 'L', 'e', 'e', \"'\", ',', ' ', 'u', \"'\", 'D', 'i', 'a', 'n', 'e', ' ', 'C', 'i', 'l', 'e', 'n', 't', 'o', \"'\", 'u', \"'\", 'W', 'i', 'l', 'l', ' ', 'S', 'm', 'i', 't', 'h', \"'\", ',', ' ', 'u', \"'\", 'R', 'o', 's', 'a', 'r', 'i', 'o', ' ', 'D', 'a', 'w', 's', 'o', 'n', \"'\", ',', ' ', 'u', \"'\", 'W', 'o', 'o', 'd', 'y', ' ', 'H', 'a', 'r', 'r', 'e', 'l', 's', 'o', 'n', \"'\", 'u', \"'\", 'B', 'r', 'a', 'd', ' ', 'D', 'a', 'v', 'i', 's', \"'\", ',', ' ', 'u', \"'\", 'I', 'r', 'e', 'n', 'e', ' ', 'M', 'i', 'r', 'a', 'c', 'l', 'e', \"'\", ',', ' ', 'u', \"'\", 'B', 'o', ' ', 'H', 'o', 'p', 'k', 'i', 'n', 's', \"'\", 'u', \"'\", 'C', 'l', 'i', 'n', 't', ' ', 'E', 'a', 's', 't', 'w', 'o', 'o', 'd', \"'\", ',', ' ', 'u', \"'\", 'T', 'e', 'l', 'l', 'y', ' ', 'S', 'a', 'v', 'a', 'l', 'a', 's', \"'\", ',', ' ', 'u', \"'\", 'D', 'o', 'n', ' ', 'R', 'i', 'c', 'k', 'l', 'e', 's', \"'\", 'u', \"'\", 'D', 'o', 'n', 'a', 'l', 'd', ' ', 'S', 'u', 't', 'h', 'e', 'r', 'l', 'a', 'n', 'd', \"'\", ',', ' ', 'u', \"'\", 'E', 'l', 'l', 'i', 'o', 't', 't', ' ', 'G', 'o', 'u', 'l', 'd', \"'\", ',', ' ', 'u', \"'\", 'T', 'o', 'm', ' ', 'S', 'k', 'e', 'r', 'r', 'i', 't', 't', \"'\", 'u', \"'\", 'T', 'i', 'm', ' ', 'R', 'o', 'b', 'b', 'i', 'n', 's', \"'\", ',', ' ', 'u', \"'\", 'G', 'r', 'e', 't', 'a', ' ', 'S', 'c', 'a', 'c', 'c', 'h', 'i', \"'\", ',', ' ', 'u', \"'\", 'F', 'r', 'e', 'd', ' ', 'W', 'a', 'r', 'd', \"'\", 'u', \"'\", 'M', 'i', 'c', 'h', 'a', 'e', 'l', ' ', 'D', 'o', 'u', 'g', 'l', 'a', 's', \"'\", ',', ' ', 'u', \"'\", 'B', 'e', 'n', 'i', 'c', 'i', 'o', ' ', 'D', 'e', 'l', ' ', 'T', 'o', 'r', 'o', \"'\", ',', ' ', 'u', \"'\", 'C', 'a', 't', 'h', 'e', 'r', 'i', 'n', 'e', ' ', 'Z', 'e', 't', 'a', '-', 'J', 'o', 'n', 'e', 's', \"'\", 'u', \"'\", 'M', 'a', 'r', 'i', 'b', 'e', 'l', ' ', 'V', 'e', 'r', 'd', '\\\\', 'x', 'f', 'a', \"'\", ',', ' ', 'u', \"'\", 'G', 'a', 'e', 'l', ' ', 'G', 'a', 'r', 'c', '\\\\', 'x', 'e', 'd', 'a', ' ', 'B', 'e', 'r', 'n', 'a', 'l', \"'\", ',', ' ', 'u', \"'\", 'D', 'a', 'n', 'i', 'e', 'l', ' ', 'G', 'i', 'm', '\\\\', 'x', 'e', '9', 'n', 'e', 'z', ' ', 'C', 'a', 'c', 'h', 'o', \"'\", 'u', \"'\", 'W', 'i', 'l', 'l', ' ', 'F', 'e', 'r', 'r', 'e', 'l', 'l', \"'\", ',', ' ', 'u', \"'\", 'E', 'm', 'm', 'a', ' ', 'T', 'h', 'o', 'm', 'p', 's', 'o', 'n', \"'\", ',', ' ', 'u', \"'\", 'D', 'u', 's', 't', 'i', 'n', ' ', 'H', 'o', 'f', 'f', 'm', 'a', 'n', \"'\", 'u', \"'\", 'D', 'e', 'n', 'z', 'e', 'l', ' ', 'W', 'a', 's', 'h', 'i', 'n', 'g', 't', 'o', 'n', \"'\", ',', ' ', 'u', \"'\", 'C', 'l', 'i', 'v', 'e', ' ', 'O', 'w', 'e', 'n', \"'\", ',', ' ', 'u', \"'\", 'J', 'o', 'd', 'i', 'e', ' ', 'F', 'o', 's', 't', 'e', 'r', \"'\", 'u', \"'\", 'J', 'a', 'm', 'e', 's', ' ', 'F', 'r', 'a', 'n', 'c', 'o', \"'\", ',', ' ', 'u', \"'\", 'A', 'm', 'b', 'e', 'r', ' ', 'T', 'a', 'm', 'b', 'l', 'y', 'n', \"'\", ',', ' ', 'u', \"'\", 'K', 'a', 't', 'e', ' ', 'M', 'a', 'r', 'a', \"'\", 'u', \"'\", 'B', 'r', 'u', 'c', 'e', ' ', 'W', 'i', 'l', 'l', 'i', 's', \"'\", ',', ' ', 'u', \"'\", 'M', 'i', 'l', 'l', 'a', ' ', 'J', 'o', 'v', 'o', 'v', 'i', 'c', 'h', \"'\", ',', ' ', 'u', \"'\", 'G', 'a', 'r', 'y', ' ', 'O', 'l', 'd', 'm', 'a', 'n', \"'\", 'u', \"'\", 'S', 'e', 'a', 'n', ' ', 'P', 'e', 'n', 'n', \"'\", ',', ' ', 'u', \"'\", 'J', 'o', 's', 'h', ' ', 'B', 'r', 'o', 'l', 'i', 'n', \"'\", ',', ' ', 'u', \"'\", 'E', 'm', 'i', 'l', 'e', ' ', 'H', 'i', 'r', 's', 'c', 'h', \"'\", 'u', \"'\", 'D', 'a', 'v', 'i', 'd', ' ', 'A', 'l', 'a', 'n', ' ', 'B', 'a', 's', 'c', 'h', 'e', \"'\", ',', ' ', 'u', \"'\", 'O', 'l', 'i', 'v', 'i', 'a', ' ', 'T', 'h', 'i', 'r', 'l', 'b', 'y', \"'\", ',', ' ', 'u', \"'\", 'L', 'i', 'z', 'a', ' ', 'C', 'o', 'l', '\\\\', 'x', 'f', '3', 'n', '-', 'Z', 'a', 'y', 'a', 's', \"'\", 'u', \"'\", 'C', 'h', 'r', 'i', 's', 't', 'i', 'a', 'n', ' ', 'B', 'a', 'l', 'e', \"'\", ',', ' ', 'u', \"'\", 'N', 'i', ' ', 'N', 'i', \"'\", ',', ' ', 'u', \"'\", 'X', 'i', 'n', 'y', 'i', ' ', 'Z', 'h', 'a', 'n', 'g', \"'\", 'u', \"'\", 'B', 'e', 'l', 'a', ' ', 'L', 'u', 'g', 'o', 's', 'i', \"'\", ',', ' ', 'u', \"'\", 'H', 'e', 'l', 'e', 'n', ' ', 'C', 'h', 'a', 'n', 'd', 'l', 'e', 'r', \"'\", ',', ' ', 'u', \"'\", 'D', 'a', 'v', 'i', 'd', ' ', 'M', 'a', 'n', 'n', 'e', 'r', 's', \"'\", 'u', \"'\", 'C', 'l', 'i', 'n', 't', ' ', 'E', 'a', 's', 't', 'w', 'o', 'o', 'd', \"'\", ',', ' ', 'u', \"'\", 'V', 'e', 'r', 'n', 'a', ' ', 'B', 'l', 'o', 'o', 'm', \"'\", ',', ' ', 'u', \"'\", 'M', 'a', 'r', 'i', 'a', 'n', 'n', 'a', ' ', 'H', 'i', 'l', 'l', \"'\", 'u', \"'\", 'S', 'e', 'a', 'n', ' ', 'P', 'e', 'n', 'n', \"'\", ',', ' ', 'u', \"'\", 'M', 'i', 'c', 'h', 'e', 'l', 'l', 'e', ' ', 'P', 'f', 'e', 'i', 'f', 'f', 'e', 'r', \"'\", ',', ' ', 'u', \"'\", 'D', 'a', 'k', 'o', 't', 'a', ' ', 'F', 'a', 'n', 'n', 'i', 'n', 'g', \"'\", 'u', \"'\", 'K', 'a', 't', 'h', 'y', ' ', 'B', 'a', 't', 'e', 's', \"'\", ',', ' ', 'u', \"'\", 'J', 'e', 's', 's', 'i', 'c', 'a', ' ', 'T', 'a', 'n', 'd', 'y', \"'\", ',', ' ', 'u', \"'\", 'M', 'a', 'r', 'y', ' ', 'S', 't', 'u', 'a', 'r', 't', ' ', 'M', 'a', 's', 't', 'e', 'r', 's', 'o', 'n', \"'\", 'u', \"'\", 'J', 'a', 'c', 'k', 'i', 'e', ' ', 'E', 'a', 'r', 'l', 'e', ' ', 'H', 'a', 'l', 'e', 'y', \"'\", ',', ' ', 'u', \"'\", 'P', 'a', 't', 'r', 'i', 'c', 'k', ' ', 'W', 'i', 'l', 's', 'o', 'n', \"'\", ',', ' ', 'u', \"'\", 'C', 'a', 'r', 'l', 'a', ' ', 'G', 'u', 'g', 'i', 'n', 'o', \"'\", 'u', \"'\", 'C', 'i', 'l', 'l', 'i', 'a', 'n', ' ', 'M', 'u', 'r', 'p', 'h', 'y', \"'\", ',', ' ', 'u', \"'\", 'N', 'a', 'o', 'm', 'i', 'e', ' ', 'H', 'a', 'r', 'r', 'i', 's', \"'\", ',', ' ', 'u', \"'\", 'C', 'h', 'r', 'i', 's', 't', 'o', 'p', 'h', 'e', 'r', ' ', 'E', 'c', 'c', 'l', 'e', 's', 't', 'o', 'n', \"'\", 'u', \"'\", 'E', 'd', 'w', 'a', 'r', 'd', ' ', 'N', 'o', 'r', 't', 'o', 'n', \"'\", ',', ' ', 'u', \"'\", 'J', 'e', 's', 's', 'i', 'c', 'a', ' ', 'B', 'i', 'e', 'l', \"'\", ',', ' ', 'u', \"'\", 'P', 'a', 'u', 'l', ' ', 'G', 'i', 'a', 'm', 'a', 't', 't', 'i', \"'\", 'u', \"'\", 'M', 'i', 'c', 'h', 'a', 'e', 'l', ' ', 'C', 'e', 'r', 'a', \"'\", ',', ' ', 'u', \"'\", 'J', 'o', 'n', 'a', 'h', ' ', 'H', 'i', 'l', 'l', \"'\", ',', ' ', 'u', \"'\", 'C', 'h', 'r', 'i', 's', 't', 'o', 'p', 'h', 'e', 'r', ' ', 'M', 'i', 'n', 't', 'z', '-', 'P', 'l', 'a', 's', 's', 'e', \"'\", 'u', \"'\", 'A', 'l', ' ', 'P', 'a', 'c', 'i', 'n', 'o', \"'\", ',', ' ', 'u', \"'\", 'D', 'i', 'a', 'n', 'e', ' ', 'K', 'e', 'a', 't', 'o', 'n', \"'\", ',', ' ', 'u', \"'\", 'A', 'n', 'd', 'y', ' ', 'G', 'a', 'r', 'c', 'i', 'a', \"'\", 'u', \"'\", 'G', 'e', 'n', 'e', ' ', 'H', 'a', 'c', 'k', 'm', 'a', 'n', \"'\", ',', ' ', 'u', \"'\", 'G', 'w', 'y', 'n', 'e', 't', 'h', ' ', 'P', 'a', 'l', 't', 'r', 'o', 'w', \"'\", ',', ' ', 'u', \"'\", 'A', 'n', 'j', 'e', 'l', 'i', 'c', 'a', ' ', 'H', 'u', 's', 't', 'o', 'n', \"'\", 'u', \"'\", 'P', 'h', 'i', 'l', ' ', 'H', 'a', 'r', 'r', 'i', 's', \"'\", ',', ' ', 'u', \"'\", 'S', 'e', 'b', 'a', 's', 't', 'i', 'a', 'n', ' ', 'C', 'a', 'b', 'o', 't', \"'\", ',', ' ', 'u', \"'\", 'L', 'o', 'u', 'i', 's', ' ', 'P', 'r', 'i', 'm', 'a', \"'\", 'u', \"'\", 'A', 'a', 'r', 'o', 'n', ' ', 'E', 'c', 'k', 'h', 'a', 'r', 't', \"'\", ',', ' ', 'u', \"'\", 'C', 'a', 'm', 'e', 'r', 'o', 'n', ' ', 'B', 'r', 'i', 'g', 'h', 't', \"'\", ',', ' ', 'u', \"'\", 'M', 'a', 'r', 'i', 'a', ' ', 'B', 'e', 'l', 'l', 'o', \"'\", 'u', \"'\", 'B', 'e', 'n', 'o', '\\\\', 'x', 'e', 'e', 't', ' ', 'P', 'o', 'e', 'l', 'v', 'o', 'o', 'r', 'd', 'e', \"'\", ',', ' ', 'u', \"'\", 'J', 'a', 'c', 'q', 'u', 'e', 'l', 'i', 'n', 'e', ' ', 'P', 'o', 'e', 'l', 'v', 'o', 'o', 'r', 'd', 'e', '-', 'P', 'a', 'p', 'p', 'a', 'e', 'r', 't', \"'\", ',', ' ', 'u', \"'\", 'N', 'e', 'l', 'l', 'y', ' ', 'P', 'a', 'p', 'p', 'a', 'e', 'r', 't', \"'\", 'u', \"'\", 'T', 'o', 'm', ' ', 'C', 'r', 'u', 'i', 's', 'e', \"'\", ',', ' ', 'u', \"'\", 'J', 'a', 'c', 'k', ' ', 'N', 'i', 'c', 'h', 'o', 'l', 's', 'o', 'n', \"'\", ',', ' ', 'u', \"'\", 'D', 'e', 'm', 'i', ' ', 'M', 'o', 'o', 'r', 'e', \"'\", 'u', \"'\", 'J', 'a', 'c', 'k', 'i', 'e', ' ', 'C', 'h', 'a', 'n', \"'\", ',', ' ', 'u', \"'\", 'H', 'o', '-', 'S', 'u', 'n', 'g', ' ', 'P', 'a', 'k', \"'\", ',', ' ', 'u', \"'\", 'L', 'u', 'n', 'g', ' ', 'T', 'i', \"'\", 'u', \"'\", 'K', 'h', 'a', 'l', 'i', 'd', ' ', 'A', 'b', 'd', 'a', 'l', 'l', 'a', \"'\", ',', ' ', 'u', \"'\", 'A', 'h', 'm', 'a', 'd', ' ', 'K', 'h', 'a', 'n', ' ', 'M', 'a', 'h', 'm', 'o', 'o', 'd', 'z', 'a', 'd', 'a', \"'\", ',', ' ', 'u', \"'\", 'A', 't', 'o', 's', 's', 'a', ' ', 'L', 'e', 'o', 'n', 'i', \"'\", 'u', \"'\", 'B', 'i', 'l', 'l', 'y', ' ', 'C', 'r', 'y', 's', 't', 'a', 'l', \"'\", ',', ' ', 'u', \"'\", 'M', 'e', 'g', ' ', 'R', 'y', 'a', 'n', \"'\", ',', ' ', 'u', \"'\", 'C', 'a', 'r', 'r', 'i', 'e', ' ', 'F', 'i', 's', 'h', 'e', 'r', \"'\", 'u', \"'\", 'E', 'r', 'i', 'c', ' ', 'B', 'a', 'n', 'a', \"'\", ',', ' ', 'u', \"'\", 'D', 'a', 'n', 'i', 'e', 'l', ' ', 'C', 'r', 'a', 'i', 'g', \"'\", ',', ' ', 'u', \"'\", 'M', 'a', 'r', 'i', 'e', '-', 'J', 'o', 's', '\\\\', 'x', 'e', '9', 'e', ' ', 'C', 'r', 'o', 'z', 'e', \"'\", 'u', \"'\", 'J', 'e', 'n', 'n', 'i', 'f', 'e', 'r', ' ', 'C', 'o', 'n', 'n', 'e', 'l', 'l', 'y', \"'\", ',', ' ', 'u', \"'\", 'B', 'e', 'n', ' ', 'K', 'i', 'n', 'g', 's', 'l', 'e', 'y', \"'\", ',', ' ', 'u', \"'\", 'R', 'o', 'n', ' ', 'E', 'l', 'd', 'a', 'r', 'd', \"'\", 'u', \"'\", 'M', 'e', 'l', ' ', 'G', 'i', 'b', 's', 'o', 'n', \"'\", ',', ' ', 'u', \"'\", 'D', 'a', 'n', 'n', 'y', ' ', 'G', 'l', 'o', 'v', 'e', 'r', \"'\", ',', ' ', 'u', \"'\", 'G', 'a', 'r', 'y', ' ', 'B', 'u', 's', 'e', 'y', \"'\", 'u', \"'\", 'J', 'o', 'h', 'n', ' ', 'B', 'e', 'l', 'u', 's', 'h', 'i', \"'\", ',', ' ', 'u', \"'\", 'K', 'a', 'r', 'e', 'n', ' ', 'A', 'l', 'l', 'e', 'n', \"'\", ',', ' ', 'u', \"'\", 'T', 'o', 'm', ' ', 'H', 'u', 'l', 'c', 'e', \"'\", 'u', \"'\", 'N', 'i', 'c', 'o', 'l', 'a', 's', ' ', 'C', 'a', 'g', 'e', \"'\", ',', ' ', 'u', \"'\", 'E', 't', 'h', 'a', 'n', ' ', 'H', 'a', 'w', 'k', 'e', \"'\", ',', ' ', 'u', \"'\", 'J', 'a', 'r', 'e', 'd', ' ', 'L', 'e', 't', 'o', \"'\", 'u', \"'\", 'J', 'o', 'h', 'n', 'n', 'y', ' ', 'D', 'e', 'p', 'p', \"'\", ',', ' ', 'u', \"'\", 'P', 'e', 'n', '\\\\', 'x', 'e', '9', 'l', 'o', 'p', 'e', ' ', 'C', 'r', 'u', 'z', \"'\", ',', ' ', 'u', \"'\", 'F', 'r', 'a', 'n', 'k', 'a', ' ', 'P', 'o', 't', 'e', 'n', 't', 'e', \"'\", 'u', \"'\", 'R', 'o', 'b', 'e', 'r', 't', ' ', 'D', 'o', 'w', 'n', 'e', 'y', ' ', 'J', 'r', '.', \"'\", ',', ' ', 'u', \"'\", 'J', 'u', 'd', 'e', ' ', 'L', 'a', 'w', \"'\", ',', ' ', 'u', \"'\", 'R', 'a', 'c', 'h', 'e', 'l', ' ', 'M', 'c', 'A', 'd', 'a', 'm', 's', \"'\", 'u', \"'\", 'D', 'a', 'n', 'i', 'e', 'l', ' ', 'R', 'a', 'd', 'c', 'l', 'i', 'f', 'f', 'e', \"'\", ',', ' ', 'u', \"'\", 'E', 'm', 'm', 'a', ' ', 'W', 'a', 't', 's', 'o', 'n', \"'\", ',', ' ', 'u', \"'\", 'R', 'u', 'p', 'e', 'r', 't', ' ', 'G', 'r', 'i', 'n', 't', \"'\", 'u', \"'\", 'A', 'n', 't', 'o', 'n', 'i', 'o', ' ', 'B', 'a', 'n', 'd', 'e', 'r', 'a', 's', \"'\", ',', ' ', 'u', \"'\", 'E', 'l', 'e', 'n', 'a', ' ', 'A', 'n', 'a', 'y', 'a', \"'\", ',', ' ', 'u', \"'\", 'J', 'a', 'n', ' ', 'C', 'o', 'r', 'n', 'e', 't', \"'\", 'u', \"'\", 'B', 'r', 'a', 'n', 'd', 'o', 'n', ' ', 'L', 'e', 'e', \"'\", ',', ' ', 'u', \"'\", 'M', 'i', 'c', 'h', 'a', 'e', 'l', ' ', 'W', 'i', 'n', 'c', 'o', 't', 't', \"'\", ',', ' ', 'u', \"'\", 'R', 'o', 'c', 'h', 'e', 'l', 'l', 'e', ' ', 'D', 'a', 'v', 'i', 's', \"'\", 'u', \"'\", 'N', 'a', 't', 'a', 'l', 'i', 'e', ' ', 'W', 'o', 'o', 'd', \"'\", ',', ' ', 'u', \"'\", 'G', 'e', 'o', 'r', 'g', 'e', ' ', 'C', 'h', 'a', 'k', 'i', 'r', 'i', 's', \"'\", ',', ' ', 'u', \"'\", 'R', 'i', 'c', 'h', 'a', 'r', 'd', ' ', 'B', 'e', 'y', 'm', 'e', 'r', \"'\", 'u', \"'\", 'J', 'i', 'm', ' ', 'C', 'a', 'v', 'i', 'e', 'z', 'e', 'l', \"'\", ',', ' ', 'u', \"'\", 'S', 'e', 'a', 'n', ' ', 'P', 'e', 'n', 'n', \"'\", ',', ' ', 'u', \"'\", 'N', 'i', 'c', 'k', ' ', 'N', 'o', 'l', 't', 'e', \"'\", 'u', \"'\", 'C', 'h', 'r', 'i', 's', 't', 'i', 'a', 'n', ' ', 'B', 'a', 'l', 'e', \"'\", ',', ' ', 'u', \"'\", 'J', 'u', 's', 't', 'i', 'n', ' ', 'T', 'h', 'e', 'r', 'o', 'u', 'x', \"'\", ',', ' ', 'u', \"'\", 'J', 'o', 's', 'h', ' ', 'L', 'u', 'c', 'a', 's', \"'\", 'u', \"'\", 'T', 'a', 'k', 'e', 's', 'h', 'i', ' ', 'K', 'i', 't', 'a', 'n', 'o', \"'\", ',', ' ', 'u', \"'\", 'T', 'a', 'd', 'a', 'n', 'o', 'b', 'u', ' ', 'A', 's', 'a', 'n', 'o', \"'\", ',', ' ', 'u', \"'\", 'Y', 'u', 'i', ' ', 'N', 'a', 't', 's', 'u', 'k', 'a', 'w', 'a', \"'\", 'u', \"'\", 'W', 'i', 'l', 'l', 'e', 'm', ' ', 'D', 'a', 'f', 'o', 'e', \"'\", ',', ' ', 'u', \"'\", 'H', 'a', 'r', 'v', 'e', 'y', ' ', 'K', 'e', 'i', 't', 'e', 'l', \"'\", ',', ' ', 'u', \"'\", 'B', 'a', 'r', 'b', 'a', 'r', 'a', ' ', 'H', 'e', 'r', 's', 'h', 'e', 'y', \"'\", 'u', \"'\", 'L', 'e', 's', 'l', 'i', 'e', ' ', 'N', 'i', 'e', 'l', 's', 'e', 'n', \"'\", ',', ' ', 'u', \"'\", 'P', 'r', 'i', 's', 'c', 'i', 'l', 'l', 'a', ' ', 'P', 'r', 'e', 's', 'l', 'e', 'y', \"'\", ',', ' ', 'u', \"'\", 'O', '.', 'J', '.', ' ', 'S', 'i', 'm', 'p', 's', 'o', 'n', \"'\", 'u', \"'\", 'N', 'i', 'c', 'o', 'l', 'e', ' ', 'K', 'i', 'd', 'm', 'a', 'n', \"'\", ',', ' ', 'u', \"'\", 'C', 'h', 'r', 'i', 's', 't', 'o', 'p', 'h', 'e', 'r', ' ', 'E', 'c', 'c', 'l', 'e', 's', 't', 'o', 'n', \"'\", ',', ' ', 'u', \"'\", 'F', 'i', 'o', 'n', 'n', 'u', 'l', 'a', ' ', 'F', 'l', 'a', 'n', 'a', 'g', 'a', 'n', \"'\", 'u', \"'\", 'P', 'e', 't', 'e', 'r', ' ', 'S', 'e', 'l', 'l', 'e', 'r', 's', \"'\", ',', ' ', 'u', \"'\", 'C', 'l', 'a', 'u', 'd', 'i', 'n', 'e', ' ', 'L', 'o', 'n', 'g', 'e', 't', \"'\", ',', ' ', 'u', \"'\", 'N', 'a', 't', 'a', 'l', 'i', 'a', ' ', 'B', 'o', 'r', 'i', 's', 'o', 'v', 'a', \"'\", 'u', \"'\", 'B', 'r', 'u', 'c', 'e', ' ', 'C', 'a', 'm', 'p', 'b', 'e', 'l', 'l', \"'\", ',', ' ', 'u', \"'\", 'E', 'm', 'b', 'e', 't', 'h', ' ', 'D', 'a', 'v', 'i', 'd', 't', 'z', \"'\", ',', ' ', 'u', \"'\", 'M', 'a', 'r', 'c', 'u', 's', ' ', 'G', 'i', 'l', 'b', 'e', 'r', 't', \"'\", 'u', \"'\", 'J', 'e', 'r', 'e', 'm', 'y', ' ', 'R', 'e', 'n', 'n', 'e', 'r', \"'\", ',', ' ', 'u', \"'\", 'A', 'n', 't', 'h', 'o', 'n', 'y', ' ', 'M', 'a', 'c', 'k', 'i', 'e', \"'\", ',', ' ', 'u', \"'\", 'B', 'r', 'i', 'a', 'n', ' ', 'G', 'e', 'r', 'a', 'g', 'h', 't', 'y', \"'\", 'u', \"'\", 'I', 'k', 'o', ' ', 'U', 'w', 'a', 'i', 's', \"'\", ',', ' ', 'u', \"'\", 'A', 'n', 'a', 'n', 'd', 'a', ' ', 'G', 'e', 'o', 'r', 'g', 'e', \"'\", ',', ' ', 'u', \"'\", 'R', 'a', 'y', ' ', 'S', 'a', 'h', 'e', 't', 'a', 'p', 'y', \"'\", 'u', \"'\", 'P', 'e', 'n', '\\\\', 'x', 'e', '9', 'l', 'o', 'p', 'e', ' ', 'C', 'r', 'u', 'z', \"'\", ',', ' ', 'u', \"'\", 'C', 'a', 'r', 'm', 'e', 'n', ' ', 'M', 'a', 'u', 'r', 'a', \"'\", ',', ' ', 'u', \"'\", 'L', 'o', 'l', 'a', ' ', 'D', 'u', 'e', '\\\\', 'x', 'f', '1', 'a', 's', \"'\", 'u', \"'\", 'J', 'e', 'r', 'e', 'm', 'y', ' ', 'T', 'h', 'e', 'o', 'b', 'a', 'l', 'd', \"'\", ',', ' ', 'u', \"'\", 'A', 'l', 'e', 'x', ' ', 'H', 'a', 'w', \"'\", ',', ' ', 'u', \"'\", 'L', 'u', 'c', 'y', ' ', 'R', 'u', 's', 's', 'e', 'l', 'l', \"'\", 'u', \"'\", 'J', 'a', 'c', 'k', ' ', 'B', 'l', 'a', 'c', 'k', \"'\", ',', ' ', 'u', \"'\", 'I', 'a', 'n', ' ', 'M', 'c', 'S', 'h', 'a', 'n', 'e', \"'\", ',', ' ', 'u', \"'\", 'A', 'n', 'g', 'e', 'l', 'i', 'n', 'a', ' ', 'J', 'o', 'l', 'i', 'e', \"'\", 'u', \"'\", 'M', 'e', 'l', ' ', 'G', 'i', 'b', 's', 'o', 'n', \"'\", ',', ' ', 'u', \"'\", 'B', 'r', 'u', 'c', 'e', ' ', 'S', 'p', 'e', 'n', 'c', 'e', \"'\", ',', ' ', 'u', \"'\", 'M', 'i', 'c', 'h', 'a', 'e', 'l', ' ', 'P', 'r', 'e', 's', 't', 'o', 'n', \"'\", 'u', \"'\", 'K', '\\\\', 'x', 'f', '4', 'j', 'i', ' ', 'Y', 'a', 'k', 'u', 's', 'h', 'o', \"'\", ',', ' ', 'u', \"'\", 'T', 'a', 'k', 'a', 'y', 'u', 'k', 'i', ' ', 'Y', 'a', 'm', 'a', 'd', 'a', \"'\", ',', ' ', 'u', \"'\", 'Y', '\\\\', 'x', 'f', 'b', 's', 'u', 'k', 'e', ' ', 'I', 's', 'e', 'y', 'a', \"'\", 'u', \"'\", 'B', 'i', 'l', 'l', 'y', ' ', 'B', 'o', 'b', ' ', 'T', 'h', 'o', 'r', 'n', 't', 'o', 'n', \"'\", ',', ' ', 'u', \"'\", 'F', 'r', 'a', 'n', 'c', 'e', 's', ' ', 'M', 'c', 'D', 'o', 'r', 'm', 'a', 'n', 'd', \"'\", ',', ' ', 'u', \"'\", 'M', 'i', 'c', 'h', 'a', 'e', 'l', ' ', 'B', 'a', 'd', 'a', 'l', 'u', 'c', 'c', 'o', \"'\", 'u', \"'\", 'K', 'a', 'r', 'l', ' ', 'M', 'a', 'r', 'k', 'o', 'v', 'i', 'c', 's', \"'\", ',', ' ', 'u', \"'\", 'A', 'u', 'g', 'u', 's', 't', ' ', 'D', 'i', 'e', 'h', 'l', \"'\", ',', ' ', 'u', \"'\", 'D', 'e', 'v', 'i', 'd', ' ', 'S', 't', 'r', 'i', 'e', 's', 'o', 'w', \"'\", 'u', \"'\", 'S', 'e', 'a', 'n', ' ', 'C', 'o', 'n', 'n', 'e', 'r', 'y', \"'\", ',', ' ', 'u', \"'\", 'A', 'l', 'e', 'c', ' ', 'B', 'a', 'l', 'd', 'w', 'i', 'n', \"'\", ',', ' ', 'u', \"'\", 'S', 'c', 'o', 't', 't', ' ', 'G', 'l', 'e', 'n', 'n', \"'\", 'u', \"'\", 'M', 'a', 'r', 'k', ' ', 'W', 'a', 'h', 'l', 'b', 'e', 'r', 'g', \"'\", ',', ' ', 'u', \"'\", 'T', 'a', 'y', 'l', 'o', 'r', ' ', 'K', 'i', 't', 's', 'c', 'h', \"'\", ',', ' ', 'u', \"'\", 'E', 'm', 'i', 'l', 'e', ' ', 'H', 'i', 'r', 's', 'c', 'h', \"'\", 'u', \"'\", 'J', 'o', 'h', 'n', ' ', 'C', 'l', 'e', 'e', 's', 'e', \"'\", ',', ' ', 'u', \"'\", 'J', 'a', 'm', 'i', 'e', ' ', 'L', 'e', 'e', ' ', 'C', 'u', 'r', 't', 'i', 's', \"'\", ',', ' ', 'u', \"'\", 'K', 'e', 'v', 'i', 'n', ' ', 'K', 'l', 'i', 'n', 'e', \"'\", 'u', \"'\", 'N', 'a', 'o', 'm', 'i', ' ', 'W', 'a', 't', 't', 's', \"'\", ',', ' ', 'u', \"'\", 'E', 'w', 'a', 'n', ' ', 'M', 'c', 'G', 'r', 'e', 'g', 'o', 'r', \"'\", ',', ' ', 'u', \"'\", 'T', 'o', 'm', ' ', 'H', 'o', 'l', 'l', 'a', 'n', 'd', \"'\", 'u', \"'\", 'Z', 'a', 'c', 'h', ' ', 'B', 'r', 'a', 'f', 'f', \"'\", ',', ' ', 'u', \"'\", 'P', 'e', 't', 'e', 'r', ' ', 'S', 'a', 'r', 's', 'g', 'a', 'a', 'r', 'd', \"'\", ',', ' ', 'u', \"'\", 'N', 'a', 't', 'a', 'l', 'i', 'e', ' ', 'P', 'o', 'r', 't', 'm', 'a', 'n', \"'\", 'u', \"'\", 'C', 'l', 'i', 'n', 't', ' ', 'E', 'a', 's', 't', 'w', 'o', 'o', 'd', \"'\", ',', ' ', 'u', \"'\", 'P', 'a', 't', 'r', 'i', 'c', 'k', ' ', 'M', 'c', 'G', 'o', 'o', 'h', 'a', 'n', \"'\", ',', ' ', 'u', \"'\", 'R', 'o', 'b', 'e', 'r', 't', 's', ' ', 'B', 'l', 'o', 's', 's', 'o', 'm', \"'\", 'u', \"'\", 'T', 'o', 'm', ' ', 'H', 'a', 'n', 'k', 's', \"'\", ',', ' ', 'u', \"'\", 'B', 'i', 'l', 'l', ' ', 'P', 'a', 'x', 't', 'o', 'n', \"'\", ',', ' ', 'u', \"'\", 'K', 'e', 'v', 'i', 'n', ' ', 'B', 'a', 'c', 'o', 'n', \"'\", 'u', \"'\", 'T', 'o', 'n', 'y', ' ', 'C', 'h', 'i', 'u', ' ', 'W', 'a', 'i', ' ', 'L', 'e', 'u', 'n', 'g', \"'\", ',', ' ', 'u', \"'\", 'W', 'e', 'i', ' ', 'T', 'a', 'n', 'g', \"'\", ',', ' ', 'u', \"'\", 'J', 'o', 'a', 'n', ' ', 'C', 'h', 'e', 'n', \"'\", 'u', \"'\", 'D', 'a', 'v', 'i', 'd', ' ', 'O', 'y', 'e', 'l', 'o', 'w', 'o', \"'\", ',', ' ', 'u', \"'\", 'C', 'a', 'r', 'm', 'e', 'n', ' ', 'E', 'j', 'o', 'g', 'o', \"'\", ',', ' ', 'u', \"'\", 'T', 'i', 'm', ' ', 'R', 'o', 't', 'h', \"'\", 'u', \"'\", 'S', 'u', 's', 'a', 'n', 'n', 'e', ' ', 'L', 'o', 't', 'h', 'a', 'r', \"'\", ',', ' ', 'u', \"'\", 'U', 'l', 'r', 'i', 'c', 'h', ' ', 'M', '\\\\', 'x', 'f', 'c', 'h', 'e', \"'\", ',', ' ', 'u', \"'\", 'A', 'r', 'n', 'o', ' ', 'F', 'r', 'i', 's', 'c', 'h', \"'\", 'u', \"'\", 'E', 'd', ' ', 'H', 'a', 'r', 'r', 'i', 's', \"'\", ',', ' ', 'u', \"'\", 'M', 'a', 'r', 'y', ' ', 'E', 'l', 'i', 'z', 'a', 'b', 'e', 't', 'h', ' ', 'M', 'a', 's', 't', 'r', 'a', 'n', 't', 'o', 'n', 'i', 'o', \"'\", ',', ' ', 'u', \"'\", 'M', 'i', 'c', 'h', 'a', 'e', 'l', ' ', 'B', 'i', 'e', 'h', 'n', \"'\", 'u', \"'\", 'B', 'r', 'i', 'a', 'n', ' ', 'B', 'e', 'd', 'f', 'o', 'r', 'd', \"'\", ',', ' ', 'u', \"'\", 'P', 'h', 'i', 'l', ' ', 'H', 'a', 'r', 'r', 'i', 's', \"'\", ',', ' ', 'u', \"'\", 'R', 'o', 'g', 'e', 'r', ' ', 'M', 'i', 'l', 'l', 'e', 'r', \"'\", 'u', \"'\", 'J', 'u', 'd', 'e', ' ', 'L', 'a', 'w', \"'\", ',', ' ', 'u', \"'\", 'E', 'd', ' ', 'H', 'a', 'r', 'r', 'i', 's', \"'\", ',', ' ', 'u', \"'\", 'J', 'o', 's', 'e', 'p', 'h', ' ', 'F', 'i', 'e', 'n', 'n', 'e', 's', \"'\", 'u', \"'\", 'M', 'i', 'c', 'h', 'a', 'e', 'l', ' ', 'D', 'o', 'u', 'g', 'l', 'a', 's', \"'\", ',', ' ', 'u', \"'\", 'R', 'o', 'b', 'e', 'r', 't', ' ', 'D', 'u', 'v', 'a', 'l', 'l', \"'\", ',', ' ', 'u', \"'\", 'B', 'a', 'r', 'b', 'a', 'r', 'a', ' ', 'H', 'e', 'r', 's', 'h', 'e', 'y', \"'\", 'u', \"'\", 'K', 'a', 't', 'e', ' ', 'W', 'i', 'n', 's', 'l', 'e', 't', \"'\", ',', ' ', 'u', \"'\", 'J', 'e', 'n', 'n', 'i', 'f', 'e', 'r', ' ', 'C', 'o', 'n', 'n', 'e', 'l', 'l', 'y', \"'\", ',', ' ', 'u', \"'\", 'P', 'a', 't', 'r', 'i', 'c', 'k', ' ', 'W', 'i', 'l', 's', 'o', 'n', \"'\", 'u', \"'\", 'S', 't', 'u', 'a', 'r', 't', ' ', 'G', 'r', 'a', 'h', 'a', 'm', \"'\", ',', ' ', 'u', \"'\", 'L', 'a', 'i', 'n', 'e', ' ', 'M', 'e', 'g', 'a', 'w', \"'\", ',', ' ', 'u', \"'\", 'B', 'r', 'i', 'a', 'n', ' ', 'M', 'i', 'l', 'l', 'i', 'g', 'a', 'n', \"'\", 'u', \"'\", 'H', 'a', 'r', 'r', 'i', 's', 'o', 'n', ' ', 'F', 'o', 'r', 'd', \"'\", ',', ' ', 'u', \"'\", 'K', 'a', 't', 'e', ' ', 'C', 'a', 'p', 's', 'h', 'a', 'w', \"'\", ',', ' ', 'u', \"'\", 'J', 'o', 'n', 'a', 't', 'h', 'a', 'n', ' ', 'K', 'e', ' ', 'Q', 'u', 'a', 'n', \"'\", 'u', \"'\", 'D', 'o', 'n', 'n', 'i', 'e', ' ', 'Y', 'e', 'n', \"'\", ',', ' ', 'u', \"'\", 'X', 'i', 'a', 'o', 'm', 'i', 'n', 'g', ' ', 'H', 'u', 'a', 'n', 'g', \"'\", ',', ' ', 'u', \"'\", 'S', 'a', 'm', 'm', 'o', ' ', 'K', 'a', 'm', '-', 'B', 'o', ' ', 'H', 'u', 'n', 'g', \"'\", 'u', \"'\", 'J', 'o', 'd', 'i', ' ', 'B', 'e', 'n', 's', 'o', 'n', \"'\", ',', ' ', 'u', \"'\", 'S', 'a', 'm', 'u', 'e', 'l', ' ', 'E', '.', ' ', 'W', 'r', 'i', 'g', 'h', 't', \"'\", ',', ' ', 'u', \"'\", 'R', 'e', 'n', 'e', ' ', 'A', 'u', 'b', 'e', 'r', 'j', 'o', 'n', 'o', 'i', 's', \"'\", 'u', \"'\", 'S', 'p', 'e', 'n', 'c', 'e', 'r', ' ', 'T', 'r', 'a', 'c', 'y', \"'\", ',', ' ', 'u', \"'\", 'M', 'i', 'l', 't', 'o', 'n', ' ', 'B', 'e', 'r', 'l', 'e', \"'\", ',', ' ', 'u', \"'\", 'E', 't', 'h', 'e', 'l', ' ', 'M', 'e', 'r', 'm', 'a', 'n', \"'\", 'u', \"'\", 'K', 'a', 't', 'e', ' ', 'W', 'i', 'n', 's', 'l', 'e', 't', \"'\", ',', ' ', 'u', \"'\", 'R', 'a', 'l', 'p', 'h', ' ', 'F', 'i', 'e', 'n', 'n', 'e', 's', \"'\", ',', ' ', 'u', \"'\", 'B', 'r', 'u', 'n', 'o', ' ', 'G', 'a', 'n', 'z', \"'\", 'u', \"'\", 'G', 'r', 'e', 'g', 'o', 'r', 'y', ' ', 'P', 'e', 'c', 'k', \"'\", ',', ' ', 'u', \"'\", 'L', 'e', 'e', ' ', 'R', 'e', 'm', 'i', 'c', 'k', \"'\", ',', ' ', 'u', \"'\", 'H', 'a', 'r', 'v', 'e', 'y', ' ', 'S', 't', 'e', 'p', 'h', 'e', 'n', 's', \"'\", 'u', \"'\", 'A', 'l', 'i', 'c', 'i', 'a', ' ', 'V', 'i', 'k', 'a', 'n', 'd', 'e', 'r', \"'\", ',', ' ', 'u', \"'\", 'M', 'a', 'd', 's', ' ', 'M', 'i', 'k', 'k', 'e', 'l', 's', 'e', 'n', \"'\", ',', ' ', 'u', \"'\", 'M', 'i', 'k', 'k', 'e', 'l', ' ', 'B', 'o', 'e', ' ', 'F', '\\\\', 'x', 'f', '8', 'l', 's', 'g', 'a', 'a', 'r', 'd', \"'\", 'u', \"'\", 'T', 'i', 'm', 'o', 't', 'h', 'y', ' ', 'B', 'a', 'l', 'm', 'e', \"'\", ',', ' ', 'u', \"'\", 'D', 'i', 'a', 'n', 'a', ' ', 'P', 'e', '\\\\', 'x', 'f', '1', 'a', 'l', 'v', 'e', 'r', \"'\", ',', ' ', 'u', \"'\", 'E', 'l', 'i', 'z', 'a', 'b', 'e', 't', 'h', ' ', 'M', 'o', 'o', 'd', 'y', \"'\", 'u', \"'\", 'H', 'a', 'l', 'e', 'y', ' ', 'J', 'o', 'e', 'l', ' ', 'O', 's', 'm', 'e', 'n', 't', \"'\", ',', ' ', 'u', \"'\", 'M', 'i', 'c', 'h', 'a', 'e', 'l', ' ', 'C', 'a', 'i', 'n', 'e', \"'\", ',', ' ', 'u', \"'\", 'R', 'o', 'b', 'e', 'r', 't', ' ', 'D', 'u', 'v', 'a', 'l', 'l', \"'\", 'u', \"'\", 'J', 'a', 's', 'o', 'n', ' ', 'B', 'a', 't', 'e', 'm', 'a', 'n', \"'\", ',', ' ', 'u', \"'\", 'J', 'o', 'n', 'a', 'h', ' ', 'B', 'o', 'b', 'o', \"'\", ',', ' ', 'u', \"'\", 'H', 'a', 'l', 'e', 'y', ' ', 'R', 'a', 'm', 'm', \"'\", 'u', \"'\", 'C', 'o', 'l', 'i', 'n', ' ', 'F', 'i', 'r', 't', 'h', \"'\", ',', ' ', 'u', \"'\", 'J', 'u', 'l', 'i', 'a', 'n', 'n', 'e', ' ', 'M', 'o', 'o', 'r', 'e', \"'\", ',', ' ', 'u', \"'\", 'M', 'a', 't', 't', 'h', 'e', 'w', ' ', 'G', 'o', 'o', 'd', 'e', \"'\", 'u', \"'\", 'G', 'e', 'n', 'e', ' ', 'H', 'a', 'c', 'k', 'm', 'a', 'n', \"'\", ',', ' ', 'u', \"'\", 'B', 'a', 'r', 'b', 'a', 'r', 'a', ' ', 'H', 'e', 'r', 's', 'h', 'e', 'y', \"'\", ',', ' ', 'u', \"'\", 'D', 'e', 'n', 'n', 'i', 's', ' ', 'H', 'o', 'p', 'p', 'e', 'r', \"'\", 'u', \"'\", 'B', 'r', 'a', 'd', ' ', 'P', 'i', 't', 't', \"'\", ',', ' ', 'u', \"'\", 'R', 'o', 'b', 'i', 'n', ' ', 'W', 'r', 'i', 'g', 'h', 't', \"'\", ',', ' ', 'u', \"'\", 'J', 'o', 'n', 'a', 'h', ' ', 'H', 'i', 'l', 'l', \"'\", 'u', \"'\", 'S', 'o', 'p', 'h', 'i', 'e', ' ', 'N', '\\\\', 'x', 'e', '9', 'l', 'i', 's', 's', 'e', \"'\", ',', ' ', 'u', \"'\", 'G', 'e', 'o', 'f', 'f', 'r', 'e', 'y', ' ', 'R', 'u', 's', 'h', \"'\", ',', ' ', 'u', \"'\", 'E', 'm', 'i', 'l', 'y', ' ', 'W', 'a', 't', 's', 'o', 'n', \"'\", 'u', \"'\", 'B', 'r', 'u', 'c', 'e', ' ', 'W', 'i', 'l', 'l', 'i', 's', \"'\", ',', ' ', 'u', \"'\", 'J', 'e', 'r', 'e', 'm', 'y', ' ', 'I', 'r', 'o', 'n', 's', \"'\", ',', ' ', 'u', \"'\", 'S', 'a', 'm', 'u', 'e', 'l', ' ', 'L', '.', ' ', 'J', 'a', 'c', 'k', 's', 'o', 'n', \"'\", 'u', \"'\", 'B', 'r', 'a', 'd', ' ', 'P', 'i', 't', 't', \"'\", ',', ' ', 'u', \"'\", 'T', 'o', 'm', ' ', 'C', 'r', 'u', 'i', 's', 'e', \"'\", ',', ' ', 'u', \"'\", 'A', 'n', 't', 'o', 'n', 'i', 'o', ' ', 'B', 'a', 'n', 'd', 'e', 'r', 'a', 's', \"'\", 'u', \"'\", 'R', 'o', 'b', 'e', 'r', 't', ' ', 'D', 'e', ' ', 'N', 'i', 'r', 'o', \"'\", ',', ' ', 'u', \"'\", 'C', 'h', 'a', 'r', 'l', 'e', 's', ' ', 'G', 'r', 'o', 'd', 'i', 'n', \"'\", ',', ' ', 'u', \"'\", 'Y', 'a', 'p', 'h', 'e', 't', ' ', 'K', 'o', 't', 't', 'o', \"'\", 'u', \"'\", 'D', 'a', 'v', 'i', 'd', ' ', 'N', 'a', 'u', 'g', 'h', 't', 'o', 'n', \"'\", ',', ' ', 'u', \"'\", 'J', 'e', 'n', 'n', 'y', ' ', 'A', 'g', 'u', 't', 't', 'e', 'r', \"'\", ',', ' ', 'u', \"'\", 'J', 'o', 'e', ' ', 'B', 'e', 'l', 'c', 'h', 'e', 'r', \"'\", 'u', \"'\", 'D', 'e', 'n', 'z', 'e', 'l', ' ', 'W', 'a', 's', 'h', 'i', 'n', 'g', 't', 'o', 'n', \"'\", ',', ' ', 'u', \"'\", 'F', 'o', 'r', 'e', 's', 't', ' ', 'W', 'h', 'i', 't', 'a', 'k', 'e', 'r', \"'\", ',', ' ', 'u', \"'\", 'K', 'i', 'm', 'b', 'e', 'r', 'l', 'y', ' ', 'E', 'l', 'i', 's', 'e', \"'\", 'u', \"'\", 'T', 'y', 'l', 'e', 'r', ' ', 'L', 'a', 'b', 'i', 'n', 'e', \"'\", ',', ' ', 'u', \"'\", 'A', 'l', 'a', 'n', ' ', 'T', 'u', 'd', 'y', 'k', \"'\", ',', ' ', 'u', \"'\", 'K', 'a', 't', 'r', 'i', 'n', 'a', ' ', 'B', 'o', 'w', 'd', 'e', 'n', \"'\", 'u', \"'\", 'S', 'u', 's', 'a', 'n', ' ', 'S', 'a', 'r', 'a', 'n', 'd', 'o', 'n', \"'\", ',', ' ', 'u', \"'\", 'S', 'e', 'a', 'n', ' ', 'P', 'e', 'n', 'n', \"'\", ',', ' ', 'u', \"'\", 'R', 'o', 'b', 'e', 'r', 't', ' ', 'P', 'r', 'o', 's', 'k', 'y', \"'\", 'u', \"'\", 'H', 'o', 'l', 'l', 'y', ' ', 'H', 'u', 'n', 't', 'e', 'r', \"'\", ',', ' ', 'u', \"'\", 'H', 'a', 'r', 'v', 'e', 'y', ' ', 'K', 'e', 'i', 't', 'e', 'l', \"'\", ',', ' ', 'u', \"'\", 'S', 'a', 'm', ' ', 'N', 'e', 'i', 'l', 'l', \"'\", 'u', \"'\", 'B', 'e', 'n', ' ', 'A', 'f', 'f', 'l', 'e', 'c', 'k', \"'\", ',', ' ', 'u', \"'\", 'R', 'e', 'b', 'e', 'c', 'c', 'a', ' ', 'H', 'a', 'l', 'l', \"'\", ',', ' ', 'u', \"'\", 'J', 'o', 'n', ' ', 'H', 'a', 'm', 'm', \"'\", 'u', \"'\", 'J', 'a', 'm', 'e', 's', ' ', 'F', 'r', 'a', 'n', 'c', 'o', \"'\", ',', ' ', 'u', \"'\", 'A', 'n', 'd', 'y', ' ', 'S', 'e', 'r', 'k', 'i', 's', \"'\", ',', ' ', 'u', \"'\", 'F', 'r', 'e', 'i', 'd', 'a', ' ', 'P', 'i', 'n', 't', 'o', \"'\", 'u', \"'\", 'H', 'i', 'l', 'a', 'r', 'y', ' ', 'S', 'w', 'a', 'n', 'k', \"'\", ',', ' ', 'u', \"'\", 'C', 'h', 'l', 'o', '\\\\', 'x', 'e', 'b', ' ', 'S', 'e', 'v', 'i', 'g', 'n', 'y', \"'\", ',', ' ', 'u', \"'\", 'P', 'e', 't', 'e', 'r', ' ', 'S', 'a', 'r', 's', 'g', 'a', 'a', 'r', 'd', \"'\", 'u', \"'\", 'D', 'e', 'n', 'i', 's', ' ', 'L', 'e', 'a', 'r', 'y', \"'\", ',', ' ', 'u', \"'\", 'J', 'o', 'h', 'n', ' ', 'L', 'e', 'g', 'u', 'i', 'z', 'a', 'm', 'o', \"'\", ',', ' ', 'u', \"'\", 'R', 'a', 'y', ' ', 'R', 'o', 'm', 'a', 'n', 'o', \"'\", 'u', \"'\", 'J', 'o', 'h', 'n', ' ', 'M', 'a', 'l', 'k', 'o', 'v', 'i', 'c', 'h', \"'\", ',', ' ', 'u', \"'\", 'G', 'a', 'r', 'y', ' ', 'S', 'i', 'n', 'i', 's', 'e', \"'\", ',', ' ', 'u', \"'\", 'R', 'a', 'y', ' ', 'W', 'a', 'l', 's', 't', 'o', 'n', \"'\", 'u', \"'\", 'P', 'a', 'u', 'l', ' ', 'G', 'i', 'a', 'm', 'a', 't', 't', 'i', \"'\", ',', ' ', 'u', \"'\", 'T', 'h', 'o', 'm', 'a', 's', ' ', 'H', 'a', 'd', 'e', 'n', ' ', 'C', 'h', 'u', 'r', 'c', 'h', \"'\", ',', ' ', 'u', \"'\", 'V', 'i', 'r', 'g', 'i', 'n', 'i', 'a', ' ', 'M', 'a', 'd', 's', 'e', 'n', \"'\", 'u', \"'\", 'J', 'o', 'h', 'n', ' ', 'C', 'u', 's', 'a', 'c', 'k', \"'\", ',', ' ', 'u', \"'\", 'I', 'b', 'e', 'n', ' ', 'H', 'j', 'e', 'j', 'l', 'e', \"'\", ',', ' ', 'u', \"'\", 'T', 'o', 'd', 'd', ' ', 'L', 'o', 'u', 'i', 's', 'o', \"'\", 'u', \"'\", 'J', 'o', 'h', 'n', ' ', 'C', 'l', 'e', 'e', 's', 'e', \"'\", ',', ' ', 'u', \"'\", 'T', 'e', 'r', 'r', 'y', ' ', 'G', 'i', 'l', 'l', 'i', 'a', 'm', \"'\", ',', ' ', 'u', \"'\", 'E', 'r', 'i', 'c', ' ', 'I', 'd', 'l', 'e', \"'\", 'u', \"'\", 'A', 's', 'a', ' ', 'B', 'u', 't', 't', 'e', 'r', 'f', 'i', 'e', 'l', 'd', \"'\", ',', ' ', 'u', \"'\", 'C', 'h', 'l', 'o', '\\\\', 'x', 'e', 'b', ' ', 'G', 'r', 'a', 'c', 'e', ' ', 'M', 'o', 'r', 'e', 't', 'z', \"'\", ',', ' ', 'u', \"'\", 'C', 'h', 'r', 'i', 's', 't', 'o', 'p', 'h', 'e', 'r', ' ', 'L', 'e', 'e', \"'\", 'u', \"'\", 'N', 'i', 'c', 'o', 'l', 'a', 's', ' ', 'C', 'a', 'g', 'e', \"'\", ',', ' ', 'u', \"'\", 'E', 'l', 'i', 's', 'a', 'b', 'e', 't', 'h', ' ', 'S', 'h', 'u', 'e', \"'\", ',', ' ', 'u', \"'\", 'J', 'u', 'l', 'i', 'a', 'n', ' ', 'S', 'a', 'n', 'd', 's', \"'\", 'u', \"'\", 'B', 'r', 'u', 'c', 'e', ' ', 'C', 'a', 'm', 'p', 'b', 'e', 'l', 'l', \"'\", ',', ' ', 'u', \"'\", 'E', 'l', 'l', 'e', 'n', ' ', 'S', 'a', 'n', 'd', 'w', 'e', 'i', 's', 's', \"'\", ',', ' ', 'u', \"'\", 'R', 'i', 'c', 'h', 'a', 'r', 'd', ' ', 'D', 'e', 'M', 'a', 'n', 'i', 'n', 'c', 'o', 'r', \"'\", 'u', \"'\", 'T', 'o', 'm', ' ', 'C', 'r', 'u', 'i', 's', 'e', \"'\", ',', ' ', 'u', \"'\", 'J', 'a', 'm', 'i', 'e', ' ', 'F', 'o', 'x', 'x', \"'\", ',', ' ', 'u', \"'\", 'J', 'a', 'd', 'a', ' ', 'P', 'i', 'n', 'k', 'e', 't', 't', ' ', 'S', 'm', 'i', 't', 'h', \"'\", 'u', \"'\", 'S', 't', 'e', 'v', 'e', ' ', 'M', 'a', 'r', 't', 'i', 'n', \"'\", ',', ' ', 'u', \"'\", 'J', 'o', 'h', 'n', ' ', 'C', 'a', 'n', 'd', 'y', \"'\", ',', ' ', 'u', \"'\", 'L', 'a', 'i', 'l', 'a', ' ', 'R', 'o', 'b', 'i', 'n', 's', \"'\", 'u', \"'\", 'A', 'k', 's', 'e', 'l', ' ', 'H', 'e', 'n', 'n', 'i', 'e', \"'\", ',', ' ', 'u', \"'\", 'S', 'y', 'n', 'n', '\\\\', 'x', 'f', '8', 'v', 'e', ' ', 'M', 'a', 'c', 'o', 'd', 'y', ' ', 'L', 'u', 'n', 'd', \"'\", ',', ' ', 'u', \"'\", 'N', 'i', 'k', 'o', 'l', 'a', 'j', ' ', 'C', 'o', 's', 't', 'e', 'r', '-', 'W', 'a', 'l', 'd', 'a', 'u', \"'\", 'u', \"'\", 'K', 'e', 'v', 'i', 'n', ' ', 'C', 'o', 's', 't', 'n', 'e', 'r', \"'\", ',', ' ', 'u', \"'\", 'J', 'a', 'm', 'e', 's', ' ', 'E', 'a', 'r', 'l', ' ', 'J', 'o', 'n', 'e', 's', \"'\", ',', ' ', 'u', \"'\", 'R', 'a', 'y', ' ', 'L', 'i', 'o', 't', 't', 'a', \"'\", 'u', \"'\", 'M', 'i', 'c', 'h', 'a', 'e', 'l', ' ', 'K', 'e', 'a', 't', 'o', 'n', \"'\", ',', ' ', 'u', \"'\", 'J', 'a', 'c', 'k', ' ', 'N', 'i', 'c', 'h', 'o', 'l', 's', 'o', 'n', \"'\", ',', ' ', 'u', \"'\", 'K', 'i', 'm', ' ', 'B', 'a', 's', 'i', 'n', 'g', 'e', 'r', \"'\", 'u', \"'\", 'F', 'r', 'a', 'n', '\\\\', 'x', 'e', '7', 'o', 'i', 's', ' ', 'C', 'l', 'u', 'z', 'e', 't', \"'\", ',', ' ', 'u', \"'\", 'M', 'a', 'r', 'i', 'e', '-', 'J', 'o', 's', '\\\\', 'x', 'e', '9', 'e', ' ', 'C', 'r', 'o', 'z', 'e', \"'\", ',', ' ', 'u', \"'\", 'A', 'n', 'd', 'r', '\\\\', 'x', 'e', '9', ' ', 'D', 'u', 's', 's', 'o', 'l', 'l', 'i', 'e', 'r', \"'\", 'u', \"'\", 'F', 'o', 'r', 'e', 's', 't', ' ', 'W', 'h', 'i', 't', 'a', 'k', 'e', 'r', \"'\", ',', ' ', 'u', \"'\", 'H', 'e', 'n', 'r', 'y', ' ', 'S', 'i', 'l', 'v', 'a', \"'\", ',', ' ', 'u', \"'\", 'J', 'o', 'h', 'n', ' ', 'T', 'o', 'r', 'm', 'e', 'y', \"'\", 'u', \"'\", 'R', 'o', 'b', 'e', 'r', 't', ' ', 'D', 'o', 'w', 'n', 'e', 'y', ' ', 'J', 'r', '.', \"'\", ',', ' ', 'u', \"'\", 'G', 'e', 'r', 'a', 'l', 'd', 'i', 'n', 'e', ' ', 'C', 'h', 'a', 'p', 'l', 'i', 'n', \"'\", ',', ' ', 'u', \"'\", 'P', 'a', 'u', 'l', ' ', 'R', 'h', 'y', 's', \"'\", 'u', \"'\", 'E', 'l', 'i', 's', 'a', 'b', 'e', 't', 'h', ' ', 'H', 'a', 'r', 'n', 'o', 'i', 's', \"'\", ',', ' ', 'u', \"'\", 'J', 'e', 's', 's', 'e', ' ', 'M', 'c', 'C', 'a', 'r', 't', 'n', 'e', 'y', \"'\", ',', ' ', 'u', \"'\", 'M', 'a', 'r', 'g', 'o', ' ', 'H', 'a', 'r', 's', 'h', 'm', 'a', 'n', \"'\", 'u', \"'\", 'E', 'l', 'l', 'e', 'n', ' ', 'P', 'a', 'g', 'e', \"'\", ',', ' ', 'u', \"'\", 'M', 'i', 'c', 'h', 'a', 'e', 'l', ' ', 'C', 'e', 'r', 'a', \"'\", ',', ' ', 'u', \"'\", 'J', 'e', 'n', 'n', 'i', 'f', 'e', 'r', ' ', 'G', 'a', 'r', 'n', 'e', 'r', \"'\", 'u', \"'\", 'B', 'r', 'a', 'd', ' ', 'P', 'i', 't', 't', \"'\", ',', ' ', 'u', \"'\", 'C', 'a', 's', 'e', 'y', ' ', 'A', 'f', 'f', 'l', 'e', 'c', 'k', \"'\", ',', ' ', 'u', \"'\", 'S', 'a', 'm', ' ', 'S', 'h', 'e', 'p', 'a', 'r', 'd', \"'\", 'u', \"'\", 'J', 'e', 'f', 'f', ' ', 'B', 'r', 'i', 'd', 'g', 'e', 's', \"'\", ',', ' ', 'u', \"'\", 'R', 'o', 'b', 'i', 'n', ' ', 'W', 'i', 'l', 'l', 'i', 'a', 'm', 's', \"'\", ',', ' ', 'u', \"'\", 'A', 'd', 'a', 'm', ' ', 'B', 'r', 'y', 'a', 'n', 't', \"'\", 'u', \"'\", 'Z', 'i', 'y', 'i', ' ', 'Z', 'h', 'a', 'n', 'g', \"'\", ',', ' ', 'u', \"'\", 'T', 'a', 'k', 'e', 's', 'h', 'i', ' ', 'K', 'a', 'n', 'e', 's', 'h', 'i', 'r', 'o', \"'\", ',', ' ', 'u', \"'\", 'A', 'n', 'd', 'y', ' ', 'L', 'a', 'u', \"'\", 'u', \"'\", 'M', 'e', 'r', 'y', 'l', ' ', 'S', 't', 'r', 'e', 'e', 'p', \"'\", ',', ' ', 'u', \"'\", 'N', 'i', 'c', 'o', 'l', 'e', ' ', 'K', 'i', 'd', 'm', 'a', 'n', \"'\", ',', ' ', 'u', \"'\", 'J', 'u', 'l', 'i', 'a', 'n', 'n', 'e', ' ', 'M', 'o', 'o', 'r', 'e', \"'\", 'u', \"'\", 'C', 'o', 'l', 'm', ' ', 'M', 'e', 'a', 'n', 'e', 'y', \"'\", ',', ' ', 'u', \"'\", 'H', 'e', 'n', 'r', 'y', ' ', 'G', 'o', 'o', 'd', 'm', 'a', 'n', \"'\", ',', ' ', 'u', \"'\", 'D', 'a', 'v', 'i', 'd', ' ', 'R', 'o', 'p', 'e', 'r', \"'\", 'u', \"'\", 'P', 'a', 't', 'r', 'i', 'c', 'k', ' ', 'S', 't', 'e', 'w', 'a', 'r', 't', \"'\", ',', ' ', 'u', \"'\", 'J', 'o', 'n', 'a', 't', 'h', 'a', 'n', ' ', 'F', 'r', 'a', 'k', 'e', 's', \"'\", ',', ' ', 'u', \"'\", 'B', 'r', 'e', 'n', 't', ' ', 'S', 'p', 'i', 'n', 'e', 'r', \"'\", 'u', \"'\", 'R', 'o', 'b', 'e', 'r', 't', ' ', 'R', 'e', 'd', 'f', 'o', 'r', 'd', \"'\", ',', ' ', 'u', \"'\", 'R', 'o', 'b', 'e', 'r', 't', ' ', 'D', 'u', 'v', 'a', 'l', 'l', \"'\", ',', ' ', 'u', \"'\", 'G', 'l', 'e', 'n', 'n', ' ', 'C', 'l', 'o', 's', 'e', \"'\", 'u', \"'\", 'I', 'a', 'n', ' ', 'M', 'c', 'K', 'e', 'l', 'l', 'e', 'n', \"'\", ',', ' ', 'u', \"'\", 'M', 'a', 'r', 't', 'i', 'n', ' ', 'F', 'r', 'e', 'e', 'm', 'a', 'n', \"'\", ',', ' ', 'u', \"'\", 'R', 'i', 'c', 'h', 'a', 'r', 'd', ' ', 'A', 'r', 'm', 'i', 't', 'a', 'g', 'e', \"'\", 'u', \"'\", 'C', 'h', 'r', 'i', 's', 't', 'i', 'a', 'n', ' ', 'B', 'a', 'l', 'e', \"'\", ',', ' ', 'u', \"'\", 'S', 'e', 'a', 'n', ' ', 'B', 'e', 'a', 'n', \"'\", ',', ' ', 'u', \"'\", 'E', 'm', 'i', 'l', 'y', ' ', 'W', 'a', 't', 's', 'o', 'n', \"'\", 'u', \"'\", 'F', 'r', 'e', 'd', 'd', 'i', 'e', ' ', 'H', 'i', 'g', 'h', 'm', 'o', 'r', 'e', \"'\", ',', ' ', 'u', \"'\", 'K', 'e', 'r', 'i', ' ', 'R', 'u', 's', 's', 'e', 'l', 'l', \"'\", ',', ' ', 'u', \"'\", 'J', 'o', 'n', 'a', 't', 'h', 'a', 'n', ' ', 'R', 'h', 'y', 's', ' ', 'M', 'e', 'y', 'e', 'r', 's', \"'\", 'u', \"'\", 'E', 'm', 'm', 'a', ' ', 'T', 'h', 'o', 'm', 'p', 's', 'o', 'n', \"'\", ',', ' ', 'u', \"'\", 'T', 'o', 'm', ' ', 'H', 'a', 'n', 'k', 's', \"'\", ',', ' ', 'u', \"'\", 'A', 'n', 'n', 'i', 'e', ' ', 'R', 'o', 's', 'e', ' ', 'B', 'u', 'c', 'k', 'l', 'e', 'y', \"'\", 'u', \"'\", 'D', 'e', 'n', 'z', 'e', 'l', ' ', 'W', 'a', 's', 'h', 'i', 'n', 'g', 't', 'o', 'n', \"'\", ',', ' ', 'u', \"'\", 'V', 'i', 'c', 'e', 'l', 'l', 'o', 'u', 's', ' ', 'R', 'e', 'o', 'n', ' ', 'S', 'h', 'a', 'n', 'n', 'o', 'n', \"'\", ',', ' ', 'u', \"'\", 'D', 'e', 'b', 'o', 'r', 'a', 'h', ' ', 'K', 'a', 'r', 'a', ' ', 'U', 'n', 'g', 'e', 'r', \"'\", 'u', \"'\", 'T', 'i', 'm', ' ', 'R', 'o', 'b', 'b', 'i', 'n', 's', \"'\", ',', ' ', 'u', \"'\", 'E', 'l', 'i', 'z', 'a', 'b', 'e', 't', 'h', ' ', 'P', 'e', '\\\\', 'x', 'f', '1', 'a', \"'\", ',', ' ', 'u', \"'\", 'D', 'a', 'n', 'n', 'y', ' ', 'A', 'i', 'e', 'l', 'l', 'o', \"'\", 'u', \"'\", 'P', 'e', 't', 'e', 'r', ' ', 'S', 'a', 'l', 'l', 'i', 's', \"'\", ',', ' ', 'u', \"'\", 'H', 'e', 'l', 'e', 'n', 'a', ' ', 'B', 'o', 'n', 'h', 'a', 'm', ' ', 'C', 'a', 'r', 't', 'e', 'r', \"'\", ',', ' ', 'u', \"'\", 'R', 'a', 'l', 'p', 'h', ' ', 'F', 'i', 'e', 'n', 'n', 'e', 's', \"'\", 'u', \"'\", 'C', 'h', 'e', 'v', 'y', ' ', 'C', 'h', 'a', 's', 'e', \"'\", ',', ' ', 'u', '\"', 'B', 'e', 'v', 'e', 'r', 'l', 'y', ' ', 'D', \"'\", 'A', 'n', 'g', 'e', 'l', 'o', '\"', ',', ' ', 'u', \"'\", 'J', 'u', 'l', 'i', 'e', 't', 't', 'e', ' ', 'L', 'e', 'w', 'i', 's', \"'\", 'u', \"'\", 'D', 'a', 'v', 'i', 'd', ' ', 'S', 't', 'r', 'a', 't', 'h', 'a', 'i', 'r', 'n', \"'\", ',', ' ', 'u', \"'\", 'G', 'e', 'o', 'r', 'g', 'e', ' ', 'C', 'l', 'o', 'o', 'n', 'e', 'y', \"'\", ',', ' ', 'u', \"'\", 'P', 'a', 't', 'r', 'i', 'c', 'i', 'a', ' ', 'C', 'l', 'a', 'r', 'k', 's', 'o', 'n', \"'\", 'u', \"'\", 'D', 'u', 's', 't', 'i', 'n', ' ', 'H', 'o', 'f', 'f', 'm', 'a', 'n', \"'\", ',', ' ', 'u', \"'\", 'S', 'u', 's', 'a', 'n', ' ', 'G', 'e', 'o', 'r', 'g', 'e', \"'\", ',', ' ', 'u', \"'\", 'P', 'e', 't', 'e', 'r', ' ', 'V', 'a', 'u', 'g', 'h', 'a', 'n', \"'\", 'u', \"'\", 'C', 'h', 'a', 'd', 'w', 'i', 'c', 'k', ' ', 'B', 'o', 's', 'e', 'm', 'a', 'n', \"'\", ',', ' ', 'u', \"'\", 'T', '.', 'R', '.', ' ', 'K', 'n', 'i', 'g', 'h', 't', \"'\", ',', ' ', 'u', \"'\", 'H', 'a', 'r', 'r', 'i', 's', 'o', 'n', ' ', 'F', 'o', 'r', 'd', \"'\", 'u', \"'\", 'S', 'e', 'a', 'n', ' ', 'A', 's', 't', 'i', 'n', \"'\", ',', ' ', 'u', \"'\", 'J', 'o', 'n', ' ', 'F', 'a', 'v', 'r', 'e', 'a', 'u', \"'\", ',', ' ', 'u', \"'\", 'N', 'e', 'd', ' ', 'B', 'e', 'a', 't', 't', 'y', \"'\", 'u', \"'\", 'R', 'o', 'b', 'e', 'r', 't', ' ', 'D', 'e', ' ', 'N', 'i', 'r', 'o', \"'\", ',', ' ', 'u', \"'\", 'K', 'e', 'v', 'i', 'n', ' ', 'B', 'a', 'c', 'o', 'n', \"'\", ',', ' ', 'u', \"'\", 'B', 'r', 'a', 'd', ' ', 'P', 'i', 't', 't', \"'\", 'u', \"'\", 'C', 'i', 'l', 'l', 'i', 'a', 'n', ' ', 'M', 'u', 'r', 'p', 'h', 'y', \"'\", ',', ' ', 'u', \"'\", 'P', 'a', 'd', 'r', 'a', 'i', 'c', ' ', 'D', 'e', 'l', 'a', 'n', 'e', 'y', \"'\", ',', ' ', 'u', \"'\", 'L', 'i', 'a', 'm', ' ', 'C', 'u', 'n', 'n', 'i', 'n', 'g', 'h', 'a', 'm', \"'\", 'u', \"'\", 'L', 'e', 'o', 'n', 'a', 'r', 'd', 'o', ' ', 'D', 'i', 'C', 'a', 'p', 'r', 'i', 'o', \"'\", ',', ' ', 'u', \"'\", 'C', 'a', 'm', 'e', 'r', 'o', 'n', ' ', 'D', 'i', 'a', 'z', \"'\", ',', ' ', 'u', \"'\", 'D', 'a', 'n', 'i', 'e', 'l', ' ', 'D', 'a', 'y', '-', 'L', 'e', 'w', 'i', 's', \"'\", 'u', \"'\", 'C', 'a', 't', 'e', ' ', 'B', 'l', 'a', 'n', 'c', 'h', 'e', 't', 't', \"'\", ',', ' ', 'u', \"'\", 'G', 'e', 'o', 'f', 'f', 'r', 'e', 'y', ' ', 'R', 'u', 's', 'h', \"'\", ',', ' ', 'u', \"'\", 'C', 'h', 'r', 'i', 's', 't', 'o', 'p', 'h', 'e', 'r', ' ', 'E', 'c', 'c', 'l', 'e', 's', 't', 'o', 'n', \"'\", 'u', \"'\", 'E', 'l', 'i', 'j', 'a', 'h', ' ', 'W', 'o', 'o', 'd', \"'\", ',', ' ', 'u', \"'\", 'C', 'h', 'a', 'r', 'l', 'i', 'e', ' ', 'H', 'u', 'n', 'n', 'a', 'm', \"'\", ',', ' ', 'u', \"'\", 'C', 'l', 'a', 'i', 'r', 'e', ' ', 'F', 'o', 'r', 'l', 'a', 'n', 'i', \"'\", 'u', \"'\", 'A', 'd', 'a', 'm', ' ', 'S', 'a', 'n', 'd', 'l', 'e', 'r', \"'\", ',', ' ', 'u', \"'\", 'D', 'o', 'n', ' ', 'C', 'h', 'e', 'a', 'd', 'l', 'e', \"'\", ',', ' ', 'u', \"'\", 'J', 'a', 'd', 'a', ' ', 'P', 'i', 'n', 'k', 'e', 't', 't', ' ', 'S', 'm', 'i', 't', 'h', \"'\", 'u', \"'\", 'P', 'e', 't', 'e', 'r', ' ', 'W', 'e', 'l', 'l', 'e', 'r', \"'\", ',', ' ', 'u', \"'\", 'N', 'a', 'n', 'c', 'y', ' ', 'A', 'l', 'l', 'e', 'n', \"'\", ',', ' ', 'u', '\"', 'D', 'a', 'n', ' ', 'O', \"'\", 'H', 'e', 'r', 'l', 'i', 'h', 'y', '\"', 'u', \"'\", 'K', 'e', 'v', 'i', 'n', ' ', 'S', 'p', 'a', 'c', 'e', 'y', \"'\", ',', ' ', 'u', \"'\", 'K', 'a', 't', 'e', ' ', 'W', 'i', 'n', 's', 'l', 'e', 't', \"'\", ',', ' ', 'u', \"'\", 'L', 'a', 'u', 'r', 'a', ' ', 'L', 'i', 'n', 'n', 'e', 'y', \"'\", 'u', \"'\", 'H', 'a', 'y', 'd', 'e', 'n', ' ', 'C', 'h', 'r', 'i', 's', 't', 'e', 'n', 's', 'e', 'n', \"'\", ',', ' ', 'u', \"'\", 'K', 'e', 'v', 'i', 'n', ' ', 'K', 'l', 'i', 'n', 'e', \"'\", ',', ' ', 'u', \"'\", 'K', 'r', 'i', 's', 't', 'i', 'n', ' ', 'S', 'c', 'o', 't', 't', ' ', 'T', 'h', 'o', 'm', 'a', 's', \"'\", 'u', \"'\", 'S', 't', 'e', 'v', 'e', ' ', 'C', 'a', 'r', 'e', 'l', 'l', \"'\", ',', ' ', 'u', \"'\", 'K', 'r', 'i', 's', 't', 'e', 'n', ' ', 'W', 'i', 'i', 'g', \"'\", ',', ' ', 'u', \"'\", 'B', 'e', 'n', 'j', 'a', 'm', 'i', 'n', ' ', 'B', 'r', 'a', 't', 't', \"'\", 'u', \"'\", 'P', 'a', 'm', ' ', 'G', 'r', 'i', 'e', 'r', \"'\", ',', ' ', 'u', \"'\", 'S', 'a', 'm', 'u', 'e', 'l', ' ', 'L', '.', ' ', 'J', 'a', 'c', 'k', 's', 'o', 'n', \"'\", ',', ' ', 'u', \"'\", 'R', 'o', 'b', 'e', 'r', 't', ' ', 'F', 'o', 'r', 's', 't', 'e', 'r', \"'\", 'u', \"'\", 'T', 'y', 'r', 'i', 'n', ' ', 'T', 'u', 'r', 'n', 'e', 'r', \"'\", ',', ' ', 'u', \"'\", 'L', 'a', 'r', 'e', 'n', 'z', ' ', 'T', 'a', 't', 'e', \"'\", ',', ' ', 'u', \"'\", 'J', 'u', 'n', 'e', ' ', 'K', 'y', 'o', 't', 'o', ' ', 'L', 'u', \"'\", 'u', \"'\", 'F', 'r', 'a', 'n', '\\\\', 'x', 'e', '7', 'o', 'i', 's', ' ', 'B', '\\\\', 'x', 'e', '9', 'g', 'a', 'u', 'd', 'e', 'a', 'u', \"'\", ',', ' ', 'u', \"'\", 'A', 'g', 'a', 'm', 'e', ' ', 'M', 'a', 'l', 'e', 'm', 'b', 'o', '-', 'E', 'm', 'e', 'n', 'e', \"'\", ',', ' ', 'u', \"'\", 'A', 'n', 'g', '\\\\', 'x', 'e', '9', 'l', 'i', 'c', 'a', ' ', 'S', 'a', 'n', 'c', 'i', 'o', \"'\", 'u', \"'\", 'J', 'o', 'h', 'n', ' ', 'C', 'u', 's', 'a', 'c', 'k', \"'\", ',', ' ', 'u', \"'\", 'D', 'i', 'a', 'n', 'n', 'e', ' ', 'W', 'i', 'e', 's', 't', \"'\", ',', ' ', 'u', \"'\", 'J', 'e', 'n', 'n', 'i', 'f', 'e', 'r', ' ', 'T', 'i', 'l', 'l', 'y', \"'\", 'u', \"'\", 'P', 'a', 'u', 'l', ' ', 'G', 'i', 'a', 'm', 'a', 't', 't', 'i', \"'\", ',', ' ', 'u', \"'\", 'S', 'h', 'a', 'r', 'i', ' ', 'S', 'p', 'r', 'i', 'n', 'g', 'e', 'r', ' ', 'B', 'e', 'r', 'm', 'a', 'n', \"'\", ',', ' ', 'u', \"'\", 'H', 'a', 'r', 'v', 'e', 'y', ' ', 'P', 'e', 'k', 'a', 'r', \"'\", 'u', \"'\", 'B', 'e', 'n', ' ', 'W', 'h', 'i', 's', 'h', 'a', 'w', \"'\", ',', ' ', 'u', \"'\", 'D', 'u', 's', 't', 'i', 'n', ' ', 'H', 'o', 'f', 'f', 'm', 'a', 'n', \"'\", ',', ' ', 'u', \"'\", 'A', 'l', 'a', 'n', ' ', 'R', 'i', 'c', 'k', 'm', 'a', 'n', \"'\", 'u', \"'\", 'T', 'o', 'm', ' ', 'H', 'a', 'n', 'k', 's', \"'\", ',', ' ', 'u', \"'\", 'H', 'a', 'l', 'l', 'e', ' ', 'B', 'e', 'r', 'r', 'y', \"'\", ',', ' ', 'u', \"'\", 'H', 'u', 'g', 'h', ' ', 'G', 'r', 'a', 'n', 't', \"'\", 'u', \"'\", 'D', 'u', 's', 't', 'i', 'n', ' ', 'H', 'o', 'f', 'f', 'm', 'a', 'n', \"'\", ',', ' ', 'u', \"'\", 'L', 'a', 'u', 'r', 'e', 'n', 'c', 'e', ' ', 'O', 'l', 'i', 'v', 'i', 'e', 'r', \"'\", ',', ' ', 'u', \"'\", 'R', 'o', 'y', ' ', 'S', 'c', 'h', 'e', 'i', 'd', 'e', 'r', \"'\", 'u', \"'\", 'D', 'i', 'c', 'k', 'i', 'e', ' ', 'J', 'o', 'n', 'e', 's', \"'\", ',', ' ', 'u', \"'\", 'C', 'h', 'r', 'i', 's', 't', 'i', 'a', 'n', ' ', 'R', 'u', 'b', \"'\", ',', ' ', 'u', \"'\", 'M', 'e', 'l', ' ', 'B', 'l', 'a', 'n', 'c', \"'\", 'u', \"'\", 'N', 'a', 'o', 'm', 'i', ' ', 'W', 'a', 't', 't', 's', \"'\", ',', ' ', 'u', \"'\", 'E', 'd', 'w', 'a', 'r', 'd', ' ', 'N', 'o', 'r', 't', 'o', 'n', \"'\", ',', ' ', 'u', \"'\", 'L', 'i', 'e', 'v', ' ', 'S', 'c', 'h', 'r', 'e', 'i', 'b', 'e', 'r', \"'\", 'u', \"'\", 'B', 'i', 'l', 'l', ' ', 'P', 'a', 'x', 't', 'o', 'n', \"'\", ',', ' ', 'u', \"'\", 'B', 'i', 'l', 'l', 'y', ' ', 'B', 'o', 'b', ' ', 'T', 'h', 'o', 'r', 'n', 't', 'o', 'n', \"'\", ',', ' ', 'u', \"'\", 'B', 'r', 'i', 'd', 'g', 'e', 't', ' ', 'F', 'o', 'n', 'd', 'a', \"'\", 'u', \"'\", 'P', 'a', 't', 'r', 'i', 'c', 'k', ' ', 'W', 'i', 'l', 's', 'o', 'n', \"'\", ',', ' ', 'u', \"'\", 'V', 'e', 'r', 'a', ' ', 'F', 'a', 'r', 'm', 'i', 'g', 'a', \"'\", ',', ' ', 'u', \"'\", 'R', 'o', 'n', ' ', 'L', 'i', 'v', 'i', 'n', 'g', 's', 't', 'o', 'n', \"'\", 'u', \"'\", 'J', 'a', 'm', 'e', 's', ' ', 'S', 't', 'e', 'w', 'a', 'r', 't', \"'\", ',', ' ', 'u', \"'\", 'D', 'o', 'r', 'i', 's', ' ', 'D', 'a', 'y', \"'\", ',', ' ', 'u', \"'\", 'B', 'r', 'e', 'n', 'd', 'a', ' ', 'd', 'e', ' ', 'B', 'a', 'n', 'z', 'i', 'e', \"'\", 'u', \"'\", 'R', 'a', 'l', 'p', 'h', ' ', 'F', 'i', 'e', 'n', 'n', 'e', 's', \"'\", ',', ' ', 'u', \"'\", 'J', 'o', 'h', 'n', ' ', 'T', 'u', 'r', 't', 'u', 'r', 'r', 'o', \"'\", ',', ' ', 'u', \"'\", 'R', 'o', 'b', ' ', 'M', 'o', 'r', 'r', 'o', 'w', \"'\", 'u', \"'\", 'R', 'i', 'c', 'h', 'a', 'r', 'd', ' ', 'D', 'r', 'e', 'y', 'f', 'u', 's', 's', \"'\", ',', ' ', 'u', \"'\", 'R', 'o', 'n', ' ', 'H', 'o', 'w', 'a', 'r', 'd', \"'\", ',', ' ', 'u', \"'\", 'P', 'a', 'u', 'l', ' ', 'L', 'e', ' ', 'M', 'a', 't', \"'\", 'u', \"'\", 'C', 'l', 'i', 'n', 't', ' ', 'E', 'a', 's', 't', 'w', 'o', 'o', 'd', \"'\", ',', ' ', 'u', \"'\", 'M', 'e', 'r', 'y', 'l', ' ', 'S', 't', 'r', 'e', 'e', 'p', \"'\", ',', ' ', 'u', \"'\", 'A', 'n', 'n', 'i', 'e', ' ', 'C', 'o', 'r', 'l', 'e', 'y', \"'\", 'u', \"'\", 'M', 'e', 'l', ' ', 'G', 'i', 'b', 's', 'o', 'n', \"'\", ',', ' ', 'u', \"'\", 'M', 'a', 'r', 'k', ' ', 'L', 'e', 'e', \"'\", ',', ' ', 'u', \"'\", 'B', 'i', 'l', 'l', ' ', 'K', 'e', 'r', 'r', \"'\", 'u', \"'\", 'J', 'e', 'a', 'n', '-', 'C', 'l', 'a', 'u', 'd', 'e', ' ', 'D', 'o', 'n', 'd', 'a', \"'\", ',', ' ', 'u', \"'\", 'E', 'i', 'l', 'i', 'd', 'h', ' ', 'R', 'a', 'n', 'k', 'i', 'n', \"'\", ',', ' ', 'u', \"'\", 'D', 'u', 'n', 'c', 'a', 'n', ' ', 'M', 'a', 'c', 'N', 'e', 'i', 'l', \"'\", 'u', \"'\", 'K', 'u', 'r', 't', ' ', 'R', 'u', 's', 's', 'e', 'l', 'l', \"'\", ',', ' ', 'u', \"'\", 'P', 'a', 't', 'r', 'i', 'c', 'i', 'a', ' ', 'C', 'l', 'a', 'r', 'k', 's', 'o', 'n', \"'\", ',', ' ', 'u', \"'\", 'N', 'a', 't', 'h', 'a', 'n', ' ', 'W', 'e', 's', 't', \"'\", 'u', \"'\", 'C', 'a', 't', 'a', 'l', 'i', 'n', 'a', ' ', 'S', 'a', 'n', 'd', 'i', 'n', 'o', ' ', 'M', 'o', 'r', 'e', 'n', 'o', \"'\", ',', ' ', 'u', \"'\", 'G', 'u', 'i', 'l', 'i', 'e', 'd', ' ', 'L', 'o', 'p', 'e', 'z', \"'\", ',', ' ', 'u', \"'\", 'O', 'r', 'l', 'a', 'n', 'd', 'o', ' ', 'T', 'o', 'b', '\\\\', 'x', 'f', '3', 'n', \"'\", 'u', \"'\", 'M', 'i', 'c', 'h', 'a', 'e', 'l', ' ', 'C', 'e', 'r', 'a', \"'\", ',', ' ', 'u', \"'\", 'M', 'a', 'r', 'y', ' ', 'E', 'l', 'i', 'z', 'a', 'b', 'e', 't', 'h', ' ', 'W', 'i', 'n', 's', 't', 'e', 'a', 'd', \"'\", ',', ' ', 'u', \"'\", 'K', 'i', 'e', 'r', 'a', 'n', ' ', 'C', 'u', 'l', 'k', 'i', 'n', \"'\", 'u', \"'\", 'T', 'o', 'b', 'e', 'y', ' ', 'M', 'a', 'g', 'u', 'i', 'r', 'e', \"'\", ',', ' ', 'u', \"'\", 'J', 'e', 'f', 'f', ' ', 'D', 'a', 'n', 'i', 'e', 'l', 's', \"'\", ',', ' ', 'u', \"'\", 'J', 'o', 'a', 'n', ' ', 'A', 'l', 'l', 'e', 'n', \"'\", 'u', \"'\", 'R', 'o', 'b', 'e', 'r', 't', ' ', 'D', 'o', 'w', 'n', 'e', 'y', ' ', 'J', 'r', '.', \"'\", ',', ' ', 'u', \"'\", 'J', 'u', 'd', 'e', ' ', 'L', 'a', 'w', \"'\", ',', ' ', 'u', \"'\", 'J', 'a', 'r', 'e', 'd', ' ', 'H', 'a', 'r', 'r', 'i', 's', \"'\", 'u', \"'\", 'M', 'e', 'r', 'y', 'l', ' ', 'S', 't', 'r', 'e', 'e', 'p', \"'\", ',', ' ', 'u', \"'\", 'P', 'h', 'i', 'l', 'i', 'p', ' ', 'S', 'e', 'y', 'm', 'o', 'u', 'r', ' ', 'H', 'o', 'f', 'f', 'm', 'a', 'n', \"'\", ',', ' ', 'u', \"'\", 'A', 'm', 'y', ' ', 'A', 'd', 'a', 'm', 's', \"'\", 'u', \"'\", 'J', 'e', 'f', 'f', ' ', 'G', 'o', 'l', 'd', 'b', 'l', 'u', 'm', \"'\", ',', ' ', 'u', \"'\", 'G', 'e', 'e', 'n', 'a', ' ', 'D', 'a', 'v', 'i', 's', \"'\", ',', ' ', 'u', \"'\", 'J', 'o', 'h', 'n', ' ', 'G', 'e', 't', 'z', \"'\", 'u', \"'\", 'B', 'e', 'l', '\\\\', 'x', 'e', '9', 'n', ' ', 'R', 'u', 'e', 'd', 'a', \"'\", ',', ' ', 'u', \"'\", 'F', 'e', 'r', 'n', 'a', 'n', 'd', 'o', ' ', 'C', 'a', 'y', 'o', \"'\", ',', ' ', 'u', \"'\", 'R', 'o', 'g', 'e', 'r', ' ', 'P', 'r', '\\\\', 'x', 'e', 'd', 'n', 'c', 'e', 'p', \"'\", 'u', \"'\", 'M', 'o', 'n', 'i', 'c', 'a', ' ', 'B', 'e', 'l', 'l', 'u', 'c', 'c', 'i', \"'\", ',', ' ', 'u', \"'\", 'G', 'i', 'u', 's', 'e', 'p', 'p', 'e', ' ', 'S', 'u', 'l', 'f', 'a', 'r', 'o', \"'\", ',', ' ', 'u', \"'\", 'L', 'u', 'c', 'i', 'a', 'n', 'o', ' ', 'F', 'e', 'd', 'e', 'r', 'i', 'c', 'o', \"'\", 'u', \"'\", 'R', 'o', 'b', 'e', 'r', 't', ' ', 'R', 'e', 'd', 'f', 'o', 'r', 'd', \"'\", ',', ' ', 'u', \"'\", 'F', 'a', 'y', 'e', ' ', 'D', 'u', 'n', 'a', 'w', 'a', 'y', \"'\", ',', ' ', 'u', \"'\", 'C', 'l', 'i', 'f', 'f', ' ', 'R', 'o', 'b', 'e', 'r', 't', 's', 'o', 'n', \"'\", 'u', \"'\", 'M', 'a', 'n', 'u', 'e', 'l', 'a', ' ', 'V', 'e', 'l', 'a', 's', 'c', 'o', \"'\", ',', ' ', 'u', \"'\", 'F', 'e', 'r', 'r', 'a', 'n', ' ', 'T', 'e', 'r', 'r', 'a', 'z', 'a', \"'\", ',', ' ', 'u', \"'\", 'J', 'o', 'r', 'g', 'e', '-', 'Y', 'a', 'm', 'a', 'm', ' ', 'S', 'e', 'r', 'r', 'a', 'n', 'o', \"'\", 'u', \"'\", 'K', 'e', 'v', 'i', 'n', ' ', 'C', 'o', 's', 't', 'n', 'e', 'r', \"'\", ',', ' ', 'u', \"'\", 'C', 'l', 'i', 'n', 't', ' ', 'E', 'a', 's', 't', 'w', 'o', 'o', 'd', \"'\", ',', ' ', 'u', \"'\", 'L', 'a', 'u', 'r', 'a', ' ', 'D', 'e', 'r', 'n', \"'\", 'u', \"'\", 'C', 'a', 'r', 'y', ' ', 'G', 'r', 'a', 'n', 't', \"'\", ',', ' ', 'u', \"'\", 'G', 'r', 'a', 'c', 'e', ' ', 'K', 'e', 'l', 'l', 'y', \"'\", ',', ' ', 'u', \"'\", 'J', 'e', 's', 's', 'i', 'e', ' ', 'R', 'o', 'y', 'c', 'e', ' ', 'L', 'a', 'n', 'd', 'i', 's', \"'\", 'u', \"'\", 'F', 'r', 'e', 'd', ' ', 'W', 'i', 'l', 'l', 'a', 'r', 'd', \"'\", ',', ' ', 'u', \"'\", 'E', 'u', 'g', 'e', 'n', 'e', ' ', 'L', 'e', 'v', 'y', \"'\", ',', ' ', 'u', '\"', 'C', 'a', 't', 'h', 'e', 'r', 'i', 'n', 'e', ' ', 'O', \"'\", 'H', 'a', 'r', 'a', '\"', 'u', \"'\", 'E', 'l', 'i', 'j', 'a', 'h', ' ', 'W', 'o', 'o', 'd', \"'\", ',', ' ', 'u', \"'\", 'E', 'u', 'g', 'e', 'n', 'e', ' ', 'H', 'u', 't', 'z', \"'\", ',', ' ', 'u', \"'\", 'B', 'o', 'r', 'i', 's', ' ', 'L', 'e', 's', 'k', 'i', 'n', \"'\", 'u', \"'\", 'H', 'e', 'a', 't', 'h', 'e', 'r', ' ', 'L', 'a', 'n', 'g', 'e', 'n', 'k', 'a', 'm', 'p', \"'\", ',', ' ', 'u', \"'\", 'J', 'o', 'h', 'n', 'n', 'y', ' ', 'D', 'e', 'p', 'p', \"'\", ',', ' ', 'u', \"'\", 'R', 'o', 'b', 'e', 'r', 't', ' ', 'E', 'n', 'g', 'l', 'u', 'n', 'd', \"'\", 'u', \"'\", 'K', 'e', 'v', 'i', 'n', ' ', 'K', 'l', 'i', 'n', 'e', \"'\", ',', ' ', 'u', \"'\", 'J', 'o', 'a', 'n', ' ', 'A', 'l', 'l', 'e', 'n', \"'\", ',', ' ', 'u', \"'\", 'S', 'i', 'g', 'o', 'u', 'r', 'n', 'e', 'y', ' ', 'W', 'e', 'a', 'v', 'e', 'r', \"'\", 'u', \"'\", 'P', 'a', 't', 'r', 'i', 'c', 'k', ' ', 'S', 't', 'e', 'w', 'a', 'r', 't', \"'\", ',', ' ', 'u', \"'\", 'H', 'u', 'g', 'h', ' ', 'J', 'a', 'c', 'k', 'm', 'a', 'n', \"'\", ',', ' ', 'u', \"'\", 'H', 'a', 'l', 'l', 'e', ' ', 'B', 'e', 'r', 'r', 'y', \"'\", 'u', \"'\", 'T', 'i', 'l', 'd', 'a', ' ', 'S', 'w', 'i', 'n', 't', 'o', 'n', \"'\", ',', ' ', 'u', \"'\", 'J', 'o', 'h', 'n', ' ', 'C', '.', ' ', 'R', 'e', 'i', 'l', 'l', 'y', \"'\", ',', ' ', 'u', \"'\", 'E', 'z', 'r', 'a', ' ', 'M', 'i', 'l', 'l', 'e', 'r', \"'\", 'u', \"'\", 'S', 't', 'e', 'p', 'h', 'e', 'n', ' ', 'D', 'o', 'r', 'f', 'f', \"'\", ',', ' ', 'u', \"'\", 'M', 'a', 'r', 'i', 's', 'o', 'l', ' ', 'N', 'i', 'c', 'h', 'o', 'l', 's', \"'\", ',', ' ', 'u', \"'\", 'V', 'i', 'n', 'c', 'e', 'n', 't', ' ', 'M', 'i', 'l', 'l', 'e', 'r', \"'\", 'u', \"'\", 'J', 'u', 'l', 'i', 'a', 'n', 'n', 'e', ' ', 'M', 'o', 'o', 'r', 'e', \"'\", ',', ' ', 'u', \"'\", 'A', 'l', 'e', 'c', ' ', 'B', 'a', 'l', 'd', 'w', 'i', 'n', \"'\", ',', ' ', 'u', \"'\", 'K', 'r', 'i', 's', 't', 'e', 'n', ' ', 'S', 't', 'e', 'w', 'a', 'r', 't', \"'\", 'u', \"'\", 'M', 'a', 'r', 'i', 'o', 'n', ' ', 'C', 'o', 't', 'i', 'l', 'l', 'a', 'r', 'd', \"'\", ',', ' ', 'u', \"'\", 'M', 'a', 't', 't', 'h', 'i', 'a', 's', ' ', 'S', 'c', 'h', 'o', 'e', 'n', 'a', 'e', 'r', 't', 's', \"'\", ',', ' ', 'u', \"'\", 'A', 'r', 'm', 'a', 'n', 'd', ' ', 'V', 'e', 'r', 'd', 'u', 'r', 'e', \"'\", 'u', \"'\", 'H', 'i', 'l', 'a', 'r', 'y', ' ', 'S', 'w', 'a', 'n', 'k', \"'\", ',', ' ', 'u', \"'\", 'I', 'm', 'e', 'l', 'd', 'a', ' ', 'S', 't', 'a', 'u', 'n', 't', 'o', 'n', \"'\", ',', ' ', 'u', \"'\", 'P', 'a', 't', 'r', 'i', 'c', 'k', ' ', 'D', 'e', 'm', 'p', 's', 'e', 'y', \"'\", 'u', \"'\", 'B', 'r', 'a', 'd', ' ', 'P', 'i', 't', 't', \"'\", ',', ' ', 'u', \"'\", 'A', 'n', 't', 'h', 'o', 'n', 'y', ' ', 'H', 'o', 'p', 'k', 'i', 'n', 's', \"'\", ',', ' ', 'u', \"'\", 'A', 'i', 'd', 'a', 'n', ' ', 'Q', 'u', 'i', 'n', 'n', \"'\", 'u', \"'\", 'V', 'i', 'n', 'c', 'e', 'n', 't', ' ', 'G', 'a', 'l', 'l', 'o', \"'\", ',', ' ', 'u', \"'\", 'C', 'h', 'r', 'i', 's', 't', 'i', 'n', 'a', ' ', 'R', 'i', 'c', 'c', 'i', \"'\", ',', ' ', 'u', \"'\", 'B', 'e', 'n', ' ', 'G', 'a', 'z', 'z', 'a', 'r', 'a', \"'\", 'u', \"'\", 'R', 'a', 'l', 'p', 'h', ' ', 'F', 'i', 'e', 'n', 'n', 'e', 's', \"'\", ',', ' ', 'u', \"'\", 'R', 'a', 'c', 'h', 'e', 'l', ' ', 'W', 'e', 'i', 's', 'z', \"'\", ',', ' ', 'u', \"'\", 'H', 'u', 'b', 'e', 'r', 't', ' ', 'K', 'o', 'u', 'n', 'd', '\\\\', 'x', 'e', '9', \"'\", 'u', \"'\", 'J', 'o', 'e', ' ', 'P', 'e', 's', 'c', 'i', \"'\", ',', ' ', 'u', \"'\", 'M', 'a', 'r', 'i', 's', 'a', ' ', 'T', 'o', 'm', 'e', 'i', \"'\", ',', ' ', 'u', \"'\", 'R', 'a', 'l', 'p', 'h', ' ', 'M', 'a', 'c', 'c', 'h', 'i', 'o', \"'\", 'u', \"'\", 'M', 'a', 'r', 'i', 'l', 'y', 'n', ' ', 'B', 'u', 'r', 'n', 's', \"'\", ',', ' ', 'u', \"'\", 'E', 'd', 'w', 'i', 'n', ' ', 'N', 'e', 'a', 'l', \"'\", ',', ' ', 'u', \"'\", 'A', 'l', 'l', 'e', 'n', ' ', 'D', 'a', 'n', 'z', 'i', 'g', 'e', 'r', \"'\", 'u', \"'\", 'M', 'i', 'n', 'g', '-', 'N', 'a', ' ', 'W', 'e', 'n', \"'\", ',', ' ', 'u', \"'\", 'E', 'd', 'd', 'i', 'e', ' ', 'M', 'u', 'r', 'p', 'h', 'y', \"'\", ',', ' ', 'u', \"'\", 'B', 'D', ' ', 'W', 'o', 'n', 'g', \"'\", 'u', \"'\", 'V', 'i', 'g', 'g', 'o', ' ', 'M', 'o', 'r', 't', 'e', 'n', 's', 'e', 'n', \"'\", ',', ' ', 'u', \"'\", 'M', 'a', 'r', 'i', 'a', ' ', 'B', 'e', 'l', 'l', 'o', \"'\", ',', ' ', 'u', \"'\", 'E', 'd', ' ', 'H', 'a', 'r', 'r', 'i', 's', \"'\", 'u', \"'\", 'K', 'e', 'v', 'i', 'n', ' ', 'C', 'o', 's', 't', 'n', 'e', 'r', \"'\", ',', ' ', 'u', \"'\", 'R', 'o', 'b', 'e', 'r', 't', ' ', 'D', 'u', 'v', 'a', 'l', 'l', \"'\", ',', ' ', 'u', \"'\", 'D', 'i', 'e', 'g', 'o', ' ', 'L', 'u', 'n', 'a', \"'\", 'u', \"'\", 'A', 'r', 'n', 'o', 'l', 'd', ' ', 'S', 'c', 'h', 'w', 'a', 'r', 'z', 'e', 'n', 'e', 'g', 'g', 'e', 'r', \"'\", ',', ' ', 'u', \"'\", 'S', 'h', 'a', 'r', 'o', 'n', ' ', 'S', 't', 'o', 'n', 'e', \"'\", ',', ' ', 'u', \"'\", 'M', 'i', 'c', 'h', 'a', 'e', 'l', ' ', 'I', 'r', 'o', 'n', 's', 'i', 'd', 'e', \"'\", 'u', \"'\", 'S', 'e', 'a', 'n', ' ', 'G', 'u', 'l', 'l', 'e', 't', 't', 'e', \"'\", ',', ' ', 'u', \"'\", 'M', 'a', 'r', 'k', ' ', 'M', 'a', 'r', 'g', 'o', 'l', 'i', 's', \"'\", ',', ' ', 'u', \"'\", 'B', 'e', 'n', ' ', 'S', 'h', 'e', 'n', 'k', 'm', 'a', 'n', \"'\", 'u', \"'\", 'M', 'a', 'r', 'i', 's', 'a', ' ', 'P', 'a', 'r', 'e', 'd', 'e', 's', \"'\", ',', ' ', 'u', \"'\", 'E', 'd', 'u', 'a', 'r', 'd', 'o', ' ', 'N', 'o', 'r', 'i', 'e', 'g', 'a', \"'\", ',', ' ', 'u', \"'\", 'F', 'e', 'd', 'e', 'r', 'i', 'c', 'o', ' ', 'L', 'u', 'p', 'p', 'i', \"'\", 'u', \"'\", 'L', 'e', 'o', 'n', 'a', 'r', 'd', 'o', ' ', 'D', 'i', 'C', 'a', 'p', 'r', 'i', 'o', \"'\", ',', ' ', 'u', \"'\", 'C', 'a', 't', 'e', ' ', 'B', 'l', 'a', 'n', 'c', 'h', 'e', 't', 't', \"'\", ',', ' ', 'u', \"'\", 'K', 'a', 't', 'e', ' ', 'B', 'e', 'c', 'k', 'i', 'n', 's', 'a', 'l', 'e', \"'\", 'u', \"'\", 'K', 'e', 'a', 'n', 'u', ' ', 'R', 'e', 'e', 'v', 'e', 's', \"'\", ',', ' ', 'u', \"'\", 'A', 'l', ' ', 'P', 'a', 'c', 'i', 'n', 'o', \"'\", ',', ' ', 'u', \"'\", 'C', 'h', 'a', 'r', 'l', 'i', 'z', 'e', ' ', 'T', 'h', 'e', 'r', 'o', 'n', \"'\", 'u', \"'\", 'H', 'u', 'g', 'o', ' ', 'W', 'e', 'a', 'v', 'i', 'n', 'g', \"'\", ',', ' ', 'u', \"'\", 'G', 'u', 'y', ' ', 'P', 'e', 'a', 'r', 'c', 'e', \"'\", ',', ' ', 'u', \"'\", 'T', 'e', 'r', 'e', 'n', 'c', 'e', ' ', 'S', 't', 'a', 'm', 'p', \"'\", 'u', \"'\", 'D', 'a', 'n', 'i', 'e', 'l', ' ', 'R', 'a', 'd', 'c', 'l', 'i', 'f', 'f', 'e', \"'\", ',', ' ', 'u', \"'\", 'E', 'm', 'm', 'a', ' ', 'W', 'a', 't', 's', 'o', 'n', \"'\", ',', ' ', 'u', \"'\", 'R', 'u', 'p', 'e', 'r', 't', ' ', 'G', 'r', 'i', 'n', 't', \"'\", 'u', \"'\", 'M', 'i', 'c', 'h', 'a', 'e', 'l', ' ', 'B', '.', ' ', 'J', 'o', 'r', 'd', 'a', 'n', \"'\", ',', ' ', 'u', \"'\", 'M', 'e', 'l', 'o', 'n', 'i', 'e', ' ', 'D', 'i', 'a', 'z', \"'\", ',', ' ', 'u', \"'\", 'O', 'c', 't', 'a', 'v', 'i', 'a', ' ', 'S', 'p', 'e', 'n', 'c', 'e', 'r', \"'\", 'u', \"'\", 'T', 'o', 'm', ' ', 'W', 'i', 'l', 'k', 'i', 'n', 's', 'o', 'n', \"'\", ',', ' ', 'u', \"'\", 'S', 'i', 's', 's', 'y', ' ', 'S', 'p', 'a', 'c', 'e', 'k', \"'\", ',', ' ', 'u', \"'\", 'N', 'i', 'c', 'k', ' ', 'S', 't', 'a', 'h', 'l', \"'\", 'u', \"'\", 'J', 'a', 'k', 'e', ' ', 'G', 'y', 'l', 'l', 'e', 'n', 'h', 'a', 'a', 'l', \"'\", ',', ' ', 'u', \"'\", 'M', 'i', 'c', 'h', 'e', 'l', 'l', 'e', ' ', 'M', 'o', 'n', 'a', 'g', 'h', 'a', 'n', \"'\", ',', ' ', 'u', \"'\", 'V', 'e', 'r', 'a', ' ', 'F', 'a', 'r', 'm', 'i', 'g', 'a', \"'\", 'u', \"'\", 'J', 'a', 'v', 'i', 'e', 'r', ' ', 'B', 'a', 'r', 'd', 'e', 'm', \"'\", ',', ' ', 'u', \"'\", 'M', 'a', 'r', 'i', 'c', 'e', 'l', ' ', '\\\\', 'x', 'c', '1', 'l', 'v', 'a', 'r', 'e', 'z', \"'\", ',', ' ', 'u', \"'\", 'H', 'a', 'n', 'a', 'a', ' ', 'B', 'o', 'u', 'c', 'h', 'a', 'i', 'b', \"'\", 'u', \"'\", 'S', 'e', 'a', 'n', ' ', 'C', 'o', 'n', 'n', 'e', 'r', 'y', \"'\", ',', ' ', 'u', \"'\", 'R', 'o', 'b', 'e', 'r', 't', ' ', 'S', 'h', 'a', 'w', \"'\", ',', ' ', 'u', \"'\", 'L', 'o', 't', 't', 'e', ' ', 'L', 'e', 'n', 'y', 'a', \"'\", 'u', \"'\", 'B', 'r', 'e', 'n', 'd', 'a', 'n', ' ', 'G', 'l', 'e', 'e', 's', 'o', 'n', \"'\", ',', ' ', 'u', '\"', 'C', 'h', 'r', 'i', 's', ' ', 'O', \"'\", 'D', 'o', 'w', 'd', '\"', ',', ' ', 'u', \"'\", 'K', 'e', 'l', 'l', 'y', ' ', 'R', 'e', 'i', 'l', 'l', 'y', \"'\", 'u', \"'\", 'R', 'o', 'b', 'e', 'r', 't', ' ', 'D', 'e', ' ', 'N', 'i', 'r', 'o', \"'\", ',', ' ', 'u', \"'\", 'J', 'e', 'r', 'e', 'm', 'y', ' ', 'I', 'r', 'o', 'n', 's', \"'\", ',', ' ', 'u', \"'\", 'R', 'a', 'y', ' ', 'M', 'c', 'A', 'n', 'a', 'l', 'l', 'y', \"'\", 'u', \"'\", 'T', 'o', 'm', ' ', 'H', 'o', 'l', 'l', 'a', 'n', 'd', 'e', 'r', \"'\", ',', ' ', 'u', \"'\", 'P', 'e', 't', 'e', 'r', ' ', 'C', 'a', 'p', 'a', 'l', 'd', 'i', \"'\", ',', ' ', 'u', \"'\", 'J', 'a', 'm', 'e', 's', ' ', 'G', 'a', 'n', 'd', 'o', 'l', 'f', 'i', 'n', 'i', \"'\", 'u', \"'\", 'T', 'o', 'm', 'm', 'y', ' ', 'L', 'e', 'e', ' ', 'J', 'o', 'n', 'e', 's', \"'\", ',', ' ', 'u', \"'\", 'B', 'a', 'r', 'r', 'y', ' ', 'P', 'e', 'p', 'p', 'e', 'r', \"'\", ',', ' ', 'u', \"'\", 'D', 'w', 'i', 'g', 'h', 't', ' ', 'Y', 'o', 'a', 'k', 'a', 'm', \"'\", 'u', \"'\", 'B', 'r', 'a', 'd', ' ', 'P', 'i', 't', 't', \"'\", ',', ' ', 'u', \"'\", 'C', 'a', 't', 'e', ' ', 'B', 'l', 'a', 'n', 'c', 'h', 'e', 't', 't', \"'\", ',', ' ', 'u', \"'\", 'G', 'a', 'e', 'l', ' ', 'G', 'a', 'r', 'c', '\\\\', 'x', 'e', 'd', 'a', ' ', 'B', 'e', 'r', 'n', 'a', 'l', \"'\", 'u', \"'\", 'J', 'o', 'n', ' ', 'F', 'i', 'n', 'c', 'h', \"'\", ',', ' ', 'u', \"'\", 'B', 'a', 'r', 'r', 'y', ' ', 'F', 'o', 's', 't', 'e', 'r', \"'\", ',', ' ', 'u', \"'\", 'A', 'l', 'e', 'c', ' ', 'M', 'c', 'C', 'o', 'w', 'e', 'n', \"'\", 'u', \"'\", 'M', 'e', 'l', 'a', 'n', 'i', 'e', ' ', 'L', 'y', 'n', 's', 'k', 'e', 'y', \"'\", ',', ' ', 'u', \"'\", 'K', 'a', 't', 'e', ' ', 'W', 'i', 'n', 's', 'l', 'e', 't', \"'\", ',', ' ', 'u', \"'\", 'S', 'a', 'r', 'a', 'h', ' ', 'P', 'e', 'i', 'r', 's', 'e', \"'\", 'u', \"'\", 'J', 'o', 'h', 'n', 'n', 'y', ' ', 'D', 'e', 'p', 'p', \"'\", ',', ' ', 'u', \"'\", 'H', 'e', 'l', 'e', 'n', 'a', ' ', 'B', 'o', 'n', 'h', 'a', 'm', ' ', 'C', 'a', 'r', 't', 'e', 'r', \"'\", ',', ' ', 'u', \"'\", 'A', 'l', 'a', 'n', ' ', 'R', 'i', 'c', 'k', 'm', 'a', 'n', \"'\", 'u', \"'\", 'G', 'a', 'r', 'y', ' ', 'O', 'l', 'd', 'm', 'a', 'n', \"'\", ',', ' ', 'u', \"'\", 'W', 'i', 'n', 'o', 'n', 'a', ' ', 'R', 'y', 'd', 'e', 'r', \"'\", ',', ' ', 'u', \"'\", 'A', 'n', 't', 'h', 'o', 'n', 'y', ' ', 'H', 'o', 'p', 'k', 'i', 'n', 's', \"'\", 'u', \"'\", 'J', 'o', 's', 'e', 'p', 'h', ' ', 'G', 'o', 'r', 'd', 'o', 'n', '-', 'L', 'e', 'v', 'i', 't', 't', \"'\", ',', ' ', 'u', \"'\", 'B', 'r', 'u', 'c', 'e', ' ', 'W', 'i', 'l', 'l', 'i', 's', \"'\", ',', ' ', 'u', \"'\", 'E', 'm', 'i', 'l', 'y', ' ', 'B', 'l', 'u', 'n', 't', \"'\", 'u', \"'\", 'R', 'a', 'y', ' ', 'W', 'i', 'n', 's', 't', 'o', 'n', 'e', \"'\", ',', ' ', 'u', \"'\", 'G', 'u', 'y', ' ', 'P', 'e', 'a', 'r', 'c', 'e', \"'\", ',', ' ', 'u', \"'\", 'E', 'm', 'i', 'l', 'y', ' ', 'W', 'a', 't', 's', 'o', 'n', \"'\", 'u', \"'\", 'S', 't', 'e', 'v', 'e', ' ', 'M', 'c', 'Q', 'u', 'e', 'e', 'n', \"'\", ',', ' ', 'u', \"'\", 'J', 'a', 'c', 'q', 'u', 'e', 'l', 'i', 'n', 'e', ' ', 'B', 'i', 's', 's', 'e', 't', \"'\", ',', ' ', 'u', \"'\", 'R', 'o', 'b', 'e', 'r', 't', ' ', 'V', 'a', 'u', 'g', 'h', 'n', \"'\", 'u', \"'\", 'D', 'a', 'n', 'i', 'e', 'l', ' ', 'R', 'a', 'd', 'c', 'l', 'i', 'f', 'f', 'e', \"'\", ',', ' ', 'u', \"'\", 'R', 'u', 'p', 'e', 'r', 't', ' ', 'G', 'r', 'i', 'n', 't', \"'\", ',', ' ', 'u', \"'\", 'R', 'i', 'c', 'h', 'a', 'r', 'd', ' ', 'H', 'a', 'r', 'r', 'i', 's', \"'\", 'u', \"'\", 'T', 'o', 'n', 'y', ' ', 'C', 'h', 'i', 'u', ' ', 'W', 'a', 'i', ' ', 'L', 'e', 'u', 'n', 'g', \"'\", ',', ' ', 'u', \"'\", 'Z', 'i', 'y', 'i', ' ', 'Z', 'h', 'a', 'n', 'g', \"'\", ',', ' ', 'u', \"'\", 'F', 'a', 'y', 'e', ' ', 'W', 'o', 'n', 'g', \"'\", 'u', \"'\", 'F', 'e', 'l', 'i', 'c', 'i', 't', 'y', ' ', 'H', 'u', 'f', 'f', 'm', 'a', 'n', \"'\", ',', ' ', 'u', \"'\", 'K', 'e', 'v', 'i', 'n', ' ', 'Z', 'e', 'g', 'e', 'r', 's', \"'\", ',', ' ', 'u', \"'\", 'F', 'i', 'o', 'n', 'n', 'u', 'l', 'a', ' ', 'F', 'l', 'a', 'n', 'a', 'g', 'a', 'n', \"'\", 'u', \"'\", 'H', 'a', 'r', 'v', 'e', 'y', ' ', 'K', 'e', 'i', 't', 'e', 'l', \"'\", ',', ' ', 'u', \"'\", 'W', 'i', 'l', 'l', 'i', 'a', 'm', ' ', 'H', 'u', 'r', 't', \"'\", ',', ' ', 'u', \"'\", 'G', 'i', 'a', 'n', 'c', 'a', 'r', 'l', 'o', ' ', 'E', 's', 'p', 'o', 's', 'i', 't', 'o', \"'\", 'u', \"'\", 'J', 'e', 's', 's', 'i', 'c', 'a', ' ', 'H', 'a', 'r', 'p', 'e', 'r', \"'\", ',', ' ', 'u', \"'\", 'S', 't', 'e', 'f', 'a', 'n', 'i', 'a', ' ', 'C', 'a', 's', 'i', 'n', 'i', \"'\", ',', ' ', 'u', \"'\", 'F', 'l', 'a', 'v', 'i', 'o', ' ', 'B', 'u', 'c', 'c', 'i', \"'\", 'u', \"'\", 'R', 'o', 'b', 'e', 'r', 't', ' ', 'D', 'o', 'w', 'n', 'e', 'y', ' ', 'J', 'r', '.', \"'\", ',', ' ', 'u', \"'\", 'R', 'o', 'b', 'e', 'r', 't', ' ', 'D', 'u', 'v', 'a', 'l', 'l', \"'\", ',', ' ', 'u', \"'\", 'V', 'e', 'r', 'a', ' ', 'F', 'a', 'r', 'm', 'i', 'g', 'a', \"'\", 'u', \"'\", 'G', 'a', 'e', 'l', ' ', 'G', 'a', 'r', 'c', '\\\\', 'x', 'e', 'd', 'a', ' ', 'B', 'e', 'r', 'n', 'a', 'l', \"'\", ',', ' ', 'u', \"'\", 'F', 'e', 'l', 'e', ' ', 'M', 'a', 'r', 't', '\\\\', 'x', 'e', 'd', 'n', 'e', 'z', \"'\", ',', ' ', 'u', \"'\", 'J', 'a', 'v', 'i', 'e', 'r', ' ', 'C', '\\\\', 'x', 'e', '1', 'm', 'a', 'r', 'a', \"'\", 'u', \"'\", 'G', 'e', 'o', 'r', 'g', 'e', ' ', 'C', 'l', 'o', 'o', 'n', 'e', 'y', \"'\", ',', ' ', 'u', \"'\", 'V', 'e', 'r', 'a', ' ', 'F', 'a', 'r', 'm', 'i', 'g', 'a', \"'\", ',', ' ', 'u', \"'\", 'A', 'n', 'n', 'a', ' ', 'K', 'e', 'n', 'd', 'r', 'i', 'c', 'k', \"'\", 'u', \"'\", 'K', 'e', 'i', 'r', 'a', ' ', 'K', 'n', 'i', 'g', 'h', 't', 'l', 'e', 'y', \"'\", ',', ' ', 'u', \"'\", 'M', 'a', 'r', 'k', ' ', 'R', 'u', 'f', 'f', 'a', 'l', 'o', \"'\", ',', ' ', 'u', \"'\", 'A', 'd', 'a', 'm', ' ', 'L', 'e', 'v', 'i', 'n', 'e', \"'\", 'u', \"'\", 'P', 'a', 'u', 'l', ' ', 'W', 'a', 'l', 'k', 'e', 'r', \"'\", ',', ' ', 'u', \"'\", 'C', 'a', 'm', 'e', 'r', 'o', 'n', ' ', 'B', 'r', 'i', 'g', 'h', 't', \"'\", ',', ' ', 'u', \"'\", 'C', 'h', 'a', 'z', 'z', ' ', 'P', 'a', 'l', 'm', 'i', 'n', 't', 'e', 'r', 'i', \"'\", 'u', \"'\", 'S', 't', 'e', 'v', 'e', ' ', 'B', 'u', 's', 'c', 'e', 'm', 'i', \"'\", ',', ' ', 'u', \"'\", 'T', 'h', 'o', 'r', 'a', ' ', 'B', 'i', 'r', 'c', 'h', \"'\", ',', ' ', 'u', \"'\", 'S', 'c', 'a', 'r', 'l', 'e', 't', 't', ' ', 'J', 'o', 'h', 'a', 'n', 's', 's', 'o', 'n', \"'\", 'u', \"'\", 'H', 'a', 'r', 'r', 'i', 's', 'o', 'n', ' ', 'F', 'o', 'r', 'd', \"'\", ',', ' ', 'u', \"'\", 'K', 'e', 'l', 'l', 'y', ' ', 'M', 'c', 'G', 'i', 'l', 'l', 'i', 's', \"'\", ',', ' ', 'u', \"'\", 'L', 'u', 'k', 'a', 's', ' ', 'H', 'a', 'a', 's', \"'\", 'u', \"'\", 'E', 'd', 'd', 'i', 'e', ' ', 'M', 'u', 'r', 'p', 'h', 'y', \"'\", ',', ' ', 'u', \"'\", 'D', 'a', 'n', ' ', 'A', 'y', 'k', 'r', 'o', 'y', 'd', \"'\", ',', ' ', 'u', \"'\", 'R', 'a', 'l', 'p', 'h', ' ', 'B', 'e', 'l', 'l', 'a', 'm', 'y', \"'\", 'u', \"'\", 'M', 'a', 't', 't', 'h', 'e', 'w', ' ', 'M', 'c', 'C', 'o', 'n', 'a', 'u', 'g', 'h', 'e', 'y', \"'\", ',', ' ', 'u', \"'\", 'T', 'y', 'e', ' ', 'S', 'h', 'e', 'r', 'i', 'd', 'a', 'n', \"'\", ',', ' ', 'u', \"'\", 'J', 'a', 'c', 'o', 'b', ' ', 'L', 'o', 'f', 'l', 'a', 'n', 'd', \"'\", 'u', \"'\", 'E', 'v', 'a', 'n', ' ', 'R', 'a', 'c', 'h', 'e', 'l', ' ', 'W', 'o', 'o', 'd', \"'\", ',', ' ', 'u', \"'\", 'J', 'i', 'm', ' ', 'S', 't', 'u', 'r', 'g', 'e', 's', 's', \"'\", ',', ' ', 'u', \"'\", 'J', 'o', 'e', ' ', 'A', 'n', 'd', 'e', 'r', 's', 'o', 'n', \"'\", 'u', \"'\", 'L', 'i', 'a', 'm', ' ', 'N', 'e', 'e', 's', 'o', 'n', \"'\", ',', ' ', 'u', \"'\", 'G', 'e', 'o', 'f', 'f', 'r', 'e', 'y', ' ', 'R', 'u', 's', 'h', \"'\", ',', ' ', 'u', \"'\", 'U', 'm', 'a', ' ', 'T', 'h', 'u', 'r', 'm', 'a', 'n', \"'\", 'u', \"'\", 'C', 'a', 't', 'e', ' ', 'B', 'l', 'a', 'n', 'c', 'h', 'e', 't', 't', \"'\", ',', ' ', 'u', \"'\", 'J', 'u', 'd', 'i', ' ', 'D', 'e', 'n', 'c', 'h', \"'\", ',', ' ', 'u', \"'\", 'A', 'n', 'd', 'r', 'e', 'w', ' ', 'S', 'i', 'm', 'p', 's', 'o', 'n', \"'\", 'u', \"'\", 'O', 's', 'c', 'a', 'r', ' ', 'I', 's', 'a', 'a', 'c', \"'\", ',', ' ', 'u', \"'\", 'C', 'a', 'r', 'e', 'y', ' ', 'M', 'u', 'l', 'l', 'i', 'g', 'a', 'n', \"'\", ',', ' ', 'u', \"'\", 'J', 'o', 'h', 'n', ' ', 'G', 'o', 'o', 'd', 'm', 'a', 'n', \"'\", 'u', \"'\", 'J', 'o', 's', 'e', 'p', 'h', ' ', 'G', 'o', 'r', 'd', 'o', 'n', '-', 'L', 'e', 'v', 'i', 't', 't', \"'\", ',', ' ', 'u', \"'\", 'L', 'u', 'k', 'a', 's', ' ', 'H', 'a', 'a', 's', \"'\", ',', ' ', 'u', \"'\", 'E', 'm', 'i', 'l', 'i', 'e', ' ', 'd', 'e', ' ', 'R', 'a', 'v', 'i', 'n', \"'\", 'u', '\"', 'B', 'r', 'i', 'a', 'n', ' ', 'O', \"'\", 'H', 'a', 'l', 'l', 'o', 'r', 'a', 'n', '\"', ',', ' ', 'u', \"'\", 'J', 'e', 'f', 'f', ' ', 'A', 'n', 'd', 'e', 'r', 's', 'o', 'n', \"'\", ',', ' ', 'u', \"'\", 'R', 'o', 's', 'a', 'r', 'i', 'o', ' ', 'D', 'a', 'w', 's', 'o', 'n', \"'\", 'u', \"'\", 'J', 'o', 'h', 'n', ' ', 'C', 'u', 's', 'a', 'c', 'k', \"'\", ',', ' ', 'u', \"'\", 'I', 'o', 'n', 'e', ' ', 'S', 'k', 'y', 'e', \"'\", ',', ' ', 'u', \"'\", 'J', 'o', 'h', 'n', ' ', 'M', 'a', 'h', 'o', 'n', 'e', 'y', \"'\", 'u', \"'\", 'J', 'i', 'm', ' ', 'C', 'a', 'r', 'r', 'e', 'y', \"'\", ',', ' ', 'u', \"'\", 'D', 'a', 'n', 'n', 'y', ' ', 'D', 'e', 'V', 'i', 't', 'o', \"'\", ',', ' ', 'u', \"'\", 'G', 'e', 'r', 'r', 'y', ' ', 'B', 'e', 'c', 'k', 'e', 'r', \"'\", 'u', \"'\", 'R', 'o', 'b', 'e', 'r', 't', ' ', 'D', 'e', ' ', 'N', 'i', 'r', 'o', \"'\", ',', ' ', 'u', \"'\", 'H', 'a', 'r', 'v', 'e', 'y', ' ', 'K', 'e', 'i', 't', 'e', 'l', \"'\", ',', ' ', 'u', \"'\", 'D', 'a', 'v', 'i', 'd', ' ', 'P', 'r', 'o', 'v', 'a', 'l', \"'\", 'u', \"'\", 'D', 'a', 'n', 'i', 'e', 'l', ' ', 'R', 'a', 'd', 'c', 'l', 'i', 'f', 'f', 'e', \"'\", ',', ' ', 'u', \"'\", 'E', 'm', 'm', 'a', ' ', 'W', 'a', 't', 's', 'o', 'n', \"'\", ',', ' ', 'u', \"'\", 'R', 'u', 'p', 'e', 'r', 't', ' ', 'G', 'r', 'i', 'n', 't', \"'\", 'u', \"'\", 'A', 'l', 'e', 'c', ' ', 'B', 'a', 'l', 'd', 'w', 'i', 'n', \"'\", ',', ' ', 'u', \"'\", 'G', 'e', 'e', 'n', 'a', ' ', 'D', 'a', 'v', 'i', 's', \"'\", ',', ' ', 'u', \"'\", 'M', 'i', 'c', 'h', 'a', 'e', 'l', ' ', 'K', 'e', 'a', 't', 'o', 'n', \"'\", 'u', \"'\", 'S', 't', 'e', 'v', 'e', ' ', 'C', 'a', 'r', 'e', 'l', 'l', \"'\", ',', ' ', 'u', \"'\", 'R', 'y', 'a', 'n', ' ', 'G', 'o', 's', 'l', 'i', 'n', 'g', \"'\", ',', ' ', 'u', \"'\", 'J', 'u', 'l', 'i', 'a', 'n', 'n', 'e', ' ', 'M', 'o', 'o', 'r', 'e', \"'\", 'u', \"'\", 'N', 'i', 'g', 'e', 'l', ' ', 'T', 'e', 'r', 'r', 'y', \"'\", ',', ' ', 'u', \"'\", 'H', 'e', 'l', 'e', 'n', ' ', 'M', 'i', 'r', 'r', 'e', 'n', \"'\", ',', ' ', 'u', \"'\", 'N', 'i', 'c', 'h', 'o', 'l', 'a', 's', ' ', 'C', 'l', 'a', 'y', \"'\", 'u', \"'\", 'J', 'o', 'h', 'n', ' ', 'W', 'a', 'y', 'n', 'e', \"'\", ',', ' ', 'u', \"'\", 'K', 'i', 'm', ' ', 'D', 'a', 'r', 'b', 'y', \"'\", ',', ' ', 'u', \"'\", 'G', 'l', 'e', 'n', ' ', 'C', 'a', 'm', 'p', 'b', 'e', 'l', 'l', \"'\", 'u', \"'\", 'D', 'a', 'v', 'i', 'd', ' ', 'B', 'o', 'w', 'i', 'e', \"'\", ',', ' ', 'u', \"'\", 'J', 'e', 'n', 'n', 'i', 'f', 'e', 'r', ' ', 'C', 'o', 'n', 'n', 'e', 'l', 'l', 'y', \"'\", ',', ' ', 'u', \"'\", 'T', 'o', 'b', 'y', ' ', 'F', 'r', 'o', 'u', 'd', \"'\", 'u', \"'\", 'K', 'a', 't', 'h', 'r', 'y', 'n', ' ', 'B', 'e', 'a', 'u', 'm', 'o', 'n', 't', \"'\", ',', ' ', 'u', \"'\", 'E', 'd', ' ', 'W', 'y', 'n', 'n', \"'\", ',', ' ', 'u', \"'\", 'R', 'i', 'c', 'h', 'a', 'r', 'd', ' ', 'H', 'a', 'y', 'd', 'n', \"'\", 'u', \"'\", 'E', 't', 'h', 'a', 'n', ' ', 'H', 'a', 'w', 'k', 'e', \"'\", ',', ' ', 'u', \"'\", 'S', 'a', 'r', 'a', 'h', ' ', 'S', 'n', 'o', 'o', 'k', \"'\", ',', ' ', 'u', \"'\", 'N', 'o', 'a', 'h', ' ', 'T', 'a', 'y', 'l', 'o', 'r', \"'\", 'u', \"'\", 'K', 'e', 'n', 'n', 'e', 't', 'h', ' ', 'B', 'r', 'a', 'n', 'a', 'g', 'h', \"'\", ',', ' ', 'u', \"'\", 'E', 'm', 'm', 'a', ' ', 'T', 'h', 'o', 'm', 'p', 's', 'o', 'n', \"'\", ',', ' ', 'u', \"'\", 'K', 'e', 'a', 'n', 'u', ' ', 'R', 'e', 'e', 'v', 'e', 's', \"'\", 'u', \"'\", 'S', 'e', 'a', 'n', ' ', 'C', 'o', 'n', 'n', 'e', 'r', 'y', \"'\", ',', ' ', 'u', '\"', 'R', 'y', 'a', 'n', ' ', 'O', \"'\", 'N', 'e', 'a', 'l', '\"', ',', ' ', 'u', \"'\", 'M', 'i', 'c', 'h', 'a', 'e', 'l', ' ', 'C', 'a', 'i', 'n', 'e', \"'\", 'u', \"'\", 'N', 'i', 'c', 'o', 'l', 'a', 's', ' ', 'C', 'a', 'g', 'e', \"'\", ',', ' ', 'u', \"'\", 'H', 'o', 'l', 'l', 'y', ' ', 'H', 'u', 'n', 't', 'e', 'r', \"'\", ',', ' ', 'u', \"'\", 'T', 'r', 'e', 'y', ' ', 'W', 'i', 'l', 's', 'o', 'n', \"'\", 'u', \"'\", 'J', 'a', 'c', 'k', ' ', 'N', 'i', 'c', 'h', 'o', 'l', 's', 'o', 'n', \"'\", ',', ' ', 'u', \"'\", 'M', 'o', 'r', 'g', 'a', 'n', ' ', 'F', 'r', 'e', 'e', 'm', 'a', 'n', \"'\", ',', ' ', 'u', \"'\", 'S', 'e', 'a', 'n', ' ', 'H', 'a', 'y', 'e', 's', \"'\", 'u', \"'\", 'S', 'h', 'i', 'r', 'l', 'e', 'y', ' ', 'M', 'a', 'c', 'L', 'a', 'i', 'n', 'e', \"'\", ',', ' ', 'u', \"'\", 'D', 'e', 'b', 'r', 'a', ' ', 'W', 'i', 'n', 'g', 'e', 'r', \"'\", ',', ' ', 'u', \"'\", 'J', 'a', 'c', 'k', ' ', 'N', 'i', 'c', 'h', 'o', 'l', 's', 'o', 'n', \"'\", 'u', \"'\", 'M', 'i', 'c', 'h', 'a', 'e', 'l', ' ', 'S', 'h', 'a', 'n', 'n', 'o', 'n', \"'\", ',', ' ', 'u', \"'\", 'J', 'e', 's', 's', 'i', 'c', 'a', ' ', 'C', 'h', 'a', 's', 't', 'a', 'i', 'n', \"'\", ',', ' ', 'u', \"'\", 'S', 'h', 'e', 'a', ' ', 'W', 'h', 'i', 'g', 'h', 'a', 'm', \"'\", 'u', \"'\", 'J', 'u', 'l', 'i', 'a', 'n', 'n', 'e', ' ', 'M', 'o', 'o', 'r', 'e', \"'\", ',', ' ', 'u', \"'\", 'D', 'e', 'n', 'n', 'i', 's', ' ', 'Q', 'u', 'a', 'i', 'd', \"'\", ',', ' ', 'u', \"'\", 'D', 'e', 'n', 'n', 'i', 's', ' ', 'H', 'a', 'y', 's', 'b', 'e', 'r', 't', \"'\", 'u', \"'\", 'J', 'a', 'c', 'k', ' ', 'N', 'a', 'n', 'c', 'e', \"'\", ',', ' ', 'u', \"'\", 'C', 'h', 'a', 'r', 'l', 'o', 't', 't', 'e', ' ', 'S', 't', 'e', 'w', 'a', 'r', 't', \"'\", ',', ' ', 'u', \"'\", 'A', 'l', 'l', 'e', 'n', ' ', 'J', 'o', 's', 'e', 'p', 'h', \"'\", 'u', \"'\", 'G', 'r', 'e', 't', 'a', ' ', 'G', 'e', 'r', 'w', 'i', 'g', \"'\", ',', ' ', 'u', \"'\", 'M', 'i', 'c', 'k', 'e', 'y', ' ', 'S', 'u', 'm', 'n', 'e', 'r', \"'\", ',', ' ', 'u', \"'\", 'A', 'd', 'a', 'm', ' ', 'D', 'r', 'i', 'v', 'e', 'r', \"'\", 'u', \"'\", 'M', 'a', 'c', 'a', 'u', 'l', 'a', 'y', ' ', 'C', 'u', 'l', 'k', 'i', 'n', \"'\", ',', ' ', 'u', \"'\", 'J', 'o', 'e', ' ', 'P', 'e', 's', 'c', 'i', \"'\", ',', ' ', 'u', \"'\", 'D', 'a', 'n', 'i', 'e', 'l', ' ', 'S', 't', 'e', 'r', 'n', \"'\", 'u', \"'\", 'J', 'e', 'n', 'n', 'i', 'f', 'e', 'r', ' ', 'T', 'i', 'l', 'l', 'y', \"'\", ',', ' ', 'u', \"'\", 'G', 'i', 'n', 'a', ' ', 'G', 'e', 'r', 's', 'h', 'o', 'n', \"'\", ',', ' ', 'u', \"'\", 'J', 'o', 'e', ' ', 'P', 'a', 'n', 't', 'o', 'l', 'i', 'a', 'n', 'o', \"'\", 'u', \"'\", 'J', 'o', 'h', 'n', 'n', 'y', ' ', 'D', 'e', 'p', 'p', \"'\", ',', ' ', 'u', \"'\", 'C', 'h', 'r', 'i', 's', 't', 'i', 'n', 'a', ' ', 'R', 'i', 'c', 'c', 'i', \"'\", ',', ' ', 'u', \"'\", 'M', 'i', 'r', 'a', 'n', 'd', 'a', ' ', 'R', 'i', 'c', 'h', 'a', 'r', 'd', 's', 'o', 'n', \"'\", 'u', \"'\", 'P', 'h', 'i', 'l', 'i', 'p', ' ', 'S', 'e', 'y', 'm', 'o', 'u', 'r', ' ', 'H', 'o', 'f', 'f', 'm', 'a', 'n', \"'\", ',', ' ', 'u', \"'\", 'B', 'i', 'l', 'l', ' ', 'N', 'i', 'g', 'h', 'y', \"'\", ',', ' ', 'u', \"'\", 'N', 'i', 'c', 'k', ' ', 'F', 'r', 'o', 's', 't', \"'\", 'u', \"'\", 'N', 'o', 'a', 'h', ' ', 'H', 'a', 't', 'h', 'a', 'w', 'a', 'y', \"'\", ',', ' ', 'u', \"'\", 'B', 'a', 'r', 'r', 'e', 't', ' ', 'O', 'l', 'i', 'v', 'e', 'r', \"'\", ',', ' ', 'u', \"'\", 'T', 'a', 'm', 'i', ' ', 'S', 't', 'r', 'o', 'n', 'a', 'c', 'h', \"'\", 'u', \"'\", 'P', 'a', 't', 'r', 'i', 'c', 'k', ' ', 'S', 't', 'e', 'w', 'a', 'r', 't', \"'\", ',', ' ', 'u', \"'\", 'H', 'u', 'g', 'h', ' ', 'J', 'a', 'c', 'k', 'm', 'a', 'n', \"'\", ',', ' ', 'u', \"'\", 'I', 'a', 'n', ' ', 'M', 'c', 'K', 'e', 'l', 'l', 'e', 'n', \"'\", 'u', \"'\", 'J', 'e', 's', 's', 'i', 'c', 'a', ' ', 'C', 'h', 'a', 's', 't', 'a', 'i', 'n', \"'\", ',', ' ', 'u', \"'\", 'J', 'o', 'e', 'l', ' ', 'E', 'd', 'g', 'e', 'r', 't', 'o', 'n', \"'\", ',', ' ', 'u', \"'\", 'C', 'h', 'r', 'i', 's', ' ', 'P', 'r', 'a', 't', 't', \"'\", 'u', \"'\", 'W', 'o', 'o', 'd', 'y', ' ', 'A', 'l', 'l', 'e', 'n', \"'\", ',', ' ', 'u', \"'\", 'D', 'i', 'a', 'n', 'e', ' ', 'K', 'e', 'a', 't', 'o', 'n', \"'\", ',', ' ', 'u', \"'\", 'J', 'e', 'r', 'r', 'y', ' ', 'A', 'd', 'l', 'e', 'r', \"'\", 'u', \"'\", 'C', 'h', 'e', 'v', 'y', ' ', 'C', 'h', 'a', 's', 'e', \"'\", ',', ' ', 'u', '\"', 'B', 'e', 'v', 'e', 'r', 'l', 'y', ' ', 'D', \"'\", 'A', 'n', 'g', 'e', 'l', 'o', '\"', ',', ' ', 'u', \"'\", 'I', 'm', 'o', 'g', 'e', 'n', 'e', ' ', 'C', 'o', 'c', 'a', \"'\", 'u', \"'\", 'C', 'a', 'm', 'e', 'r', 'o', 'n', ' ', 'D', 'i', 'a', 'z', \"'\", ',', ' ', 'u', \"'\", 'A', 'b', 'i', 'g', 'a', 'i', 'l', ' ', 'B', 'r', 'e', 's', 'l', 'i', 'n', \"'\", ',', ' ', 'u', \"'\", 'A', 'l', 'e', 'c', ' ', 'B', 'a', 'l', 'd', 'w', 'i', 'n', \"'\", 'u', \"'\", 'W', 'o', 'o', 'd', 'y', ' ', 'A', 'l', 'l', 'e', 'n', \"'\", ',', ' ', 'u', \"'\", 'J', 'u', 'd', 'y', ' ', 'D', 'a', 'v', 'i', 's', \"'\", ',', ' ', 'u', \"'\", 'J', 'u', 'l', 'i', 'a', ' ', 'L', 'o', 'u', 'i', 's', '-', 'D', 'r', 'e', 'y', 'f', 'u', 's', \"'\", 'u', \"'\", 'S', 't', 'e', 'v', 'e', ' ', 'C', 'a', 'r', 'e', 'l', 'l', \"'\", ',', ' ', 'u', \"'\", 'T', 'o', 'n', 'i', ' ', 'C', 'o', 'l', 'l', 'e', 't', 't', 'e', \"'\", ',', ' ', 'u', \"'\", 'A', 'l', 'l', 'i', 's', 'o', 'n', ' ', 'J', 'a', 'n', 'n', 'e', 'y', \"'\", 'u', \"'\", 'P', 'h', 'i', 'l', 'i', 'p', ' ', 'S', 'e', 'y', 'm', 'o', 'u', 'r', ' ', 'H', 'o', 'f', 'f', 'm', 'a', 'n', \"'\", ',', ' ', 'u', \"'\", 'C', 'l', 'i', 'f', 't', 'o', 'n', ' ', 'C', 'o', 'l', 'l', 'i', 'n', 's', ' ', 'J', 'r', '.', \"'\", ',', ' ', 'u', \"'\", 'C', 'a', 't', 'h', 'e', 'r', 'i', 'n', 'e', ' ', 'K', 'e', 'e', 'n', 'e', 'r', \"'\", 'u', \"'\", 'M', 'o', 'r', 'g', 'a', 'n', ' ', 'F', 'r', 'e', 'e', 'm', 'a', 'n', \"'\", ',', ' ', 'u', \"'\", 'J', 'e', 's', 's', 'i', 'c', 'a', ' ', 'T', 'a', 'n', 'd', 'y', \"'\", ',', ' ', 'u', \"'\", 'D', 'a', 'n', ' ', 'A', 'y', 'k', 'r', 'o', 'y', 'd', \"'\", 'u', \"'\", 'A', 'n', 'n', 'e', ' ', 'P', 'a', 'r', 'i', 'l', 'l', 'a', 'u', 'd', \"'\", ',', ' ', 'u', \"'\", 'M', 'a', 'r', 'c', ' ', 'D', 'u', 'r', 'e', 't', \"'\", ',', ' ', 'u', \"'\", 'P', 'a', 't', 'r', 'i', 'c', 'k', ' ', 'F', 'o', 'n', 't', 'a', 'n', 'a', \"'\", 'u', \"'\", 'D', 'a', 'n', 'i', 'e', 'l', ' ', 'D', 'a', 'y', '-', 'L', 'e', 'w', 'i', 's', \"'\", ',', ' ', 'u', \"'\", 'S', 'a', 'l', 'l', 'y', ' ', 'F', 'i', 'e', 'l', 'd', \"'\", ',', ' ', 'u', \"'\", 'D', 'a', 'v', 'i', 'd', ' ', 'S', 't', 'r', 'a', 't', 'h', 'a', 'i', 'r', 'n', \"'\", 'u', \"'\", 'B', 'r', 'a', 'd', 'l', 'e', 'y', ' ', 'C', 'o', 'o', 'p', 'e', 'r', \"'\", ',', ' ', 'u', \"'\", 'A', 'n', 'n', 'a', ' ', 'F', 'r', 'i', 'e', 'l', \"'\", ',', ' ', 'u', \"'\", 'A', 'b', 'b', 'i', 'e', ' ', 'C', 'o', 'r', 'n', 'i', 's', 'h', \"'\", 'u', \"'\", 'D', 'a', 'n', ' ', 'C', 'a', 's', 't', 'e', 'l', 'l', 'a', 'n', 'e', 't', 'a', \"'\", ',', ' ', 'u', \"'\", 'J', 'u', 'l', 'i', 'e', ' ', 'K', 'a', 'v', 'n', 'e', 'r', \"'\", ',', ' ', 'u', \"'\", 'N', 'a', 'n', 'c', 'y', ' ', 'C', 'a', 'r', 't', 'w', 'r', 'i', 'g', 'h', 't', \"'\", 'u', \"'\", 'S', 'e', 'a', 'n', ' ', 'C', 'o', 'n', 'n', 'e', 'r', 'y', \"'\", ',', ' ', 'u', \"'\", 'N', 'i', 'c', 'o', 'l', 'a', 's', ' ', 'C', 'a', 'g', 'e', \"'\", ',', ' ', 'u', \"'\", 'E', 'd', ' ', 'H', 'a', 'r', 'r', 'i', 's', \"'\", 'u', \"'\", 'R', 'a', 'l', 'p', 'h', ' ', 'F', 'i', 'e', 'n', 'n', 'e', 's', \"'\", ',', ' ', 'u', \"'\", 'J', 'u', 'l', 'i', 'e', 't', 't', 'e', ' ', 'B', 'i', 'n', 'o', 'c', 'h', 'e', \"'\", ',', ' ', 'u', \"'\", 'W', 'i', 'l', 'l', 'e', 'm', ' ', 'D', 'a', 'f', 'o', 'e', \"'\", 'u', \"'\", 'G', 'e', 'r', 'a', 'r', 'd', ' ', 'B', 'u', 't', 'l', 'e', 'r', \"'\", ',', ' ', 'u', \"'\", 'J', 'a', 'm', 'i', 'e', ' ', 'F', 'o', 'x', 'x', \"'\", ',', ' ', 'u', \"'\", 'L', 'e', 's', 'l', 'i', 'e', ' ', 'B', 'i', 'b', 'b', \"'\", 'u', \"'\", 'M', 'i', 'c', 'h', 'a', 'e', 'l', ' ', 'D', 'o', 'u', 'g', 'l', 'a', 's', \"'\", ',', ' ', 'u', \"'\", 'T', 'o', 'b', 'e', 'y', ' ', 'M', 'a', 'g', 'u', 'i', 'r', 'e', \"'\", ',', ' ', 'u', \"'\", 'F', 'r', 'a', 'n', 'c', 'e', 's', ' ', 'M', 'c', 'D', 'o', 'r', 'm', 'a', 'n', 'd', \"'\", 'u', \"'\", 'M', 'a', 't', 't', 'h', 'e', 'w', ' ', 'M', 'a', 'c', 'f', 'a', 'd', 'y', 'e', 'n', \"'\", ',', ' ', 'u', \"'\", 'P', 'e', 't', 'e', 'r', ' ', 'D', 'i', 'n', 'k', 'l', 'a', 'g', 'e', \"'\", ',', ' ', 'u', \"'\", 'E', 'w', 'e', 'n', ' ', 'B', 'r', 'e', 'm', 'n', 'e', 'r', \"'\", 'u', \"'\", 'R', 'y', 'a', 'n', ' ', 'G', 'o', 's', 'l', 'i', 'n', 'g', \"'\", ',', ' ', 'u', \"'\", 'M', 'i', 'c', 'h', 'e', 'l', 'l', 'e', ' ', 'W', 'i', 'l', 'l', 'i', 'a', 'm', 's', \"'\", ',', ' ', 'u', \"'\", 'J', 'o', 'h', 'n', ' ', 'D', 'o', 'm', 'a', 'n', \"'\", 'u', \"'\", 'T', 'o', 'b', 'e', 'y', ' ', 'M', 'a', 'g', 'u', 'i', 'r', 'e', \"'\", ',', ' ', 'u', \"'\", 'C', 'h', 'a', 'r', 'l', 'i', 'z', 'e', ' ', 'T', 'h', 'e', 'r', 'o', 'n', \"'\", ',', ' ', 'u', \"'\", 'M', 'i', 'c', 'h', 'a', 'e', 'l', ' ', 'C', 'a', 'i', 'n', 'e', \"'\", 'u', \"'\", 'D', 'u', 's', 't', 'i', 'n', ' ', 'H', 'o', 'f', 'f', 'm', 'a', 'n', \"'\", ',', ' ', 'u', \"'\", 'J', 'e', 's', 's', 'i', 'c', 'a', ' ', 'L', 'a', 'n', 'g', 'e', \"'\", ',', ' ', 'u', \"'\", 'T', 'e', 'r', 'i', ' ', 'G', 'a', 'r', 'r', \"'\", 'u', \"'\", 'M', 'i', 'c', 'h', 'a', 'e', 'l', ' ', 'J', '.', ' ', 'F', 'o', 'x', \"'\", ',', ' ', 'u', \"'\", 'C', 'h', 'r', 'i', 's', 't', 'o', 'p', 'h', 'e', 'r', ' ', 'L', 'l', 'o', 'y', 'd', \"'\", ',', ' ', 'u', \"'\", 'M', 'a', 'r', 'y', ' ', 'S', 't', 'e', 'e', 'n', 'b', 'u', 'r', 'g', 'e', 'n', \"'\", 'u', \"'\", 'R', 'u', 's', 's', 'e', 'l', 'l', ' ', 'C', 'r', 'o', 'w', 'e', \"'\", ',', ' ', 'u', \"'\", 'P', 'a', 'u', 'l', ' ', 'B', 'e', 't', 't', 'a', 'n', 'y', \"'\", ',', ' ', 'u', \"'\", 'B', 'i', 'l', 'l', 'y', ' ', 'B', 'o', 'y', 'd', \"'\", 'u', \"'\", 'J', 'o', 'B', 'e', 't', 'h', ' ', 'W', 'i', 'l', 'l', 'i', 'a', 'm', 's', \"'\", ',', ' ', 'u', '\"', 'H', 'e', 'a', 't', 'h', 'e', 'r', ' ', 'O', \"'\", 'R', 'o', 'u', 'r', 'k', 'e', '\"', ',', ' ', 'u', \"'\", 'C', 'r', 'a', 'i', 'g', ' ', 'T', '.', ' ', 'N', 'e', 'l', 's', 'o', 'n', \"'\", 'u', \"'\", 'C', 'h', 'a', 'r', 'l', 'i', 'e', ' ', 'S', 'h', 'e', 'e', 'n', \"'\", ',', ' ', 'u', \"'\", 'M', 'i', 'c', 'h', 'a', 'e', 'l', ' ', 'D', 'o', 'u', 'g', 'l', 'a', 's', \"'\", ',', ' ', 'u', \"'\", 'T', 'a', 'm', 'a', 'r', 'a', ' ', 'T', 'u', 'n', 'i', 'e', \"'\"]\n"
     ]
    }
   ],
   "source": [
    "actorinos = []\n",
    "\n",
    "for rw in movies['actors_list']:\n",
    "    for actor in rw:\n",
    "        if actor == \"[\" or actor == \"]\":\n",
    "            pass\n",
    "        else:\n",
    "            actorinos.append(actor)\n",
    "print(actorinos)"
   ]
  },
  {
   "cell_type": "code",
   "execution_count": 91,
   "metadata": {},
   "outputs": [
    {
     "name": "stdout",
     "output_type": "stream",
     "text": [
      "     star_rating                                            title  \\\n",
      "0            9.3                         The Shawshank Redemption   \n",
      "1            9.2                                    The Godfather   \n",
      "2            9.1                           The Godfather: Part II   \n",
      "3            9.0                                  The Dark Knight   \n",
      "4            8.9                                     Pulp Fiction   \n",
      "..           ...                                              ...   \n",
      "974          7.4                                          Tootsie   \n",
      "975          7.4                      Back to the Future Part III   \n",
      "976          7.4  Master and Commander: The Far Side of the World   \n",
      "977          7.4                                      Poltergeist   \n",
      "978          7.4                                      Wall Street   \n",
      "\n",
      "    content_rating      genre  duration  \\\n",
      "0                R      Crime       142   \n",
      "1                R      Crime       175   \n",
      "2                R      Crime       200   \n",
      "3            PG-13     Action       152   \n",
      "4                R      Crime       154   \n",
      "..             ...        ...       ...   \n",
      "974             PG     Comedy       116   \n",
      "975             PG  Adventure       118   \n",
      "976          PG-13     Action       138   \n",
      "977             PG     Horror       114   \n",
      "978              R      Crime       126   \n",
      "\n",
      "                                           actors_list  counter  \n",
      "0    [u'Tim Robbins', u'Morgan Freeman', u'Bob Gunt...        1  \n",
      "1      [u'Marlon Brando', u'Al Pacino', u'James Caan']        1  \n",
      "2    [u'Al Pacino', u'Robert De Niro', u'Robert Duv...        1  \n",
      "3    [u'Christian Bale', u'Heath Ledger', u'Aaron E...        1  \n",
      "4    [u'John Travolta', u'Uma Thurman', u'Samuel L....        1  \n",
      "..                                                 ...      ...  \n",
      "974  [u'Dustin Hoffman', u'Jessica Lange', u'Teri G...        1  \n",
      "975  [u'Michael J. Fox', u'Christopher Lloyd', u'Ma...        1  \n",
      "976  [u'Russell Crowe', u'Paul Bettany', u'Billy Bo...        1  \n",
      "977  [u'JoBeth Williams', u\"Heather O'Rourke\", u'Cr...        1  \n",
      "978  [u'Charlie Sheen', u'Michael Douglas', u'Tamar...        1  \n",
      "\n",
      "[979 rows x 7 columns]\n"
     ]
    }
   ],
   "source": [
    "# I wanted to find which actor had the most movies on the list\n",
    "# split the actors_list column into separate columns per actor (split on commas)\n",
    "# I was trying to find a way to make the actors more easily querable, so wanted to separate\n",
    "# them out.\n",
    "\n",
    "df2 = pd.DataFrame(movies)\n",
    "\n",
    "df3 = pd.DataFrame(movies['actors_list'].str.split(\",\").values.tolist())\n",
    "\n",
    "print(movies)"
   ]
  },
  {
   "cell_type": "code",
   "execution_count": 92,
   "metadata": {},
   "outputs": [
    {
     "data": {
      "text/html": [
       "<div>\n",
       "<style scoped>\n",
       "    .dataframe tbody tr th:only-of-type {\n",
       "        vertical-align: middle;\n",
       "    }\n",
       "\n",
       "    .dataframe tbody tr th {\n",
       "        vertical-align: top;\n",
       "    }\n",
       "\n",
       "    .dataframe thead th {\n",
       "        text-align: right;\n",
       "    }\n",
       "</style>\n",
       "<table border=\"1\" class=\"dataframe\">\n",
       "  <thead>\n",
       "    <tr style=\"text-align: right;\">\n",
       "      <th></th>\n",
       "      <th>0</th>\n",
       "      <th>1</th>\n",
       "      <th>2</th>\n",
       "      <th>star_rating</th>\n",
       "      <th>title</th>\n",
       "      <th>content_rating</th>\n",
       "      <th>genre</th>\n",
       "      <th>duration</th>\n",
       "      <th>actors_list</th>\n",
       "      <th>counter</th>\n",
       "    </tr>\n",
       "  </thead>\n",
       "  <tbody>\n",
       "    <tr>\n",
       "      <th>0</th>\n",
       "      <td>[u'Tim Robbins'</td>\n",
       "      <td>u'Morgan Freeman'</td>\n",
       "      <td>u'Bob Gunton']</td>\n",
       "      <td>9.3</td>\n",
       "      <td>The Shawshank Redemption</td>\n",
       "      <td>R</td>\n",
       "      <td>Crime</td>\n",
       "      <td>142</td>\n",
       "      <td>[u'Tim Robbins', u'Morgan Freeman', u'Bob Gunt...</td>\n",
       "      <td>1</td>\n",
       "    </tr>\n",
       "    <tr>\n",
       "      <th>1</th>\n",
       "      <td>[u'Marlon Brando'</td>\n",
       "      <td>u'Al Pacino'</td>\n",
       "      <td>u'James Caan']</td>\n",
       "      <td>9.2</td>\n",
       "      <td>The Godfather</td>\n",
       "      <td>R</td>\n",
       "      <td>Crime</td>\n",
       "      <td>175</td>\n",
       "      <td>[u'Marlon Brando', u'Al Pacino', u'James Caan']</td>\n",
       "      <td>1</td>\n",
       "    </tr>\n",
       "    <tr>\n",
       "      <th>2</th>\n",
       "      <td>[u'Al Pacino'</td>\n",
       "      <td>u'Robert De Niro'</td>\n",
       "      <td>u'Robert Duvall']</td>\n",
       "      <td>9.1</td>\n",
       "      <td>The Godfather: Part II</td>\n",
       "      <td>R</td>\n",
       "      <td>Crime</td>\n",
       "      <td>200</td>\n",
       "      <td>[u'Al Pacino', u'Robert De Niro', u'Robert Duv...</td>\n",
       "      <td>1</td>\n",
       "    </tr>\n",
       "    <tr>\n",
       "      <th>3</th>\n",
       "      <td>[u'Christian Bale'</td>\n",
       "      <td>u'Heath Ledger'</td>\n",
       "      <td>u'Aaron Eckhart']</td>\n",
       "      <td>9.0</td>\n",
       "      <td>The Dark Knight</td>\n",
       "      <td>PG-13</td>\n",
       "      <td>Action</td>\n",
       "      <td>152</td>\n",
       "      <td>[u'Christian Bale', u'Heath Ledger', u'Aaron E...</td>\n",
       "      <td>1</td>\n",
       "    </tr>\n",
       "    <tr>\n",
       "      <th>4</th>\n",
       "      <td>[u'John Travolta'</td>\n",
       "      <td>u'Uma Thurman'</td>\n",
       "      <td>u'Samuel L. Jackson']</td>\n",
       "      <td>8.9</td>\n",
       "      <td>Pulp Fiction</td>\n",
       "      <td>R</td>\n",
       "      <td>Crime</td>\n",
       "      <td>154</td>\n",
       "      <td>[u'John Travolta', u'Uma Thurman', u'Samuel L....</td>\n",
       "      <td>1</td>\n",
       "    </tr>\n",
       "    <tr>\n",
       "      <th>...</th>\n",
       "      <td>...</td>\n",
       "      <td>...</td>\n",
       "      <td>...</td>\n",
       "      <td>...</td>\n",
       "      <td>...</td>\n",
       "      <td>...</td>\n",
       "      <td>...</td>\n",
       "      <td>...</td>\n",
       "      <td>...</td>\n",
       "      <td>...</td>\n",
       "    </tr>\n",
       "    <tr>\n",
       "      <th>974</th>\n",
       "      <td>[u'Dustin Hoffman'</td>\n",
       "      <td>u'Jessica Lange'</td>\n",
       "      <td>u'Teri Garr']</td>\n",
       "      <td>7.4</td>\n",
       "      <td>Tootsie</td>\n",
       "      <td>PG</td>\n",
       "      <td>Comedy</td>\n",
       "      <td>116</td>\n",
       "      <td>[u'Dustin Hoffman', u'Jessica Lange', u'Teri G...</td>\n",
       "      <td>1</td>\n",
       "    </tr>\n",
       "    <tr>\n",
       "      <th>975</th>\n",
       "      <td>[u'Michael J. Fox'</td>\n",
       "      <td>u'Christopher Lloyd'</td>\n",
       "      <td>u'Mary Steenburgen']</td>\n",
       "      <td>7.4</td>\n",
       "      <td>Back to the Future Part III</td>\n",
       "      <td>PG</td>\n",
       "      <td>Adventure</td>\n",
       "      <td>118</td>\n",
       "      <td>[u'Michael J. Fox', u'Christopher Lloyd', u'Ma...</td>\n",
       "      <td>1</td>\n",
       "    </tr>\n",
       "    <tr>\n",
       "      <th>976</th>\n",
       "      <td>[u'Russell Crowe'</td>\n",
       "      <td>u'Paul Bettany'</td>\n",
       "      <td>u'Billy Boyd']</td>\n",
       "      <td>7.4</td>\n",
       "      <td>Master and Commander: The Far Side of the World</td>\n",
       "      <td>PG-13</td>\n",
       "      <td>Action</td>\n",
       "      <td>138</td>\n",
       "      <td>[u'Russell Crowe', u'Paul Bettany', u'Billy Bo...</td>\n",
       "      <td>1</td>\n",
       "    </tr>\n",
       "    <tr>\n",
       "      <th>977</th>\n",
       "      <td>[u'JoBeth Williams'</td>\n",
       "      <td>u\"Heather O'Rourke\"</td>\n",
       "      <td>u'Craig T. Nelson']</td>\n",
       "      <td>7.4</td>\n",
       "      <td>Poltergeist</td>\n",
       "      <td>PG</td>\n",
       "      <td>Horror</td>\n",
       "      <td>114</td>\n",
       "      <td>[u'JoBeth Williams', u\"Heather O'Rourke\", u'Cr...</td>\n",
       "      <td>1</td>\n",
       "    </tr>\n",
       "    <tr>\n",
       "      <th>978</th>\n",
       "      <td>[u'Charlie Sheen'</td>\n",
       "      <td>u'Michael Douglas'</td>\n",
       "      <td>u'Tamara Tunie']</td>\n",
       "      <td>7.4</td>\n",
       "      <td>Wall Street</td>\n",
       "      <td>R</td>\n",
       "      <td>Crime</td>\n",
       "      <td>126</td>\n",
       "      <td>[u'Charlie Sheen', u'Michael Douglas', u'Tamar...</td>\n",
       "      <td>1</td>\n",
       "    </tr>\n",
       "  </tbody>\n",
       "</table>\n",
       "<p>979 rows × 10 columns</p>\n",
       "</div>"
      ],
      "text/plain": [
       "                       0                      1                       2  \\\n",
       "0        [u'Tim Robbins'      u'Morgan Freeman'          u'Bob Gunton']   \n",
       "1      [u'Marlon Brando'           u'Al Pacino'          u'James Caan']   \n",
       "2          [u'Al Pacino'      u'Robert De Niro'       u'Robert Duvall']   \n",
       "3     [u'Christian Bale'        u'Heath Ledger'       u'Aaron Eckhart']   \n",
       "4      [u'John Travolta'         u'Uma Thurman'   u'Samuel L. Jackson']   \n",
       "..                   ...                    ...                     ...   \n",
       "974   [u'Dustin Hoffman'       u'Jessica Lange'           u'Teri Garr']   \n",
       "975   [u'Michael J. Fox'   u'Christopher Lloyd'    u'Mary Steenburgen']   \n",
       "976    [u'Russell Crowe'        u'Paul Bettany'          u'Billy Boyd']   \n",
       "977  [u'JoBeth Williams'    u\"Heather O'Rourke\"     u'Craig T. Nelson']   \n",
       "978    [u'Charlie Sheen'     u'Michael Douglas'        u'Tamara Tunie']   \n",
       "\n",
       "     star_rating                                            title  \\\n",
       "0            9.3                         The Shawshank Redemption   \n",
       "1            9.2                                    The Godfather   \n",
       "2            9.1                           The Godfather: Part II   \n",
       "3            9.0                                  The Dark Knight   \n",
       "4            8.9                                     Pulp Fiction   \n",
       "..           ...                                              ...   \n",
       "974          7.4                                          Tootsie   \n",
       "975          7.4                      Back to the Future Part III   \n",
       "976          7.4  Master and Commander: The Far Side of the World   \n",
       "977          7.4                                      Poltergeist   \n",
       "978          7.4                                      Wall Street   \n",
       "\n",
       "    content_rating      genre  duration  \\\n",
       "0                R      Crime       142   \n",
       "1                R      Crime       175   \n",
       "2                R      Crime       200   \n",
       "3            PG-13     Action       152   \n",
       "4                R      Crime       154   \n",
       "..             ...        ...       ...   \n",
       "974             PG     Comedy       116   \n",
       "975             PG  Adventure       118   \n",
       "976          PG-13     Action       138   \n",
       "977             PG     Horror       114   \n",
       "978              R      Crime       126   \n",
       "\n",
       "                                           actors_list  counter  \n",
       "0    [u'Tim Robbins', u'Morgan Freeman', u'Bob Gunt...        1  \n",
       "1      [u'Marlon Brando', u'Al Pacino', u'James Caan']        1  \n",
       "2    [u'Al Pacino', u'Robert De Niro', u'Robert Duv...        1  \n",
       "3    [u'Christian Bale', u'Heath Ledger', u'Aaron E...        1  \n",
       "4    [u'John Travolta', u'Uma Thurman', u'Samuel L....        1  \n",
       "..                                                 ...      ...  \n",
       "974  [u'Dustin Hoffman', u'Jessica Lange', u'Teri G...        1  \n",
       "975  [u'Michael J. Fox', u'Christopher Lloyd', u'Ma...        1  \n",
       "976  [u'Russell Crowe', u'Paul Bettany', u'Billy Bo...        1  \n",
       "977  [u'JoBeth Williams', u\"Heather O'Rourke\", u'Cr...        1  \n",
       "978  [u'Charlie Sheen', u'Michael Douglas', u'Tamar...        1  \n",
       "\n",
       "[979 rows x 10 columns]"
      ]
     },
     "execution_count": 92,
     "metadata": {},
     "output_type": "execute_result"
    }
   ],
   "source": [
    "# combined using concat the two data frames together.\n",
    "# I successfully got each actor into a column, but that didn't really help me.\n",
    "\n",
    "frames = [df3, df2]\n",
    "\n",
    "movies_and_actors = pd.concat(frames, axis=1)\n",
    "\n",
    "movies_and_actors\n",
    "\n",
    "#movies_and_actors['0'] = df['0'].str.replace('u','-')\n"
   ]
  },
  {
   "cell_type": "code",
   "execution_count": 93,
   "metadata": {},
   "outputs": [
    {
     "ename": "AttributeError",
     "evalue": "'DataFrame' object has no attribute 'translate'",
     "output_type": "error",
     "traceback": [
      "\u001b[1;31m---------------------------------------------------------------------------\u001b[0m",
      "\u001b[1;31mAttributeError\u001b[0m                            Traceback (most recent call last)",
      "\u001b[1;32m<ipython-input-93-5a89a48d1d42>\u001b[0m in \u001b[0;36m<module>\u001b[1;34m\u001b[0m\n\u001b[0;32m     10\u001b[0m \u001b[1;33m\u001b[0m\u001b[0m\n\u001b[0;32m     11\u001b[0m \u001b[1;33m\u001b[0m\u001b[0m\n\u001b[1;32m---> 12\u001b[1;33m \u001b[0mmovies\u001b[0m\u001b[1;33m.\u001b[0m\u001b[0mreplace\u001b[0m \u001b[1;33m=\u001b[0m \u001b[0mmovies\u001b[0m\u001b[1;33m.\u001b[0m\u001b[0mtranslate\u001b[0m\u001b[1;33m(\u001b[0m\u001b[1;33m{\u001b[0m \u001b[0mord\u001b[0m\u001b[1;33m(\u001b[0m\u001b[1;34m\"[\"\u001b[0m\u001b[1;33m)\u001b[0m\u001b[1;33m:\u001b[0m \u001b[1;32mNone\u001b[0m\u001b[1;33m}\u001b[0m\u001b[1;33m)\u001b[0m\u001b[1;33m\u001b[0m\u001b[1;33m\u001b[0m\u001b[0m\n\u001b[0m",
      "\u001b[1;32m~\\anaconda3\\lib\\site-packages\\pandas\\core\\generic.py\u001b[0m in \u001b[0;36m__getattr__\u001b[1;34m(self, name)\u001b[0m\n\u001b[0;32m   5272\u001b[0m             \u001b[1;32mif\u001b[0m \u001b[0mself\u001b[0m\u001b[1;33m.\u001b[0m\u001b[0m_info_axis\u001b[0m\u001b[1;33m.\u001b[0m\u001b[0m_can_hold_identifiers_and_holds_name\u001b[0m\u001b[1;33m(\u001b[0m\u001b[0mname\u001b[0m\u001b[1;33m)\u001b[0m\u001b[1;33m:\u001b[0m\u001b[1;33m\u001b[0m\u001b[1;33m\u001b[0m\u001b[0m\n\u001b[0;32m   5273\u001b[0m                 \u001b[1;32mreturn\u001b[0m \u001b[0mself\u001b[0m\u001b[1;33m[\u001b[0m\u001b[0mname\u001b[0m\u001b[1;33m]\u001b[0m\u001b[1;33m\u001b[0m\u001b[1;33m\u001b[0m\u001b[0m\n\u001b[1;32m-> 5274\u001b[1;33m             \u001b[1;32mreturn\u001b[0m \u001b[0mobject\u001b[0m\u001b[1;33m.\u001b[0m\u001b[0m__getattribute__\u001b[0m\u001b[1;33m(\u001b[0m\u001b[0mself\u001b[0m\u001b[1;33m,\u001b[0m \u001b[0mname\u001b[0m\u001b[1;33m)\u001b[0m\u001b[1;33m\u001b[0m\u001b[1;33m\u001b[0m\u001b[0m\n\u001b[0m\u001b[0;32m   5275\u001b[0m \u001b[1;33m\u001b[0m\u001b[0m\n\u001b[0;32m   5276\u001b[0m     \u001b[1;32mdef\u001b[0m \u001b[0m__setattr__\u001b[0m\u001b[1;33m(\u001b[0m\u001b[0mself\u001b[0m\u001b[1;33m,\u001b[0m \u001b[0mname\u001b[0m\u001b[1;33m:\u001b[0m \u001b[0mstr\u001b[0m\u001b[1;33m,\u001b[0m \u001b[0mvalue\u001b[0m\u001b[1;33m)\u001b[0m \u001b[1;33m->\u001b[0m \u001b[1;32mNone\u001b[0m\u001b[1;33m:\u001b[0m\u001b[1;33m\u001b[0m\u001b[1;33m\u001b[0m\u001b[0m\n",
      "\u001b[1;31mAttributeError\u001b[0m: 'DataFrame' object has no attribute 'translate'"
     ]
    }
   ],
   "source": [
    "# Trying a few different ways to remove unwanted characters from names (u, [, ']).\n",
    "# Was not successful.\n",
    "\n",
    "#movies['actors_list'].replace(\"Tim\",\"\").replace(\"]\",\"\").replace(\"u'\",\"\").replace(\"',\",\",\")[:-1]\n",
    "\n",
    "movies.replace(to_replace=\"[u'Tim Robbins', u'Morgan Freeman', u'Bob Gunton']\", value=\"Grantland\")\n",
    "#for i in movies_and_actors.actors_list:\n",
    "#    for j in i:\n",
    "#        translate({ ord(\"_\"): None})\n",
    "        \n",
    "        \n",
    "movies.replace = movies.translate({ ord(\"[\"): None})"
   ]
  },
  {
   "cell_type": "code",
   "execution_count": 96,
   "metadata": {},
   "outputs": [
    {
     "data": {
      "text/html": [
       "<div>\n",
       "<style scoped>\n",
       "    .dataframe tbody tr th:only-of-type {\n",
       "        vertical-align: middle;\n",
       "    }\n",
       "\n",
       "    .dataframe tbody tr th {\n",
       "        vertical-align: top;\n",
       "    }\n",
       "\n",
       "    .dataframe thead th {\n",
       "        text-align: right;\n",
       "    }\n",
       "</style>\n",
       "<table border=\"1\" class=\"dataframe\">\n",
       "  <thead>\n",
       "    <tr style=\"text-align: right;\">\n",
       "      <th></th>\n",
       "      <th>star_rating</th>\n",
       "      <th>title</th>\n",
       "      <th>content_rating</th>\n",
       "      <th>genre</th>\n",
       "      <th>duration</th>\n",
       "      <th>actors_list</th>\n",
       "      <th>counter</th>\n",
       "    </tr>\n",
       "  </thead>\n",
       "  <tbody>\n",
       "    <tr>\n",
       "      <th>0</th>\n",
       "      <td>9.3</td>\n",
       "      <td>The Shawshank Redemption</td>\n",
       "      <td>R</td>\n",
       "      <td>Crime</td>\n",
       "      <td>142</td>\n",
       "      <td>[u'Tim Robbins', u'Morgan Freeman', u'Bob Gunt...</td>\n",
       "      <td>1</td>\n",
       "    </tr>\n",
       "    <tr>\n",
       "      <th>1</th>\n",
       "      <td>9.2</td>\n",
       "      <td>The Godfather</td>\n",
       "      <td>R</td>\n",
       "      <td>Crime</td>\n",
       "      <td>175</td>\n",
       "      <td>[u'Marlon Brando', u'Al Pacino', u'James Caan']</td>\n",
       "      <td>1</td>\n",
       "    </tr>\n",
       "    <tr>\n",
       "      <th>2</th>\n",
       "      <td>9.1</td>\n",
       "      <td>The Godfather: Part II</td>\n",
       "      <td>R</td>\n",
       "      <td>Crime</td>\n",
       "      <td>200</td>\n",
       "      <td>[u'Al Pacino', u'Robert De Niro', u'Robert Duv...</td>\n",
       "      <td>1</td>\n",
       "    </tr>\n",
       "    <tr>\n",
       "      <th>3</th>\n",
       "      <td>9.0</td>\n",
       "      <td>The Dark Knight</td>\n",
       "      <td>PG-13</td>\n",
       "      <td>Action</td>\n",
       "      <td>152</td>\n",
       "      <td>[u'Christian Bale', u'Heath Ledger', u'Aaron E...</td>\n",
       "      <td>1</td>\n",
       "    </tr>\n",
       "    <tr>\n",
       "      <th>4</th>\n",
       "      <td>8.9</td>\n",
       "      <td>Pulp Fiction</td>\n",
       "      <td>R</td>\n",
       "      <td>Crime</td>\n",
       "      <td>154</td>\n",
       "      <td>[u'John Travolta', u'Uma Thurman', u'Samuel L....</td>\n",
       "      <td>1</td>\n",
       "    </tr>\n",
       "    <tr>\n",
       "      <th>...</th>\n",
       "      <td>...</td>\n",
       "      <td>...</td>\n",
       "      <td>...</td>\n",
       "      <td>...</td>\n",
       "      <td>...</td>\n",
       "      <td>...</td>\n",
       "      <td>...</td>\n",
       "    </tr>\n",
       "    <tr>\n",
       "      <th>973</th>\n",
       "      <td>7.4</td>\n",
       "      <td>The Cider House Rules</td>\n",
       "      <td>PG-13</td>\n",
       "      <td>Drama</td>\n",
       "      <td>126</td>\n",
       "      <td>[u'Tobey Maguire', u'Charlize Theron', u'Micha...</td>\n",
       "      <td>1</td>\n",
       "    </tr>\n",
       "    <tr>\n",
       "      <th>974</th>\n",
       "      <td>7.4</td>\n",
       "      <td>Tootsie</td>\n",
       "      <td>PG</td>\n",
       "      <td>Comedy</td>\n",
       "      <td>116</td>\n",
       "      <td>[u'Dustin Hoffman', u'Jessica Lange', u'Teri G...</td>\n",
       "      <td>1</td>\n",
       "    </tr>\n",
       "    <tr>\n",
       "      <th>975</th>\n",
       "      <td>7.4</td>\n",
       "      <td>Back to the Future Part III</td>\n",
       "      <td>PG</td>\n",
       "      <td>Adventure</td>\n",
       "      <td>118</td>\n",
       "      <td>[u'Michael J. Fox', u'Christopher Lloyd', u'Ma...</td>\n",
       "      <td>1</td>\n",
       "    </tr>\n",
       "    <tr>\n",
       "      <th>976</th>\n",
       "      <td>7.4</td>\n",
       "      <td>Master and Commander: The Far Side of the World</td>\n",
       "      <td>PG-13</td>\n",
       "      <td>Action</td>\n",
       "      <td>138</td>\n",
       "      <td>[u'Russell Crowe', u'Paul Bettany', u'Billy Bo...</td>\n",
       "      <td>1</td>\n",
       "    </tr>\n",
       "    <tr>\n",
       "      <th>977</th>\n",
       "      <td>7.4</td>\n",
       "      <td>Poltergeist</td>\n",
       "      <td>PG</td>\n",
       "      <td>Horror</td>\n",
       "      <td>114</td>\n",
       "      <td>[u'JoBeth Williams', u\"Heather O'Rourke\", u'Cr...</td>\n",
       "      <td>1</td>\n",
       "    </tr>\n",
       "  </tbody>\n",
       "</table>\n",
       "<p>978 rows × 7 columns</p>\n",
       "</div>"
      ],
      "text/plain": [
       "     star_rating                                            title  \\\n",
       "0            9.3                         The Shawshank Redemption   \n",
       "1            9.2                                    The Godfather   \n",
       "2            9.1                           The Godfather: Part II   \n",
       "3            9.0                                  The Dark Knight   \n",
       "4            8.9                                     Pulp Fiction   \n",
       "..           ...                                              ...   \n",
       "973          7.4                            The Cider House Rules   \n",
       "974          7.4                                          Tootsie   \n",
       "975          7.4                      Back to the Future Part III   \n",
       "976          7.4  Master and Commander: The Far Side of the World   \n",
       "977          7.4                                      Poltergeist   \n",
       "\n",
       "    content_rating      genre  duration  \\\n",
       "0                R      Crime       142   \n",
       "1                R      Crime       175   \n",
       "2                R      Crime       200   \n",
       "3            PG-13     Action       152   \n",
       "4                R      Crime       154   \n",
       "..             ...        ...       ...   \n",
       "973          PG-13      Drama       126   \n",
       "974             PG     Comedy       116   \n",
       "975             PG  Adventure       118   \n",
       "976          PG-13     Action       138   \n",
       "977             PG     Horror       114   \n",
       "\n",
       "                                           actors_list  counter  \n",
       "0    [u'Tim Robbins', u'Morgan Freeman', u'Bob Gunt...        1  \n",
       "1      [u'Marlon Brando', u'Al Pacino', u'James Caan']        1  \n",
       "2    [u'Al Pacino', u'Robert De Niro', u'Robert Duv...        1  \n",
       "3    [u'Christian Bale', u'Heath Ledger', u'Aaron E...        1  \n",
       "4    [u'John Travolta', u'Uma Thurman', u'Samuel L....        1  \n",
       "..                                                 ...      ...  \n",
       "973  [u'Tobey Maguire', u'Charlize Theron', u'Micha...        1  \n",
       "974  [u'Dustin Hoffman', u'Jessica Lange', u'Teri G...        1  \n",
       "975  [u'Michael J. Fox', u'Christopher Lloyd', u'Ma...        1  \n",
       "976  [u'Russell Crowe', u'Paul Bettany', u'Billy Bo...        1  \n",
       "977  [u'JoBeth Williams', u\"Heather O'Rourke\", u'Cr...        1  \n",
       "\n",
       "[978 rows x 7 columns]"
      ]
     },
     "execution_count": 96,
     "metadata": {},
     "output_type": "execute_result"
    }
   ],
   "source": [
    "# I DID NOT WRITE THE THREE NEXT CELLS INCLUDING THIS ONE.\n",
    "# Needed a starting off point to query each individual actor\n",
    "def repp(string):\n",
    "    return string.replace(\"[\",\"\").replace(\"]\",\"\").replace(\"u'\",\"\").replace(\"',\",\",\")[:-1]\n",
    "\n",
    "#Apply that function to every entry    \n",
    "movies_series = movies['actors_list'].apply(repp)\n",
    "\n",
    "movies_clean = movies.apply(repp)\n",
    "\n",
    "movies_clean"
   ]
  },
  {
   "cell_type": "code",
   "execution_count": 103,
   "metadata": {},
   "outputs": [
    {
     "data": {
      "text/plain": [
       "[['Tim Robbins', 'Morgan Freeman', 'Bob Gunton'],\n",
       " ['Marlon Brando', 'Al Pacino', 'James Caan'],\n",
       " ['Al Pacino', 'Robert De Niro', 'Robert Duvall'],\n",
       " ['Christian Bale', 'Heath Ledger', 'Aaron Eckhart'],\n",
       " ['John Travolta', 'Uma Thurman', 'Samuel L. Jackson']]"
      ]
     },
     "execution_count": 103,
     "metadata": {},
     "output_type": "execute_result"
    }
   ],
   "source": [
    "#Declare a list to store the split values\n",
    "actors_list = []\n",
    "for movie_actors in movies_series:\n",
    "    actors_list.append([e.strip() for e in movie_actors.split(',')])\n",
    "\n",
    "actors_list[0:5]"
   ]
  },
  {
   "cell_type": "code",
   "execution_count": 112,
   "metadata": {},
   "outputs": [
    {
     "name": "stdout",
     "output_type": "stream",
     "text": [
      "Tim Robbins\n",
      "Morgan Freeman\n",
      "Bob Gunton\n"
     ]
    }
   ],
   "source": [
    "#Declare a dictionary and see if the actor name key exist and then count accordingly.\n",
    "actor_dict = {}\n",
    "for actor in actors_list:\n",
    "    for a in actor:\n",
    "        if a in actor_dict:\n",
    "            actor_dict[a] +=1\n",
    "        else:\n",
    "            actor_dict[a] = 1\n",
    "\n",
    "#confirm data\n",
    "for x in list(actor_dict)[0:3]:\n",
    "    print (x)\n"
   ]
  },
  {
   "cell_type": "code",
   "execution_count": 120,
   "metadata": {},
   "outputs": [
    {
     "name": "stdout",
     "output_type": "stream",
     "text": [
      "Robert De Niro\n",
      "Clint Eastwood\n",
      "Brad Pitt\n",
      "Tom Hanks\n",
      "Al Pacino\n",
      "Johnny Depp\n",
      "Christian Bale\n",
      "Leonardo DiCaprio\n",
      "Dustin Hoffman\n",
      "Harrison Ford\n"
     ]
    }
   ],
   "source": [
    "# Now that I had the names broken out with a count of each appearnce I could see\n",
    "# who has starred in the most movies.  I had to google sorting a dictionary, but mostly put this\n",
    "# together myself\n",
    "\n",
    "#De Niro is king.\n",
    "top_actors = {k: v for k, v in sorted(actor_dict.items(), key=lambda item: item[1], reverse=True)}\n",
    "\n",
    "for x in list(top_actors)[0:10]:\n",
    "    print (x)"
   ]
  }
 ],
 "metadata": {
  "kernelspec": {
   "display_name": "Python 3",
   "language": "python",
   "name": "python3"
  },
  "language_info": {
   "codemirror_mode": {
    "name": "ipython",
    "version": 3
   },
   "file_extension": ".py",
   "mimetype": "text/x-python",
   "name": "python",
   "nbconvert_exporter": "python",
   "pygments_lexer": "ipython3",
   "version": "3.8.3"
  }
 },
 "nbformat": 4,
 "nbformat_minor": 1
}
